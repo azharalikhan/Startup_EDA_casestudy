{
 "cells": [
  {
   "cell_type": "markdown",
   "metadata": {},
   "source": [
    "# Importing All Essential Libraries"
   ]
  },
  {
   "cell_type": "code",
   "execution_count": 1,
   "metadata": {},
   "outputs": [],
   "source": [
    "import pandas as pd\n",
    "import numpy as np\n",
    "import matplotlib.pyplot as plt\n",
    "import seaborn as sns\n",
    "import missingno as msno\n",
    "import re"
   ]
  },
  {
   "cell_type": "markdown",
   "metadata": {},
   "source": [
    "# Data Import\n",
    "-  **Loading Companies, Round and mapping data** \n",
    "-  **Checking first 5 rows to ensure data is loaded correctly**\n",
    "\n",
    "*Appropriate Encoding found by using different encoding including UTF-8, CP1252, latin1 etc.*\n"
   ]
  },
  {
   "cell_type": "code",
   "execution_count": 2,
   "metadata": {},
   "outputs": [
    {
     "data": {
      "text/html": [
       "<div>\n",
       "<style scoped>\n",
       "    .dataframe tbody tr th:only-of-type {\n",
       "        vertical-align: middle;\n",
       "    }\n",
       "\n",
       "    .dataframe tbody tr th {\n",
       "        vertical-align: top;\n",
       "    }\n",
       "\n",
       "    .dataframe thead th {\n",
       "        text-align: right;\n",
       "    }\n",
       "</style>\n",
       "<table border=\"1\" class=\"dataframe\">\n",
       "  <thead>\n",
       "    <tr style=\"text-align: right;\">\n",
       "      <th></th>\n",
       "      <th>permalink</th>\n",
       "      <th>name</th>\n",
       "      <th>homepage_url</th>\n",
       "      <th>category_list</th>\n",
       "      <th>status</th>\n",
       "      <th>country_code</th>\n",
       "      <th>state_code</th>\n",
       "      <th>region</th>\n",
       "      <th>city</th>\n",
       "      <th>founded_at</th>\n",
       "    </tr>\n",
       "  </thead>\n",
       "  <tbody>\n",
       "    <tr>\n",
       "      <th>0</th>\n",
       "      <td>/Organization/-Fame</td>\n",
       "      <td>#fame</td>\n",
       "      <td>http://livfame.com</td>\n",
       "      <td>Media</td>\n",
       "      <td>operating</td>\n",
       "      <td>IND</td>\n",
       "      <td>16</td>\n",
       "      <td>Mumbai</td>\n",
       "      <td>Mumbai</td>\n",
       "      <td>NaN</td>\n",
       "    </tr>\n",
       "    <tr>\n",
       "      <th>1</th>\n",
       "      <td>/Organization/-Qounter</td>\n",
       "      <td>:Qounter</td>\n",
       "      <td>http://www.qounter.com</td>\n",
       "      <td>Application Platforms|Real Time|Social Network...</td>\n",
       "      <td>operating</td>\n",
       "      <td>USA</td>\n",
       "      <td>DE</td>\n",
       "      <td>DE - Other</td>\n",
       "      <td>Delaware City</td>\n",
       "      <td>04-09-2014</td>\n",
       "    </tr>\n",
       "    <tr>\n",
       "      <th>2</th>\n",
       "      <td>/Organization/-The-One-Of-Them-Inc-</td>\n",
       "      <td>(THE) ONE of THEM,Inc.</td>\n",
       "      <td>http://oneofthem.jp</td>\n",
       "      <td>Apps|Games|Mobile</td>\n",
       "      <td>operating</td>\n",
       "      <td>NaN</td>\n",
       "      <td>NaN</td>\n",
       "      <td>NaN</td>\n",
       "      <td>NaN</td>\n",
       "      <td>NaN</td>\n",
       "    </tr>\n",
       "    <tr>\n",
       "      <th>3</th>\n",
       "      <td>/Organization/0-6-Com</td>\n",
       "      <td>0-6.com</td>\n",
       "      <td>http://www.0-6.com</td>\n",
       "      <td>Curated Web</td>\n",
       "      <td>operating</td>\n",
       "      <td>CHN</td>\n",
       "      <td>22</td>\n",
       "      <td>Beijing</td>\n",
       "      <td>Beijing</td>\n",
       "      <td>01-01-2007</td>\n",
       "    </tr>\n",
       "    <tr>\n",
       "      <th>4</th>\n",
       "      <td>/Organization/004-Technologies</td>\n",
       "      <td>004 Technologies</td>\n",
       "      <td>http://004gmbh.de/en/004-interact</td>\n",
       "      <td>Software</td>\n",
       "      <td>operating</td>\n",
       "      <td>USA</td>\n",
       "      <td>IL</td>\n",
       "      <td>Springfield, Illinois</td>\n",
       "      <td>Champaign</td>\n",
       "      <td>01-01-2010</td>\n",
       "    </tr>\n",
       "  </tbody>\n",
       "</table>\n",
       "</div>"
      ],
      "text/plain": [
       "                             permalink                    name  \\\n",
       "0                  /Organization/-Fame                   #fame   \n",
       "1               /Organization/-Qounter                :Qounter   \n",
       "2  /Organization/-The-One-Of-Them-Inc-  (THE) ONE of THEM,Inc.   \n",
       "3                /Organization/0-6-Com                 0-6.com   \n",
       "4       /Organization/004-Technologies        004 Technologies   \n",
       "\n",
       "                        homepage_url  \\\n",
       "0                 http://livfame.com   \n",
       "1             http://www.qounter.com   \n",
       "2                http://oneofthem.jp   \n",
       "3                 http://www.0-6.com   \n",
       "4  http://004gmbh.de/en/004-interact   \n",
       "\n",
       "                                       category_list     status country_code  \\\n",
       "0                                              Media  operating          IND   \n",
       "1  Application Platforms|Real Time|Social Network...  operating          USA   \n",
       "2                                  Apps|Games|Mobile  operating          NaN   \n",
       "3                                        Curated Web  operating          CHN   \n",
       "4                                           Software  operating          USA   \n",
       "\n",
       "  state_code                 region           city  founded_at  \n",
       "0         16                 Mumbai         Mumbai         NaN  \n",
       "1         DE             DE - Other  Delaware City  04-09-2014  \n",
       "2        NaN                    NaN            NaN         NaN  \n",
       "3         22                Beijing        Beijing  01-01-2007  \n",
       "4         IL  Springfield, Illinois      Champaign  01-01-2010  "
      ]
     },
     "execution_count": 2,
     "metadata": {},
     "output_type": "execute_result"
    }
   ],
   "source": [
    "companies = pd.read_csv(\"D:/Upgrad/2. Exploratory Data Analysis/Module_3_Investment Assignment/companies.csv\", encoding='latin1')\n",
    "round2 = pd.read_csv(\"D:/Upgrad/2. Exploratory Data Analysis/Module_3_Investment Assignment/rounds2.csv\", encoding='latin1')\n",
    "mapping = pd.read_csv(\"D:/Upgrad/2. Exploratory Data Analysis/Module_3_Investment Assignment/mapping.csv\", encoding='latin1')\n",
    "companies.head()\n"
   ]
  },
  {
   "cell_type": "code",
   "execution_count": 3,
   "metadata": {},
   "outputs": [
    {
     "data": {
      "text/html": [
       "<div>\n",
       "<style scoped>\n",
       "    .dataframe tbody tr th:only-of-type {\n",
       "        vertical-align: middle;\n",
       "    }\n",
       "\n",
       "    .dataframe tbody tr th {\n",
       "        vertical-align: top;\n",
       "    }\n",
       "\n",
       "    .dataframe thead th {\n",
       "        text-align: right;\n",
       "    }\n",
       "</style>\n",
       "<table border=\"1\" class=\"dataframe\">\n",
       "  <thead>\n",
       "    <tr style=\"text-align: right;\">\n",
       "      <th></th>\n",
       "      <th>company_permalink</th>\n",
       "      <th>funding_round_permalink</th>\n",
       "      <th>funding_round_type</th>\n",
       "      <th>funding_round_code</th>\n",
       "      <th>funded_at</th>\n",
       "      <th>raised_amount_usd</th>\n",
       "    </tr>\n",
       "  </thead>\n",
       "  <tbody>\n",
       "    <tr>\n",
       "      <th>0</th>\n",
       "      <td>/organization/-fame</td>\n",
       "      <td>/funding-round/9a01d05418af9f794eebff7ace91f638</td>\n",
       "      <td>venture</td>\n",
       "      <td>B</td>\n",
       "      <td>05-01-2015</td>\n",
       "      <td>10000000.0</td>\n",
       "    </tr>\n",
       "    <tr>\n",
       "      <th>1</th>\n",
       "      <td>/ORGANIZATION/-QOUNTER</td>\n",
       "      <td>/funding-round/22dacff496eb7acb2b901dec1dfe5633</td>\n",
       "      <td>venture</td>\n",
       "      <td>A</td>\n",
       "      <td>14-10-2014</td>\n",
       "      <td>NaN</td>\n",
       "    </tr>\n",
       "    <tr>\n",
       "      <th>2</th>\n",
       "      <td>/organization/-qounter</td>\n",
       "      <td>/funding-round/b44fbb94153f6cdef13083530bb48030</td>\n",
       "      <td>seed</td>\n",
       "      <td>NaN</td>\n",
       "      <td>01-03-2014</td>\n",
       "      <td>700000.0</td>\n",
       "    </tr>\n",
       "    <tr>\n",
       "      <th>3</th>\n",
       "      <td>/ORGANIZATION/-THE-ONE-OF-THEM-INC-</td>\n",
       "      <td>/funding-round/650b8f704416801069bb178a1418776b</td>\n",
       "      <td>venture</td>\n",
       "      <td>B</td>\n",
       "      <td>30-01-2014</td>\n",
       "      <td>3406878.0</td>\n",
       "    </tr>\n",
       "    <tr>\n",
       "      <th>4</th>\n",
       "      <td>/organization/0-6-com</td>\n",
       "      <td>/funding-round/5727accaeaa57461bd22a9bdd945382d</td>\n",
       "      <td>venture</td>\n",
       "      <td>A</td>\n",
       "      <td>19-03-2008</td>\n",
       "      <td>2000000.0</td>\n",
       "    </tr>\n",
       "    <tr>\n",
       "      <th>5</th>\n",
       "      <td>/ORGANIZATION/004-TECHNOLOGIES</td>\n",
       "      <td>/funding-round/1278dd4e6a37fa4b7d7e06c21b3c1830</td>\n",
       "      <td>venture</td>\n",
       "      <td>NaN</td>\n",
       "      <td>24-07-2014</td>\n",
       "      <td>NaN</td>\n",
       "    </tr>\n",
       "    <tr>\n",
       "      <th>6</th>\n",
       "      <td>/organization/01games-technology</td>\n",
       "      <td>/funding-round/7d53696f2b4f607a2f2a8cbb83d01839</td>\n",
       "      <td>undisclosed</td>\n",
       "      <td>NaN</td>\n",
       "      <td>01-07-2014</td>\n",
       "      <td>41250.0</td>\n",
       "    </tr>\n",
       "    <tr>\n",
       "      <th>7</th>\n",
       "      <td>/ORGANIZATION/0NDINE-BIOMEDICAL-INC</td>\n",
       "      <td>/funding-round/2b9d3ac293d5cdccbecff5c8cb0f327d</td>\n",
       "      <td>seed</td>\n",
       "      <td>NaN</td>\n",
       "      <td>11-09-2009</td>\n",
       "      <td>43360.0</td>\n",
       "    </tr>\n",
       "    <tr>\n",
       "      <th>8</th>\n",
       "      <td>/organization/0ndine-biomedical-inc</td>\n",
       "      <td>/funding-round/954b9499724b946ad8c396a57a5f3b72</td>\n",
       "      <td>venture</td>\n",
       "      <td>NaN</td>\n",
       "      <td>21-12-2009</td>\n",
       "      <td>719491.0</td>\n",
       "    </tr>\n",
       "    <tr>\n",
       "      <th>9</th>\n",
       "      <td>/ORGANIZATION/0XDATA</td>\n",
       "      <td>/funding-round/383a9bd2c04f7038bb543ccef5ba3eae</td>\n",
       "      <td>seed</td>\n",
       "      <td>NaN</td>\n",
       "      <td>22-05-2013</td>\n",
       "      <td>3000000.0</td>\n",
       "    </tr>\n",
       "    <tr>\n",
       "      <th>10</th>\n",
       "      <td>/organization/0xdata</td>\n",
       "      <td>/funding-round/3bb2ee4a2d89251a10aaa735b1180e44</td>\n",
       "      <td>venture</td>\n",
       "      <td>B</td>\n",
       "      <td>09-11-2015</td>\n",
       "      <td>20000000.0</td>\n",
       "    </tr>\n",
       "    <tr>\n",
       "      <th>11</th>\n",
       "      <td>/ORGANIZATION/0XDATA</td>\n",
       "      <td>/funding-round/ae2a174c06517c2394aed45006322a7e</td>\n",
       "      <td>venture</td>\n",
       "      <td>NaN</td>\n",
       "      <td>03-01-2013</td>\n",
       "      <td>1700000.0</td>\n",
       "    </tr>\n",
       "    <tr>\n",
       "      <th>12</th>\n",
       "      <td>/organization/0xdata</td>\n",
       "      <td>/funding-round/e1cfcbe1bdf4c70277c5f29a3482f24e</td>\n",
       "      <td>venture</td>\n",
       "      <td>A</td>\n",
       "      <td>19-07-2014</td>\n",
       "      <td>8900000.0</td>\n",
       "    </tr>\n",
       "    <tr>\n",
       "      <th>13</th>\n",
       "      <td>/ORGANIZATION/1</td>\n",
       "      <td>/funding-round/03b975068632eba5bfdb937ec8c07a68</td>\n",
       "      <td>seed</td>\n",
       "      <td>NaN</td>\n",
       "      <td>05-02-2014</td>\n",
       "      <td>150000.0</td>\n",
       "    </tr>\n",
       "    <tr>\n",
       "      <th>14</th>\n",
       "      <td>/organization/1</td>\n",
       "      <td>/funding-round/5de6d8828aef7d925d97918d15727670</td>\n",
       "      <td>undisclosed</td>\n",
       "      <td>NaN</td>\n",
       "      <td>05-02-2013</td>\n",
       "      <td>NaN</td>\n",
       "    </tr>\n",
       "    <tr>\n",
       "      <th>15</th>\n",
       "      <td>/ORGANIZATION/1</td>\n",
       "      <td>/funding-round/e82464f22241715dd1a6c77241055ed1</td>\n",
       "      <td>seed</td>\n",
       "      <td>NaN</td>\n",
       "      <td>20-07-2011</td>\n",
       "      <td>1000050.0</td>\n",
       "    </tr>\n",
       "    <tr>\n",
       "      <th>16</th>\n",
       "      <td>/organization/1-2-3-listo</td>\n",
       "      <td>/funding-round/6de4609e894495105bc791ed64361288</td>\n",
       "      <td>seed</td>\n",
       "      <td>NaN</td>\n",
       "      <td>18-02-2013</td>\n",
       "      <td>40000.0</td>\n",
       "    </tr>\n",
       "    <tr>\n",
       "      <th>17</th>\n",
       "      <td>/ORGANIZATION/1-4-ALL</td>\n",
       "      <td>/funding-round/e97a192e13ea0ee3c4f71136b4f3ec16</td>\n",
       "      <td>equity_crowdfunding</td>\n",
       "      <td>NaN</td>\n",
       "      <td>21-04-2013</td>\n",
       "      <td>NaN</td>\n",
       "    </tr>\n",
       "    <tr>\n",
       "      <th>18</th>\n",
       "      <td>/organization/1-618-technology</td>\n",
       "      <td>/funding-round/83b8f4c7d37ecef5e001a5e953bf461a</td>\n",
       "      <td>equity_crowdfunding</td>\n",
       "      <td>NaN</td>\n",
       "      <td>22-01-2014</td>\n",
       "      <td>NaN</td>\n",
       "    </tr>\n",
       "    <tr>\n",
       "      <th>19</th>\n",
       "      <td>/ORGANIZATION/1-800-DENTIST</td>\n",
       "      <td>/funding-round/5274aacc211163fc7c86539ce94bbacc</td>\n",
       "      <td>undisclosed</td>\n",
       "      <td>NaN</td>\n",
       "      <td>19-08-2010</td>\n",
       "      <td>NaN</td>\n",
       "    </tr>\n",
       "  </tbody>\n",
       "</table>\n",
       "</div>"
      ],
      "text/plain": [
       "                      company_permalink  \\\n",
       "0                   /organization/-fame   \n",
       "1                /ORGANIZATION/-QOUNTER   \n",
       "2                /organization/-qounter   \n",
       "3   /ORGANIZATION/-THE-ONE-OF-THEM-INC-   \n",
       "4                 /organization/0-6-com   \n",
       "5        /ORGANIZATION/004-TECHNOLOGIES   \n",
       "6      /organization/01games-technology   \n",
       "7   /ORGANIZATION/0NDINE-BIOMEDICAL-INC   \n",
       "8   /organization/0ndine-biomedical-inc   \n",
       "9                  /ORGANIZATION/0XDATA   \n",
       "10                 /organization/0xdata   \n",
       "11                 /ORGANIZATION/0XDATA   \n",
       "12                 /organization/0xdata   \n",
       "13                      /ORGANIZATION/1   \n",
       "14                      /organization/1   \n",
       "15                      /ORGANIZATION/1   \n",
       "16            /organization/1-2-3-listo   \n",
       "17                /ORGANIZATION/1-4-ALL   \n",
       "18       /organization/1-618-technology   \n",
       "19          /ORGANIZATION/1-800-DENTIST   \n",
       "\n",
       "                            funding_round_permalink   funding_round_type  \\\n",
       "0   /funding-round/9a01d05418af9f794eebff7ace91f638              venture   \n",
       "1   /funding-round/22dacff496eb7acb2b901dec1dfe5633              venture   \n",
       "2   /funding-round/b44fbb94153f6cdef13083530bb48030                 seed   \n",
       "3   /funding-round/650b8f704416801069bb178a1418776b              venture   \n",
       "4   /funding-round/5727accaeaa57461bd22a9bdd945382d              venture   \n",
       "5   /funding-round/1278dd4e6a37fa4b7d7e06c21b3c1830              venture   \n",
       "6   /funding-round/7d53696f2b4f607a2f2a8cbb83d01839          undisclosed   \n",
       "7   /funding-round/2b9d3ac293d5cdccbecff5c8cb0f327d                 seed   \n",
       "8   /funding-round/954b9499724b946ad8c396a57a5f3b72              venture   \n",
       "9   /funding-round/383a9bd2c04f7038bb543ccef5ba3eae                 seed   \n",
       "10  /funding-round/3bb2ee4a2d89251a10aaa735b1180e44              venture   \n",
       "11  /funding-round/ae2a174c06517c2394aed45006322a7e              venture   \n",
       "12  /funding-round/e1cfcbe1bdf4c70277c5f29a3482f24e              venture   \n",
       "13  /funding-round/03b975068632eba5bfdb937ec8c07a68                 seed   \n",
       "14  /funding-round/5de6d8828aef7d925d97918d15727670          undisclosed   \n",
       "15  /funding-round/e82464f22241715dd1a6c77241055ed1                 seed   \n",
       "16  /funding-round/6de4609e894495105bc791ed64361288                 seed   \n",
       "17  /funding-round/e97a192e13ea0ee3c4f71136b4f3ec16  equity_crowdfunding   \n",
       "18  /funding-round/83b8f4c7d37ecef5e001a5e953bf461a  equity_crowdfunding   \n",
       "19  /funding-round/5274aacc211163fc7c86539ce94bbacc          undisclosed   \n",
       "\n",
       "   funding_round_code   funded_at  raised_amount_usd  \n",
       "0                   B  05-01-2015         10000000.0  \n",
       "1                   A  14-10-2014                NaN  \n",
       "2                 NaN  01-03-2014           700000.0  \n",
       "3                   B  30-01-2014          3406878.0  \n",
       "4                   A  19-03-2008          2000000.0  \n",
       "5                 NaN  24-07-2014                NaN  \n",
       "6                 NaN  01-07-2014            41250.0  \n",
       "7                 NaN  11-09-2009            43360.0  \n",
       "8                 NaN  21-12-2009           719491.0  \n",
       "9                 NaN  22-05-2013          3000000.0  \n",
       "10                  B  09-11-2015         20000000.0  \n",
       "11                NaN  03-01-2013          1700000.0  \n",
       "12                  A  19-07-2014          8900000.0  \n",
       "13                NaN  05-02-2014           150000.0  \n",
       "14                NaN  05-02-2013                NaN  \n",
       "15                NaN  20-07-2011          1000050.0  \n",
       "16                NaN  18-02-2013            40000.0  \n",
       "17                NaN  21-04-2013                NaN  \n",
       "18                NaN  22-01-2014                NaN  \n",
       "19                NaN  19-08-2010                NaN  "
      ]
     },
     "execution_count": 3,
     "metadata": {},
     "output_type": "execute_result"
    }
   ],
   "source": [
    "round2.head(20)"
   ]
  },
  {
   "cell_type": "code",
   "execution_count": 4,
   "metadata": {},
   "outputs": [
    {
     "data": {
      "text/html": [
       "<div>\n",
       "<style scoped>\n",
       "    .dataframe tbody tr th:only-of-type {\n",
       "        vertical-align: middle;\n",
       "    }\n",
       "\n",
       "    .dataframe tbody tr th {\n",
       "        vertical-align: top;\n",
       "    }\n",
       "\n",
       "    .dataframe thead th {\n",
       "        text-align: right;\n",
       "    }\n",
       "</style>\n",
       "<table border=\"1\" class=\"dataframe\">\n",
       "  <thead>\n",
       "    <tr style=\"text-align: right;\">\n",
       "      <th></th>\n",
       "      <th>category_list</th>\n",
       "      <th>Automotive &amp; Sports</th>\n",
       "      <th>Blanks</th>\n",
       "      <th>Cleantech / Semiconductors</th>\n",
       "      <th>Entertainment</th>\n",
       "      <th>Health</th>\n",
       "      <th>Manufacturing</th>\n",
       "      <th>News, Search and Messaging</th>\n",
       "      <th>Others</th>\n",
       "      <th>Social, Finance, Analytics, Advertising</th>\n",
       "    </tr>\n",
       "  </thead>\n",
       "  <tbody>\n",
       "    <tr>\n",
       "      <th>0</th>\n",
       "      <td>NaN</td>\n",
       "      <td>0</td>\n",
       "      <td>1</td>\n",
       "      <td>0</td>\n",
       "      <td>0</td>\n",
       "      <td>0</td>\n",
       "      <td>0</td>\n",
       "      <td>0</td>\n",
       "      <td>0</td>\n",
       "      <td>0</td>\n",
       "    </tr>\n",
       "    <tr>\n",
       "      <th>1</th>\n",
       "      <td>3D</td>\n",
       "      <td>0</td>\n",
       "      <td>0</td>\n",
       "      <td>0</td>\n",
       "      <td>0</td>\n",
       "      <td>0</td>\n",
       "      <td>1</td>\n",
       "      <td>0</td>\n",
       "      <td>0</td>\n",
       "      <td>0</td>\n",
       "    </tr>\n",
       "    <tr>\n",
       "      <th>2</th>\n",
       "      <td>3D Printing</td>\n",
       "      <td>0</td>\n",
       "      <td>0</td>\n",
       "      <td>0</td>\n",
       "      <td>0</td>\n",
       "      <td>0</td>\n",
       "      <td>1</td>\n",
       "      <td>0</td>\n",
       "      <td>0</td>\n",
       "      <td>0</td>\n",
       "    </tr>\n",
       "    <tr>\n",
       "      <th>3</th>\n",
       "      <td>3D Technology</td>\n",
       "      <td>0</td>\n",
       "      <td>0</td>\n",
       "      <td>0</td>\n",
       "      <td>0</td>\n",
       "      <td>0</td>\n",
       "      <td>1</td>\n",
       "      <td>0</td>\n",
       "      <td>0</td>\n",
       "      <td>0</td>\n",
       "    </tr>\n",
       "    <tr>\n",
       "      <th>4</th>\n",
       "      <td>Accounting</td>\n",
       "      <td>0</td>\n",
       "      <td>0</td>\n",
       "      <td>0</td>\n",
       "      <td>0</td>\n",
       "      <td>0</td>\n",
       "      <td>0</td>\n",
       "      <td>0</td>\n",
       "      <td>0</td>\n",
       "      <td>1</td>\n",
       "    </tr>\n",
       "  </tbody>\n",
       "</table>\n",
       "</div>"
      ],
      "text/plain": [
       "   category_list  Automotive & Sports  Blanks  Cleantech / Semiconductors  \\\n",
       "0            NaN                    0       1                           0   \n",
       "1             3D                    0       0                           0   \n",
       "2    3D Printing                    0       0                           0   \n",
       "3  3D Technology                    0       0                           0   \n",
       "4     Accounting                    0       0                           0   \n",
       "\n",
       "   Entertainment  Health  Manufacturing  News, Search and Messaging  Others  \\\n",
       "0              0       0              0                           0       0   \n",
       "1              0       0              1                           0       0   \n",
       "2              0       0              1                           0       0   \n",
       "3              0       0              1                           0       0   \n",
       "4              0       0              0                           0       0   \n",
       "\n",
       "   Social, Finance, Analytics, Advertising  \n",
       "0                                        0  \n",
       "1                                        0  \n",
       "2                                        0  \n",
       "3                                        0  \n",
       "4                                        1  "
      ]
     },
     "execution_count": 4,
     "metadata": {},
     "output_type": "execute_result"
    }
   ],
   "source": [
    "mapping.head()"
   ]
  },
  {
   "cell_type": "markdown",
   "metadata": {},
   "source": [
    "# Data variable review\n",
    "> *Using info method on companies dataset to review attributes* "
   ]
  },
  {
   "cell_type": "code",
   "execution_count": 5,
   "metadata": {},
   "outputs": [
    {
     "name": "stdout",
     "output_type": "stream",
     "text": [
      "<class 'pandas.core.frame.DataFrame'>\n",
      "RangeIndex: 66368 entries, 0 to 66367\n",
      "Data columns (total 10 columns):\n",
      " #   Column         Non-Null Count  Dtype \n",
      "---  ------         --------------  ----- \n",
      " 0   permalink      66368 non-null  object\n",
      " 1   name           66367 non-null  object\n",
      " 2   homepage_url   61310 non-null  object\n",
      " 3   category_list  63220 non-null  object\n",
      " 4   status         66368 non-null  object\n",
      " 5   country_code   59410 non-null  object\n",
      " 6   state_code     57821 non-null  object\n",
      " 7   region         58338 non-null  object\n",
      " 8   city           58340 non-null  object\n",
      " 9   founded_at     51147 non-null  object\n",
      "dtypes: object(10)\n",
      "memory usage: 5.1+ MB\n"
     ]
    }
   ],
   "source": [
    "companies.info()"
   ]
  },
  {
   "cell_type": "code",
   "execution_count": 6,
   "metadata": {},
   "outputs": [
    {
     "data": {
      "text/html": [
       "<div>\n",
       "<style scoped>\n",
       "    .dataframe tbody tr th:only-of-type {\n",
       "        vertical-align: middle;\n",
       "    }\n",
       "\n",
       "    .dataframe tbody tr th {\n",
       "        vertical-align: top;\n",
       "    }\n",
       "\n",
       "    .dataframe thead th {\n",
       "        text-align: right;\n",
       "    }\n",
       "</style>\n",
       "<table border=\"1\" class=\"dataframe\">\n",
       "  <thead>\n",
       "    <tr style=\"text-align: right;\">\n",
       "      <th></th>\n",
       "      <th>permalink</th>\n",
       "      <th>name</th>\n",
       "      <th>homepage_url</th>\n",
       "      <th>category_list</th>\n",
       "      <th>status</th>\n",
       "      <th>country_code</th>\n",
       "      <th>state_code</th>\n",
       "      <th>region</th>\n",
       "      <th>city</th>\n",
       "      <th>founded_at</th>\n",
       "    </tr>\n",
       "  </thead>\n",
       "  <tbody>\n",
       "    <tr>\n",
       "      <th>56916</th>\n",
       "      <td>/Organization/Tell-It-In</td>\n",
       "      <td>NaN</td>\n",
       "      <td>http://tellitin10.com</td>\n",
       "      <td>Startups</td>\n",
       "      <td>closed</td>\n",
       "      <td>USA</td>\n",
       "      <td>OR</td>\n",
       "      <td>Portland, Oregon</td>\n",
       "      <td>Portland</td>\n",
       "      <td>01-10-2011</td>\n",
       "    </tr>\n",
       "  </tbody>\n",
       "</table>\n",
       "</div>"
      ],
      "text/plain": [
       "                      permalink name           homepage_url category_list  \\\n",
       "56916  /Organization/Tell-It-In  NaN  http://tellitin10.com      Startups   \n",
       "\n",
       "       status country_code state_code            region      city  founded_at  \n",
       "56916  closed          USA         OR  Portland, Oregon  Portland  01-10-2011  "
      ]
     },
     "execution_count": 6,
     "metadata": {},
     "output_type": "execute_result"
    }
   ],
   "source": [
    "# analyzing observation with missing company name\n",
    "companies.loc[companies.name.isna(),:]"
   ]
  },
  {
   "cell_type": "markdown",
   "metadata": {},
   "source": [
    "### *Observation with missing name in companies dataset looks like valid value*"
   ]
  },
  {
   "cell_type": "markdown",
   "metadata": {},
   "source": [
    "# Data variable review \n",
    "> *Using info method on round2 dataset to review attributes*"
   ]
  },
  {
   "cell_type": "code",
   "execution_count": 5,
   "metadata": {},
   "outputs": [
    {
     "name": "stdout",
     "output_type": "stream",
     "text": [
      "<class 'pandas.core.frame.DataFrame'>\n",
      "RangeIndex: 114949 entries, 0 to 114948\n",
      "Data columns (total 6 columns):\n",
      " #   Column                   Non-Null Count   Dtype  \n",
      "---  ------                   --------------   -----  \n",
      " 0   company_permalink        114949 non-null  object \n",
      " 1   funding_round_permalink  114949 non-null  object \n",
      " 2   funding_round_type       114949 non-null  object \n",
      " 3   funding_round_code       31140 non-null   object \n",
      " 4   funded_at                114949 non-null  object \n",
      " 5   raised_amount_usd        94959 non-null   float64\n",
      "dtypes: float64(1), object(5)\n",
      "memory usage: 5.3+ MB\n"
     ]
    }
   ],
   "source": [
    "round2.info()"
   ]
  },
  {
   "cell_type": "markdown",
   "metadata": {},
   "source": [
    "## **Removing observation from company data where funding amount is missing**\n",
    "> **Funding amount is most significant variable for analysis and observation does not add value if funding amount is missing **"
   ]
  },
  {
   "cell_type": "code",
   "execution_count": 6,
   "metadata": {},
   "outputs": [
    {
     "name": "stdout",
     "output_type": "stream",
     "text": [
      "<class 'pandas.core.frame.DataFrame'>\n",
      "Int64Index: 94959 entries, 0 to 114948\n",
      "Data columns (total 6 columns):\n",
      " #   Column                   Non-Null Count  Dtype  \n",
      "---  ------                   --------------  -----  \n",
      " 0   company_permalink        94959 non-null  object \n",
      " 1   funding_round_permalink  94959 non-null  object \n",
      " 2   funding_round_type       94959 non-null  object \n",
      " 3   funding_round_code       28169 non-null  object \n",
      " 4   funded_at                94959 non-null  object \n",
      " 5   raised_amount_usd        94959 non-null  float64\n",
      "dtypes: float64(1), object(5)\n",
      "memory usage: 5.1+ MB\n"
     ]
    }
   ],
   "source": [
    "round2_cleaned = round2.loc[~round2.raised_amount_usd.isna(),:]\n",
    "round2_cleaned.info()"
   ]
  },
  {
   "cell_type": "markdown",
   "metadata": {},
   "source": [
    "# Checking unqiue companies \n",
    "- Permalink and name both have the details of companies\n",
    "- Ideally we should use name in companies dataset but same variable is not available ib round2 dataset\n",
    "- Permalink/comapny_permalink can be use variable on which we do merge\n",
    "- First we try to see whether unique value in permalink and name in companies dataset have same unique values"
   ]
  },
  {
   "cell_type": "code",
   "execution_count": 7,
   "metadata": {},
   "outputs": [
    {
     "data": {
      "text/plain": [
       "66368"
      ]
     },
     "execution_count": 7,
     "metadata": {},
     "output_type": "execute_result"
    }
   ],
   "source": [
    "companies.permalink.str.lower().nunique()"
   ]
  },
  {
   "cell_type": "code",
   "execution_count": 8,
   "metadata": {},
   "outputs": [
    {
     "data": {
      "text/plain": [
       "66034"
      ]
     },
     "execution_count": 8,
     "metadata": {},
     "output_type": "execute_result"
    }
   ],
   "source": [
    "companies.name.str.lower().nunique()"
   ]
  },
  {
   "cell_type": "markdown",
   "metadata": {},
   "source": [
    "# Analyzing duplicate values for company with unique permalink"
   ]
  },
  {
   "cell_type": "code",
   "execution_count": 9,
   "metadata": {
    "scrolled": true
   },
   "outputs": [],
   "source": [
    "dups_comp = companies.loc[companies.duplicated(subset=['name'], keep=False),:]\n",
    "dups_comp.to_csv(\"D:/Upgrad/2. Exploratory Data Analysis/Module_3_Investment Assignment/dups_comp.csv\")"
   ]
  },
  {
   "cell_type": "markdown",
   "metadata": {},
   "source": [
    "# Checking unique companies in round2 dataset"
   ]
  },
  {
   "cell_type": "code",
   "execution_count": 10,
   "metadata": {},
   "outputs": [
    {
     "data": {
      "text/plain": [
       "53915"
      ]
     },
     "execution_count": 10,
     "metadata": {},
     "output_type": "execute_result"
    }
   ],
   "source": [
    "round2_cleaned.company_permalink.str.lower().nunique()"
   ]
  },
  {
   "cell_type": "markdown",
   "metadata": {},
   "source": [
    "# Analyzing duplicate values for company and homepage url"
   ]
  },
  {
   "cell_type": "code",
   "execution_count": 11,
   "metadata": {},
   "outputs": [],
   "source": [
    "dups_comp_2 = companies.loc[companies.duplicated(subset=['name', 'homepage_url'], keep=False),:]\n",
    "dups_comp_2.to_csv(\"D:/Upgrad/2. Exploratory Data Analysis/Module_3_Investment Assignment/dups_comp_2.csv\")"
   ]
  },
  {
   "cell_type": "markdown",
   "metadata": {},
   "source": [
    "# Analysis of unique company name in companies dataset\n",
    "1. *Duplicates in name attribute in the dataset*\n",
    "2. *Looked into categories of duplicates where both name and homepage_url*\n",
    "    1. *Almost all of the companies have atleast one attribute different where both company name and homepage_url is same*\n",
    "    2. *Decided to consider company_permalink as the attribute to find unique companies*"
   ]
  },
  {
   "cell_type": "markdown",
   "metadata": {},
   "source": [
    "# Round2 dataset analysis\n",
    "1. *Check whether round2 dataset have any companies which are not there in companies dataset*\n",
    "    1. *Planning to create two sets of companies name (both in lower case)*\n",
    "    2. *Utilizing set function and property to identify additional company names in round 2 dataset*"
   ]
  },
  {
   "cell_type": "code",
   "execution_count": 12,
   "metadata": {},
   "outputs": [],
   "source": [
    "round2_comp=set(round2_cleaned.company_permalink.str.lower())\n",
    "companies_comp=set(companies.permalink.str.lower())\n",
    "addtional_in_round2 = round2_comp - companies_comp\n",
    "addtional_in_companies = companies_comp - round2_comp"
   ]
  },
  {
   "cell_type": "code",
   "execution_count": 13,
   "metadata": {},
   "outputs": [
    {
     "data": {
      "text/plain": [
       "12454"
      ]
     },
     "execution_count": 13,
     "metadata": {},
     "output_type": "execute_result"
    }
   ],
   "source": [
    "len(addtional_in_companies)"
   ]
  },
  {
   "cell_type": "code",
   "execution_count": 14,
   "metadata": {},
   "outputs": [
    {
     "name": "stdout",
     "output_type": "stream",
     "text": [
      "{'/organization/mapian', '/organization/yumdots', '/organization/linear-dynamics-energy', '/organization/sigmaflow', '/organization/microtask', '/organization/peak-it', '/organization/clean-corp-janitorial', '/organization/ruth-kunstadter-the-grant-coach', '/organization/starline-promotions', '/organization/domzdrowia-pl', '/organization/pushbutton-labs', '/organization/sones', '/organization/forumr', '/organization/perfuzia-medical', '/organization/nearestfirst', '/organization/nexwafe', '/organization/inflarx', '/organization/vm-enterprises', '/organization/simple-car-wash', '/organization/l1nda', '/organization/mastersaf', '/organization/citrine-informatics', '/organization/picurio', '/organization/red-cedar-arborists', '/organization/helpr', '/organization/sharelatex', '/organization/brightparent-inc-', '/organization/varinode-2', '/organization/nconnex', '/organization/stublisher', '/organization/ascots-of-london', '/organization/skara-the-blade-remins', '/organization/twin-peaks', '/organization/clean-harbors', '/organization/fuelmaxx-inc', '/organization/spaceship', '/organization/rocket-racing-league', '/organization/neboola', '/organization/exuvis', '/organization/united-ambient-media-ag', '/organization/m4jam', '/organization/musefind-2', '/organization/pjd-group', '/organization/pilottv', '/organization/oceanlinx', '/organization/dental-fix-rx', '/organization/operatix', '/organization/jail-education-solutions', '/organization/image-skincare', '/organization/express-engineering', '/organization/creopoint', '/organization/e-i-s-aircraft', '/organization/moneymail', '/organization/nanobiomatters-industries', '/organization/the-bartech-group', '/organization/lendia', '/organization/egidium-technologies', '/organization/ajubeo', '/organization/credit-re-inventors', '/organization/sanera', '/organization/between-digital', '/organization/tilck', '/organization/scalegrid', '/organization/phiren-inc-', '/organization/travelai', '/organization/zhejiang-tianyuan-bio-pharmaceutical-company-limited', '/organization/liulishuo', '/organization/hackster-io', '/organization/mattscloset-com', '/organization/tenderlink', '/organization/axado', '/organization/hitsbook', '/organization/imgfave', '/organization/yee-care', '/organization/mc2', '/organization/shikapa', '/organization/bookmyforex-com', '/organization/livaza-com', '/organization/dubset-media', '/organization/shanon', '/organization/feast', '/organization/petrolance', '/organization/who-can-fix-my-car', '/organization/we-cut-the-glass', '/organization/ubiquity-servers', '/organization/showthere', '/organization/doxcheck', '/organization/malwa-international', '/organization/cinemas', '/organization/bretzel-love', '/organization/awareability', '/organization/nostalgia-bingo', '/organization/touchlight-genetics', '/organization/reasult', '/organization/ohtell', '/organization/kudo-2', '/organization/nealywear', '/organization/youyishou', '/organization/zahroof-valves', '/organization/up-web-game-gmbh', '/organization/kinvision', '/organization/banker-s-toolbox', '/organization/reachtax', '/organization/sunny-seg-segway-tours---rentals', '/organization/synch', '/organization/ontotext', '/organization/spotnight', '/organization/innovative-roads', '/organization/turbo-studios', '/organization/top-rops', '/organization/laobaixing', '/organization/j-r-renovations', '/organization/ebio', '/organization/entrepreneur-education-management-corporation', '/organization/kleen-extreme', '/organization/ed4u', '/organization/trusthop', '/organization/zoomy', '/organization/manufacturers-inventory', '/organization/stayes', '/organization/serverpilot', '/organization/foundersuite', '/organization/affinitylabs', '/organization/hyginex', '/organization/usherbuddy', '/organization/get-real-health', '/organization/eirlift', '/organization/zorilla-research-llc', '/organization/encore-fm', '/organization/reskill', '/organization/action-audio-apps', '/organization/trellis-systems', '/organization/fuelogistics', '/organization/eris-industries', '/organization/picturemenu', '/organization/affinity-air-service', '/organization/trippal-2', '/organization/dispatchr', '/organization/budbee', '/organization/girl-makeover', '/organization/urgent-career', '/organization/inteligistics', '/organization/brightbox-technologies', '/organization/mowbly', '/organization/travelusion', '/organization/worry-free-community', '/organization/amx', '/organization/spot-news', '/organization/wellpath-solutions', '/organization/spark-authors', '/organization/piena', '/organization/markkit', '/organization/the-buying-networks', '/organization/rubina-real-estate', '/organization/tipp24', '/organization/disrupt6', '/organization/auto22', '/organization/arxis-capital', '/organization/vanguard-dealer-services', '/organization/insight-communications', '/organization/saucepan', '/organization/express-med-pharmacy-services', '/organization/ig-guitars', '/organization/konsula', '/organization/weddinglovely', '/organization/metrum-sweden', '/organization/perrit', '/organization/wirepas', '/organization/pawclinic', '/organization/blue-source', '/organization/pharetis', '/organization/textunes', '/organization/cibando', '/organization/twenty-recruitment-group', '/organization/flybridge', '/organization/d1g-com', '/organization/miiicasa', '/organization/gushcloud', '/organization/smarthome-ventures-shv', '/organization/stranzz-beauty-supply', '/organization/irynsoft', '/organization/rockcart', '/organization/backlift', '/organization/semperis', '/organization/nn-labs-llc', '/organization/acs-biomarker', '/organization/predect', '/organization/ontraport', '/organization/ensembli', '/organization/social-asset-management', '/organization/tripware', '/organization/ingresse', '/organization/xanga', '/organization/netpro', '/organization/avison-young', '/organization/the-box', '/organization/birdleaf', '/organization/encapson', '/organization/cinemaki', '/organization/spectral-dimensions', '/organization/tnx-corp', '/organization/pepfeed', '/organization/appscale-inc', '/organization/petrosand-energy', '/organization/lgo', '/organization/cuffed-and-wanted', '/organization/xiami-radio', '/organization/ultisat', '/organization/instagis', '/organization/tower59', '/organization/magicalia', '/organization/devtodev', '/organization/plutio', '/organization/digitwhiz', '/organization/clue-inc', '/organization/electric-world-carnival', '/organization/natter-2', '/organization/twiki-net', '/organization/madebymedics', '/organization/landmaster-partners', '/organization/ox-animation', '/organization/stubmatic', '/organization/setup', '/organization/openhatch', '/organization/appprova', '/organization/fromatob', '/organization/beijing-fengxiafei-science-and-technology-co-ltd', '/organization/monetize-plus', '/organization/omniperception', '/organization/orange-glad', '/organization/receptor', '/organization/zebra-mobile', '/organization/makexyz', '/organization/surefire', '/organization/lumasense-technologies', '/organization/avdirect', '/organization/doctor-insta', '/organization/office-center', '/organization/trly-uniq', '/organization/home-inventory-s-pecialists-llc', '/organization/helpjuice-com', '/organization/seeksherpa', '/organization/classical-diary', '/organization/libratone', '/organization/aspen-park-pharmaceuticals', '/organization/intentive-communications', '/organization/mobile-complete-2', '/organization/embly', '/organization/mutations-studio', '/organization/doublebeam', '/organization/reddoorz', '/organization/trd-surfaces', '/organization/victorious-medical-systems', '/organization/campalyst', '/organization/atlantic-excavation-demolition-grading', '/organization/converge-2', '/organization/thounds', '/organization/drift-eyewear', '/organization/osang-jaiel', '/organization/jcd', '/organization/bar-saint', '/organization/arthayantra', '/organization/dancetrippin', '/organization/medmonk', '/organization/legend-acquisitions', '/organization/comverge', '/organization/young-innovations', '/organization/zurn-international-e-commerce-co-ltd', '/organization/automatix', '/organization/zingcheckout', '/organization/gamepress', '/organization/bizongo', '/organization/revsocial-llc', '/organization/circlefive', '/organization/duckweed-usa', '/organization/assurity-group-llc', '/organization/geovario', '/organization/gradefund', '/organization/essenbioscience', '/organization/lust-have-it', '/organization/chess-payment-technology', '/organization/movieline', '/organization/crm-manager', '/organization/qstart-labs', '/organization/nancy-konrad-holdings', '/organization/de-novo', '/organization/motiondsp', '/organization/clappifieds', '/organization/audyssey', '/organization/beijing-exhibition-cheng-technology', '/organization/vmg-health', '/organization/simply-pasta-more', '/organization/99chairs', '/organization/reamaze', '/organization/itâ\\x80\\x99s-all-about-me', '/organization/safari-property', '/organization/cycle-gear', '/organization/72xuan', '/organization/cozero', '/organization/smartpics-media', '/organization/software-2000', '/organization/china-linong-international', '/organization/encounter-2', '/organization/green-web-services', '/organization/iron-peak-advisors', '/organization/startuphighway', '/organization/dzzom', '/organization/apakau', '/organization/interpretive', '/organization/feedo', '/organization/pagatodo-mobile', '/organization/buzzsumo', '/organization/columbia-gorge-teen-camps', '/organization/bobble-app', '/organization/bids-trading', '/organization/eyefactive', '/organization/gasp-solar', '/organization/solid-state-equipment-holdings', '/organization/zhenai', '/organization/termine24-gmbh', '/organization/photonics-healthcare', '/organization/genjuice', '/organization/greenease', '/organization/hypnotic', '/organization/circle', '/organization/picbuy', '/organization/surfeasy', '/organization/socialcrunch', '/organization/beeswax', '/organization/talentpuzzle', '/organization/xy-mobile', '/organization/qqtechnology', '/organization/echodio', '/organization/offscale', '/organization/impulsiv', '/organization/mirovia-networks', '/organization/grouper-2', '/organization/strategic-product-innovations', '/organization/youbeqb', '/organization/3-four-5-group', '/organization/likeastore', '/organization/kitchenbowl-2', '/organization/mygall', '/organization/blurrt-ltd', '/organization/amresorts', '/organization/old-school-motorcycle-company', '/organization/silicon-wolves-computing-society-llc', '/organization/qdration', '/organization/bitepal', '/organization/aj-team-products', '/organization/ssp-europe', '/organization/dswiss', '/organization/loveknitting', '/organization/grovia', '/organization/grouapp', '/organization/munogenics-inc', '/organization/undercovers', '/organization/aio-robotics', '/organization/foodlo-com', '/organization/energenetics-energies', '/organization/apertus-pharmaceuticals', '/organization/dinube', '/organization/tata-s-natural-alchemy', '/organization/chargepartner-gmbh', '/organization/dormchat', '/organization/cold-crate', '/organization/next-kraftwerke-gmbh', '/organization/ask-genie', '/organization/webex-communications', '/organization/findproz', '/organization/opendrive-inc', '/organization/clicktrue', '/organization/etica', '/organization/littlelives', '/organization/neo-network', '/organization/nazeq-com', '/organization/unicorn-production-llc-dba-baby-beluga-seafood-and-oyster-bar', '/organization/baby-blendy', '/organization/sovtech', '/organization/surepeak', '/organization/artisan-lighting-home-decor', '/organization/pickrr-technologies', '/organization/pear-therapeutics', '/organization/breezy-gardens', '/organization/ballista-securities', '/organization/impedans', '/organization/keepfu', '/organization/united-skin-specialists', '/organization/ark-biosciences', '/organization/busyflow', '/organization/aurora-diagnostics', '/organization/north-gate-village', '/organization/allmobilize', '/organization/instasafe', '/organization/intellution', '/organization/gamexs', '/organization/conweaver', '/organization/plickers', '/organization/kokochi', '/organization/dabo-health', '/organization/pop-it', '/organization/citysearch', '/organization/harperlabz', '/organization/sprint-nextel', '/organization/medymatch', '/organization/shayne-foods', '/organization/vino-vici', '/organization/couverts', '/organization/eris-exchange', '/organization/tanya-s-maids', '/organization/machina-pro', '/organization/vizbee', '/organization/centro-ventures', '/organization/uico-inc', '/organization/culpepper-s-bar-grill', '/organization/dti-diesel-technical-innovations', '/organization/cabeasy', '/organization/spreddit', '/organization/medical-mastermind', '/organization/threadable', '/organization/shuttzbuttz', '/organization/green-leaf-children', '/organization/ipixcel', '/organization/timedata-corporation', '/organization/buzzstarter-inc', '/organization/collegesolved', '/organization/1o1media', '/organization/paradise-waikiki-shuttle', '/organization/ynvisible', '/organization/mainspree', '/organization/eat-latin-llc', '/organization/hongdianzhibo', '/organization/entangled-ventures', '/organization/care-n-share', '/organization/quincus', '/organization/radio-rebel', '/organization/catch-2', '/organization/oddified', '/organization/girlsguideto', '/organization/cleartracks', '/organization/best-apps-market', '/organization/ameristream', '/organization/jetsetgo', '/organization/lifetlc', '/organization/rapt-touch', '/organization/delille-cellars', '/organization/capseo', '/organization/web-digital', '/organization/massage-envy', '/organization/canopi', '/organization/simscale', '/organization/condograde', '/organization/neuwly', '/organization/cherry-blossom-bakery', '/organization/chime-4', '/organization/collabfinder', '/organization/vupoynt-media-group', '/organization/innoventureica-2', '/organization/innerapps', '/organization/a-a-custom-cornhole', '/organization/metrolinked', '/organization/smartnotify', '/organization/bigrock-institute-of-magic-technologies', '/organization/candy-club', '/organization/cybersource', '/organization/wide-limited-release-film-distribution-fund', '/organization/clothing-sites', '/organization/two-men-and-a-dog', '/organization/g2one-network', '/organization/intuitive-designs', '/organization/reelbox-media-entertainment', '/organization/u-note', '/organization/fancy-hands', '/organization/ruangguru', '/organization/foxframe-com', '/organization/marquee', '/organization/love-records-multimedia', '/organization/qingdao-savor', '/organization/brandcont', '/organization/orgoo', '/organization/ebrandvalue', '/organization/rubicon-2', '/organization/megajosh', '/organization/homebrew-ventures-i', '/organization/deluux', '/organization/cbazaar-com', '/organization/ccam-biotherapeutics', '/organization/national-prostaff', '/organization/i-neumaticos', '/organization/capzles', '/organization/triptouch', '/organization/phantom-pay', '/organization/bookdoc', '/organization/edifilm', '/organization/fashion-for-home', '/organization/abyz', '/organization/ampere', '/organization/upper-krust-pizza', '/organization/morele-net', '/organization/awl-sundry', '/organization/vitrinepix', '/organization/aito-technologies', '/organization/apmetrix', '/organization/beet-analytics-technology', '/organization/beijing-secco-century-digital-technology-co-ltd', '/organization/mazebolt-technologies', '/organization/lumiy', '/organization/emerald-city-beer-company', '/organization/origin-healthcare-solutions', '/organization/getafive', '/organization/mark-medical', '/organization/textpayme', '/organization/priceme', '/organization/patents-com', '/organization/kesseny-ltd', '/organization/aquatic-informatics', '/organization/okeanos-technologies', '/organization/lohas-tech', '/organization/gudville', '/organization/hoopayz', '/organization/sd-motiongraphiks', '/organization/summitour', '/organization/korbitec', '/organization/maicoin', '/organization/bestaurant', '/organization/designplusd', '/organization/tapsense', '/organization/weboost-2', '/organization/2theloo', '/organization/userstorylab', '/organization/extremeocean-innovation-inc', '/organization/altogen-labs', '/organization/ozmota', '/organization/mariposa-holdings-group-inc', '/organization/i-move-you', '/organization/radar-mobile-studios', '/organization/drop-development', '/organization/titanium-falcon', '/organization/encryptix', '/organization/appyourself', '/organization/lawgo', '/organization/training-meals', '/organization/snapscout', '/organization/cost-effective-data', '/organization/titralyte', '/organization/truweight', '/organization/leaders2020', '/organization/motribe', '/organization/verified-person', '/organization/viva-developments', '/organization/couponcloud-inc', '/organization/frederick', '/organization/sliced-apples', '/organization/codestreet', '/organization/9th-dimension-biotech', '/organization/jualo', '/organization/untold', '/organization/the-foundry-3', '/organization/madesolid', '/organization/shortlist-2', '/organization/lkc', '/organization/heels-com-ng', '/organization/tapgage', '/organization/addresshealth', '/organization/sense-2', '/organization/pursuit-management', '/organization/markedup', '/organization/local-geek-pc-repair', '/organization/twindom', '/organization/tripper-2', '/organization/about-web-reservations-international-web-reservations-international', '/organization/mamba', '/organization/net-value-holdings', '/organization/vidrocket', '/organization/ibelong', '/organization/snap-fitness', '/organization/cityblis', '/organization/playful-data', '/organization/viptalon', '/organization/mee', '/organization/dcs-plus', '/organization/the-learning-experienceacademy-of-early-education', '/organization/kcb-solutions', '/organization/botem', '/organization/allied-aerofoam-product', '/organization/readiness-resource-group-incorporated', '/organization/topsfield-medical-gmbh', '/organization/the-ibt-network', '/organization/the-luxury-club', '/organization/telunjuk', '/organization/pilihdokter-com', '/organization/ihydrate', '/organization/reward-hunt-inc', '/organization/world-first-uk', '/organization/mitu-2', '/organization/mistras-group', '/organization/tivoli-audio', '/organization/fuelmyblog', '/organization/fanlime', '/organization/dangdang-com', '/organization/orpheus-gmbh', '/organization/the-good-ear-company', '/organization/daynine-consulting-inc', '/organization/bincode-entertainment', '/organization/ecornaturas', '/organization/muchasa', '/organization/alinean', '/organization/brandma-co', '/organization/cosmetic-design-group', '/organization/microban-international', '/organization/overcart', '/organization/insideaxis-2', '/organization/thycotic-software', '/organization/cadiou-engineering-services-llc', '/organization/binary-thumb', '/organization/zigi-games-ltd', '/organization/spice-online-retail', '/organization/gateshop', '/organization/localo', '/organization/mylifeplace', '/organization/sterling-investments-3', '/organization/wooju', '/organization/volta-2', '/organization/glio', '/organization/oryxe-energy-international', '/organization/evertale', '/organization/thought-amplify', '/organization/love-warrior-wellness-collective', '/organization/f6s', '/organization/shopping-buddy', '/organization/marcato-digital-solutions', '/organization/securedtouch', '/organization/meter-solutions', '/organization/paychoice', '/organization/exony', '/organization/reimage', '/organization/greenelectric-power-corp', '/organization/paciolan', '/organization/space-sciences-corporation', '/organization/conjure', '/organization/securionpay', '/organization/etuma', '/organization/lyricfind', '/organization/betfair', '/organization/carsquare', '/organization/vendalize', '/organization/brew-solutions', '/organization/sand-hill-exchange-2', '/organization/gifyoutube', '/organization/massagio', '/organization/human-factor-analytics-inc', '/organization/seaforth-energy', '/organization/ecs-tuning', '/organization/saludfcil', '/organization/missys-candy', '/organization/modular-finance', '/organization/ohlife', '/organization/rhomobile', '/organization/weilos', '/organization/fashionguide', '/organization/jobzippers', '/organization/glaciar-music', '/organization/modastic-groupe', '/organization/pieceable', '/organization/authasas', '/organization/cyactive', '/organization/mobile-captain', '/organization/doctors-beck-stone-international-pet-hospitals', '/organization/magictab', '/organization/abb-road', '/organization/uav-navigation', '/organization/kamicat', '/organization/paragon-airheater-technologies', '/organization/smith-associates-2', '/organization/exit-mist', '/organization/newgen-payment', '/organization/anvil-informatics-inc', '/organization/commnet-wireless', '/organization/ni', '/organization/intana-bioscience-gmbh', '/organization/igea', '/organization/yatragenie-services', '/organization/sharing-it', '/organization/kudong', '/organization/virtualsolutions', '/organization/solo', '/organization/exactflat', '/organization/ayalo', '/organization/daychamp', '/organization/great-wall-club', '/organization/dolosys', '/organization/coupoption-inc', '/organization/drb-systems', '/organization/vesta-holdings-north-america-llc', '/organization/zazengo', '/organization/leaguevine', '/organization/maple-apps', '/organization/pilot-ai-labs', '/organization/natural-health-group', '/organization/note-social', '/organization/nexgear', '/organization/hpc-energy-services', '/organization/disabledpark', '/organization/soupqubes', '/organization/tunezy', '/organization/healthclinicplus', '/organization/square-two-financial', '/organization/pulsity', '/organization/cadence-pharmaceuticals', '/organization/jiyo-natural', '/organization/we-are-briqs', '/organization/countly', '/organization/oswego-mega-center', '/organization/solidoodle', '/organization/hipsnip', '/organization/jamwar-inc', '/organization/sweet-surrender-dessert-cocktail-lounge', '/organization/import2', '/organization/videoink', '/organization/metasonic', '/organization/relativ-ai', '/organization/the-great-british-banjo-company', '/organization/jamglue', '/organization/cloud-infra-llc', '/organization/vidfall-com', '/organization/afterschool-me', '/organization/greater-works-business-serivces', '/organization/4tell-solutions', '/organization/giftindia24x7-com', '/organization/worldcover', '/organization/white-pine-systems', '/organization/popjam', '/organization/sportydate', '/organization/easyeasyapps', '/organization/voxel-pl', '/organization/global-animationz', '/organization/awesome-highlighter', '/organization/dailypath', '/organization/hashsnap', '/organization/skillsapien', '/organization/la-charline', '/organization/labtrip', '/organization/collegescoutingreports-com', '/organization/diversitydoctor', '/organization/miria-systems', '/organization/canvita', '/organization/train-heroic', '/organization/voradius', '/organization/yippee-arts', '/organization/musefind', '/organization/affordable-renovations', '/organization/igistics', '/organization/karos-health', '/organization/ameri-tech-3d', '/organization/contents-first', '/organization/kcv-loans', '/organization/ncs-multistage', '/organization/mgenerator', '/organization/ez-ticket-com-llc', '/organization/appsecute', '/organization/tabl-media', '/organization/iemg', '/organization/my-best-friends-daycare-and-resort', '/organization/resident-research', '/organization/community-research-associates', '/organization/media360', '/organization/smartline', '/organization/kaskado', '/organization/jettable', '/organization/gift-card-combo', '/organization/bigbear-network', '/organization/eyeducation', '/organization/velingo', '/organization/arquo-technologies', '/organization/bartlett-holdings', '/organization/yadio', '/organization/caribou-bay-retreat', '/organization/glucovista', '/organization/izi-collecte', '/organization/bluebella', '/organization/okanda', '/organization/tavaga', '/organization/cromoup', '/organization/smcpros', '/organization/sustainable-life-media', '/organization/sonormed-gmbh', '/organization/olive-loom', '/organization/inside-jobs', '/organization/smartgrains', '/organization/winneroo-3', '/organization/justbook', '/organization/synergy-live-international', '/organization/diamond-dogs', '/organization/infinite-analytics', '/organization/lift-agency-llc', '/organization/wedwu', '/organization/clowdy', '/organization/wifi-runners', '/organization/qubulus', '/organization/ciceroos', '/organization/kaymbu', '/organization/study-abroad-apartments-2', '/organization/vesta-realty-management', '/organization/flexymind', '/organization/kensee', '/organization/eyemart-express', '/organization/process-and-plant-sales', '/organization/triad-retail-media', '/organization/marport-deep-sea-technologies', '/organization/momentcam', '/organization/sleeping-on-air', '/organization/camerama', '/organization/kevin-mcgushion', '/organization/orbit-minder-limited', '/organization/fancru', '/organization/temploy', '/organization/shop-your-world', '/organization/out-of-the-box', '/organization/socedo', '/organization/twisted-family-creations', '/organization/fiber-by-products', '/organization/morris-freight-and-transport-brokerage', '/organization/p-lemmens-company', '/organization/sublime-mail', '/organization/anglo-european-group', '/organization/hybrid-electric-vehicle-technologies', '/organization/propel-it', '/organization/express-fit', '/organization/reflux-medical', '/organization/appex-networks', '/organization/inappin', '/organization/dimple-dough', '/organization/olark', '/organization/madronish-therapeutics', '/organization/cityvox', '/organization/8020publishing', '/organization/magton', '/organization/containership', '/organization/sponsorbrite-inc-', '/organization/solar-earth-inc', '/organization/knowzz', '/organization/equigerminal', '/organization/fivethirty', '/organization/hydro-run', '/organization/insync-2', '/organization/mobbles', '/organization/scraplr', '/organization/mainline-net-holdings', '/organization/wave-technology-solutions', '/organization/tootle-2', '/organization/adams-floor-decor', '/organization/ikks', '/organization/hemics', '/organization/ccw-breakaways', '/organization/encore-technologies', '/organization/youtopia', '/organization/docasap', '/organization/phoenix-labs', '/organization/foruforever', '/organization/aqualligence', '/organization/ccbr-synarc', '/organization/junko-tada', '/organization/sirion-biotech', '/organization/cerego-japan-inc', '/organization/paulg-corporation', '/organization/waddle', '/organization/xicepta-sciences', '/organization/apricot-trees-information-technology-beijing-co-ltd', '/organization/offeriq', '/organization/membr-inc', '/organization/mangrove', '/organization/picprizes', '/organization/contabilizei-contabilidade-online', '/organization/phlexglobal', '/organization/embarkly', '/organization/cleanmycrm', '/organization/the-roundtable', '/organization/mybank-2', '/organization/healthy-soda-inc', '/organization/williams-furniture', '/organization/4scotty-gmbh', '/organization/next-future-of-transportation', '/organization/aislefinder', '/organization/mastercourses', '/organization/syndacast', '/organization/benthic-labs', '/organization/healthcare-partners', '/organization/guaranteach', '/organization/ascentias', '/organization/sxt-learning', '/organization/adbongo-inc', '/organization/gekko-global-markets', '/organization/inventure-enterprises', '/organization/plugged', '/organization/dex-academy', '/organization/surplex', '/organization/creative-citizen', '/organization/collegepostings', '/organization/eruvaka-technologies', '/organization/water-strider-inc', '/organization/freemarkets', '/organization/castlerock-reo', '/organization/rooms2night-llc', '/organization/moonlighting-3', '/organization/safety-services-company', '/organization/vhu-express', '/organization/rooffy-inc', '/organization/parklu', '/organization/dlc-distributors', '/organization/bluelightapp', '/organization/swish', '/organization/the-10-percent-agency', '/organization/bardolino-grille', '/organization/vox-io', '/organization/forward-talent', '/organization/studiotweets', '/organization/corporate-lodging-consultants', '/organization/array-bridge', '/organization/eyerim', '/organization/synaffix-2', '/organization/faballey', '/organization/kaymu', '/organization/third-millennium-materials', '/organization/miacosa', '/organization/honk', '/organization/commsignia', '/organization/jascha', '/organization/ubelong', '/organization/our-nurses-network', '/organization/greenshield', '/organization/keithick-biogas', '/organization/hydroxsys', '/organization/zerowire-inc', '/organization/aquapdesigns', '/organization/sribulancer', '/organization/amal-therapeutics', '/organization/healthychic', '/organization/wowash', '/organization/laudd--inc-', '/organization/freedom-homes-recovery-center', '/organization/biovation-holdings', '/organization/wantreez-music', '/organization/tr3life', '/organization/annhagen', '/organization/wish-upon-a-hero-2', '/organization/nubeliu', '/organization/2web-technologies', '/organization/talentkode', '/organization/l-d-apps', '/organization/wiren-board', '/organization/maana-mobile', '/organization/andtix', '/organization/mindri', '/organization/gantto', '/organization/corkshare', '/organization/aurin-biotech', '/organization/learnpedia-edutech-solutions', '/organization/condogala', '/organization/sokanu', '/organization/storagetreasures-com', '/organization/idream-career', '/organization/haul-zing', '/organization/mobilehelp', '/organization/timecros', '/organization/strategic-distribution', '/organization/kashable', '/organization/wello2', '/organization/birthday-gorilla', '/organization/barcoo', '/organization/51edu', '/organization/itarget-com', '/organization/adfinance', '/organization/fundafeast', '/organization/oferton-liveshopping', '/organization/b2brev', '/organization/core-mobile-networks', '/organization/tourjive', '/organization/petpace', '/organization/my-sourcebox', '/organization/findyahan', '/organization/storyous', '/organization/imagine-k12', '/organization/shenzhen-haiya-technology-development-co-ltd', '/organization/truly-2', '/organization/witch-city-products', '/organization/california-tacos-to-go', '/organization/levyx', '/organization/digital-vega', '/organization/ace-learning-company-inc', '/organization/mojoe-brewing-company', '/organization/robotslab', '/organization/audley-travel', '/organization/tagseats', '/organization/advanova', '/organization/amigobulls', '/organization/vã¼nder-sports-network', '/organization/niki-ai', '/organization/vision-radiology', '/organization/intrepid-offshore-construction', '/organization/von-media-group', '/organization/e-drive-autos', '/organization/fixational', '/organization/penboutique', '/organization/protection-plus-inc', '/organization/guterman-partners', '/organization/optoforce', '/organization/home-environmental-systems', '/organization/kochabo', '/organization/matchmaker-videos', '/organization/mng-laboratories', '/organization/savvysync', '/organization/semantria', '/organization/months-of-me', '/organization/physiocue', '/organization/jackbox-games', '/organization/engreet', '/organization/sweet-shop', '/organization/cisimple', '/organization/pokemall', '/organization/innovate2', '/organization/cargoh-com', '/organization/perpetuelle-com', '/organization/plant-together', '/organization/learnlode', '/organization/iobeam', '/organization/payworks', '/organization/storyroll', '/organization/virtual-concierge', '/organization/dealstreet', '/organization/sandman-d-r', '/organization/arbiter', '/organization/hatcher-associates', '/organization/so1-gmbh', '/organization/uprise-art', '/organization/kidzillions', '/organization/pinstant-karma', '/organization/vidit', '/organization/sambaash', '/organization/pittarello', '/organization/goodstori', '/organization/cultured-beans', '/organization/cell-gate-usa', '/organization/cyberpen-inc', '/organization/iprocure', '/organization/smeam-com', '/organization/nuka-indstries', '/organization/nau-ventures-llc', '/organization/nse-industry', '/organization/cabana', '/organization/vaybee-com', '/organization/1v1-draft-gaems', '/organization/collegiate-presswire', '/organization/fiddlers-brewing-company', '/organization/safera', '/organization/cdice-software', '/organization/buy-box', '/organization/first-choice-emergency-room', '/organization/crowdestates', '/organization/vyu-labs-inc', '/organization/amicus-medicus-llc', '/organization/sourceyourcity', '/organization/stadium-goods', '/organization/anivo', '/organization/email-switchboard', '/organization/badongo-com', '/organization/silith-io', '/organization/foxtrotcode', '/organization/murray-technologies-inc', '/organization/learning-games-studios', '/organization/verdant-power', '/organization/neuaer', '/organization/versity-com', '/organization/adreima', '/organization/cordium-links-llc', '/organization/my-luv-my-life-my-heartbeats', '/organization/4c-insights', '/organization/idesia', '/organization/bidrazor', '/organization/groupvox', '/organization/soma-analytics', '/organization/xcast-labs', '/organization/healthvana', '/organization/dixie', '/organization/iwopi', '/organization/videopassports', '/organization/biw-technologies', '/organization/bego', '/organization/mixer-labs', '/organization/unmanned-services-inc', '/organization/photos-i-like', '/organization/bac-on-trac', '/organization/omnino-llp', '/organization/arrowhead-automated-systems', '/organization/texus-fibre', '/organization/shaanxi-join-innovation-technology', '/organization/reclickd', '/organization/telerik', '/organization/authomate', '/organization/news-distribution-network', '/organization/ies', '/organization/w-s-c-sports', '/organization/neofonie', '/organization/mallforafrica', '/organization/accord', '/organization/proglove', '/organization/fish-ball-technology', '/organization/indexing-com', '/organization/western-window-systems', '/organization/vimov', '/organization/koala-roomie', '/organization/testfire', '/organization/tempo-automation', '/organization/national-transportation-exchange', '/organization/fruux', '/organization/leeming-biogas', '/organization/sugar-publishing', '/organization/litchy-electric', '/organization/striva-corporation', '/organization/international-pet-grooming-academy', '/organization/passbeach', '/organization/halldis', '/organization/daily-dealy', '/organization/hyper-wear', '/organization/browsy', '/organization/arctuition', '/organization/mooville', '/organization/super-league', '/organization/mantas-2', '/organization/read-advertising-group', '/organization/next-generation-dance', '/organization/tobuy', '/organization/tutorialspoint', '/organization/worldwide-facilities', '/organization/durasweeper-llc', '/organization/action', '/organization/jimmy-fairly', '/organization/tapu-com', '/organization/mapp', '/organization/arkansas-genomics-llc', '/organization/magoosh', '/organization/planet-sushi', '/organization/earth-paints-collection-systems', '/organization/pili', '/organization/tsavo', '/organization/meine-spielzeugkiste', '/organization/kadho', '/organization/clearserve', '/organization/planview', '/organization/truenergy', '/organization/vouch', '/organization/coco-controller', '/organization/usa-fashion-project', '/organization/your-pet-chef', '/organization/xceligent', '/organization/eventblimp', '/organization/clinical-pathology-laboratories', '/organization/volve', '/organization/startuply', '/organization/organic-pizza-kitchen', '/organization/empirical-bioscience', '/organization/american-dental-partners', '/organization/replica-labs', '/organization/topspin-media', '/organization/infinite-energy-llc-dba-infinite-enzymes', '/organization/pilgrim-software', '/organization/paylease', '/organization/the-paper-store', '/organization/clipabout', '/organization/airstoc', '/organization/cole-martin', '/organization/orion-systems-integrators', '/organization/unplugged-2', '/organization/brocc-equipment', '/organization/communication-synergy-technologies', '/organization/maytech', '/organization/self-point', '/organization/peopleware-2', '/organization/tradeup-labs', '/organization/black-arrow', '/organization/raffstar', '/organization/cloubrain', '/organization/podmote-2', '/organization/kashmir-luxury-hair', '/organization/gamepix', '/organization/prepay-technologies', '/organization/notice-technologies', '/organization/pinion-gg', '/organization/rollerwall', '/organization/sensors-com', '/organization/stereomood', '/organization/i-am-puls', '/organization/palmetto-veterinary-associates', '/organization/relive', '/organization/asante-solutions', '/organization/sportmeets', '/organization/goodman-asset-protection', '/organization/solar-tech-africa', '/organization/craton-roche', '/organization/adding', '/organization/sweetch-2', '/organization/filelocker-guru', '/organization/vericar', '/organization/anagear', '/organization/cognitum', '/organization/csi-protection', '/organization/everlasting-values-organized-through-love', '/organization/eno-information-technologies', '/organization/thinaire', '/organization/flavorvanil', '/organization/kliptap', '/organization/culture-kitchen', '/organization/neongrid', '/organization/borrowersfirst', '/organization/tk-energi', '/organization/hublo', '/organization/nerdist', '/organization/secure-nok', '/organization/kliqed', '/organization/genius-digital', '/organization/econ-healthcare', '/organization/the-butler', '/organization/zumata-ltd', '/organization/secure-24', '/organization/foreup', '/organization/bodhicrew-services-private-limited', '/organization/circle-pharma', '/organization/doodle', '/organization/iv-holdings', '/organization/free-for-kids', '/organization/mango-electronics-design', '/organization/milkster', '/organization/bio2chp', '/organization/fuelminer', '/organization/iso-fast-gmbh', '/organization/reality-jockey', '/organization/beesphere', '/organization/insilico-medicine', '/organization/go-moment', '/organization/queryly', '/organization/walkmore', '/organization/pharmaline', '/organization/onekreate', '/organization/mobintent', '/organization/prospect-medical-holdings-inc', '/organization/caperfly', '/organization/mbw-enterprise', '/organization/search-technologies-ru', '/organization/dabbledb', '/organization/funguy-fungi-incorporated', '/organization/urvew', '/organization/snaptalent', '/organization/squirrly', '/organization/mister-bucks-pet-food-company', '/organization/matchbox-coffeehouse', '/organization/simfinit', '/organization/vadxx-energy', '/organization/kidzvuz', '/organization/carsabi', '/organization/videoxperts', '/organization/skylable', '/organization/nova-weigh', '/organization/active-voice-corporation', '/organization/indie-vinos', '/organization/rymm-education', '/organization/thumb-friendly', '/organization/craigsbluebook-com', '/organization/scm-lifescience', '/organization/magnamedics', '/organization/reflectum', '/organization/cloudcontrol', '/organization/algomi-ltd', '/organization/touchframe', '/organization/dsa-global', '/organization/red-dot-payment', '/organization/merch', '/organization/50-partners', '/organization/make-my-quince', '/organization/take-me-home-taxi', '/organization/placeling', '/organization/glued', '/organization/pangea-3', '/organization/frio-distributors', '/organization/keen-guides', '/organization/alodokter', '/organization/builk', '/organization/omniderm', '/organization/jobhoreca', '/organization/trackersphere', '/organization/track-tl', '/organization/easycopay', '/organization/paradigm4', '/organization/broadcast-com', '/organization/sellercrowd', '/organization/the-payments-company', '/organization/cheap-data-communications', '/organization/prime-wire-media', '/organization/royal-petroleum-inc', '/organization/surreal-ink', '/organization/bountyhunter', '/organization/lola-pirindola', '/organization/4front-security', '/organization/polar-oled', '/organization/metricly', '/organization/appography', '/organization/the-lean-startup-machine', '/organization/gemino-healthcare-finance', '/organization/tender-greens', '/organization/ridepost', '/organization/salman-enterprises-ltd-inc', '/organization/l-t-property-investments', '/organization/miniversum', '/organization/embedded-chat', '/organization/mobilejob', '/organization/zepass', '/organization/audit-verify', '/organization/zoombu', '/organization/knack-inc', '/organization/liqid-investments', '/organization/vigor-pharma', '/organization/ticketbox', '/organization/shophop', '/organization/mutual-aid-labs', '/organization/qwbcg', '/organization/net-power-light', '/organization/pushtotest', '/organization/ditno', '/organization/the-kenaly-complement', '/organization/thebizmo', '/organization/integral-technologies-inc', '/organization/trove-3', '/organization/savaree', '/organization/uplayme', '/organization/extremis-technology', '/organization/jelas-marketing', '/organization/babycenter', '/organization/coryton-advanced-fuels', '/organization/hairbobo', '/organization/veeseo', '/organization/besunyen-beijing-outsell-health', '/organization/better-life-beverages', '/organization/andromeda-web-development-llc', '/organization/skeed', '/organization/avva-health', '/organization/courtview-media', '/organization/philrealestates', '/organization/greenscreen-animals', '/organization/real-time-wine', '/organization/woodstone-properties', '/organization/teqcycle', '/organization/cloud-content', '/organization/q-go', '/organization/dealupa', '/organization/bitwall', '/organization/zilker-motors', '/organization/deliveree', '/organization/appointy', '/organization/cells-power', '/organization/admera', '/organization/sunterrace', '/organization/flybrain', '/organization/repairy', '/organization/craftistas', '/organization/pack-pack-2', '/organization/opentaste', '/organization/b-4-health', '/organization/fullcube', '/organization/glamcorner', '/organization/surepoint-medical', '/organization/coin-tech', '/organization/primeworks-corporation', '/organization/ikaaz', '/organization/rehab-management-services', '/organization/member-savings-program', '/organization/rivo-software', '/organization/starteed', '/organization/gapoon-online-consumer-services-pvt-ltd', '/organization/pownce', '/organization/i2-capital', '/organization/cegal', '/organization/mplife-com', '/organization/your-body-by-design', '/organization/neema', '/organization/decision-rocket-2', '/organization/gant', '/organization/tellfi', '/organization/once-upon-a-time-theme-park', '/organization/88tc88', '/organization/stadinav', '/organization/bee-on-the-go', '/organization/indi-molecular', '/organization/brainsonic', '/organization/xiant', '/organization/benissimo', '/organization/videocare', '/organization/enchanted-circle-fair', '/organization/admetric', '/organization/roundcorner', '/organization/antech-ltd', '/organization/providajob', '/organization/flourish-prenatal', '/organization/fivespace', '/organization/intema', '/organization/nubot', '/organization/lemonade-2', '/organization/prediculous', '/organization/interex', '/organization/kingdom-enterprise-systems', '/organization/portafare', '/organization/dermlink-inc', '/organization/getfresh', '/organization/terafina', '/organization/connexin-software', '/organization/mdjunction', '/organization/elmbridge-court', '/organization/djump', '/organization/datappraise', '/organization/creative-gig', '/organization/reel', '/organization/health-equity-labs', '/organization/hobobe', '/organization/appetise', '/organization/cellon', '/organization/boom-fm', '/organization/hand-therapy-solutions', '/organization/2win-solutions', '/organization/cian-group', '/organization/ecopost-limited-kenya', '/organization/madison-logic', '/organization/medirio-sa', '/organization/immersight', '/organization/lvl6', '/organization/sporterpilot', '/organization/connolly', '/organization/twidox', '/organization/wees', '/organization/cozy-queen', '/organization/whmsoft', '/organization/innovative-mobile-technologies', '/organization/hichina', '/organization/grade-a-sign---signon-media', '/organization/amygdala-neuroscience', '/organization/ubalo', '/organization/leikr', '/organization/bedbathmore-com', '/organization/insightete', '/organization/stix', '/organization/springr', '/organization/traxair', '/organization/bridgexs', '/organization/the-global-trade-network', '/organization/paid-to-party-llc', '/organization/sourcedna', '/organization/tokia-lt', '/organization/crimson-waters-games', '/organization/gault-millau', '/organization/siriusdecisions', '/organization/smartycontent', '/organization/zumba-fitness', '/organization/guang-lian-shi-dai', '/organization/playdead', '/organization/smallbizrealty-com', '/organization/reminiz', '/organization/equiom-inc', '/organization/fulton-waters', '/organization/deliverychef-in', '/organization/tapnsell', '/organization/metrikea', '/organization/marbleshare', '/organization/wisebanyan', '/organization/nanjing-shouwangxing-it', '/organization/xconomy', '/organization/power-liens', '/organization/bigevidence', '/organization/solutionary', '/organization/trusted', '/organization/senor-sirloin', '/organization/beijing-joysee-technology', '/organization/spotsi', '/organization/magic4', '/organization/escale', '/organization/gypsum-technologies', '/organization/infused-industries', '/organization/software-com-2', '/organization/bamx', '/organization/zarpo', '/organization/webe-works', '/organization/sigma-force', '/organization/livonia-locksmith', '/organization/genia-photonics', '/organization/medical-compression-systems', '/organization/matchalarm', '/organization/swoodoo', '/organization/heliko-aviation-services', '/organization/computication', '/organization/the-thomas-surprenant-makeup-academy', '/organization/checkpass-business-solutions', '/organization/lens', '/organization/dealbird', '/organization/haima-ticketing', '/organization/lekan-com', '/organization/clearwater-analytics', '/organization/factyle', '/organization/christophe-co', '/organization/club-cooee', '/organization/s-cubism', '/organization/139shop', '/organization/omnifone-ltd', '/organization/american-discount-pharmacy-crop', '/organization/penelopes-purse', '/organization/medical-adhesive', '/organization/fashiontrot', '/organization/robotoki', '/organization/wow-emotions', '/organization/surveygizmo', '/organization/sparkitthere', '/organization/youhelp', '/organization/minodes', '/organization/ventech-2', '/organization/athenas-s-a', '/organization/health-in-reach', '/organization/huitongda', '/organization/pandora-web-services', '/organization/venuetastic', '/organization/c2cube', '/organization/kiddify', '/organization/eluha', '/organization/domgeo-ru', '/organization/proof-of-performance', '/organization/vmovier', '/organization/amiando', '/organization/i-gotchu', '/organization/homie-3', '/organization/sozzani-wheels-llc', '/organization/ramamia', '/organization/grant-dental-technology-corporation', '/organization/scarlet-lens-productions', '/organization/hearn-transit-corporation', '/organization/edfolio', '/organization/hordspot', '/organization/tixel-gmbh-2', '/organization/safe-shipping-inspectors', '/organization/nonoba', '/organization/fiveworx', '/organization/ladies-who-launch', '/organization/forthcast-ltd-', '/organization/clipboard', '/organization/fishlabs', '/organization/syntarga', '/organization/sovereign-developers-and-infrastructure-limited', '/organization/green-valley-produce-llc', '/organization/gekko', '/organization/co3-systems', '/organization/ziel', '/organization/llollo', '/organization/oravel', '/organization/giftcardsindia', '/organization/housebites', '/organization/usarad-holdings', '/organization/condor-travel', '/organization/meritbuilder', '/organization/tang-song', '/organization/savosolar', '/organization/musti-ja-mirri-group', '/organization/query-hunter', '/organization/strain-merchant', '/organization/clearstream', '/organization/becc', '/organization/wolf-2', '/organization/guiddoo-tours', '/organization/help-systems', '/organization/bpa-solutions', '/organization/dream-link-entertainment', '/organization/tingz-me', '/organization/rittenhouse', '/organization/snapcart', '/organization/vayant', '/organization/cued', '/organization/nevigo', '/organization/qvanteq', '/organization/shandong-in-spur-huaguang-optoelectronics', '/organization/luma-resources', '/organization/freshmonk', '/organization/heykiki', '/organization/pollex-mobile-holdings', '/organization/numotion', '/organization/proximare-health', '/organization/josey-ellis-commercial-real-estate-investments', '/organization/hmp-communications', '/organization/ewendo', '/organization/physicians-formula', '/organization/weight-loss-clubs-worldwide', '/organization/wheeldo', '/organization/intercity', '/organization/vinelab-com', '/organization/whizz-systems', '/organization/get-living-it-ltd', '/organization/j-entendi', '/organization/basecom', '/organization/plow', '/organization/crowdzone', '/organization/zitra-com', '/organization/illuminator-4d', '/organization/tippmann-sports', '/organization/prodess', '/organization/wudya', '/organization/letspark', '/organization/mygoodpoints', '/organization/smac-factory', '/organization/axisrooms', '/organization/jans-digital-plans', '/organization/apsiyon', '/organization/pawisda-systems', '/organization/styleingo-llc', '/organization/nayatek', '/organization/fliplife', '/organization/planana', '/organization/yodas', '/organization/bellco', '/organization/adnectar', '/organization/genequine-biotherapeutics-gmbh-2', '/organization/ourshelf', '/organization/runivermag', '/organization/diskover', '/organization/gerson-lehrman-group', '/organization/axonify', '/organization/international-youth-organization', '/organization/svbtle', '/organization/honestly-now', '/organization/zynergy-projects-services', '/organization/stumpwise', '/organization/sim-digital', '/organization/teleborder', '/organization/affinity-wulfrun', '/organization/indoo-rs', '/organization/tuicool', '/organization/iwatech', '/organization/ski-dolly', '/organization/confovis', '/organization/sammie-js-divine-cupcakes-bakery', '/organization/save-energy-systems', '/organization/swiftpage', '/organization/coins-ph', '/organization/ateo', '/organization/squarekey', '/organization/learnleo-2', '/organization/liveanswer-inc', '/organization/wedding-snap', '/organization/evereve', '/organization/workstir', '/organization/verifico', '/organization/open-road-snacks', '/organization/m-audio', '/organization/gcw', '/organization/krowdpad', '/organization/indus-insights', '/organization/akampus', '/organization/parle-innovation-inc', '/organization/crx-markets', '/organization/nexopia', '/organization/passfort', '/organization/africa-talent-management', '/organization/spark-ip', '/organization/project-dance-llc', '/organization/best-bid-for-you', '/organization/leondrino-exchange-inc-', '/organization/digital-foodie-ltd', '/organization/familyspace-ru', '/organization/alertwatch', '/organization/modelyst', '/organization/kiwi-3', '/organization/brighter-dental-care', '/organization/coin-co-2', '/organization/maid-sailors', '/organization/rekure', '/organization/1click', '/organization/newlisi', '/organization/smartprix', '/organization/onvista-group', '/organization/kalila-medical', '/organization/inspherion', '/organization/lenden-club', '/organization/insurance-business-applications', '/organization/epicsell', '/organization/aznog-technologies-limited', '/organization/quickli', '/organization/generations-home-repair', '/organization/energeno', '/organization/jiangyin-haobo-science-and-technology-co-ltd', '/organization/therabiologics-inc', '/organization/lending-a-helping-hand', '/organization/rabbitrack', '/organization/vultr-holdings-llc', '/organization/karmyog-media', '/organization/ticketbiscuit', '/organization/acturis', '/organization/cysal-gmbh-2', '/organization/group-therapy-records', '/organization/housecanary', '/organization/sparkeo', '/organization/biographicon', '/organization/punkt-netservices', '/organization/harvest', '/organization/littlefoot-energy-finance', '/organization/situne', '/organization/bot2bot-com', '/organization/glance-2', '/organization/next-caller', '/organization/sumo-paint', '/organization/digital-harmony-games', '/organization/perioseal-inc', '/organization/exovite', '/organization/carmel-pharma', '/organization/axionics', '/organization/kitboost', '/organization/deepmile-networks', '/organization/meridian-ar', '/organization/blogbus', '/organization/rundown', '/organization/fashionqlub', '/organization/built-in-chicago', '/organization/unlimited-concepts', '/organization/crowdflow', '/organization/opener', '/organization/snapfinger', '/organization/apocell', '/organization/whitfield-design-build', '/organization/apiomat', '/organization/brainiac-tv', '/organization/playbucks', '/organization/marketbright', '/organization/skypaz', '/organization/gaminside', '/organization/cloudpeeps', '/organization/twelixir', '/organization/kiddies-smilz', '/organization/groovideo', '/organization/mosmary-food-on-demand', '/organization/hemophilia-resources-of-america', '/organization/emere-inc', '/organization/autohouse-technologies-corp', '/organization/skyride-technology', '/organization/riskthinktank', '/organization/freshfetch-pet-foods', '/organization/carlingo-llc', '/organization/rexpest', '/organization/social-intelligence', '/organization/galleon-ph-incorporated', '/organization/the-glover-park-group', '/organization/paperless-world', '/organization/haven-hill-homestead', '/organization/scooters', '/organization/xerpa', '/organization/janis-research-co', '/organization/fibocom-wireless', '/organization/regalamos', '/organization/bubok', '/organization/mobclix', '/organization/avensus', '/organization/clarkson-eyecare', '/organization/insurancelibrary-com', '/organization/eprooft', '/organization/exelonix', '/organization/lambonche-international', '/organization/building-successful-teens', '/organization/ignia-bienes-raã\\xadces', '/organization/n-join', '/organization/singer-land-deveploment', '/organization/fetchmob', '/organization/inaa-com-ltd', '/organization/dating-latam', '/organization/getbazza', '/organization/abeja-inc-', '/organization/graphic-stadium', '/organization/belocal', '/organization/outdoor-water-solutions-inc', '/organization/eataly-net', '/organization/cambly', '/organization/webxiom', '/organization/stylecraze-beauty-care-pvt-ltd', '/organization/alluring-logic', '/organization/lgdb-com', '/organization/dark-gateway-games', '/organization/acne-studios', '/organization/zing-2', '/organization/ahead', '/organization/henniges-automotive', '/organization/rockology-music-academy', '/organization/cuelearn', '/organization/pagosonline', '/organization/peoples-software-company', '/organization/meritful', '/organization/advent-engineering', '/organization/accelerated-pictures', '/organization/i3-brands', '/organization/splashmaps', '/organization/gobramble', '/organization/luxury-properties-interiors', '/organization/companion-canine', '/organization/sonabos-technologies', '/organization/cahootify', '/organization/blitab-technology', '/organization/all-d-graphics', '/organization/arcademonk', '/organization/buz-2', '/organization/recess', '/organization/cream-entertainment-group', '/organization/99times-cn', '/organization/twillion', '/organization/publicrelay', '/organization/mosyle', '/organization/placements', '/organization/mobofree', '/organization/snapappointments', '/organization/socratic-labs', '/organization/ascentium', '/organization/spacebase', '/organization/cloak', '/organization/liveondemand', '/organization/youreventsfactory', '/organization/mosso', '/organization/druck-und-werte', '/organization/i-med-network-radiology', '/organization/casehub', '/organization/penboost', '/organization/spartacus-medical', '/organization/northern-defence-security', '/organization/motivity-labs', '/organization/nycareerelite', '/organization/pureflection-day-spa-hair-studio', '/organization/flyclip', '/organization/placetel', '/organization/repup', '/organization/phototlc', '/organization/popularo', '/organization/simbe-robotics', '/organization/soundmate', '/organization/cortex', '/organization/unityware-inc', '/organization/livedata', '/organization/d-b-auto-solutions', '/organization/planet-blue-beverage-inc', '/organization/ylopo', '/organization/workz', '/organization/lsat-freedom', '/organization/moonrok', '/organization/elstat-group', '/organization/factor-14', '/organization/team-kralj-mixed-martial-arts', '/organization/advaction', '/organization/natue', '/organization/notaryact', '/organization/goldengate-software', '/organization/oilfield-anchor-company', '/organization/two4one', '/organization/gamerius', '/organization/packet-viper', '/organization/class-central', '/organization/new-life-electronic-cigarette', '/organization/hipship', '/organization/curves', '/organization/iorder-fresh', '/organization/smart-ventures', '/organization/asym-iii', '/organization/hydra-renewable-resources', '/organization/thoughtswift-medical-assessments', '/organization/greytip-software', '/organization/sterigenics-international', '/organization/food-evolution', '/organization/joule-2', '/organization/american-health-supplies', '/organization/ver-de-verdad', '/organization/forticom', '/organization/streamrail', '/organization/gradebeam', '/organization/mapado', '/organization/alvo-international-inc', '/organization/the-price-wizards', '/organization/aramoz', '/organization/oakmonkey', '/organization/honglian-communication-networks-systems-co-ltd', '/organization/trintech', '/organization/flan-technologies', '/organization/grupo-intercros', '/organization/fileblaze', '/organization/twister-oklahoma-city-clothing', '/organization/triloq', '/organization/pulse-technologies', '/organization/megazebra', '/organization/fjord-media', '/organization/rep', '/organization/clearmatics', '/organization/dress-code', '/organization/apifix', '/organization/tropical-beverages', '/organization/beijing-nano-think-printing-technology-co-ltd', '/organization/swipepay', '/organization/multifonds', '/organization/lendstreet', '/organization/timyo', '/organization/trytopic', '/organization/reqspot-com', '/organization/beach-bum', '/organization/associa', '/organization/irth-solutions', '/organization/character-booster', '/organization/perfect-pizza', '/organization/revcascade', '/organization/bfly', '/organization/metaspace-studios', '/organization/summit-research-labs', '/organization/honesty-online', '/organization/vendigi', '/organization/agada', '/organization/optiopay', '/organization/amper-music', '/organization/4tiitoo', '/organization/life-detection-systems', '/organization/memoright', '/organization/vertigo', '/organization/hooftymatch', '/organization/mission-air', '/organization/truefoods', '/organization/roam-technologies-pty-ltd', '/organization/arterain-medical', '/organization/creative-brain-studios', '/organization/cropin-technologies', '/organization/itrack', '/organization/digitaladvisor', '/organization/simeio-solutions', '/organization/mininavident', '/organization/kpibsc-com', '/organization/hawkeye-aircraft-corporation', '/organization/planbox', '/organization/persimio', '/organization/versafe', '/organization/bidmodo', '/organization/popcorn-metrics', '/organization/optahealth', '/organization/bentonville-international-group-inc', '/organization/bethere', '/organization/nicholson-hartung-consulting', '/organization/real-media', '/organization/lyrically-speakin-cafe-lounge', '/organization/alphastripe', '/organization/newsfixed-uk', '/organization/memfoact', '/organization/cavalry', '/organization/kcme', '/organization/contests4causes', '/organization/b2m-solutions', '/organization/recycled-hydro-solutions', '/organization/omniforce', '/organization/scrip-products', '/organization/bitcovery', '/organization/anywhereyougo-com', '/organization/worldwide-financial-investment-group', '/organization/boracci', '/organization/the-beauty-of-essence-fashions', '/organization/jwd-machine', '/organization/yinker', '/organization/grupa-wirtualna-polska', '/organization/harness-handitouch', '/organization/android-app-review-source', '/organization/effimat-storage-technology', '/organization/circuitlab', '/organization/atlas-apps-2', '/organization/sigmascreening', '/organization/scadafence', '/organization/suite101-com', '/organization/train-station-brewery', '/organization/wolverine-advanced-materials', '/organization/spartan-race', '/organization/continental-renewable-energy', '/organization/topic', '/organization/stylyt', '/organization/fluently', '/organization/tagmoment', '/organization/tukz-undergarments', '/organization/cytora', '/organization/camio', '/organization/inotec-amd', '/organization/spotivate', '/organization/sto-industrial-components', '/organization/restube', '/organization/madada', '/organization/transmension', '/organization/wappa', '/organization/dark-angel-productions', '/organization/mktouch', '/organization/urdoorstep', '/organization/rotapanel', '/organization/quixhop', '/organization/coloraderdam', '/organization/zadego', '/organization/praxify', '/organization/classroom-iq', '/organization/sidelines', '/organization/white-label-marketing', '/organization/ua-tech-dev-foundation', '/organization/mobileready', '/organization/memed', '/organization/lucent-sky', '/organization/ebook-initiative-japan', '/organization/fire-suppression-specialists', '/organization/luxury-quotient-india-private-limited', '/organization/cleu-inc-', '/organization/qandidate-com', '/organization/blayze-inc', '/organization/3discovered', '/organization/genus-oncology', '/organization/hercamoshop', '/organization/makstr', '/organization/kwindoo', '/organization/turningpoint', '/organization/moultrie-tool-mfg-co', '/organization/grupo-phoenix', '/organization/softdesk', '/organization/drive-2', '/organization/giftology', '/organization/ipnetwork', '/organization/rbelle', '/organization/neurotechnologies', '/organization/sessionbox', '/organization/motionet-ag', '/organization/refunder', '/organization/advanced-integration-technology', '/organization/jumpzter', '/organization/rushorder', '/organization/wundrbar', '/organization/jobsyndicate', '/organization/nativex', '/organization/sembrowser-ltd', '/organization/rural-physicians-group', '/organization/incab-design', '/organization/mld-solutions', '/organization/kit', '/organization/seat-14a', '/organization/bcm-solutions', '/organization/corral-labs', '/organization/fedger-io', '/organization/spoondate', '/organization/canceriq', '/organization/bluefox', '/organization/ncr-tehchnosolutions', '/organization/billow-engagement', '/organization/jaco', '/organization/attention-sciences', '/organization/bloom-studio', '/organization/madrone', '/organization/innovatus-technology', '/organization/green-power-corporation', '/organization/sojeans', '/organization/pembe-panjur', '/organization/mbite', '/organization/seesaw-2', '/organization/t-em-b', '/organization/the-onederbag-company', '/organization/atri-addiction-treatment-reviews-information', '/organization/nattr', '/organization/thomsons-online-benefits', '/organization/mitio', '/organization/corporate-times-inc', '/organization/povo', '/organization/aesica-pharmaceuticals', '/organization/channeleyes', '/organization/droidhen', '/organization/bodub--llc', '/organization/leafwearables', '/organization/babington-group', '/organization/kiveda', '/organization/virtual-sales-group', '/organization/megalytics', '/organization/blue-nile-entertainment', '/organization/icracked', '/organization/e-bon', '/organization/inline-wireless', '/organization/actualsun', '/organization/eupraxia-pharmaceuticals', '/organization/connora-technologies', '/organization/health-outcomes-worldwide', '/organization/motionloft', '/organization/btiques', '/organization/acosta-sales-marketing', '/organization/talview', '/organization/ubitricity', '/organization/alpha-omega-financial-systems', '/organization/topup-tv', '/organization/talentrack', '/organization/daopay-2', '/organization/barclays-house', '/organization/axon-ghost-sentinel', '/organization/boss-metrics', '/organization/fittr', '/organization/dropgifts', '/organization/hypespark', '/organization/foex', '/organization/immunservice-gmbh', '/organization/townrush', '/organization/bazari', '/organization/securepipe-inc-trustwave', '/organization/itaro', '/organization/itema', '/organization/hello-scout-inc', '/organization/talent-cove', '/organization/diversified-natural-products', '/organization/moglix', '/organization/clew', '/organization/vanitycube-2', '/organization/greensand', '/organization/warm-clouds', '/organization/crowd-vision', '/organization/tasted-menu', '/organization/koffeeware', '/organization/guesthouse-network', '/organization/apple-usa', '/organization/studyroom', '/organization/solarbuddy', '/organization/actstack', '/organization/replise', '/organization/selfster', '/organization/erpflex', '/organization/bamboo-hr', '/organization/lantech', '/organization/global-active', '/organization/electroloom', '/organization/foodik-ru', '/organization/ohloh', '/organization/mfind', '/organization/mercury-solar-systems', '/organization/kinetic-2', '/organization/teamplate', '/organization/real-time-content', '/organization/unidym', '/organization/howdo', '/organization/guguchu', '/organization/gamar', '/organization/capital-vision-services', '/organization/agile-group', '/organization/diversity-marketplace', '/organization/chantest', '/organization/zapr', '/organization/unified-color', '/organization/greenwave-foods-inc', '/organization/salesforce-japan', '/organization/wheeltek-of-memphis', '/organization/sharebloc', '/organization/tripsbytips', '/organization/parkinsor', '/organization/romans-group', '/organization/sidevision', '/organization/gaana', '/organization/answerology', '/organization/the-bearded-lady', '/organization/signal-innovations-group', '/organization/the-luneau-technology-group', '/organization/web-africa', '/organization/wealth-x', '/organization/onion-id', '/organization/primavista', '/organization/hypersciences', '/organization/mirego', '/organization/diaspora', '/organization/blockpeek', '/organization/empower-rf-systems', '/organization/thesixtyone', '/organization/playnik', '/organization/8th-story', '/organization/ubiquiti-networks', '/organization/hamac', '/organization/neocutis', '/organization/bluefin-payment-systems', '/organization/bmdr', '/organization/eazycoach', '/organization/wishery', '/organization/spraingo', '/organization/intomics', '/organization/fika-2', '/organization/international-fitness-holdings', '/organization/medikeeper', '/organization/johoplanet-inc', '/organization/curefab', '/organization/lamiecco', '/organization/vocaltap', '/organization/ceres-imaging', '/organization/holidaycheck', '/organization/ubanquity', '/organization/yamli', '/organization/bandgap-engineering', '/organization/impact-economics', '/organization/msilica', '/organization/renovation-authorities-of-indianapolis', '/organization/livestub', '/organization/imagine-3', '/organization/picbadges', '/organization/dynaoptics', '/organization/outlisten', '/organization/influads', '/organization/chicken-salad-chick', '/organization/brightgeist-media', '/organization/new-prospect-management', '/organization/frnz-labs', '/organization/aprovecha-com', '/organization/microbank-software', '/organization/overhead-fm', '/organization/guuf', '/organization/eventhive', '/organization/mashed-jobs', '/organization/heurika-geographics', '/organization/shoply', '/organization/city-labs', '/organization/vacation-your-way', '/organization/ravabe', '/organization/vision-internet', '/organization/yabuy', '/organization/orga-zone-ag', '/organization/craft-vapery', '/organization/friend-trusted', '/organization/stelae-technologies', '/organization/braigo-labs-inc', '/organization/everysignal', '/organization/foundry-hiring', '/organization/real-samurai', '/organization/accupost-corporation', '/organization/filmcrave', '/organization/clear-ear', '/organization/techpoint-2', '/organization/ideal-protein', '/organization/arjo-dala-events-group', '/organization/lone-mountain-electric-llc', '/organization/imageprotect', '/organization/ringerscommunications', '/organization/in-situ-architecture-pllc', '/organization/hyb-battery', '/organization/symynd', '/organization/carolina-one-real-estate', '/organization/pest-con', '/organization/keep-me-certified', '/organization/one-on-one-ads', '/organization/tianjin-bonna-agela-technologies', '/organization/zingly', '/organization/regdesk', '/organization/trueinsider-inc', '/organization/national-technologies', '/organization/timegenius', '/organization/mig-china', '/organization/avanti-learning-centres', '/organization/fair-and-square', '/organization/knf-technologies', '/organization/roovyn', '/organization/bigmachines', '/organization/built-oregon', '/organization/giggin-it', '/organization/sema-software', '/organization/flamencotech', '/organization/g-cluster', '/organization/pax-worldwide-llc', '/organization/thedigitel', '/organization/repromedix', '/organization/zeropercent-us', '/organization/vatgia-com', '/organization/cresthire', '/organization/gameology', '/organization/daisybill', '/organization/flier-inc-', '/organization/fieldtest', '/organization/archermind-technology', '/organization/pricewaiter', '/organization/gappless', '/organization/compositence', '/organization/self-letting-com-2', '/organization/soul-haven', '/organization/armedangels', '/organization/interactive-convenience-electronics', '/organization/motion-solutions', '/organization/new-mexico-algae-production', '/organization/august-2', '/organization/gm-europe', '/organization/chirp', '/organization/unifyo', '/organization/kleora', '/organization/create-a-habit-llc', '/organization/prodä\\x9bti-cz', '/organization/innohome', '/organization/mobileoct', '/organization/interrisk-solutions', '/organization/talent-auction', '/organization/inflexxion', '/organization/contour-innovations', '/organization/city-wide-towing-recovery-service', '/organization/iposition', '/organization/staytoday', '/organization/adconnect', '/organization/left-of-the-dot-media-inc', '/organization/foxytunes', '/organization/monkey-bizness', '/organization/sweepsouth', '/organization/e-academy', '/organization/jibestream', '/organization/issue', '/organization/wattcost', '/organization/uninstall-io', '/organization/simplelegal', '/organization/domobio', '/organization/utility-management-solutions-ums', '/organization/wealthcoin', '/organization/biontis', '/organization/kaleidoscope', '/organization/vidpresso', '/organization/modus-indoor-skate-park', '/organization/key-cybersecurity', '/organization/sellaco', '/organization/suitepad', '/organization/hooray-learning', '/organization/digitalbridge-2', '/organization/inverse', '/organization/yasuu', '/organization/meximerica-media', '/organization/speechvantage', '/organization/art-loft', '/organization/arcarios', '/organization/streamstar', '/organization/aim', '/organization/genesius-pictures', '/organization/welcome-funds', '/organization/travelog', '/organization/himom', '/organization/chi-x-global-holdings', '/organization/your-image-by-brooke', '/organization/pharmaco-dynamics-research', '/organization/ismael-records', '/organization/fanbouts', '/organization/ghz-technology', '/organization/multimedia-plus', '/organization/gramwzielone-pl', '/organization/mysafeplace', '/organization/tg-publishing', '/organization/edpuzzle', '/organization/git-sistemas-ltda', '/organization/kallfly-pte-ltd', '/organization/spark-marketing-and-research', '/organization/roadmap-llc', '/organization/spaceface', '/organization/thought-mechanics', '/organization/viridis-learning', '/organization/peter-s-whole-sale-beer-distribution-center', '/organization/american-life-media', '/organization/bitmovin', '/organization/summit-materials-2', '/organization/truu-mobile', '/organization/card-capture-services', '/organization/crowned-grace-international', '/organization/embanet', '/organization/slicktext-com', '/organization/lio-social', '/organization/soapbox-app', '/organization/scondoo', '/organization/engaging-care', '/organization/benchee', '/organization/shanghai-echinachem-inc', '/organization/eeplat', '/organization/llamas-valley', '/organization/xg-sciences', '/organization/mytraining', '/organization/fsbowow', '/organization/gozopping-venture-pvt-ltd-', '/organization/proactive-business-solutions', '/organization/alpha-broadcasting', '/organization/hct-group', '/organization/keystoke', '/organization/g2-works', '/organization/1st-choice-lawn-care', '/organization/the-online-project', '/organization/one-on-one-marketing', '/organization/nutrino', '/organization/workerbee-virtual-assistants', '/organization/promotion-space-group', '/organization/physiostream', '/organization/gibss', '/organization/pasta-chips', '/organization/fazua', '/organization/nextgen', '/organization/vine-girls', '/organization/lovefilm', '/organization/airwoot', '/organization/moniker-guitars', '/organization/connecticutt-flight-academy', '/organization/wanda-organic', '/organization/physihome', '/organization/bukit', '/organization/omnirocket', '/organization/live-calendars', '/organization/ehr-works', '/organization/eureka-king', '/organization/thesweetlink', '/organization/allyalign-health', '/organization/urban-engines', '/organization/groupcharger', '/organization/alion-energy', '/organization/prbc', '/organization/coin-space-hd-wallet', '/organization/nudge-5', '/organization/groundwork-bioag', '/organization/screemo', '/organization/hellotravel', '/organization/jumping-nuts', '/organization/5-screens-media', '/organization/37signals', '/organization/glimr', '/organization/campreward-com', '/organization/zhu-lou', '/organization/seergate', '/organization/awg', '/organization/mozat', '/organization/ish', '/organization/scroll-in', '/organization/news-deeply', '/organization/lindsey-shell-lmt', '/organization/oncircle-inc', '/organization/daily-aisle', '/organization/vitronet-group', '/organization/new-vision-capital-strategy-llc', '/organization/progress-putnam-lovell-advisors', '/organization/bruxie', '/organization/vigno', '/organization/adcole-corporation', '/organization/explorelifetraveling', '/organization/wheebox', '/organization/tebla', '/organization/anafore', '/organization/ishoe', '/organization/place-of-origin', '/organization/spontly', '/organization/impossible-software', '/organization/apex-guard', '/organization/friendfund', '/organization/bigvest', '/organization/fid3', '/organization/covercake', '/organization/forte-research-systems', '/organization/timelynes', '/organization/homelyst', '/organization/smartbuildings', '/organization/loansolutions-ph', '/organization/saambaa', '/organization/the-mark-news', '/organization/zmp', '/organization/wyutex-oil-and-gas', '/organization/pure-energy-group', '/organization/munch-a-bunch', '/organization/esoft', '/organization/ocean-aero-inc', '/organization/ahonya', '/organization/bonapp-2', '/organization/jrnl', '/organization/true-illusion-software', '/organization/mkg-enterprises', '/organization/meta-smarter-search', '/organization/nextdoorganics', '/organization/innovative-mobility', '/organization/knex-telecom-limited', '/organization/storebadge', '/organization/hemoteq', '/organization/amiho-technology', '/organization/appletreebook', '/organization/rex-landmark', '/organization/dhir-diamonds', '/organization/nocitech', '/organization/wanderable', '/organization/puteko', '/organization/altitude', '/organization/sconce-solutions', '/organization/savedo', '/organization/samy-salon', '/organization/shopittome', '/organization/sentinelo', '/organization/edit-suits-co', '/organization/toovari', '/organization/lifetrack-medical-systems', '/organization/innerpoint-energy', '/organization/mylio', '/organization/sun-animatics-india', '/organization/sensuslabs', '/organization/clean', '/organization/shoesize-me-ag', '/organization/madeleine-market', '/organization/tgv-software', '/organization/saltycustoms', '/organization/preferred-networks', '/organization/prontmed', '/organization/infinite-executive-car-service', '/organization/betteryou', '/organization/censis-technologies', '/organization/hireteammate-2', '/organization/to-be', '/organization/frank-dandy', '/organization/invisioneer', '/organization/ignia-shared-services', '/organization/crashpadder', '/organization/black-veatch', '/organization/dwellxchange-inc', '/organization/music-plus-television-network-inc', '/organization/paytunes', '/organization/kaeuferportal', '/organization/ox-media', '/organization/linear-computer-solutions-llc', '/organization/streamlyzer-inc', '/organization/copark-gmbh', '/organization/dopplr', '/organization/appyzoo', '/organization/astronomer', '/organization/covocative', '/organization/quietstream-financial', '/organization/point-com', '/organization/threattrack-security', '/organization/sf-systems', '/organization/zentric', '/organization/gazelles-growth-institute', '/organization/streamix', '/organization/centrana-health', '/organization/the-beer-caf', '/organization/quantico-energy-solutions', '/organization/spice-i2i-ltd', '/organization/codemasters', '/organization/dnd-consulting', '/organization/4-animals-alsterscience-gmbh', '/organization/graftec-electronics', '/organization/package-zen', '/organization/daoxila-com', '/organization/sk-biopharmaceuticals', '/organization/dtor', '/organization/intruo-com', '/organization/zhengtai-data', '/organization/universal-devices', '/organization/waitron', '/organization/armonia-music', '/organization/s-n-safe-software', '/organization/picitup', '/organization/sterling-drake', '/organization/juv-accessorios', '/organization/datasection', '/organization/uro-jock', '/organization/appota', '/organization/autotiming', '/organization/secured-mail', '/organization/audience-fm', '/organization/divolution', '/organization/cart-magnet', '/organization/stylenda', '/organization/adventurelink', '/organization/american-albanian-hemp-company', '/organization/broadersheet', '/organization/turning-art', '/organization/newmarket-international', '/organization/floobits', '/organization/the-pyromaniac', '/organization/lookacross', '/organization/imperative-energy', '/organization/discuss-io', '/organization/muse', '/organization/fit3d', '/organization/vydia-inc', '/organization/look4homes', '/organization/renutra-natural-health-products', '/organization/starboard-resources', '/organization/hereorthere', '/organization/bao-box', '/organization/code-scouts', '/organization/true-style', '/organization/carparts-technologies-inc', '/organization/playdata', '/organization/access-information-management', '/organization/csd-e-p-water-service-co-ltd', '/organization/b-j-alan', '/organization/l-c-grocery', '/organization/movewith', '/organization/livemed', '/organization/mytelemedicine', '/organization/beatlab', '/organization/indom', '/organization/yatta-solutions-gmbh', '/organization/maskoolin', '/organization/andevices', '/organization/loudie', '/organization/rc-transportation', '/organization/cognilyze', '/organization/m-squared-films-inc', '/organization/zeetl', '/organization/xillient-communications', '/organization/fanaticall', '/organization/amniochor-inc', '/organization/trace-3', '/organization/balls-ie', '/organization/deep-space-industries---dsi', '/organization/exacter', '/organization/i3zif-com', '/organization/crowdfanatic', '/organization/ingenios-health', '/organization/bijoti-inc-', '/organization/united-allergy-services', '/organization/funbrush-ltd', '/organization/membrane-instruments-and-technology', '/organization/pocket-high-street', '/organization/paradise-gardens-greenhouses', '/organization/tapengage', '/organization/popin', '/organization/letgive', '/organization/gamemix', '/organization/lyfesystems', '/organization/woodall-nicholson-group', '/organization/feedgen', '/organization/harukaedu', '/organization/pinyata', '/organization/down-to-earth-transportation', '/organization/abracon', '/organization/game-time-arena', '/organization/otraces-2', '/organization/barzahlen', '/organization/blogradio', '/organization/kae-capital', '/organization/systran', '/organization/electrolytic-ozone', '/organization/navin', '/organization/procura', '/organization/recycling-angel', '/organization/stryking-entertainment', '/organization/connatix', '/organization/rima', '/organization/itugo', '/organization/airplug', '/organization/humtap-inc', '/organization/anago', '/organization/devspark', '/organization/charms-ppec', '/organization/campless', '/organization/water-generating-systems', '/organization/engineered-products-of-virginia', '/organization/windar-photonics', '/organization/grows-up', '/organization/voice123', '/organization/dealorer-com', '/organization/moow-life-all-interesting-nearby', '/organization/matchmate-me', '/organization/passivsystems', '/organization/moneylion', '/organization/jamii', '/organization/millstein-co', '/organization/kulara-water', '/organization/asymchem-laboratories-tianjin', '/organization/eztaxi', '/organization/web-care-lbj-gmbh', '/organization/xiao-fu-financial-accounting', '/organization/cj-overstreet-accounting', '/organization/supersolid', '/organization/dexstr', '/organization/key-ingredient', '/organization/gap-designs', '/organization/lcm-technologies', '/organization/terralliance', '/organization/browns-hall-gardner', '/organization/haircvt', '/organization/berresearch', '/organization/overwatch-2', '/organization/mediatonic-games', '/organization/robin-2', '/organization/stayhound', '/organization/meritaleem-2', '/organization/symtext', '/organization/spreesy', '/organization/prospective-research', '/organization/pigit', '/organization/wine-in-black', '/organization/leotus', '/organization/one-beauty-stop', '/organization/imagine-learning', '/organization/litcharts', '/organization/waltop', '/organization/studio-moderna', '/organization/photon-fluid', '/organization/cook-taste-eat', '/organization/mystride', '/organization/stemdisintermedia', '/organization/eye-phone', '/organization/preoday', '/organization/santus', '/organization/tellja', '/organization/doapp', '/organization/my-estore-app', '/organization/reviewsnap', '/organization/wer-liefert-was', '/organization/4screens', '/organization/agrosmart', '/organization/purephoto', '/organization/rrt-global', '/organization/fleet-one', '/organization/idc-westinghouse', '/organization/foodlogiq', '/organization/cupcake-other-things-you-bake', '/organization/qinti', '/organization/phase-eight', '/organization/wolf-pyros-pictures', '/organization/link2golf', '/organization/world-procurement-international', '/organization/jawsome-dive-adventures', '/organization/slip-stoppers', '/organization/gridcentric', '/organization/outerstuff', '/organization/guangdong-hengxing-group', '/organization/kimlink-auto-detailing', '/organization/proxino', '/organization/diamond-t-livestock', '/organization/rotapost', '/organization/didatuan', '/organization/dset-corporation', '/organization/lessonlab', '/organization/platogo', '/organization/upstream-technologies-2', '/organization/shenzhen-winhap-communications', '/organization/bã¶hner-eh-gmbh', '/organization/800app', '/organization/fora-financial', '/organization/freestride-therapeutics', '/organization/reeplay-it', '/organization/rancard-solutions-limited', '/organization/sevamob', '/organization/get-n-post', '/organization/service-metrics-inc', '/organization/nxtv', '/organization/shanghai-electronic-certificate-authority-center', '/organization/applied-life', '/organization/hospicelink', '/organization/wanderlust', '/organization/aegis-surgical', '/organization/lozo', '/organization/escreen', '/organization/brika', '/organization/itpreneurs', '/organization/imaginary-number', '/organization/360t', '/organization/eastide', '/organization/spectraphase', '/organization/formcept', '/organization/student-designed', '/organization/easyfy', '/organization/id4a-llc', '/organization/renegade-games', '/organization/astute', '/organization/pestnomore', '/organization/schoolmatch-cn', '/organization/rpm-sustainable-technologies', '/organization/zao-begun', '/organization/reputation-institute', '/organization/jellyfish-art', '/organization/earlydoc', '/organization/ecollect', '/organization/quanthouse', '/organization/buchang-group', '/organization/studentbox', '/organization/tickpick', '/organization/advanced-mobile-solutions', '/organization/botego', '/organization/logbar', '/organization/commercializetv-ctv', '/organization/rock-mobile', '/organization/wildfire-korea', '/organization/earthmine', '/organization/snapwire', '/organization/osteopathy-quebec', '/organization/capsule-tech', '/organization/macoscope', '/organization/safeboot', '/organization/mesolight-llc', '/organization/kaargo', '/organization/transmetric', '/organization/expertcloud-de', '/organization/bg-networking-llc', '/organization/roofs-by-nicholas', '/organization/inhance-media', '/organization/truespan', '/organization/artisan-state', '/organization/iwelcome', '/organization/love-buddies', '/organization/weekendesk', '/organization/applied-logic-nigeria', '/organization/q4-open-source', '/organization/printechnologics', '/organization/fusion-smoothies-llc', '/organization/irmedx', '/organization/mobile-health-consumer', '/organization/ecm-technologies', '/organization/shop-airlines', '/organization/makegameswithus', '/organization/readmill', '/organization/ocumove', '/organization/heilongjiang-binxi-cattle-industry', '/organization/doxout', '/organization/decorative-hardware-inc', '/organization/union-biometrica', '/organization/now-technologies', '/organization/genesis-dna', '/organization/metaome', '/organization/hemp-4-haiti', '/organization/coplex', '/organization/gladstone-analytics', '/organization/precise-business-group-inc', '/organization/callfire', '/organization/openhouze', '/organization/framebench', '/organization/home-on-demand', '/organization/otobots', '/organization/avrios', '/organization/infogami', '/organization/fitcircle', '/organization/aquarisplus-int', '/organization/el-paseo-hotel', '/organization/qiandao', '/organization/storelift', '/organization/fabric-technologies', '/organization/olifun', '/organization/outside-the-box-marketing', '/organization/good-photo', '/organization/architectural-daily', '/organization/spinsnap', '/organization/fromus', '/organization/free-technologies-inc', '/organization/clinithink', '/organization/ethics-resource-group', '/organization/sysgold', '/organization/otc-pr-group', '/organization/sparksfly-technologies', '/organization/argil-data-corp', '/organization/simplefloors', '/organization/3dc', '/organization/passt24', '/organization/full-speed-inc', '/organization/campaignability', '/organization/given-to', '/organization/qinqin-com', '/organization/sitateru', '/organization/tadcast', '/organization/scrumpt', '/organization/curb-call', '/organization/medsonix', '/organization/flavours', '/organization/menschmaschine-publishing', '/organization/akamai-home-tech', '/organization/emergency-allworks', '/organization/blancride', '/organization/paragon-vision-sciences', '/organization/namemedia', '/organization/sharehows', '/organization/whitenoise-networks', '/organization/renovo-motors', '/organization/urbandig-inc', '/organization/thymes', '/organization/mdvip', '/organization/metroflats-com', '/organization/pvxchange', '/organization/iconic', '/organization/linqpay', '/organization/twitalytic', '/organization/stylemarks', '/organization/minewhat', '/organization/anesthesia-medical-group', '/organization/blast-motion', '/organization/peerrealty', '/organization/meridian-systems', '/organization/intermedia', '/organization/lintes-technologies', '/organization/shanghai-yinzuo-haiya-automotive-electronics-co-ltd', '/organization/jw-capital-group', '/organization/mednax', '/organization/spotlight-at-night', '/organization/filtec', '/organization/millican', '/organization/safe-bulkers-inc', '/organization/adflyer', '/organization/solvvy-inc', '/organization/greenpocket', '/organization/watchsend', '/organization/shocksense-enterprises-llc-', '/organization/shook', '/organization/shipsy', '/organization/eventfinder', '/organization/ganipara', '/organization/invia-robotics', '/organization/starriser', '/organization/circl', '/organization/sureid', '/organization/anchanto', '/organization/tld-registry', '/organization/networked-organisms', '/organization/prim', '/organization/eat-local', '/organization/equivalent-data', '/organization/usine-io', '/organization/up-2', '/organization/praized-media-inc', '/organization/120-sports', '/organization/epinomics', '/organization/live-painter', '/organization/spinutopia', '/organization/navis-holdings', '/organization/zenkars', '/organization/smiletime', '/organization/sickey-digital', '/organization/crossreader', '/organization/kloud-angels-2', '/organization/sciencebite-gmbh', '/organization/green-earth-institute', '/organization/carespotter', '/organization/twicketer-inc', '/organization/westmoreland-advanced-materials', '/organization/nooga-com', '/organization/allied-industrial-corporation', '/organization/udobu', '/organization/meditap-llc', '/organization/dispatch-4', '/organization/e-cã\\x9abica', '/organization/grizzly-boards', '/organization/slid', '/organization/supersport', '/organization/inspired-business-development', '/organization/vision', '/organization/north-american-dental-group', '/organization/dovme-kosmetics', '/organization/paytogo', '/organization/extreme-plastics-plus', '/organization/videofropper', '/organization/nhommua-com', '/organization/genotype-diagnostics', '/organization/picanova', '/organization/digital-solid-state-propulsion', '/organization/cotton-reed-distillery', '/organization/simply-social', '/organization/jusbrasil', '/organization/j-j-africa', '/organization/eloomi', '/organization/indeni', '/organization/intercommunity-cancer-centers-of-america', '/organization/tuneenergy', '/organization/abfit-products', '/organization/tengah', '/organization/bos-better-on-line-solutions', '/organization/fleye', '/organization/vast', '/organization/west-dermatology', '/organization/abeome-corporation', '/organization/quantira-technologies', '/organization/examhack-inc', '/organization/xiaoi-robert', '/organization/hyporex-technologies', '/organization/mpharma', '/organization/vocabulary', '/organization/tagosgreen-business-community', '/organization/kudarom', '/organization/united-screens', '/organization/augumenta', '/organization/nutzvieh24', '/organization/rotor', '/organization/grama-vidiyal-micro-finance', '/organization/winningadvantage-inc', '/organization/logue-transport', '/organization/marshall-wace', '/organization/instablogs', '/organization/herbabyshower', '/organization/spent', '/organization/picodeon', '/organization/aries-cove', '/organization/ononpay', '/organization/bolabanget', '/organization/kairos-watches', '/organization/caesarea-james', '/organization/owntheplay', '/organization/tirendo', '/organization/aranex-biotech', '/organization/red-rock-holdings', '/organization/bonica-co', '/organization/excentos', '/organization/lawlytics', '/organization/trustteam', '/organization/8aweek', '/organization/citic-shenzhen', '/organization/sabre-energy', '/organization/green-energy-group', '/organization/collete-davis-racing-llc', '/organization/balerin-com', '/organization/nuovo-film', '/organization/fortycloud', '/organization/waple', '/organization/piedmont-bioproducts', '/organization/proteosense', '/organization/oxaion', '/organization/energy-assets-develoopment', '/organization/valuescope', '/organization/commonplace-ventures', '/organization/davidson-green-center', '/organization/gradsavers', '/organization/talbot-holdings', '/organization/sportwip', '/organization/diamond-multimedia', '/organization/cunesoft-gmbh', '/organization/cryo-innovation', '/organization/partnergo', '/organization/social-currencies-management', '/organization/quotationsbook', '/organization/nutrabolt', '/organization/ritz-wolf-camera-image', '/organization/explay-japan', '/organization/vet-brother-lawn-service', '/organization/project-airplane', '/organization/conversions-for-sale', '/organization/bounce-imaging', '/organization/shade-tree-powersports', '/organization/novonics-corp', '/organization/doodle-mobile', '/organization/cappcore', '/organization/inspirage', '/organization/japan-carlife-assist', '/organization/vusay', '/organization/allshoppings', '/organization/homi', '/organization/bitmaker-labs', '/organization/asysco', '/organization/hiptype', '/organization/personalics', '/organization/a-b-productions', '/organization/myloved', '/organization/thinglefin', '/organization/lynx-network-group', '/organization/clean-emission-fluids', '/organization/moblication', '/organization/humbug-telecom-labs', '/organization/ar-llc', '/organization/swipes-app', '/organization/aiyingshi', '/organization/re-bello', '/organization/vertascale', '/organization/seldom-seen-adventures', '/organization/fingertips', '/organization/anbado-video', '/organization/yingyang', '/organization/optonova', '/organization/eyegym', '/organization/equipmentondemand', '/organization/dep-xplora', '/organization/qualio', '/organization/trippal', '/organization/plannet-group', '/organization/appbarbecue-inc', '/organization/avenso', '/organization/tommy-john', '/organization/printivo', '/organization/crambu', '/organization/igobubble', '/organization/chongqing-haifu-technology', '/organization/tuxebo', '/organization/forbes-travel-guide', '/organization/bonfire-wings', '/organization/onlineticket', '/organization/italiacollezione', '/organization/ladon', '/organization/advanced-digital-design', '/organization/ginmon-gmbh', '/organization/sellmyjersey-com', '/organization/einfach-machen-lassen', '/organization/green-shoots-distribution', '/organization/mybookie-inc', '/organization/enterprise-merchantile', '/organization/new-york-designs', '/organization/tenfoot', '/organization/the-spot-experience', '/organization/modern-family-doctor', '/organization/reunify', '/organization/ps-biotech', '/organization/sparrho', '/organization/veterati', '/organization/liverowing', '/organization/nanolinea', '/organization/nicholas-haddox-records', '/organization/pronoxis', '/organization/perfect-storm-media', '/organization/moolta', '/organization/custom-control-concepts', '/organization/giatec-scientific', '/organization/senic', '/organization/bro4u-com', '/organization/spacosa-corp', '/organization/leftlane-sports', '/organization/tcho-ventures', '/organization/oti-lumionics', '/organization/rentalcomp', '/organization/aunt-aggies-foods', '/organization/toolblox', '/organization/gideros-mobile', '/organization/nanjing-gelan-environmental-protection-equipment-limited-company', '/organization/vmg-media', '/organization/eos-systems', '/organization/biogreen-teck', '/organization/innovaccer', '/organization/advertising-concepts', '/organization/fairlay', '/organization/zerimar-ventures', '/organization/medplasts', '/organization/research-journalist', '/organization/icook-tw', '/organization/linktone', '/organization/river-ranch-fresh-foods', '/organization/orca-tv', '/organization/last-size', '/organization/powerone-media', '/organization/playmobs', '/organization/sis-media-group', '/organization/jg-real-estate', '/organization/rt-brokerage-services', '/organization/co-import', '/organization/arvirago', '/organization/the-mother-list', '/organization/axel-mark-inc-', '/organization/kwaab', '/organization/tanaza', '/organization/marketvibe', '/organization/big-sky-partners-llc', '/organization/euro-card-spain', '/organization/pubnative-gmbh', '/organization/the-elegant-monkeys', '/organization/herd', '/organization/xyst', '/organization/taggo', '/organization/hook-ladder', '/organization/petainer', '/organization/applanga', '/organization/my4oneone', '/organization/dashthis', '/organization/instaclean', '/organization/thedial-com', '/organization/ctrl-me-robotics', '/organization/gazehawk', '/organization/logmatrix', '/organization/metropolitan-capital-bank-trust', '/organization/fema-guides', '/organization/peeplepass', '/organization/venture-market-intelligence', '/organization/mo-industries-holdings', '/organization/shanghai-citic-information-development-co-ltd', '/organization/fortunoff', '/organization/compass-inc', '/organization/effortless-energy', '/organization/pipelinedb', '/organization/promax-nutrition', '/organization/jackson-square-group', '/organization/literably', '/organization/your-active-world-yaw', '/organization/finale-desserts', '/organization/lightera', '/organization/ar-devices', '/organization/compare88', '/organization/check-point', '/organization/rolocule-games', '/organization/huaban-com', '/organization/nandio', '/organization/locatebaltimore', '/organization/afribaba-holdings', '/organization/media-matchmaker', '/organization/software-spectrum-corporation', '/organization/oobafit', '/organization/anne-fogarty', '/organization/toutpost', '/organization/tripvillas', '/organization/trans-european-oil-gas', '/organization/red-rock-biofuels', '/organization/sellaround', '/organization/newcondosonline', '/organization/bizimply', '/organization/serverside-group', '/organization/honeit-inc', '/organization/the-fridge', '/organization/cinelan', '/organization/styletech', '/organization/harland-medical-systems', '/organization/feebbo', '/organization/mandata-management-data-services', '/organization/tangiblee', '/organization/sigmacare', '/organization/raumfeld', '/organization/aetho', '/organization/tansna-therapeutics', '/organization/top-agent-network-inc', '/organization/nau-country-insurance-company', '/organization/journalism-online', '/organization/keebitz', '/organization/revolution-bioengineering', '/organization/noemalife', '/organization/bemdireto', '/organization/sudhir-srivastava-robotic-surgery-centre', '/organization/cardiac-systemz', '/organization/continuum-llc', '/organization/kokoon-technology', '/organization/dolphin-geeks', '/organization/femmes-et-pouvoir', '/organization/ultimate-shopper', '/organization/sol-mar-rei', '/organization/overture-me', '/organization/m-a-com', '/organization/averna', '/organization/m-brain', '/organization/phasiq', '/organization/domain-media', '/organization/semeantoja-com', '/organization/amalockers', '/organization/uspack-logistics', '/organization/mysocialnightlife', '/organization/registrylove', '/organization/woo-hoo-studios', '/organization/north-by-south', '/organization/etopus', '/organization/applika', '/organization/newsummitbio', '/organization/opentabs', '/organization/turtle-beach', '/organization/coreworks', '/organization/bobby-bear-fun-fitness-inc', '/organization/envestnet', '/organization/redseguro', '/organization/symbiont', '/organization/vizy', '/organization/allani', '/organization/park-energy-services', '/organization/paradigm-financial', '/organization/scratch-it', '/organization/pick-em-pays', '/organization/carcaddy', '/organization/dr-jerrys-smooth-move', '/organization/bernal-films', '/organization/otten-coffee', '/organization/newsblur', '/organization/htp', '/organization/zambah', '/organization/gooodjob', '/organization/tachyon-holistic-medical-counseling-center', '/organization/app-quality', '/organization/99games-online-private-limited', '/organization/curasight', '/organization/blu-sky', '/organization/consolidated-credit-acquisitions-llc', '/organization/shellfire', '/organization/gymtrekker', '/organization/teltrader', '/organization/launchups', '/organization/maternity-neighborhood', '/organization/peopleeasy-com', '/organization/wilmar-industries', '/organization/who-is-undercover-spy', '/organization/interview-master', '/organization/fishtrip', '/organization/ciachop', '/organization/densbits-technologies', '/organization/stylecrook', '/organization/justbooks', '/organization/charitic', '/organization/aspective', '/organization/clean-world-partners', '/organization/natanael-ulien', '/organization/zdravprint', '/organization/capstone-commercial-real-estate-advisors', '/organization/infrafone', '/organization/grocshop', '/organization/transaq', '/organization/i-invested', '/organization/gesto-saãºde-e-tecnologia-3', '/organization/scante-net', '/organization/coupe-inc-', '/organization/hele-massage', '/organization/prometheus-group', '/organization/colyar-consulting-group', '/organization/hype', '/organization/device-magic', '/organization/kotch-international-transportation-design-specialists', '/organization/parallel-universe', '/organization/roomactually', '/organization/iamwire', '/organization/toshl-inc', '/organization/sudox-paints', '/organization/elysia', '/organization/enterra-solutions', '/organization/qvpn', '/organization/enliken', '/organization/nirvana-2', '/organization/eagle-eye-networks', '/organization/phlo', '/organization/i-tech', '/organization/immigreat-now-llc', '/organization/the-vetted-net', '/organization/anyleaf', '/organization/airbrite', '/organization/treparel-com', '/organization/physicians-angels', '/organization/curl-stone-entertainment', '/organization/veteran-ventures-angel-network-2', '/organization/thrivepass', '/organization/buzzoo', '/organization/tiragiu', '/organization/openovate-labs', '/organization/3d-forms', '/organization/athlettes-productions-media-llc', '/organization/wellmetris', '/organization/mobi-moto', '/organization/retailvector', '/organization/dealhamster', '/organization/the-usability-people-llc', '/organization/quva-pharma', '/organization/eureka-restaurant-group', '/organization/quat-e', '/organization/triggerfish-animation-studios', '/organization/keystone-rv-company', '/organization/little-postman', '/organization/innoz', '/organization/innersight', '/organization/blast-lab-sp-z-o-o-', '/organization/semu', '/organization/teralytics', '/organization/tyler-hugh-com', '/organization/damntheradio', '/organization/cell-mining', '/organization/115-network-disks', '/organization/purple-blue-bo', '/organization/omni', '/organization/hack-upstate', '/organization/liversvp', '/organization/heavybit-industries', '/organization/meeps', '/organization/capitaine-pizza', '/organization/ada-s-avenue', '/organization/mousehouseapp', '/organization/flirtey', '/organization/lil-monkey-butt', '/organization/k-teco', '/organization/556-fitness', '/organization/pickmecab', '/organization/audanika', '/organization/sidewalk', '/organization/pagelever', '/organization/theva', '/organization/caring-in-place', '/organization/fibrtec', '/organization/dapt', '/organization/rivet-games', '/organization/p3dsystems', '/organization/healpay', '/organization/hashtrack', '/organization/scribe-software', '/organization/sitecert', '/organization/topfachhandel-ug', '/organization/black-bear-carbon', '/organization/lake-homes-realty', '/organization/heaps', '/organization/sensorist', '/organization/veddis-labs', '/organization/park-place-international', '/organization/fire1', '/organization/jiujiuweikang', '/organization/lir', '/organization/strauss-energy', '/organization/sales-layer', '/organization/klikki-2', '/organization/revfluence', '/organization/structural-research-and-analysis-corporation', '/organization/watchguard', '/organization/blind-side-entertainment', '/organization/pubgame', '/organization/xsporture', '/organization/storcard', '/organization/bukalapak', '/organization/tabber', '/organization/la-roquette', '/organization/safe-harbour', '/organization/favorite-words', '/organization/artinnet', '/organization/lifetable', '/organization/brownsburg-pc-911', '/organization/grupo42', '/organization/biodata', '/organization/kokam', '/organization/dpsi', '/organization/policard', '/organization/avexxin', '/organization/tiller', '/organization/financuba', '/organization/gaosi-education-group', '/organization/good-greens', '/organization/restored-hearing-ltd', '/organization/o2gen-solutions', '/organization/emed-co', '/organization/tek-travels', '/organization/neolinear', '/organization/ohlala', '/organization/eis-analytics', '/organization/lulutrip', '/organization/trippin-in', '/organization/latergramme', '/organization/trackingdesk', '/organization/corepower-yoga', '/organization/airpair', '/organization/99cloud', '/organization/r-b-group', '/organization/amootoon', '/organization/hyperwallet-systems', '/organization/pandomedia', '/organization/continuing-education-records-resources', '/organization/roadmap', '/organization/dovo', '/organization/intymna-pl', '/organization/nimcat-networks', '/organization/mimub', '/organization/tears-for-life', '/organization/awenydd-diagnostics-gmbh', '/organization/qbic', '/organization/arctyc', '/organization/flamsred', '/organization/dalia-research', '/organization/onsite-lab', '/organization/blacksnow-dk', '/organization/andromedia', '/organization/hammer-and-grind', '/organization/pyron-solar', '/organization/diagnostic-hybrids', '/organization/tubel-technologies', '/organization/readspeaker', '/organization/apartment-adda', '/organization/crs-retail-systems', '/organization/squeakee', '/organization/hubhub', '/organization/weaver-express', '/organization/isogenica', '/organization/patton-surgical', '/organization/wasatch-vaporstix-llc', '/organization/securedb', '/organization/interna-technologies', '/organization/oncopeptides', '/organization/online-prasad', '/organization/calltech-communications', '/organization/rentjiffy', '/organization/identimob-2', '/organization/cloudfx', '/organization/mk2media', '/organization/neimonggu-saifeiya-group', '/organization/supertruper', '/organization/huaat', '/organization/dynamics-expert', '/organization/transaction-data-systems', '/organization/clover-port-thin-brick', '/organization/ninu', '/organization/indianstage', '/organization/munich-composites', '/organization/tilth-beauty', '/organization/flow-traders', '/organization/webrazzi', '/organization/penneo', '/organization/innovum-technologies', '/organization/intelligroup', '/organization/elanic', '/organization/bravoavia', '/organization/brightinfo', '/organization/designer-material', '/organization/danny-group', '/organization/urban-traffic', '/organization/walden-behavioral-care', '/organization/i-systems', '/organization/motorexchange', '/organization/improve-digital', '/organization/fluoro2-therapeutics', '/organization/innovation-gardens-of-rockford', '/organization/real-world', '/organization/steelback-entertainment', '/organization/hamlethub-2', '/organization/grupo-xango', '/organization/mgmedia', '/organization/blueware', '/organization/halo-car-hire-insurance', '/organization/miwi-fi-net', '/organization/oasis-ventures-1', '/organization/bizak', '/organization/liquid-bronze', '/organization/paytradie', '/organization/automd', '/organization/product-ninja', '/organization/branchly', '/organization/marklines-co-ltd', '/organization/leboutique-com', '/organization/strong-m', '/organization/ditech-communications', '/organization/infrastructure-upgrade', '/organization/o-doughtys', '/organization/froodies-gmbh', '/organization/seaowl', '/organization/appsclub', '/organization/cookmood', '/organization/joiz', '/organization/ulule', '/organization/w-21', '/organization/rootdown', '/organization/ips-game-farmers', '/organization/fortemedia', '/organization/resysta', '/organization/mr-po-media', '/organization/bevy-is---the-smarter-job-network', '/organization/responsebase', '/organization/tv4-entertainment', '/organization/platinum-software-corporation', '/organization/fintura', '/organization/pointr', '/organization/blockai', '/organization/urbanpixel', '/organization/octopusapp', '/organization/horizon-3', '/organization/sensipass', '/organization/creative-bioinformatics-consultants-llc', '/organization/scarecrow-visual-effects', '/organization/enviable-abode', '/organization/aquablok', '/organization/ruci-cn', '/organization/jlc-veterinary-service', '/organization/router-solutions', '/organization/beactica-ab', '/organization/4energy', '/organization/jumpchat', '/organization/televero-health', '/organization/zi-uniform-supply', '/organization/beijing-oriental-prajna-technology-development', '/organization/ohio-airships-inc', '/organization/genius-blends', '/organization/nearnote', '/organization/ameritox', '/organization/il-bisonte', '/organization/constant-therapy', '/organization/comedy-com', '/organization/offbeat-guides', '/organization/mygreek', '/organization/principly', '/organization/expanite', '/organization/kite', '/organization/baccarat', '/organization/rebelle', '/organization/zeevee', '/organization/da-relm-collectibles', '/organization/seekmi', '/organization/electric-state-of-mind-entertainment', '/organization/sbs-resources', '/organization/route4me', '/organization/safetacmag', '/organization/socialquant', '/organization/burse-global-ventures', '/organization/cityin', '/organization/translational-education', '/organization/cryptocurrency-inc', '/organization/anomalous-networks', '/organization/rarebase', '/organization/extended-systems', '/organization/kaseya', '/organization/particle-2', '/organization/nozpad', '/organization/snip-ly', '/organization/lion-fortress-services', '/organization/smartdrive', '/organization/iotos-inc', '/organization/lesdo', '/organization/animoca', '/organization/babl-media', '/organization/blazable-studio', '/organization/notable-limited', '/organization/efueldepot', '/organization/xtrememortgageworx', '/organization/barn-willow', '/organization/uman', '/organization/milab', '/organization/socialbrowse', '/organization/chromance', '/organization/goowy', '/organization/r-d-altanova', '/organization/niupai', '/organization/globatrek', '/organization/emtele', '/organization/webtalk-2', '/organization/usbek-rica', '/organization/aispeech', '/organization/medcasco', '/organization/sinotech-group', '/organization/watchfit', '/organization/videojax', '/organization/dealtaker', '/organization/romeo-delivers', '/organization/ancanco', '/organization/livekick', '/organization/notehall', '/organization/lendpro', '/organization/snapscore', '/organization/encore-rehabilitation-services', '/organization/mass-ave-bike-and-brew', '/organization/nine-star', '/organization/wamtam', '/organization/pets-are-family-too', '/organization/health-information-associates', '/organization/cortina', '/organization/revealr-software-limited', '/organization/saborstudio', '/organization/solid-carbon-products', '/organization/nummularii', '/organization/parvata-foods', '/organization/emics-inc', '/organization/clover-game-studio', '/organization/li-creative-technologies', '/organization/leo-express-2', '/organization/recruitee-com', '/organization/criskco', '/organization/tailored-nation', '/organization/modus3d', '/organization/one-source-networks', '/organization/xierkang', '/organization/oikos-software-inc', '/organization/hibeam-internet-voice', '/organization/trusthcs', '/organization/lemonade-3', '/organization/gynzy-2', '/organization/terra-pave-international', '/organization/pasona-tquila', '/organization/xplicit-computing', '/organization/case-rover', '/organization/look-io', '/organization/metal-resources', '/organization/funcaptcha', '/organization/aurora-parts-accessories', '/organization/all-for-body', '/organization/cineflow', '/organization/circle-of-life-odor-resistant-bedding', '/organization/59saniye', '/organization/purple-squirrel-2', '/organization/in-the-chat', '/organization/outleads', '/organization/radius-location-technologies', '/organization/jumpq', '/organization/nomad-games', '/organization/cellum-group', '/organization/mdbriefcase', '/organization/digital-loyalty-system', '/organization/sjs-animation', '/organization/rockethome', '/organization/corank', '/organization/dfr-asia', '/organization/transitionworks', '/organization/value-investment-group', '/organization/sela2', '/organization/picplum', '/organization/eatlo', '/organization/revup-2', '/organization/towandas-book', '/organization/shoutomatic', '/organization/servicerelated', '/organization/itdatabase', '/organization/myqaa', '/organization/onefitstop', '/organization/tutoria-gmbh', '/organization/amlogic', '/organization/kintana', '/organization/iconic-data', '/organization/beautystat-com', '/organization/pinmypet', '/organization/48domain', '/organization/popchef', '/organization/pandol-associates-marketing', '/organization/regional-event-marketing-partnership', '/organization/sparva', '/organization/bluepay', '/organization/akaaki', '/organization/shenzhen-fortuna-technology-co-ltd', '/organization/mobotech', '/organization/skysheet', '/organization/blinkit', '/organization/bluehawk-energy', '/organization/somewhere', '/organization/witown', '/organization/ican-3', '/organization/tricore-solutions', '/organization/emo2', '/organization/solar-power-limited', '/organization/oktagon-games', '/organization/clarisay', '/organization/ecountrylifestyle', '/organization/teamdynamix', '/organization/dixie-elixirs', '/organization/butler-healthcare', '/organization/cke-restaurants', '/organization/gofundme', '/organization/the-finance-scholar', '/organization/adaptics', '/organization/cognisess', '/organization/hunner-retail-india-private-limited', '/organization/silent-eight-search', '/organization/rdvouz', '/organization/the-eastman-egg-company', '/organization/bablic', '/organization/lumicara', '/organization/amigos-y-amigos', '/organization/syngas-north-america', '/organization/arxxus', '/organization/preventice-solutions', '/organization/clicknation', '/organization/just-sold', '/organization/self-point-2', '/organization/gridbridge', '/organization/makerstv', '/organization/digital-music-universe', '/organization/own-free-website', '/organization/higher-one', '/organization/davgar-holdings-group', '/organization/the-tv-corporation', '/organization/multistat', '/organization/esearchvision', '/organization/go-net-systems', '/organization/konokopia', '/organization/hangzhou-chuangye-software', '/organization/pewter-games-studios', '/organization/dotdotdot-gmbh-2', '/organization/pictorama', '/organization/erenis', '/organization/wabona', '/organization/united-dental-care', '/organization/maxpsp-9069-3920-quebec-inc', '/organization/citrix-online', '/organization/jaanuu-by-dr-neela', '/organization/secured-universe-inc-', '/organization/iwi-llc', '/organization/eurocept', '/organization/kcf-technologies-inc', '/organization/perpetuuiti-technosoft-services', '/organization/soundbetter-llc', '/organization/mobideo-technologies-2', '/organization/suros-surgical-systems', '/organization/jag-ag', '/organization/acempire', '/organization/blinkbox', '/organization/modusp', '/organization/voyantic', '/organization/jolt-4', '/organization/elixserve', '/organization/needmedianow', '/organization/tbt-group', '/organization/klene-contractors', '/organization/rainbo-limited', '/organization/moonclerk', '/organization/webpgr', '/organization/health-and-wealth-property-mnagement', '/organization/tenloahora', '/organization/starshooter', '/organization/flip-flop-shops', '/organization/talksession', '/organization/touchten', '/organization/stima-systems', '/organization/trips-n-salsa', '/organization/urotec', '/organization/scrybe-2', '/organization/stubhub', '/organization/check-im-here', '/organization/momox', '/organization/point-3-basketball', '/organization/halo-pharmaceutical', '/organization/blowhorn', '/organization/abiogenix', '/organization/digisynd', '/organization/kwiclick', '/organization/legal-river', '/organization/dailygobble', '/organization/juupstore', '/organization/fish-city-grill', '/organization/exodus-communications', '/organization/wellthie', '/organization/hautseet', '/organization/enchanted-diamonds', '/organization/taylor-enterprises', '/organization/deutsche-startups', '/organization/anybots', '/organization/playertek-kodaplay-limited', '/organization/minerp', '/organization/bateshook', '/organization/sundried', '/organization/beacon-reader', '/organization/bill-s-transport', '/organization/fookyz', '/organization/telenima', '/organization/ijendu', '/organization/medialink-2', '/organization/englishleap-com', '/organization/fibrenetix', '/organization/glownet', '/organization/dancing-deer-baking-co', '/organization/one2many', '/organization/strata-health-solutions', '/organization/portadi', '/organization/riverhunter', '/organization/urban-matrix', '/organization/viewshare', '/organization/tako', '/organization/cloudcoreo', '/organization/signeon', '/organization/desktimeapp', '/organization/ouaille-tete-ouailles-d-m-small-engine', '/organization/rebounces', '/organization/kitani', '/organization/riogin', '/organization/vesta-guangzhou-catering-equipment-co-ltd', '/organization/surgeonkidz', '/organization/yaptap-inc', '/organization/a4vision', '/organization/linden-mobile', '/organization/dermagen', '/organization/ansible-scs', '/organization/digit-5', '/organization/royal-yatri-holidays', '/organization/dorn-technology-group', '/organization/odojo', '/organization/business-only-broadband', '/organization/peep', '/organization/surgiceye-gmbh', '/organization/buzzelement', '/organization/vpngeist', '/organization/obx-boatworks', '/organization/pump-aid', '/organization/jagex', '/organization/qualifacts-systems-inc', '/organization/healthyout', '/organization/fly-me-to-the-moon', '/organization/institchu', '/organization/ping-digital-network', '/organization/makr', '/organization/liberty-builders-of-texas', '/organization/beta-dash', '/organization/swift-endeavor', '/organization/protected-networks-com', '/organization/shanghai-celgen-biopharma-co-ltd', '/organization/ace-film-productions', '/organization/railcomm', '/organization/pittmoss', '/organization/giftxoxo', '/organization/hiver', '/organization/property-owl', '/organization/burlesquiceous', '/organization/i-tech-3', '/organization/floorball-gear', '/organization/the-alaska-club', '/organization/areshay', '/organization/excellence-engineering', '/organization/anakage', '/organization/navajo-systems', '/organization/kahnoodle', '/organization/ftopia', '/organization/workflowy', '/organization/the-label-corp', '/organization/juxinli', '/organization/castlerock-recruitment-group', '/organization/edupath', '/organization/interaction-labs', '/organization/crave-com', '/organization/pinnacle-holdings', '/organization/alphacityguides', '/organization/digital-link-corporation', '/organization/unnyhog', '/organization/maidgency', '/organization/linas-matkasse', '/organization/infernum-productions-ag', '/organization/ideasoft', '/organization/fast-orientation', '/organization/micreos', '/organization/groupswim', '/organization/american-ambulance-company', '/organization/edition-f', '/organization/insync-systems', '/organization/zaplooks', '/organization/orthogem', '/organization/astro-ape', '/organization/viedea', '/organization/integrated-systems-inc', '/organization/cardiostrong', '/organization/jack-s-family-restaurants', '/organization/global-charger', '/organization/syncui', '/organization/sensima-technology', '/organization/extremeguide', '/organization/hubbly-bubbly', '/organization/hotelwards', '/organization/debt-wealth-builders-company', '/organization/crowd-xchange-com', '/organization/avinity', '/organization/ameriprime', '/organization/workhorse-2', '/organization/circle-street', '/organization/flash-door', '/organization/threatgrid', '/organization/brickwork', '/organization/kickfurther', '/organization/aros-pharma', '/organization/the-redford-drafthouse-theater', '/organization/yinman', '/organization/certusnet', '/organization/tapsurge', '/organization/baarzo', '/organization/terran-orbital', '/organization/adaffix', '/organization/pigu-group', '/organization/hapila-gmbh', '/organization/st-boswells-biogas', '/organization/freeman-motorbikes', '/organization/walletkit', '/organization/kiras-kiss', '/organization/locafox', '/organization/polarr', '/organization/united-pharmacy-staffing', '/organization/brush-logger', '/organization/patterns', '/organization/ninchat', '/organization/stp-group', '/organization/edvisor-io', '/organization/cardiowise', '/organization/ahorro-libre', '/organization/fiix', '/organization/osage-liquor-wine-spirits', '/organization/hoardspot', '/organization/saiguo', '/organization/homecon', '/organization/vente-privee-com', '/organization/invysta-technology-group', '/organization/meteor-solutions', '/organization/groupoff', '/organization/videotelling', '/organization/subway', '/organization/swan-inc', '/organization/arriba-cooltech', '/organization/softec-internet', '/organization/easiaid', '/organization/pearfunds', '/organization/i-md', '/organization/contros-systems-solutions-gmbh', '/organization/plan-a-drink', '/organization/netease-com', '/organization/lowfoot', '/organization/global-talent-track', '/organization/tyber-medical', '/organization/einspect', '/organization/15fen', '/organization/travallia', '/organization/sfc-koenig', '/organization/ortopedio-pl', '/organization/avidbiologics', '/organization/trillium-finishing', '/organization/american-family-pharmacy', '/organization/brandboom', '/organization/gcpay-com', '/organization/fimbex', '/organization/sanitors', '/organization/mimi-hearing-technologies', '/organization/imotor-com', '/organization/neuronation', '/organization/fitzeal', '/organization/the-saints', '/organization/gsi-health', '/organization/new-forests-2', '/organization/savvy-services', '/organization/tlabs', '/organization/townscript', '/organization/exabyte-corporation', '/organization/paystobesocial-ltd', '/organization/the-bondfactor-company', '/organization/seafarer-adventurers', '/organization/anemoi-renovables', '/organization/smync', '/organization/playermate', '/organization/ininal', '/organization/qdiscovery', '/organization/measureful', '/organization/immure-records', '/organization/tagit-labs', '/organization/el-corral', '/organization/aimm-therapeutics', '/organization/kyto', '/organization/vce', '/organization/mubble-2', '/organization/rokoko', '/organization/bic-science-and-technology', '/organization/ti-bi-technology', '/organization/acre-2', '/organization/magic-bus-2', '/organization/alex-and-ani', '/organization/wioffer', '/organization/newgistics', '/organization/icanbuy', '/organization/smartypants', '/organization/crowdery', '/organization/ticcet', '/organization/trainfox', '/organization/garageskins', '/organization/deal-wheel-inc', '/organization/vidapak', '/organization/wundercar', '/organization/civis-analytics', '/organization/black-hammer-brewing', '/organization/beaver-liquors', '/organization/cardiovate', '/organization/branch8', '/organization/re-nuble', '/organization/carsing', '/organization/global-database', '/organization/allazo-health', '/organization/money-wizards', '/organization/mobiteris', '/organization/neonan', '/organization/safeguard-interactive', '/organization/xochitl-so-shee-gold-mines', '/organization/four33', '/organization/brandpotion', '/organization/lettuce-eat', '/organization/clairvolex', '/organization/zoodig', '/organization/solvedirect-service-management', '/organization/ijoule', '/organization/infoharmoni', '/organization/happiour', '/organization/seabright-insurance', '/organization/sporcum-com', '/organization/ncpc-enterprises-llc', '/organization/intapp', '/organization/s-t-a-u-d', '/organization/shipfusion', '/organization/viroclinics-biosciences', '/organization/sterlingbackcheck', '/organization/the-home-salon', '/organization/indee-2', '/organization/bcsphere', '/organization/the-true-equestrians', '/organization/mobile-commerce-2', '/organization/6scan', '/organization/dizko-samurai', '/organization/driver-hire', '/organization/zeolife', '/organization/gruppo-waste-italia', '/organization/organically-maid', '/organization/keeprecipes', '/organization/urban-dog-city-kitty', '/organization/posibl', '/organization/klash', '/organization/auto-secure-inc', '/organization/ceuticare', '/organization/happy-kidz', '/organization/wholeshare', '/organization/ozarks-extreme-outdoors', '/organization/glass', '/organization/zondle', '/organization/helpfulpeeps', '/organization/rooftop-down', '/organization/vizir', '/organization/apache-design-solutions', '/organization/best-teacher', '/organization/china-smart-hotels-management', '/organization/freedom-powersports', '/organization/zeewaves', '/organization/measurement-analytics', '/organization/novel-ingredient-services', '/organization/marketcast', '/organization/plobot', '/organization/pretty-litter', '/organization/medexpress-urgent-care', '/organization/rural-spark', '/organization/workamerica', '/organization/boedo', '/organization/agillic', '/organization/jastr', '/organization/tagora', '/organization/lanica', '/organization/6degrees', '/organization/smart-adserver', '/organization/xecced', '/organization/tripbod', '/organization/aurumplanet', '/organization/pixel-blimp', '/organization/kitana', '/organization/trade-capital-funding', '/organization/ethicalsuperstore-com', '/organization/pommtree', '/organization/play-for', '/organization/teacher-training-institute', '/organization/mushroom', '/organization/casmul', '/organization/patheer', '/organization/urbster', '/organization/bda', '/organization/apptank', '/organization/topfan', '/organization/yardsale', '/organization/umicit', '/organization/firstbrands', '/organization/vixlo', '/organization/room', '/organization/startlocal', '/organization/stylefruits', '/organization/maaxi', '/organization/ulochi-event-rentals', '/organization/enable-quality-health', '/organization/aliopartis', '/organization/bumpn-inc', '/organization/dream11', '/organization/whereoscope', '/organization/the-learning-annex', '/organization/medisse', '/organization/naf-naf-grill', '/organization/yesboss', '/organization/easel', '/organization/trepscore-inc', '/organization/hex-labs-inc', '/organization/aruna-biomedical', '/organization/durchblicker-at', '/organization/ineze', '/organization/jobslot', '/organization/cope-it', '/organization/the-loose-leaf-tea-company-and-crush-martini-bar', '/organization/amaxa-biosystems', '/organization/surefield', '/organization/visual-threat', '/organization/meshtrip-inc', '/organization/tees-co-id', '/organization/peekabu-studios', '/organization/centrix-2', '/organization/medistream', '/organization/healthkart', '/organization/clipcall', '/organization/huizuche-com-æ\\x83\\xa0ç§\\x9fè½¦', '/organization/xylem', '/organization/natural-option-usa', '/organization/hybrid-apparel', '/organization/sunlasses-com-ng', '/organization/ezysolare', '/organization/bunny-inc', '/organization/sociologie-wines', '/organization/krunch-guide', '/organization/viajo-com', '/organization/the-huffington-post-australia', '/organization/pronurse-homecare-infusion', '/organization/continuum-rehabilitation', '/organization/search-million-culture', '/organization/dynamaxx-mfg', '/organization/cosmic-cart', '/organization/do-it-in-person', '/organization/touristly', '/organization/seniorshelf-com', '/organization/fitz-lodge', '/organization/train-up-a-child-toys-llc', '/organization/qorus-software', '/organization/seawind-ocean-technology', '/organization/arisoko', '/organization/minervax', '/organization/greenleaf-book-group', '/organization/legendary-hatfield-and-mccoy-family-spirits-brand', '/organization/profit-software', '/organization/tab-4', '/organization/winecrasher-com', '/organization/shopparity', '/organization/trubates', '/organization/radius-diagnostics', '/organization/vicci-mobile-merch', '/organization/aito', '/organization/smartshare-systems', '/organization/chargespot-wireless-power', '/organization/heyythere', '/organization/neocrumb', '/organization/streamspot', '/organization/domedia', '/organization/bag-of-ice', '/organization/reliable-reef', '/organization/yikuaiqu', '/organization/knack-3', '/organization/bounce-mobile', '/organization/cydas', '/organization/corrmoran', '/organization/paybygroup', '/organization/leukocare', '/organization/fluency-2', '/organization/dynamic-wealth-solutions-llc', '/organization/alve-technology', '/organization/trendlr', '/organization/move-in-history', '/organization/universal-world-entertainment-llc', '/organization/autooffer', '/organization/inforama', '/organization/organic-merchants', '/organization/electric-mushroom-llc-2', '/organization/net-marketing-corporation', '/organization/gifter-2', '/organization/venuejam', '/organization/webtv', '/organization/bluemesh-inc-', '/organization/vana-workforce', '/organization/artency-com', '/organization/dragonrad', '/organization/ignyte-3', '/organization/infor', '/organization/film-maui-aqua-innovations-dba-soulstice-endeavors', '/organization/relevate', '/organization/independent-ip', '/organization/feedster', '/organization/yy-inc', '/organization/videon-central', '/organization/serwisprawa-pl', '/organization/mandoe-media', '/organization/bbready-com', '/organization/gaither-design', '/organization/tomoguides', '/organization/cloud-amenity-private-limited', '/organization/fine-pharm', '/organization/why-science', '/organization/skyformation', '/organization/miroi', '/organization/winz', '/organization/oradian', '/organization/tausendkind', '/organization/metrigo', '/organization/agricultural-holdings-international', '/organization/nodaysoff', '/organization/navtech', '/organization/ã\\x81eron', '/organization/pzoom', '/organization/the-earnest-research-company', '/organization/synapticon', '/organization/claremont-biosolutions', '/organization/axondx', '/organization/wisdomtree', '/organization/american-scrap-metal-recyclers-l-l-c', '/organization/fandom', '/organization/re-ready', '/organization/fosdev', '/organization/diamond-mind', '/organization/digna-biotech', '/organization/prospectnow', '/organization/zuoyebang', '/organization/athera-medical', '/organization/saily', '/organization/atlas-watersystems', '/organization/asia-media', '/organization/x-engineering-co-', '/organization/tciket-mavrix', '/organization/tv-interactive-systems', '/organization/medanext', '/organization/fineartmultiple', '/organization/survivors-end', '/organization/strat-io', '/organization/the-dating-ring', '/organization/the-colorado-notary-network', '/organization/appies', '/organization/coastal-compassion', '/organization/coquelux', '/organization/snapd-app', '/organization/kognitio', '/organization/lifestyle-air-llc', '/organization/bitsmith-games', '/organization/embarr-downs', '/organization/minefold', '/organization/placely', '/organization/orion-biopharmaceuticals', '/organization/ubercloud', '/organization/versly', '/organization/granted-access', '/organization/trailblaze-fitness-consulting', '/organization/verifacto-inc', '/organization/golark', '/organization/accusilicon', '/organization/linki', '/organization/cellmemore', '/organization/christy-sports', '/organization/nexavis', '/organization/simmr', '/organization/on-demand-microelectronics', '/organization/glowbiotics', '/organization/fdx-fluid-dynamix', '/organization/team-apart', '/organization/wemash', '/organization/personallifemedia', '/organization/stacklead', '/organization/taptrax', '/organization/fision', '/organization/digital-preservation-solutions', '/organization/911-pets', '/organization/alcohol-monitoring-systems', '/organization/immomatch', '/organization/get-gone-traveler', '/organization/rebelle-bridal', '/organization/green-clean', '/organization/johtela-company', '/organization/appmyday', '/organization/airdale-house-leeds', '/organization/buildup', '/organization/postly', '/organization/leadjini', '/organization/carbon', '/organization/pbj-concierge', '/organization/india-orders', '/organization/yonderbound', '/organization/document-depository-corporation', '/organization/citiustech', '/organization/hoopla-pl', '/organization/vetiary', '/organization/eagle-crest-energy', '/organization/pocket-tales', '/organization/tallenge', '/organization/drbridge', '/organization/fortegra-financial', '/organization/twitty-natural-products', '/organization/umthunzi', '/organization/hull', '/organization/enso-holding', '/organization/willet', '/organization/mysbx-2', '/organization/high-society-clothing-line', '/organization/knighthaven', '/organization/formabilio', '/organization/music-factory', '/organization/qualquant-signals', '/organization/clipper-windpower', '/organization/intelligence-architects', '/organization/deltax', '/organization/beyond-software-2', '/organization/acorn-systems', '/organization/b1bl3coin', '/organization/index-group', '/organization/taxworld', '/organization/robinson-entertainment-omnimedia-communications', '/organization/fanmiles', '/organization/kountermove', '/organization/northstar-anesthesia', '/organization/delicious', '/organization/orlumet-llc', '/organization/bay-environmental-technology', '/organization/family-help-wellness', '/organization/secure-mentem', '/organization/digsy', '/organization/smart-data-protection', '/organization/buyplaywin', '/organization/blippy-gifs', '/organization/mobilike', '/organization/emirates-biodiesel', '/organization/survela', '/organization/automatic-agency', '/organization/gopixel', '/organization/greenease-2', '/organization/medovent', '/organization/quicksilk', '/organization/hangzhou-fun-city', '/organization/vlinks-media', '/organization/pinchd', '/organization/osmosis', '/organization/simpleview', '/organization/ablecloud', '/organization/realtime-games', '/organization/webthriftstore', '/organization/mjh', '/organization/synerquia', '/organization/alikeaudience', '/organization/caesars-of-wichita', '/organization/popslate', '/organization/365-docobites', '/organization/pointworthy', '/organization/shelters4homeless', '/organization/rives-and-company', '/organization/pegasense', '/organization/parkzzz', '/organization/pulse-2', '/organization/proxibid', '/organization/moolahsense', '/organization/yatego', '/organization/correlor-tech', '/organization/ironpearl', '/organization/apimatic', '/organization/adan-inc', '/organization/propertybase', '/organization/chase-ya-dreamz----crazyy-frog-pvt-ltd', '/organization/freshkids', '/organization/black-rhino-group', '/organization/primaseller', '/organization/kuaizi-tech', '/organization/virtium', '/organization/citytherapy', '/organization/poseidon-financial', '/organization/microeduca', '/organization/ntensify', '/organization/couchfunk', '/organization/action-auto-sales', '/organization/huaneng-renewables-corporation-limited', '/organization/hoopos-com', '/organization/adq', '/organization/weetab', '/organization/cheggin', '/organization/neuro-hero', '/organization/local-reputation', '/organization/gopher-leads-inc', '/organization/iridigm-display-corporation', '/organization/matco-tools-franchise', '/organization/clinical-research-laboratories', '/organization/sph-plug---play', '/organization/sparkcloud', '/organization/brightside-software', '/organization/videonetics-technologies', '/organization/proxsys', '/organization/yupp-whatre-you-saying', '/organization/grupa-lew', '/organization/hi-art', '/organization/asian-food-channel', '/organization/astoria-road', '/organization/grata', '/organization/stream-alliance-international-holding', '/organization/cre-apps', '/organization/africasana', '/organization/acorio', '/organization/xytrans', '/organization/thomas-golf', '/organization/hawthorne-entertainment-enterprises', '/organization/growbuddy', '/organization/angelvest', '/organization/penta-press', '/organization/3sourcing', '/organization/solorein-technology', '/organization/answerly', '/organization/qnips-gmbh', '/organization/intralign', '/organization/cbl-systems', '/organization/cherry-works', '/organization/minderest', '/organization/provive', '/organization/zhilabs', '/organization/achievemint', '/organization/leanwagon', '/organization/tvn-2', '/organization/the-fool', '/organization/vusion', '/organization/vine', '/organization/yaoyao', '/organization/saguaro', '/organization/mobius-motors', '/organization/wizenworld', '/organization/hoolai', '/organization/nature-republic', '/organization/kdpof', '/organization/nptv', '/organization/allegro-development-corporation', '/organization/industry-weapon', '/organization/cirtemo', '/organization/fayettechill-clothing-company', '/organization/the-vendare-group', '/organization/josephican-llc', '/organization/veggie-go-s', '/organization/jiongji-application', '/organization/tiger-logistics', '/organization/samba-energy', '/organization/equipboard', '/organization/nehp', '/organization/brainquake', '/organization/mycity4kids', '/organization/skystem', '/organization/friend-traveler', '/organization/metaset', '/organization/cashtag', '/organization/back-at-you', '/organization/wikasa', '/organization/endocrine-technology', '/organization/spincast-tv', '/organization/trusting-social-co-', '/organization/freshtoweb', '/organization/social-media-information', '/organization/jarkas-lab-limited', '/organization/pax-pure', '/organization/novihum-technologies', '/organization/speakermix', '/organization/eve-snow', '/organization/cube-music', '/organization/vivo-healthcare', '/organization/splitcast-technology', '/organization/altruista-health', '/organization/thrinacia', '/organization/holiday-propane', '/organization/pip-pet-recognition', '/organization/fluxdrive', '/organization/deskarma', '/organization/jetabroad', '/organization/waste-2-fuels', '/organization/gruppo-mutuionline', '/organization/sparkroad', '/organization/kuliza', '/organization/mech-mocha-game-studios', '/organization/italia-pellets', '/organization/hello-giggles', '/organization/abios-gaming', '/organization/motionelements', '/organization/megapolygon-corporation', '/organization/thumbkandi', '/organization/bionic-robotics-gmbh', '/organization/cybervision-text', '/organization/skoolbo', '/organization/eymins-accounts', '/organization/speechminers', '/organization/nubian-kinks-natural-haircare', '/organization/robot-entertainment', '/organization/managercomplete', '/organization/chattermill', '/organization/dropost-it', '/organization/feedpack', '/organization/winnin', '/organization/eyes4lives-inc-2', '/organization/doctree', '/organization/inflection-energy', '/organization/vaultize', '/organization/stealth10', '/organization/iactionable', '/organization/oneteamvisi', '/organization/shobutt-babies', '/organization/betterific', '/organization/sunbay', '/organization/clothes-horse', '/organization/clickberry', '/organization/motley-travels-and-logistics', '/organization/extinction-pharmaceuticals', '/organization/intelligent-implant-systems', '/organization/merge-rs-ag', '/organization/powermat', '/organization/forseva', '/organization/whiteout-networks', '/organization/manta-instruments', '/organization/reach150', '/organization/8digits', '/organization/mightyquiz', '/organization/small-act', '/organization/beaming', '/organization/tapviva', '/organization/reaqua-systems', '/organization/solution-dynamics-group', '/organization/invenox', '/organization/vimessa', '/organization/esperas-pharma', '/organization/terraperks', '/organization/shopperations-research---technology', '/organization/card-scanning-solutions', '/organization/cipherhealth', '/organization/mdsmartsearch-com', '/organization/moki-tv', '/organization/bioarray', '/organization/tc-website-promotions-2', '/organization/mustache-pl', '/organization/fodjan-gmbh', '/organization/acadient', '/organization/genero', '/organization/hotel-tablet-themes', '/organization/pvp-live', '/organization/progression-labs', '/organization/borderx-lab', '/organization/alignment-acquisitions', '/organization/docmein', '/organization/weblance', '/organization/vibrant-living-senior-day-care-center', '/organization/redealize', '/organization/reddot-solutions', '/organization/virtual-logic-systems', '/organization/the-movie-studio', '/organization/pyke', '/organization/flamestower', '/organization/united-capital-2', '/organization/phrazit', '/organization/betterit-communications', '/organization/peixe-urbano', '/organization/lectrio', '/organization/texan-hosting', '/organization/vapor-io', '/organization/aarki', '/organization/crypto-next-plc', '/organization/reh', '/organization/ingamenow', '/organization/euclid-media', '/organization/anesthetix-holdings', '/organization/nogacom', '/organization/potential', '/organization/finlocker', '/organization/engie', '/organization/overblog', '/organization/octonotco', '/organization/minuteman-global', '/organization/9cookies', '/organization/datezr', '/organization/make-works', '/organization/kimono', '/organization/toyro-inc-', '/organization/allpeers', '/organization/vaughn-burton', '/organization/rooks-fashions-and-accessories', '/organization/bristlecone-holdings', '/organization/vidcruiter', '/organization/gogroceries-business-plan', '/organization/tricentis', '/organization/softwriters-holdings', '/organization/vocel', '/organization/intech-aerospace', '/organization/xyologic', '/organization/fl-print', '/organization/merrymarry', '/organization/kaaryah-lifestyle-solutions', '/organization/regenobody-holdings-inc', '/organization/idenive', '/organization/itegria', '/organization/mdoc', '/organization/championvillage', '/organization/sas-sistema-de-ensino', '/organization/sheer-drive', '/organization/kalion', '/organization/starbucks', '/organization/moneytis', '/organization/homers-in', '/organization/biocellection', '/organization/pf-changs', '/organization/chatads', '/organization/polygen-pharmaceuticals', '/organization/ojooido-academics-com', '/organization/gradestack', '/organization/flx', '/organization/meebler', '/organization/livegenic', '/organization/samedayprinting-com', '/organization/poolcubes', '/organization/a4-data', '/organization/sopatec', '/organization/kibin', '/organization/surkus', '/organization/creditcall', '/organization/onecloud-labs', '/organization/gamegenetics', '/organization/clinical-research-services-turku', '/organization/bostan-research-inc', '/organization/samba-ventures', '/organization/stonecastle-partners', '/organization/comps-com', '/organization/revyrie', '/organization/simulation-sciences', '/organization/prover-technology', '/organization/epar', '/organization/glassjar', '/organization/webmedx', '/organization/cannykart', '/organization/mobile-factory', '/organization/veicoli', '/organization/aston-eyetech-ltd', '/organization/scm-world', '/organization/for-md', '/organization/shenzhen-justtide-technology-co-ltd', '/organization/enterprise-productivity-software-eps-corp-', '/organization/imonomi', '/organization/tidy-2', '/organization/ncarbon', '/organization/cortex-intelligence', '/organization/clicksign', '/organization/bobobobo', '/organization/routofy', '/organization/planet-organic', '/organization/angel-group-holding-company', '/organization/gociety', '/organization/statustoday', '/organization/dragon-security-services', '/organization/miipharos', '/organization/showtime-fitness', '/organization/audibell-designs', '/organization/lion-lion-indonesia', '/organization/ageto-service', '/organization/ebotic', '/organization/camp-bil-o-wood-ltd', '/organization/actioniq', '/organization/shoptagr', '/organization/zero-gravity', '/organization/singlefeed', '/organization/pairfab', '/organization/algama', '/organization/excentive-international', '/organization/rewardr', '/organization/abtran', '/organization/bark-co', '/organization/epistema', '/organization/storyvine', '/organization/carecentrix', '/organization/radius', '/organization/eurobistros', '/organization/ibragu', '/organization/gpio', '/organization/elastic-io', '/organization/blue-mount-technologies', '/organization/stars-express', '/organization/mingbo', '/organization/pinio', '/organization/vets-usa', '/organization/impressto', '/organization/rxspeed', '/organization/carolina-mountain-harvest', '/organization/touch-of-life-technologies', '/organization/green-planet-architects', '/organization/qomuty', '/organization/ruifu-biological-medicine-science-and-technology-shanghai-co-ltd', '/organization/phosimmune', '/organization/oligo', '/organization/antarex-group', '/organization/tarantula-labs', '/organization/tc-ice-cream', '/organization/omnisio', '/organization/redstone-logistics', '/organization/tie-society', '/organization/garage-guys', '/organization/valocor-therapeutics', '/organization/sonalight', '/organization/attassa', '/organization/chrends', '/organization/genei-systems-inc', '/organization/firstbird', '/organization/xingtone', '/organization/card-biz', '/organization/scripsense', '/organization/waveguide', '/organization/dalloulnw', '/organization/generaytor', '/organization/facial-network', '/organization/american-cannabis-company', '/organization/sophie-juliet', '/organization/per-vices', '/organization/just-soles', '/organization/revenuemax', '/organization/wifuntv-ltd', '/organization/16lab-inc-', '/organization/hmt-technology', '/organization/zygo', '/organization/antutu', '/organization/monis', '/organization/sensorflare-pc', '/organization/ubertweek', '/organization/pop-ups', '/organization/ice-gateway-gmbh', '/organization/tiny-prints', '/organization/digital-counterpart', '/organization/bioscience', '/organization/mck-communications', '/organization/butterflyapp', '/organization/student-retention-solutions', '/organization/us-shuttle-of-boston', '/organization/travelbuddy', '/organization/5nine-software', '/organization/panatlanta-llc', '/organization/halo-computing', '/organization/the-combine', '/organization/mountain-view-locksmith', '/organization/openzine', '/organization/tia-technology-as', '/organization/haven-behavioral', '/organization/progeniq', '/organization/globecomm-systems', '/organization/ayi-laile', '/organization/payperks', '/organization/teesuvac', '/organization/executive-channel', '/organization/ex24-corp', '/organization/sh-coatings', '/organization/allseated', '/organization/zipalong-com', '/organization/deliverycheetah', '/organization/antispameurope', '/organization/mobile-theory', '/organization/just', '/organization/eidosearch', '/organization/tagillion', '/organization/quantum-health', '/organization/hoodi', '/organization/alike-2', '/organization/dee-piping-systems', '/organization/poster-pos', '/organization/windowswear', '/organization/halfpops', '/organization/forefront-product-design', '/organization/quizlyse', '/organization/fototwics', '/organization/mfm-master-financial-management', '/organization/strike-brewing-co-', '/organization/carnad', '/organization/webadvertising-ca', '/organization/fieldez', '/organization/rim-healthcare-strategies', '/organization/the-pie-piper', '/organization/fastconnect', '/organization/newslabs', '/organization/edianbao', '/organization/vastech', '/organization/trepic-inc', '/organization/wowza-media', '/organization/ringu', '/organization/gemphones', '/organization/medicine-in-practice', '/organization/laser-tissue-welding', '/organization/right-price', '/organization/bodyguardz', '/organization/the-crowd', '/organization/addocted-nv', '/organization/champion-windows', '/organization/digital-currency-group', '/organization/en-noir', '/organization/view2gether', '/organization/finanzcheck', '/organization/pi-cardia', '/organization/dark-oasis-studios', '/organization/first-impression', '/organization/transparent-it-solutions', '/organization/virtual-psychology-systems', '/organization/mynewmd', '/organization/dynamic-biosensors-gmbh', '/organization/vip-parking-llc', '/organization/dr-z', '/organization/daydaycook', '/organization/joberator', '/organization/queueco-limited', '/organization/trg-companies', '/organization/global-sugar-art', '/organization/twentypine', '/organization/tigertrade', '/organization/vested-health', '/organization/agility-recovery', '/organization/grit-media', '/organization/avandeo', '/organization/invensor', '/organization/efty', '/organization/massively-fun', '/organization/sferra', '/organization/direct-rm', '/organization/wiotti-llc', '/organization/allyve', '/organization/edtwist', '/organization/gluu-io', '/organization/fatsoma', '/organization/pinpointe', '/organization/incredible-labs', '/organization/microedge', '/organization/applied-cell-technology', '/organization/mappn', '/organization/keoghs', '/organization/sumoware', '/organization/shanghai-xikui-electronic-technology', '/organization/sky-medical-technology', '/organization/loop-survey', '/organization/ninite', '/organization/sociagram-com', '/organization/ides-technologies', '/organization/grubster', '/organization/sekal-as', '/organization/health-plotter', '/organization/spreadsave', '/organization/doyoubuzz', '/organization/rxdata', '/organization/lunar-way', '/organization/oncimmune', '/organization/wegreek', '/organization/nembol', '/organization/mayrok-media', '/organization/netmovies', '/organization/vortal', '/organization/mrxonline', '/organization/movoxx', '/organization/3225-films', '/organization/hitmeister', '/organization/tela-solutions', '/organization/entegreat', '/organization/harper-love-adhesive', '/organization/mooi', '/organization/wishbird-experiences', '/organization/mir-tesen', '/organization/wayout-entertainment', '/organization/droidunit-net', '/organization/widdle', '/organization/quantaad', '/organization/socialcam', '/organization/finalsite', '/organization/creative-byline', '/organization/shoot-extreme', '/organization/cortus-sa', '/organization/foi-corporation', '/organization/gyan-lab', '/organization/nimbooks', '/organization/native-4', '/organization/instilling-values', '/organization/lipocalyx', '/organization/twitmusic', '/organization/float-milwaukee', '/organization/precognate', '/organization/wiretough-cylinders', '/organization/concrete-sensors', '/organization/acclaim-games', '/organization/seloger-com', '/organization/timetric', '/organization/segmanta', '/organization/brightplanet', '/organization/shoprocket', '/organization/just-gotta-make-it-advertising', '/organization/itouzi-com', '/organization/iqapla-2', '/organization/jfs-washfold-biogas', '/organization/astrostar', '/organization/cortechs-labs', '/organization/eclinics-in', '/organization/the-highway-girl', '/organization/micro-benefits', '/organization/i-nalysis', '/organization/the-invisible-armor-inc', '/organization/netread', '/organization/tripscan', '/organization/tcho', '/organization/skydesks', '/organization/mlog', '/organization/carson-air', '/organization/billdesk', '/organization/f4f-pr', '/organization/the-roberts-group', '/organization/digital-vision-systems-2', '/organization/entrepreneurship-center-incubator', '/organization/hackpad', '/organization/memphis-street-newspaper-organization', '/organization/i-tech-2', '/organization/statwing', '/organization/digital-vision-multimedia-group', '/organization/radiusiq-inc', '/organization/smit-ovens', '/organization/inviita', '/organization/kytera', '/organization/taaz', '/organization/wazzle-entertainment', '/organization/invitedev', '/organization/pet-chance-television', '/organization/mailwriter', '/organization/zeal-learning', '/organization/hooplo-media', '/organization/mom-made-foods', '/organization/wityu-fm', '/organization/veysoft', '/organization/fundaci-n-bases', '/organization/sight-sense', '/organization/encore-rehabilitation', '/organization/geniusco-op-national-housing-cooperative', '/organization/stocklayouts', '/organization/mastiline', '/organization/eyevensys', '/organization/crowd-sourced-story', '/organization/cramer-systems', '/organization/cameo', '/organization/c2c-rei-software', '/organization/showme-tv', '/organization/ulyngo', '/organization/savor', '/organization/social-game-universe', '/organization/i3-membrane', '/organization/media-battles', '/organization/oval-fire-products', '/organization/bio', '/organization/gte-mangement-corp', '/organization/foodeato', '/organization/sitejabber', '/organization/bioregenerative-sciences', '/organization/urlist', '/organization/bagsup', '/organization/reklalama', '/organization/wifast', '/organization/oliver-brothers-lumber-company', '/organization/digital-fortress', '/organization/aura-xm', '/organization/trustribe', '/organization/linc-global', '/organization/rubysophic', '/organization/tradingscreen', '/organization/cardkill', '/organization/oz-content', '/organization/hansen-and-son-llc', '/organization/66-com', '/organization/fashion-genome-project', '/organization/maui-fun-company', '/organization/aroogas-grill-house-sports-bar', '/organization/upmanns', '/organization/riidr', '/organization/bci-burke-company', '/organization/stepping-stones-home-care', '/organization/mycuteoffice', '/organization/nearpod', '/organization/the-cambridge-center-for-medical-veterinary-sciences', '/organization/intri-plex-technologies', '/organization/divimove', '/organization/microlight-sensors', '/organization/extenda-dent', '/organization/publons', '/organization/diartis-pharmaceuticals', '/organization/acesion-pharma', '/organization/keg-logistics', '/organization/aggios', '/organization/3dshook-2', '/organization/skinphototextmatch-com', '/organization/sesh-3', '/organization/conatix', '/organization/refurrl', '/organization/brandtale', '/organization/og-vegas', '/organization/geneformics-data-systems-ltd', '/organization/brightkit', '/organization/deskconnect', '/organization/nativeenergy', '/organization/sofar-sounds', '/organization/pound-rockout-workout', '/organization/energy-informatics', '/organization/edisun', '/organization/invest-in-us-today', '/organization/spotfodo', '/organization/audiarchy', '/organization/green-plug', '/organization/llustre', '/organization/xcel-healthcare-inc', '/organization/qingguo-2', '/organization/careledger', '/organization/zyfin', '/organization/curofy', '/organization/relisen', '/organization/garbs', '/organization/anna-rita-sloss-enterprises', '/organization/indoorgo-navigation-systems-ltd', '/organization/mr-barkley-ug-vertragslotse', '/organization/4-cast-broadcasting-corporation', '/organization/getmerated', '/organization/lanier-parking-solutions', '/organization/bbb-3', '/organization/kharabeesh', '/organization/tapzilla', '/organization/pencil-you-in', '/organization/imubit', '/organization/skimo-tv', '/organization/datamentors', '/organization/photos-to-photos', '/organization/yana-2', '/organization/glwl-research', '/organization/wholesome-pets', '/organization/sentex', '/organization/ticket-cake', '/organization/fashionfreax-gmbh', '/organization/hellocafe', '/organization/southern-gardens-apts', '/organization/silexica', '/organization/dreamforge', '/organization/nodila', '/organization/relocality', '/organization/banister-works', '/organization/collaborate-cloud', '/organization/jobbr', '/organization/crate-canada', '/organization/discourse', '/organization/observe-medical', '/organization/ox-factory', '/organization/richmedia', '/organization/prima-it', '/organization/antfarm', '/organization/pmdsoft', '/organization/motion-recruitment-partners', '/organization/osisis-global-search', '/organization/digipix', '/organization/localyoo-com', '/organization/marbles-the-brain-store', '/organization/upr-online', '/organization/codetrails-gmbh', '/organization/ucweb', '/organization/kitsplit', '/organization/famplus', '/organization/hearts-for-art', '/organization/vocalizr', '/organization/civilware-service-corporation', '/organization/bedrock-analytics', '/organization/aurora-brands', '/organization/cornerstone-properties', '/organization/hypernumbers', '/organization/manipal-acunova', '/organization/rap-index', '/organization/rent-like-a-champion', '/organization/upsnap', '/organization/bubblenoise', '/organization/campfire', '/organization/duplays', '/organization/amrest-2', '/organization/reebee', '/organization/death-by-party', '/organization/shopdeca', '/organization/wenwo', '/organization/grupo-terratest', '/organization/beijing-zhongka-century-animation-culture-media', '/organization/mommycoach', '/organization/e-torial', '/organization/talespring', '/organization/theme-travel-news-ttn', '/organization/intelligent-group', '/organization/finco', '/organization/cashwave', '/organization/pollground', '/organization/mijn-autocoach', '/organization/clout', '/organization/nu-revolution-entertainment', '/organization/yazino', '/organization/ini3-digital', '/organization/choice-sports-training', '/organization/tapfwd', '/organization/trialcard-2', '/organization/hedgeye-risk-management', '/organization/h-o-services-2', '/organization/auctionpoint', '/organization/sky-bison-ranch---resort', '/organization/prosent-mobile-vizl', '/organization/third-channel', '/organization/caspian-robotics', '/organization/meebee', '/organization/merchlar', '/organization/tonawanda-self-storage', '/organization/oxus-america', '/organization/lead411', '/organization/al-nabil-food-industries', '/organization/keystone-kitchens', '/organization/bvg-india', '/organization/accupal', '/organization/geto2', '/organization/eprof-education-inc', '/organization/rldw-llc-dba-rodneys-soul-grill-express', '/organization/compendia-bioscience', '/organization/esp-technologies', '/organization/smedio', '/organization/exist-global', '/organization/navstik-autonomous-systems', '/organization/fur-and-mask', '/organization/leap-in-entertainment', '/organization/connectfree', '/organization/akhtaboot', '/organization/toucanbox', '/organization/kite-ping', '/organization/china-f-b', '/organization/alkalon', '/organization/tecmed', '/organization/geeksphone', '/organization/shanghai-nouriz-dairy', '/organization/zendeals', '/organization/swagapalooza', '/organization/college-brewer', '/organization/deal-acceleration', '/organization/flixchip', '/organization/seak-energetics', '/organization/the-smart-peace-prize', '/organization/veteran-live-work-lofts', '/organization/perkle', '/organization/blue-saint', '/organization/g-i-java', '/organization/vend-a-bar', '/organization/nclc', '/organization/zlote-mysli', '/organization/expocentric', '/organization/first-rate-medical-transportation', '/organization/affinitas', '/organization/crowdsync', '/organization/tripadvisor', '/organization/a2t2', '/organization/fnz', '/organization/texthub', '/organization/forks', '/organization/zalp', '/organization/canna-group-inc', '/organization/woopra', '/organization/innovative-student-loan-solutions', '/organization/feastie', '/organization/access-bill-pay-services', '/organization/kompan-pl', '/organization/sha-sha', '/organization/madeup', '/organization/mice-industries-inc-', '/organization/exg', '/organization/kandy-pens', '/organization/vaasaball-lng', '/organization/pixeltalents', '/organization/chilicon-power', '/organization/one-parts-bill', '/organization/concealfab-corporation', '/organization/vital-juice', '/organization/topokine-therapeutics', '/organization/sampalrx', '/organization/the-vet-2', '/organization/am-analytics', '/organization/woop-wear-llc', '/organization/fedcyber', '/organization/bj100-com', '/organization/lucidity-memberrx', '/organization/statim-health', '/organization/saber-software-corporation', '/organization/mersimo', '/organization/versed', '/organization/reach-clothing', '/organization/design-talent', '/organization/lucky-monkey', '/organization/pagobox', '/organization/saehwa-international-machinery', '/organization/vcopious-software', '/organization/ox', '/organization/meglomaniac-communications', '/organization/aimbrain', '/organization/guangdong-delian-group', '/organization/company-data-trees', '/organization/greensight-agronomics', '/organization/inmobiliarie', '/organization/o2bra', '/organization/songlily', '/organization/maboo', '/organization/beiang-technology', '/organization/macromill', '/organization/suncat', '/organization/true-blue-fluid-systems', '/organization/storie', '/organization/lynx-laboratories', '/organization/performance-werks-racing', '/organization/nomad-financial', '/organization/cube-cleantech', '/organization/search-and-share', '/organization/urban-sync', '/organization/tuscany-gardens', '/organization/iobridge', '/organization/vivid-games', '/organization/carraig', '/organization/studio-bloomed', '/organization/vital-metrix', '/organization/beni', '/organization/fathomdb', '/organization/spinomenal', '/organization/philly-runway-thief', '/organization/language123', '/organization/oricula-therapeutics', '/organization/flixbus', '/organization/gadgetwood', '/organization/packetzoom', '/organization/nature-s-variety', '/organization/nga-net', '/organization/vintu', '/organization/sitestar', '/organization/pileus-software-llc', '/organization/xlabs', '/organization/zengame-ç¦\\x85æ¸¸ç§\\x91æ\\x9a\\x80', '/organization/inala-technologies', '/organization/ffg-design', '/organization/kii', '/organization/clickdaily', '/organization/longtail-ux-pty-ltd', '/organization/doubleplay-entertainment', '/organization/popps-apps', '/organization/franchisee-gladiator', '/organization/opeepl', '/organization/newquest-health-solutions', '/organization/kark-mobile-education', '/organization/wallapop', '/organization/canop', '/organization/cloudwalk', '/organization/ldn-tv', '/organization/magnet-tech-ç£\\x81çÿ³ç§\\x91æ\\x9a\\x80', '/organization/innovation-spirits', '/organization/inland-pipe-rehabilitation', '/organization/contaazul', '/organization/gointegro', '/organization/bairo-corporation', '/organization/y5zone', '/organization/teevox', '/organization/blend-labs', '/organization/collaaj', '/organization/cambio-healthcare-systems', '/organization/bistip', '/organization/gopago', '/organization/draftmix', '/organization/funji', '/organization/pmedianetwork', '/organization/tiko', '/organization/eachnet', '/organization/smart-ecosystems', '/organization/3-minute', '/organization/contestmachine', '/organization/santeen-products-llc', '/organization/miserware', '/organization/garbage-guru', '/organization/folio-holdings', '/organization/n4g-com', '/organization/visure', '/organization/sequel-industrial-products', '/organization/clerky', '/organization/savtira-corporation', '/organization/startpack', '/organization/nubefy', '/organization/closeup-fm', '/organization/a-v-e-t-s-c-a-r-e', '/organization/the-ahtlete-s-business-network', '/organization/qoniac', '/organization/cibecs', '/organization/academic-earth', '/organization/recovery-ranch', '/organization/bratpackstyle-llc', '/organization/hopsfromvirginia-com', '/organization/pronoise', '/organization/thinkspeed', '/organization/drive-assist', '/organization/bay-area-transportation', '/organization/fintech-asia', '/organization/jordan-training-technology-group', '/organization/agronext', '/organization/nhc-beauty-enterprises', '/organization/lumimous-banking', '/organization/lawnmower', '/organization/parkflyrent', '/organization/jigsee', '/organization/bridges-ventures-2', '/organization/data-dimensions', '/organization/falcor-equine-enterprises-llc', '/organization/shanghai-sfs-digital-media', '/organization/lehr', '/organization/norm', '/organization/motortourer-com', '/organization/power-supply', '/organization/the-learning-lab-2', '/organization/popbox', '/organization/drupe', '/organization/fastcall411', '/organization/futurenet-group', '/organization/the-carrot-company', '/organization/fittrack', '/organization/naphcare', '/organization/plan-b-acqusitions', '/organization/y-clients', '/organization/mascus', '/organization/talking-bookz', '/organization/curex-co', '/organization/medicine-on-time', '/organization/wavemetrix', '/organization/allen-tours-inc', '/organization/the-empty-joint', '/organization/fileboard', '/organization/telefun', '/organization/zenradius', '/organization/pharmedio-inc', '/organization/tonymoly', '/organization/whatwelike', '/organization/tous', '/organization/cede-group', '/organization/zumodrive', '/organization/cookbiz-co-ltd', '/organization/peela', '/organization/showcase-gig', '/organization/blue-horizon-organic-seafood', '/organization/stringbike', '/organization/shopeando', '/organization/ubi-video', '/organization/libra-entertainment', '/organization/intercontinentalexchange', '/organization/kinetic-diagnostics-inc-', '/organization/datalot-inc', '/organization/enymotion', '/organization/l-international', '/organization/prospectwise', '/organization/leah-software-2', '/organization/monavie-2', '/organization/tapmetrics', '/organization/celulares-com', '/organization/malibuiq', '/organization/ecnlive', '/organization/mitoo', '/organization/meritshare', '/organization/digital-river', '/organization/teliportme', '/organization/bath-planet-of-rockford', '/organization/kalangala-leisure-and-hospitality-project', '/organization/hackerhires', '/organization/gix', '/organization/lmi-vet', '/organization/invenzone', '/organization/usersnap', '/organization/bigthink', '/organization/healthsouk', '/organization/iconery-com', '/organization/qerja', '/organization/geologic', '/organization/mercantec', '/organization/getexperts', '/organization/com4loves', '/organization/mytrade', '/organization/fltcommunications-ab', '/organization/high-basin-imaging', '/organization/snapasong', '/organization/davinci-home-health-services', '/organization/afc-holdings', '/organization/amteck', '/organization/purely-fashion', '/organization/beijing-yiyang-huizhi-technology', '/organization/groupiter', '/organization/ilias-medical-gmbh', '/organization/go-solar-plus', '/organization/future-fleet', '/organization/second-chance-staffing-llc', '/organization/abc-data', '/organization/bird-control-group', '/organization/arta-bioscience', '/organization/gudeng-precision', '/organization/market-data-insights', '/organization/somero-enterprises', '/organization/daric', '/organization/investormill', '/organization/super-dea', '/organization/woodenshark-llc', '/organization/xenios-ag', '/organization/pharaohs-his-place', '/organization/angani-limited', '/organization/domatica-global-solutions', '/organization/sweaty-betty', '/organization/2code-online', '/organization/trending-taste', '/organization/rentmatch', '/organization/deltamethod', '/organization/excalibur-real-estate-solutions', '/organization/michael-b-white-enterprises-llc', '/organization/entropic', '/organization/toobla', '/organization/sierra-corporation', '/organization/afid-therapeutics', '/organization/opticlose', '/organization/vihub', '/organization/thyme', '/organization/emoneypool', '/organization/circle-tech-usa', '/organization/owlstone-nanotech', '/organization/tula-technology', '/organization/startupbootcamp', '/organization/imvision-software-technologies', '/organization/brodlist', '/organization/terrasky', '/organization/mediasite', '/organization/uipath', '/organization/zinghr', '/organization/topanga-technologies', '/organization/agorana-media-corporation', '/organization/instavest-2', '/organization/truman-james', '/organization/viajamex', '/organization/flyreadyjet', '/organization/mercury-payment-systems', '/organization/ttd-communications', '/organization/china-data-group-cdg-', '/organization/cold-futures', '/organization/kelsen', '/organization/packetpointe-communications', '/organization/sonora-leather-llc', '/organization/santech', '/organization/deviceauthority', '/organization/gds-gentlemen-destine-2-succeed-gl-2ours', '/organization/shiftforward', '/organization/dexter-chaney', '/organization/the-flipping-pros', '/organization/the-new-music-movement', '/organization/vinculum-solutions', '/organization/mgaadi', '/organization/iri', '/organization/lendfriend', '/organization/metricshub', '/organization/xoompark', '/organization/office-depot', '/organization/davia', '/organization/forums', '/organization/flair-3', '/organization/get-bizzy', '/organization/wanshen', '/organization/casamatic', '/organization/thing5', '/organization/umoli', '/organization/portapure', '/organization/fashion-me', '/organization/property-place', '/organization/storyful', '/organization/trdata', '/organization/bid4health', '/organization/digital-karma', '/organization/rio-brands', '/organization/weatherzone', '/organization/firelayers', '/organization/revel-body', '/organization/barn2door--inc-', '/organization/internet-marketing-inc', '/organization/microjob', '/organization/freever', '/organization/accesspay', '/organization/loopcam', '/organization/neredekal-com', '/organization/ryb', '/organization/42matters-ag', '/organization/hasgeek', '/organization/villfarm', '/organization/rv-wheelator', '/organization/global-employment-solutions', '/organization/webstep', '/organization/vip-piano-club', '/organization/connexions', '/organization/vetcompare', '/organization/black-diamond-productions', '/organization/opus-agency', '/organization/recyclingbin-com', '/organization/freshtemp', '/organization/gempundit', '/organization/widapeople', '/organization/q-me', '/organization/texterity', '/organization/galileo-inc-', '/organization/angella-joy-inc-dba-life-treasury', '/organization/creative-artists-agency', '/organization/foodqueue', '/organization/stagespace-ag', '/organization/resonergy', '/organization/pins', '/organization/bead-button', '/organization/bookpad-tech', '/organization/exacly-me', '/organization/digital-specialty-chemicals', '/organization/adyuka-2', '/organization/statusly', '/organization/gregory-environmental', '/organization/north-alabama-robotic-systems', '/organization/simple', '/organization/no-boundaries-brewing-empire', '/organization/hello-products', '/organization/freshmilk-nettv', '/organization/unified-logistics', '/organization/wanty', '/organization/omnitrail-technologies', '/organization/smile-design-dentistry', '/organization/dovideq-medical', '/organization/consistel', '/organization/siliconbiology', '/organization/orange-leap', '/organization/flanagan-freight-transport', '/organization/hey-bread', '/organization/function-space', '/organization/dogltd', '/organization/dimers-lab', '/organization/wholebake', '/organization/uiblueprint', '/organization/trustplus', '/organization/theme-dragon', '/organization/myows', '/organization/employee-benefit-plans', '/organization/angel-capital-entrepreneurial-fund', '/organization/fbc-device', '/organization/twych-innovation', '/organization/ip-unity', '/organization/balloon-2', '/organization/commerce-decisions', '/organization/thumbzz', '/organization/wugly', '/organization/humn-pharmaceuticals', '/organization/genetic-anomalies', '/organization/ch4e', '/organization/medtest-dx', '/organization/synergy-marketing', '/organization/refract', '/organization/jonsson-s-wood', '/organization/wonder-2', '/organization/publimind', '/organization/techemy-ltd', '/organization/alternative-outfitters', '/organization/pinevent', '/organization/hellocare', '/organization/medical-scribe-systems', '/organization/the-hudson-consulting-group-inc', '/organization/agent-partner', '/organization/fluid-1', '/organization/crush-on-original-products', '/organization/independent-space', '/organization/erc-eye-care', '/organization/hyperion-solutions', '/organization/reach', '/organization/filtersure-inc', '/organization/shnups', '/organization/growl-media', '/organization/numi-tea', '/organization/lookflow', '/organization/flashfunders', '/organization/kibbit', '/organization/low-carbon-technology', '/organization/foglaljorvost', '/organization/360cities', '/organization/fire-avert', '/organization/kambit', '/organization/arborwind', '/organization/carbonated-content', '/organization/brain-2', '/organization/noir-illuminati', '/organization/noow', '/organization/richslide', '/organization/seastar-games', '/organization/frã©quentiel', '/organization/easy-square-feet', '/organization/filmbot', '/organization/coinify-com', '/organization/almalence', '/organization/rubicore', '/organization/8wood', '/organization/interventional-imaging', '/organization/elynx', '/organization/smyle', '/organization/jaman', '/organization/cubiez', '/organization/haymap-llc', '/organization/leanmarket', '/organization/m360lohas-outdoors', '/organization/journallyme', '/organization/fitkit', '/organization/futurepump', '/organization/natural-insight', '/organization/hilltop-connections', '/organization/alooma', '/organization/veeda', '/organization/selftrade', '/organization/rachel-joyce-organic-salon', '/organization/softway', '/organization/zikk-software', '/organization/is2cp', '/organization/futurestateit', '/organization/trade-winds-real-estate', '/organization/loop-and-tie', '/organization/vmray-gmbh', '/organization/mangrkart', '/organization/framer', '/organization/mã©dica-santa-carmen-2', '/organization/ii4b', '/organization/tapinko', '/organization/24-hour-pro-muscle-gym', '/organization/cringle', '/organization/your-sl', '/organization/spark-finance', '/organization/seatsafe', '/organization/investx-capital', '/organization/heppe-medical-chitosan', '/organization/crealytics', '/organization/codenow', '/organization/squadrun', '/organization/ombud', '/organization/lishang-flower-website', '/organization/property-capsule', '/organization/mavin', '/organization/oildex', '/organization/pertunes-oy', '/organization/business-horizons-lco', '/organization/basic-pharma', '/organization/monesbat', '/organization/cuberon', '/organization/aprilis', '/organization/plum-baby', '/organization/knowmia', '/organization/idmcloud', '/organization/nkf-pharma', '/organization/workec', '/organization/advisor-client-match', '/organization/biryani-blues', '/organization/autoloader-gmbh-2', '/organization/arcsys', '/organization/noora-health', '/organization/webtide', '/organization/burudaconcert', '/organization/jin-magic', '/organization/imega', '/organization/quality-solicitors', '/organization/shanghai-fft', '/organization/nineteenth-amendment', '/organization/365webcall', '/organization/digital-message-display', '/organization/mitostem', '/organization/xylan-corporation', '/organization/iblueopen', '/organization/ondeso', '/organization/my-table', '/organization/andrew-michaels-ltd', '/organization/broncus-technologies-inc', '/organization/ziipa', '/organization/aquaminerals-finland-oy', '/organization/no-world-borders', '/organization/pennington-commercial-group', '/organization/ragnar-relay', '/organization/dimmi', '/organization/rescoper', '/organization/celula-inc', '/organization/taxipixi', '/organization/edplace', '/organization/twisto-payments', '/organization/bhive-social-media-labs', '/organization/layer-4-communications-inc', '/organization/postini', '/organization/the-outlaw-bar-and-grill', '/organization/clark-2', '/organization/der-grne-punkt-duales-system-deutschland', '/organization/national-indoor-golf-and-entertainment', '/organization/technopolis', '/organization/the-melt', '/organization/bundled-bliss', '/organization/incentive-logic', '/organization/spontaneously', '/organization/myfinancialanswers', '/organization/zend-enterprise-php-business-plan', '/organization/gameplay-fm', '/organization/superfeedr', '/organization/objectstar', '/organization/yourencore', '/organization/optimum-magazine', '/organization/kerros-health', '/organization/pixel-qi', '/organization/listupp', '/organization/mvp-interactive', '/organization/smart-start', '/organization/smart-scooters-2', '/organization/ten4-ads', '/organization/artunes-radio', '/organization/sixteen-eighteen-design', '/organization/performance-consulting-group-llc', '/organization/financeacar', '/organization/vinopolis', '/organization/whalr-2', '/organization/powersmart', '/organization/bimici', '/organization/mena-cleantech', '/organization/qdatum', '/organization/backwerk', '/organization/onestopweb-com', '/organization/eyebrid-blaze', '/organization/scorista-ru', '/organization/cooler-planet', '/organization/li-vebargain', '/organization/fired-up-christian-wear', '/organization/interact-io', '/organization/zipidee', '/organization/004-technologies', '/organization/vasily-inc-', '/organization/tweepsmap', '/organization/bundle', '/organization/aero-beacons', '/organization/estrogen-gene-test', '/organization/national-recovery-services', '/organization/village-laundry-service', '/organization/vcider', '/organization/gameyola', '/organization/incapture-technologies', '/organization/healthifyme', '/organization/iplytics', '/organization/cie-studios', '/organization/brightly-app', '/organization/tideland-signal-corporation', '/organization/apps-zerts', '/organization/inpensa', '/organization/trendbent', '/organization/nifty-window', '/organization/flatfox-ag', '/organization/new-breed-games-llc', '/organization/petvet-technologies-inc', '/organization/iagree', '/organization/weowe', '/organization/1cast', '/organization/zintin', '/organization/litchfield-financial-corporation', '/organization/generimed', '/organization/jcr-pharmaceuticals', '/organization/infreeda', '/organization/beards---beavers-inc-', '/organization/eudoweb', '/organization/youos', '/organization/neck-tie-koozies', '/organization/parkent-cycles', '/organization/naldo', '/organization/rockford-foresters-baseball-team', '/organization/easy-home-solutions', '/organization/adwo-media-holdings', '/organization/finisar', '/organization/idea-market', '/organization/buyou', '/organization/welcu', '/organization/carbon-clean-tech-ag', '/organization/wormhole', '/organization/streetfairehd', '/organization/superior-services', '/organization/pet-airways', '/organization/salon-grafix', '/organization/taia-global', '/organization/visisonics', '/organization/boke-information-co-ltd', '/organization/okay-com', '/organization/lifescribe', '/organization/opnet-technologies-inc', '/organization/imacox-financial-technologies', '/organization/e-itim-online', '/organization/techtribe', '/organization/videum', '/organization/stalwart-design-development', '/organization/talkito', '/organization/mention-me', '/organization/independent-inspections', '/organization/myrl', '/organization/optimum-pumping-technology', '/organization/combined-effort', '/organization/extreme-wireless-communication', '/organization/smtdp-technology', '/organization/automatic-logistic-solution-gmbh', '/organization/big-bears-recycling', '/organization/aminolabs', '/organization/kids-movie', '/organization/massblurb', '/organization/orori', '/organization/ping-fm', '/organization/energy-cool', '/organization/nibirutech-limited', '/organization/notifo', '/organization/ellobee---network-efficiently', '/organization/mon-purse', '/organization/lock8', '/organization/apirise', '/organization/sun-city-group', '/organization/invigo', '/organization/bluewhale', '/organization/trulify', '/organization/wholesome-goodness', '/organization/bridg', '/organization/adim8', '/organization/cleverads', '/organization/mediabunker', '/organization/hci', '/organization/kindred-prints', '/organization/sidestep-2', '/organization/avidal-vascular-gmbh', '/organization/clearswift', '/organization/msi', '/organization/zurrba-group', '/organization/katia-4', '/organization/sterling-canyon', '/organization/laserlike', '/organization/aircare', '/organization/godog-fetch', '/organization/advanced-image-enhancement', '/organization/postsharp-technologies', '/organization/michigan-home-brokers', '/organization/next-glass', '/organization/practicegigs', '/organization/data-security-systems-solutions', '/organization/uniphore', '/organization/mymosa', '/organization/concord-music-group', '/organization/decisive-bi', '/organization/raptor-supplies-2', '/organization/clicks-for-a-cause', '/organization/himily', '/organization/matchmove-games', '/organization/quiet-ly', '/organization/gemisimo', '/organization/mintra-trainingportal', '/organization/provital', '/organization/fluid-stone', '/organization/corevalue-software', '/organization/liwwa', '/organization/vouchercloud', '/organization/toymail-co-', '/organization/cermati', '/organization/rivet-app', '/organization/ophtalmopharma', '/organization/robotsalive', '/organization/context-engines', '/organization/sugarhigh', '/organization/matchme-2', '/organization/komoot', '/organization/oxygen-solutions', '/organization/mycleaner', '/organization/i-met', '/organization/ert-systems', '/organization/transmex-systems-international', '/organization/celer-logistics-group', '/organization/mecox-lane', '/organization/expend', '/organization/epyon', '/organization/healo-health', '/organization/1day1song', '/organization/oxleys-extra', '/organization/southern-sports-leagues', '/organization/etipping', '/organization/bluebank-communication-technology', '/organization/evenues', '/organization/freezing-point', '/organization/rapitow-corp', '/organization/open-network-entertainment', '/organization/fidor-bank-ag', '/organization/powerplayninja-llc', '/organization/mind-music-labs-ab', '/organization/twinz', '/organization/barefoot-power', '/organization/a-better-tomorrow-treatment-center', '/organization/allstate', '/organization/darberry', '/organization/1rp-media', '/organization/vsee-lab', '/organization/estrakon', '/organization/skycastsolutions', '/organization/icomasoft', '/organization/zephyr-sleep-technologies', '/organization/openbook', '/organization/wuaki-tv', '/organization/hum', '/organization/foss-manufacturing-company', '/organization/wild-wild-east-inc', '/organization/xyrosoft', '/organization/eprimecare', '/organization/symu-co', '/organization/mr-banana', '/organization/steel-wool-entertainment', '/organization/wellthy-2', '/organization/the-auto-vault', '/organization/tailwind-air-service', '/organization/nextiva', '/organization/avanti-wind-systems', '/organization/planted', '/organization/stroll-health', '/organization/winweb', '/organization/allfanart', '/organization/applied-x-rad-technology-llc', '/organization/parlance', '/organization/machinify', '/organization/milo-technology', '/organization/perfect-company', '/organization/ko-su', '/organization/neurovigil', '/organization/forever-his-transport', '/organization/trinnov-audio', '/organization/hazinem-com', '/organization/loom-decor', '/organization/blueleaf', '/organization/otomed-center', '/organization/everyart', '/organization/espiral-2', '/organization/cne-productions', '/organization/endymion', '/organization/l2-environmental-services', '/organization/results-physiotherapy', '/organization/nihon-gigei', '/organization/aha-taxis', '/organization/eagle-crest-enterprises', '/organization/bikespike', '/organization/players-lounge', '/organization/red-balloon-secrurity', '/organization/stepcase', '/organization/remote', '/organization/similarsites-com', '/organization/red-recycled-electronics-distributors', '/organization/okeyko', '/organization/aftr', '/organization/elixr', '/organization/imedo', '/organization/jiffstore', '/organization/windshield', '/organization/gwynnie-bee', '/organization/v-cube-japan', '/organization/errn-io', '/organization/moncai', '/organization/ypd-online', '/organization/rocket-lab', '/organization/stazoo-com', '/organization/kormeli', '/organization/evoucher', '/organization/weduc', '/organization/skignz', '/organization/true-science', '/organization/contur', '/organization/itrybeforeibuy', '/organization/shelterr-com', '/organization/nexvortex-inc', '/organization/launchcenter-39', '/organization/shuoren-hitech', '/organization/homehey', '/organization/vip-plaza', '/organization/fipeo', '/organization/swiftmile-inc', '/organization/nwa-event-center', '/organization/circuithub', '/organization/openvpn', '/organization/mailcoding-s-r-l', '/organization/omni-partners', '/organization/audio-shack', '/organization/the-box-populi', '/organization/coches', '/organization/telink', '/organization/third-ear', '/organization/nanobi', '/organization/24fab', '/organization/trivop', '/organization/deckdaq', '/organization/greencage-security', '/organization/venwise', '/organization/scramblermail', '/organization/light-up-africa', '/organization/the-meishijie-website', '/organization/eco-cuizine', '/organization/bepleez', '/organization/violife', '/organization/klinq', '/organization/ticket-blue', '/organization/netcom-systems', '/organization/fukurou-labo', '/organization/nanopotential', '/organization/fusemachines', '/organization/neverfrost', '/organization/my-dentist', '/organization/lurenjia', '/organization/threat-quotient', '/organization/the-gym', '/organization/chalkup', '/organization/istikana', '/organization/quick-sands-solutions', '/organization/tizi', '/organization/signia-corporate-services', '/organization/slfy', '/organization/kippt', '/organization/affordable-self-storage', '/organization/arachnys', '/organization/louise-entreprises', '/organization/strohl-medical', '/organization/the-ultimate-relocation-network', '/organization/better-living-yoga', '/organization/two-to-tango', '/organization/vauto', '/organization/protix-biosystems', '/organization/midwest-micro-devices', '/organization/hexibot', '/organization/swipbox', '/organization/sciquest', '/organization/af83', '/organization/evoinfinity', '/organization/mor-sl', '/organization/ledexchange-gmbh-2', '/organization/locamap', '/organization/liantuo-bank', '/organization/intuitive-solutions', '/organization/pandoo-tek', '/organization/grid', '/organization/greengo-energy-a-s', '/organization/treebox-solutions', '/organization/maxcdn-enterprise', '/organization/mckinley-skies', '/organization/via6', '/organization/springboard-after-school', '/organization/ravn', '/organization/jz-clothing-and-cosplay-design', '/organization/gbatteries', '/organization/agile-edge-technologies', '/organization/project-fixup', '/organization/startit-up', '/organization/regiohelden', '/organization/sharememe', '/organization/farmer-s-edge-laboratories', '/organization/to-door', '/organization/oblix', '/organization/geddit', '/organization/biggifi', '/organization/fsi-international', '/organization/pixc', '/organization/uxarmy', '/organization/packelight-networks', '/organization/shanghai-yimu-network-technology-co', '/organization/sketch', '/organization/apptus', '/organization/core-competence', '/organization/buka', '/organization/itg-s-a', '/organization/ub-access', '/organization/benni-barker', '/organization/pocketlist', '/organization/clay-indoor-sports-plex', '/organization/testroom-gmbh', '/organization/wirelessgate', '/organization/qlearning', '/organization/locally', '/organization/sogware', '/organization/seeblings', '/organization/mamamedia-com', '/organization/samenrico', '/organization/game-blisters', '/organization/pixeon', '/organization/mediawheel', '/organization/exoyou', '/organization/doubleup', '/organization/ngcodec', '/organization/hipaamart', '/organization/liquid5', '/organization/pinchpoint', '/organization/cerana-beverages', '/organization/smartwaretoday-com', '/organization/takas', '/organization/metropolitan-app', '/organization/scottsdale-gold-and-silver', '/organization/astadia', '/organization/signicast', '/organization/swimtopia', '/organization/simulation-appliance', '/organization/africa-angels-network', '/organization/hallway-social-learning-network', '/organization/homeschooling-through-the-ages', '/organization/pain-doctor', '/organization/plateno-hotel-group', '/organization/alpha-omega-enterprise', '/organization/erento', '/organization/mytheresa-com', '/organization/paradise-corner', '/organization/snapt', '/organization/inter-grosshandel-gmbh', '/organization/rxadvance', '/organization/pinbridge-llc', '/organization/tacere-therapeutics', '/organization/golflan', '/organization/first-american-payment-systems', '/organization/econnections', '/organization/real-estate-cozmetics', '/organization/academic-management-services', '/organization/physicianportal', '/organization/pult', '/organization/bee-shield', '/organization/panorics', '/organization/dosyogures', '/organization/paymento', '/organization/thinkview', '/organization/limelight-platforms-inc-', '/organization/nhk-world', '/organization/trance', '/organization/technically-compatible', '/organization/nexgenvs', '/organization/skilled', '/organization/nature-s-next-beverages', '/organization/iofabric', '/organization/thinxtream-technologies', '/organization/liilak', '/organization/rupeetimes', '/organization/nveloped', '/organization/sopayme', '/organization/safaba-translation-solutions', '/organization/sigasi', '/organization/white-mountain-tactical', '/organization/mediander', '/organization/retellity', '/organization/mydoctime', '/organization/the-kitchen-hotline', '/organization/for-to-do-centers', '/organization/life-span-labs', '/organization/silicon-jelly-2', '/organization/padproof', '/organization/rickshaw', '/organization/quethera', '/organization/punc', '/organization/mobile-interaction', '/organization/audiobeta', '/organization/jobspice', '/organization/brutality-records', '/organization/lowry-academy-of-visual-and-performing-arts', '/organization/fynd-2', '/organization/sustain', '/organization/paradise-home-properties-llc', '/organization/sensehere-technology', '/organization/skystream-networks', '/organization/seas-food-cafe', '/organization/integrity-it-solutions', '/organization/appharbor', '/organization/educational-services-institute', '/organization/tophatter', '/organization/chatterous', '/organization/quincy-apparel', '/organization/copiny', '/organization/liquidtext', '/organization/veritas-collaborative', '/organization/manymoon', '/organization/ygle', '/organization/automateit', '/organization/ozone-purification-ltd', '/organization/terabit-radios', '/organization/ledr-technologies', '/organization/collective22-media', '/organization/qiniu', '/organization/anthillz', '/organization/onollo', '/organization/cdb-infotek', '/organization/braveit-solutions', '/organization/eatads', '/organization/munax', '/organization/justcommodity-software-solutions', '/organization/suzhou-rongca-science-and-technology', '/organization/jellyhq', '/organization/cubeteam', '/organization/my-mega-bookstore', '/organization/solandeo-2', '/organization/babyglowz', '/organization/offset-options', '/organization/phobious', '/organization/voulezvousdiner', '/organization/biocell-2', '/organization/millao-inc-2', '/organization/combat-stroke', '/organization/wow', '/organization/all-rights', '/organization/accalio', '/organization/franklin-data', '/organization/archetype-partners', '/organization/thermogenics', '/organization/rotaryview', '/organization/revision-app', '/organization/continuum-care', '/organization/entelos', '/organization/rainbow', '/organization/hunan-meijing-creative-exhibition-display-co-ltd', '/organization/weyap', '/organization/ubiq-2', '/organization/my-computer-works', '/organization/joxko', '/organization/sense-home', '/organization/clip', '/organization/hagamospool-com', '/organization/business-advisory-board-llc', '/organization/orchestream', '/organization/sec-watch', '/organization/etruck', '/organization/diverserecruiting', '/organization/citizenmade', '/organization/sonicx', '/organization/ethology', '/organization/one-world-virtual', '/organization/seattle-coffee-company', '/organization/bankier-pl', '/organization/spumetech', '/organization/mosquito-steve', '/organization/indigio', '/organization/reble', '/organization/exercise-the-world', '/organization/capsearch', '/organization/1417', '/organization/cyzone', '/organization/starline', '/organization/wear-notch', '/organization/the-triana-group-inc', '/organization/new-vectors-aviation', '/organization/wizards-nation', '/organization/loan-servicing-solutions', '/organization/kiwilogic', '/organization/auxy', '/organization/swing-by-swing', '/organization/lollipuff', '/organization/lombardi-residential', '/organization/st-paul-s-square', '/organization/klone-lab', '/organization/broken-envelope-productions', '/organization/statuspath', '/organization/hanintel', '/organization/capigami', '/organization/re-mu', '/organization/thecre8tion', '/organization/pencil-labs', '/organization/azimuth', '/organization/amsafe-aviation', '/organization/sougou', '/organization/studydrive-net', '/organization/mobile-roadie', '/organization/acumen-2', '/organization/calsol', '/organization/cimagine-media', '/organization/oneshore-energy-gmbh', '/organization/starbroker', '/organization/meets', '/organization/shinybyte', '/organization/frayman-group', '/organization/teburu', '/organization/ouro-botics', '/organization/theraphysics-corporation', '/organization/marriage-com', '/organization/parakey', '/organization/shareacar', '/organization/mamaherb', '/organization/grm-internet', '/organization/vkliq', '/organization/i-stand', '/organization/purdy-ave', '/organization/industriaplex', '/organization/bright-beginnings-daycare-learning-center', '/organization/iemo', '/organization/amity-manufacturing', '/organization/squeezecmm', '/organization/chase-federal-bank', '/organization/illuminate-solutions', '/organization/prepay', '/organization/inopen', '/organization/m-m-lafleur', '/organization/statup', '/organization/tagmii', '/organization/netmovie', '/organization/zipdial', '/organization/gro', '/organization/studio-kate', '/organization/9tong-com', '/organization/abound-resources', '/organization/newcell', '/organization/asyncode', '/organization/mezaaj', '/organization/intraxio', '/organization/ambassador-software-works', '/organization/praice', '/organization/daily-ninja', '/organization/skuserve', '/organization/newspepper', '/organization/tuan800', '/organization/composecure', '/organization/blue-moon-2', '/organization/you-i', '/organization/everpay', '/organization/modern-boutique', '/organization/aquiris', '/organization/refined-labs', '/organization/epuls', '/organization/enlightened-lifestyle', '/organization/sioptica', '/organization/process-9', '/organization/carbon-black', '/organization/context-aware-solutions', '/organization/ruby-groupe', '/organization/groupcard', '/organization/squabbler', '/organization/avillion', '/organization/skybus-airlines', '/organization/intpostage-llc', '/organization/national-isr-services', '/organization/buyatab-online-inc', '/organization/micromuscle', '/organization/einsights', '/organization/american-medical-supply', '/organization/mangocoinz', '/organization/wunderdata', '/organization/ubizen', '/organization/wild-pockets', '/organization/visionary-pharmaceuticals', '/organization/marinexplore', '/organization/uplift-io', '/organization/quaddra-software', '/organization/cloud-theory', '/organization/urbantakeover', '/organization/g-venrehberi', '/organization/east-bend-brewery', '/organization/humin', '/organization/tour-de-force', '/organization/stamp', '/organization/cogito-2', '/organization/manctl', '/organization/paca-foods', '/organization/chess-ix', '/organization/signature-genomic-laboratories', '/organization/keystok', '/organization/compass-engine', '/organization/paperlinks', '/organization/eddyson', '/organization/mr-snow', '/organization/kiwigrid', '/organization/metapop-inc', '/organization/mmi-capital-partners', '/organization/yardbook', '/organization/koios', '/organization/everclassic', '/organization/seamsoft', '/organization/mailmag', '/organization/gowex', '/organization/impact-2', '/organization/smartpipe-solutions', '/organization/dgf-investimentos', '/organization/people-centric', '/organization/grupanya', '/organization/verecho-inc', '/organization/taggable', '/organization/okan-inc-', '/organization/docin', '/organization/battery-medics', '/organization/rivono', '/organization/philsmile', '/organization/girihlet', '/organization/oqvestir', '/organization/test-photonics-canada', '/organization/synkysite', '/organization/koinos-coffee-house', '/organization/qwite', '/organization/shenzhen-anke-high-tech-co-ltd', '/organization/ads4books', '/organization/oasis-500', '/organization/skill-software', '/organization/area-wide-protective', '/organization/myus-com', '/organization/northworks', '/organization/aac-technologies-holdings', '/organization/tailify', '/organization/devolia', '/organization/glo-bags-llc', '/organization/opinion', '/organization/payprop', '/organization/jodel', '/organization/vamosinc', '/organization/etf-com', '/organization/ftl-global-solutions', '/organization/authentic8', '/organization/vision-box', '/organization/a-star', '/organization/f-rsat-bu-f-rsat', '/organization/socifi', '/organization/ewirelessgear', '/organization/koduco', '/organization/n3me-next-3motional-mobil-education', '/organization/saffron-digital', '/organization/omegafi', '/organization/brilliency', '/organization/tsb', '/organization/certus-group', '/organization/thestylisted', '/organization/like-fm', '/organization/cellity', '/organization/all3dp-gmbh', '/organization/pricetag', '/organization/voice2insight', '/organization/pocket-menu', '/organization/popbum-2', '/organization/yourfitclass', '/organization/talech', '/organization/osprey-spill-control', '/organization/hashbang-games', '/organization/octopz', '/organization/south-texas-oil', '/organization/black-cat-2', '/organization/womply', '/organization/resilience-for-disaster', '/organization/dr-poket', '/organization/discountdoc', '/organization/lookcraft', '/organization/mippin', '/organization/bender-advisor', '/organization/thinkature', '/organization/skyfi-education-labs', '/organization/trebax-innovations', '/organization/nutriventures', '/organization/zinc-save', '/organization/hartman-wright', '/organization/dicks-sporting-goods', '/organization/apt-opinion', '/organization/ej-grace', '/organization/reep-rewards', '/organization/gopicnic', '/organization/intouch-3', '/organization/produce-pay', '/organization/ipscape', '/organization/doost-inc-', '/organization/you-cook', '/organization/melanie-clark-communications', '/organization/tcp-cloud-llc', '/organization/etulipa', '/organization/swanbridge-hire-and-sales', '/organization/app-dreamworks', '/organization/pcd-partners', '/organization/anglo-andino-group', '/organization/flinc', '/organization/adlogix', '/organization/go2mobi', '/organization/relavance-software', '/organization/umbala', '/organization/precis', '/organization/driptech', '/organization/maintenance-assistant', '/organization/savy', '/organization/webkite', '/organization/piece-of-cake', '/organization/equalmetrics', '/organization/energystone-games-ç\\x81µçÿ³æ¸¸æ\\x88\\x8f', '/organization/cloudapps', '/organization/kappa-prime', '/organization/spinetix', '/organization/mugeda', '/organization/pay4later', '/organization/nv-self-representation-document-preparation', '/organization/aot-bedding-super-holdings', '/organization/telera', '/organization/spyra', '/organization/box-score-games', '/organization/yodil', '/organization/energatix-studio', '/organization/pufetto', '/organization/aligned-signs', '/organization/c4x-discovery', '/organization/jrd-group', '/organization/chikka', '/organization/daitan-group', '/organization/yourcall-tv', '/organization/hampoo-science-technology', '/organization/sabio-labs', '/organization/ecowizz', '/organization/d-canty-investments-loans-services', '/organization/platterpix', '/organization/xintu-shuju', '/organization/city-invoice-finance', '/organization/stega-networks', '/organization/ilink', '/organization/detroit-electric', '/organization/userlike-live-chat', '/organization/ampsocial', '/organization/bkam', '/organization/aidbits', '/organization/midwest-judgment-recovery', '/organization/adtsys', '/organization/carbodeon-3', '/organization/tripjane', '/organization/clerts', '/organization/hirehive', '/organization/gungroo', '/organization/language-logistics', '/organization/planeteye', '/organization/itmedia-kk', '/organization/ciceksepeti-com', '/organization/medicine-bow-wind', '/organization/attentiv', '/organization/favful', '/organization/cosyforyou', '/organization/hasselblad', '/organization/moanima-inc', '/organization/lp33', '/organization/photo-rankr', '/organization/three-star-drilling', '/organization/neurescue', '/organization/mobil-oto-servis', '/organization/cookman-enterprises', '/organization/vocal-media', '/organization/metasearch', '/organization/rich-media-exchange', '/organization/ispye', '/organization/theater-for-the-arts', '/organization/cookdinner', '/organization/goozex', '/organization/sightcine', '/organization/kin-valley', '/organization/webradar', '/organization/dita-exchange', '/organization/the-grandparent-caregivers-center', '/organization/tamtron', '/organization/st-basils', '/organization/piinpoint', '/organization/dolphin', '/organization/meet-boutique', '/organization/audienceview', '/organization/swiss-smile', '/organization/ikamva-youth', '/organization/facetags', '/organization/ugo-smoothie', '/organization/boyd-corp', '/organization/ifthisfits', '/organization/the-bucket-bbq', '/organization/clusterk', '/organization/game-face-hockey-llc', '/organization/quartz-solutions', '/organization/divine-books-inc', '/organization/airmagnet', '/organization/border-city-media', '/organization/tatil-sepeti', '/organization/aeroiflight-corporation', '/organization/restopolis', '/organization/51-qiangzuo', '/organization/medianest', '/organization/japan-home-center', '/organization/helpsa-de-com', '/organization/silver-fox-events', '/organization/humansized', '/organization/idreambooks', '/organization/iretron-inc', '/organization/zercatto', '/organization/aptwater', '/organization/process4e', '/organization/yollege', '/organization/desert-industrial-x-ray', '/organization/unified-people', '/organization/s-a-automotive-partners', '/organization/wikidot', '/organization/ideaoffer', '/organization/data-elite', '/organization/job-pact', '/organization/vizsafe', '/organization/proactive-comfort-llc', '/organization/presenternet', '/organization/lightex-ltd-', '/organization/kontoblick', '/organization/nanovelos', '/organization/skoove', '/organization/skincity', '/organization/print-io', '/organization/99drones', '/organization/ultrav-technologies', '/organization/caarly', '/organization/kontem', '/organization/connectabank', '/organization/senior-moments', '/organization/wireless-technology-partners', '/organization/red-mountain-medical-response', '/organization/eucl3d', '/organization/tenant-magic', '/organization/aktant', '/organization/loopline-systems', '/organization/blue-water-satellite', '/organization/onefeat', '/organization/opticorps', '/organization/north-capital-private-securities-corp', '/organization/taeguek-reseach', '/organization/codo', '/organization/goalshare-com', '/organization/organics-rx', '/organization/mixtable', '/organization/bebaio', '/organization/run-my-errands', '/organization/hot-mix-mobile', '/organization/lolalo-la', '/organization/network-merchants', '/organization/rondebosch', '/organization/fungos-llc', '/organization/sandata', '/organization/uhuru', '/organization/innovis-2', '/organization/fineline', '/organization/nextwidgets', '/organization/bee-line-express-inc', '/organization/speed-dating-by-chantilly-lace', '/organization/kinaxo-biotechnologies', '/organization/bleuacre-systems', '/organization/five-inc-', '/organization/u-s-silica', '/organization/shmoop', '/organization/onlineprinters', '/organization/digitalbridge', '/organization/songvice', '/organization/northwestern-university-2', '/organization/everyday-me', '/organization/bres-advisors', '/organization/skip', '/organization/becouply', '/organization/mterview', '/organization/roozt-com', '/organization/damage-hounds', '/organization/ember-inc', '/organization/tokiva-technologies', '/organization/telematik', '/organization/oroscas', '/organization/debitos', '/organization/anomaly-innovations', '/organization/farmainstant', '/organization/glassmap', '/organization/venture-academy-3', '/organization/mixaloo', '/organization/senior-farms', '/organization/elcodi', '/organization/united-digital-group', '/organization/reelmotionmedia-com', '/organization/thysia-information-management', '/organization/geozate', '/organization/echelon-insights', '/organization/dryvax', '/organization/dealperk', '/organization/pixelapse', '/organization/primesport', '/organization/microsystems', '/organization/pacer-electronics', '/organization/alum-ni', '/organization/infobizz', '/organization/super-clean-jobsite-llc', '/organization/international-coiffeurs-education', '/organization/pressenger', '/organization/kaonetics-technologies-inc', '/organization/picture-production-company', '/organization/dimensions-it-infrastructure-solutions', '/organization/naboomboo', '/organization/flicstart', '/organization/responsible-city', '/organization/silo', '/organization/vahna', '/organization/lionworks', '/organization/caribbean-beach-bar', '/organization/beneath-the-ink', '/organization/second-home', '/organization/winemenow', '/organization/peoplease', '/organization/voicendo', '/organization/edhub', '/organization/hotspots', '/organization/independent-stock-market', '/organization/kingsoft-cloud', '/organization/mind-c-t-i-ltd', '/organization/one-degree', '/organization/enviroo', '/organization/yttro', '/organization/sandow', '/organization/studyegg', '/organization/amplus', '/organization/stopandwalk-com', '/organization/greenlight-technologies', '/organization/mytwins', '/organization/millennium-trust-co', '/organization/heidi-shaulis', '/organization/indplay', '/organization/astrobotic-technology', '/organization/swipeclock', '/organization/vny-global-innovations', '/organization/minds-in-motion-electronics-mime', '/organization/metronomic', '/organization/the-assets', '/organization/bellstrike', '/organization/alina-homecare-2', '/organization/publictivity', '/organization/5-star-quarterback', '/organization/o21c-co', '/organization/videostream', '/organization/gigalo', '/organization/leiyoo', '/organization/brainjuicer', '/organization/pharmatest-services', '/organization/little-eye-labs', '/organization/appit-ventures', '/organization/popcuts', '/organization/currencytransfer', '/organization/yorxs', '/organization/urban-tax-service-and-bookkeeping', '/organization/falcon-app', '/organization/small-world-kids-inc', '/organization/diskovre', '/organization/boardontrack', '/organization/foule-factory', '/organization/shenzhenware', '/organization/grr-systems-inc', '/organization/livelids', '/organization/st-surin-group', '/organization/gen110', '/organization/true-north-healthcare', '/organization/r-ve', '/organization/railroad-empire', '/organization/quicklychat', '/organization/netyear', '/organization/alexis-bittar', '/organization/moovo', '/organization/tellwiki', '/organization/fitstreamer', '/organization/hourville', '/organization/eightspokes', '/organization/auctions-by-wallace', '/organization/ornikar', '/organization/living-farm', '/organization/bjooli', '/organization/microdimensions', '/organization/gtx-messaging', '/organization/archemedx', '/organization/heald-college', '/organization/zilta', '/organization/concrete-starts', '/organization/clopify', '/organization/blackdrumm', '/organization/spotking', '/organization/thoughtfocus', '/organization/fad-io', '/organization/greenleaf-trust', '/organization/race-nation', '/organization/ingaugeit-llc', '/organization/bozza', '/organization/metaflo', '/organization/eagle-broadband', '/organization/shanpow-com', '/organization/optisense', '/organization/toothpick-com', '/organization/zedmo', '/organization/egg-energy', '/organization/kodable', '/organization/artistoon', '/organization/red-hawk-interactive', '/organization/the-educloud', '/organization/game-studio', '/organization/nbe-tech', '/organization/watchful-software', '/organization/real-gravity', '/organization/idfy', '/organization/workforce-insight', '/organization/nebula-2', '/organization/kebony', '/organization/shelf-com', '/organization/messageus', '/organization/savorfull', '/organization/nurseliability-com', '/organization/ipnetvoice', '/organization/ubqt', '/organization/mri-steel-framing', '/organization/ascendant-group', '/organization/serraview', '/organization/assurely', '/organization/snapp-me', '/organization/salesfloor-it', '/organization/caarbon', '/organization/the-halo-group', '/organization/yugma', '/organization/tiphive', '/organization/unlockyourbrain', '/organization/ktplay', '/organization/medesa-technology-gmbh', '/organization/commutable', '/organization/recomio', '/organization/verisart', '/organization/iq-friends', '/organization/beanstockd', '/organization/entelios-ag', '/organization/blueingreen-llc', '/organization/dashluxe', '/organization/yokee-by-famous-blue-media', '/organization/cash-check-card', '/organization/uploadcare-com', '/organization/furnish-co-uk', '/organization/shoes4you', '/organization/traffline', '/organization/t-quad-22', '/organization/unipay', '/organization/union-optech', '/organization/learnshark', '/organization/glisser', '/organization/neofect', '/organization/axon-digital', '/organization/happyshoppinglife-inc', '/organization/mmj', '/organization/uannabe', '/organization/tblnfilms-com', '/organization/chamson-group', '/organization/soothease', '/organization/marco-mascorro', '/organization/inbold-solutions', '/organization/gotye', '/organization/grafyt', '/organization/viss', '/organization/videostrip', '/organization/fit-fugitives', '/organization/savasti', '/organization/montgomery-financial', '/organization/evs-glaucoma-therapeutics', '/organization/yorango-inc-', '/organization/lifelife', '/organization/jobe-consulting-group-llc', '/organization/design-ventures', '/organization/dincloud', '/organization/icare-intelligence', '/organization/keepcon', '/organization/classbadges-com', '/organization/playcafe', '/organization/bolt-hr', '/organization/innerchip', '/organization/cybergrants', '/organization/udeserve-technologies', '/organization/blingo', '/organization/latam-autos', '/organization/the-moment', '/organization/highwire-press', '/organization/voom', '/organization/digital-code-zero', '/organization/booster', '/organization/newtown-digital-group', '/organization/mvno-dynamics-limited', '/organization/zolai-energy', '/organization/floridas-realty-network', '/organization/metaswitch', '/organization/innocyte', '/organization/glowdx', '/organization/n-thing', '/organization/diditz', '/organization/forward-financial-technologies', '/organization/notion-systems', '/organization/yoics', '/organization/ameripath', '/organization/dimensio-informatics', '/organization/girl-meets-dress', '/organization/dynamic-defense', '/organization/kutenda', '/organization/safe', '/organization/spout', '/organization/fulcrum-composites', '/organization/sina-fateh', '/organization/pureshield', '/organization/wisecam', '/organization/shopetti', '/organization/montage-studio', '/organization/osfam-brewing-company', '/organization/cuztomise', '/organization/olah-viq-software-solutions', '/organization/shenzhen-hasee-computer', '/organization/lahore-university-of-management-sciences', '/organization/nanoference', '/organization/redtroops', '/organization/uk-drainage-network', '/organization/netrada', '/organization/stat', '/organization/leanapps', '/organization/lopoly', '/organization/knyplex', '/organization/genterpret', '/organization/adfiki', '/organization/dailyobjects-com', '/organization/cytosport', '/organization/qiro', '/organization/linguanext', '/organization/split-metrics', '/organization/medlanes', '/organization/odimegwu-professional-concepts-international', '/organization/spinel-west-africa-limited', '/organization/seiratherm', '/organization/bookme-pk', '/organization/reverse-mortgage-lenders-direct', '/organization/kaligo', '/organization/hustle-con', '/organization/1ring', '/organization/inipop', '/organization/content-one', '/organization/coromatic-group', '/organization/songafter', '/organization/3d-control-systems', '/organization/kejahunt-com', '/organization/bagnall-court', '/organization/beijing-inforgence-inc', '/organization/quintiq', '/organization/puddle', '/organization/patient-feed', '/organization/terraechos', '/organization/extendevent', '/organization/easyfix', '/organization/narragansett-beer', '/organization/clear-cut-medical', '/organization/netzvacation', '/organization/bagel-nash', '/organization/tristar', '/organization/kemojo-trucking', '/organization/demoup', '/organization/tomoon', '/organization/lyks', '/organization/whatchado', '/organization/intcom', '/organization/smartzilla', '/organization/bravofly', '/organization/classic-drive-ins', '/organization/kindwave', '/organization/ippies', '/organization/dkt-technology', '/organization/tavern', '/organization/scent-lok-technologies', '/organization/bee-there', '/organization/enerplant', '/organization/doppelgames', '/organization/live-better-brands', '/organization/blesh', '/organization/ecardio', '/organization/wello-2', '/organization/view-and-chew', '/organization/newton-insight', '/organization/24-quan', '/organization/moreix', '/organization/innovative-steam-technologies', '/organization/protego', '/organization/latestinbeauty-com', '/organization/picocandy', '/organization/altair-prep', '/organization/wattvision', '/organization/greymeter', '/organization/vermont-teddy-bear', '/organization/zim-plant-technology-gmbh', '/organization/solatube-international', '/organization/one-earth-designs', '/organization/volt', '/organization/carvoyant', '/organization/silphium-biotechnology', '/organization/lessthan3', '/organization/netstory', '/organization/pitchtop', '/organization/incentone', '/organization/zia-beverage-co', '/organization/master-route', '/organization/dabkick', '/organization/bodhi-health-education', '/organization/spot-on-networks-llc', '/organization/bright-willow', '/organization/51tour', '/organization/bloomz', '/organization/3pointdata', '/organization/watch-over-me', '/organization/tradeum-now-verticalnet', '/organization/results-com', '/organization/jumpmusic', '/organization/love-uncut-2', '/organization/river-city-custom-framing-llc', '/organization/pointabout', '/organization/gruppo-la-patria', '/organization/benesight', '/organization/mad-incubator', '/organization/metroworks', '/organization/accolo', '/organization/toilet-paper-and', '/organization/leaselock', '/organization/sidly', '/organization/new-eagle-products', '/organization/snadec', '/organization/kingnaru-entertainment', '/organization/ugame', '/organization/hard-candy-cases', '/organization/yun-yun', '/organization/unoceros', '/organization/parrut', '/organization/clear-creek-networks', '/organization/zetelic', '/organization/wondermall', '/organization/dynapro-publishing-company', '/organization/oliver-co-designs-inc', '/organization/epayselect', '/organization/picsell', '/organization/ringrang', '/organization/certaj-networks-limited', '/organization/signmage', '/organization/seastar', '/organization/hive-guard-unlimited', '/organization/berkshire-films', '/organization/concept-red', '/organization/beacon-doctor', '/organization/global-lumber-solutions-usa', '/organization/tweddle-group', '/organization/netcents-systems', '/organization/productiv', '/organization/zocalo', '/organization/zoonova-com', '/organization/traffic-com', '/organization/observe-design', '/organization/wistla', '/organization/yu-rong-corporation', '/organization/bestcake', '/organization/pricearea', '/organization/number-100', '/organization/trip-me', '/organization/whitewire', '/organization/cdi-computer-distribution-inc', '/organization/the-city-of-shenzhen-the-datong', '/organization/blue-lion-mobile', '/organization/99jobs', '/organization/cellular-machines', '/organization/simple-emotion', '/organization/my-artful-jewels', '/organization/p4rc', '/organization/lukat-group', '/organization/yodo', '/organization/luxticket-sg', '/organization/briefing-media', '/organization/basic-2', '/organization/framedia-advertising', '/organization/e-t-technologies', '/organization/sifonr', '/organization/givespark', '/organization/nuviz', '/organization/glam-2', '/organization/dheere-bolo', '/organization/hudgeons-temple', '/organization/turtle-creek-apparel', '/organization/ship-mate', '/organization/i-wireless', '/organization/tapp-2', '/organization/mytrainer', '/organization/blue-mango-wedding', '/organization/hq-plus', '/organization/gauzz', '/organization/domini', '/organization/hittite-microwave', '/organization/purecomm', '/organization/videopath', '/organization/steppinout', '/organization/minor-studios', '/organization/mei-com', '/organization/apromed-corp', '/organization/healthcare-it', '/organization/houseboat-resort-club', '/organization/ecab---the-smart-city-move', '/organization/easydiagnosis', '/organization/fitscript', '/organization/startupgenome', '/organization/gramitech', '/organization/aim-software', '/organization/star-seismic', '/organization/connect-controls', '/organization/regulatory-datacorp', '/organization/red-monster-games', '/organization/lynxguard', '/organization/ovagen-fertility', '/organization/seoreseller-com', '/organization/artabler', '/organization/vampire-labs', '/organization/utrecht-manufacturing-corporation', '/organization/fleetcare-international', '/organization/lumifold', '/organization/retail-labs-pvt-ltd', '/organization/visual-realm-inc', '/organization/air-intelligence', '/organization/neighborhoods', '/organization/psi-services', '/organization/linte', '/organization/cayo-tech', '/organization/quinju-com', '/organization/pandora-box', '/organization/jiguo-com', '/organization/explorer-io', '/organization/human-capital', '/organization/visure-solutions', '/organization/major-league-fantasy', '/organization/meetingmix-com', '/organization/dailysingle', '/organization/binti', '/organization/contentmart-in', '/organization/capitalise', '/organization/star-me', '/organization/king-cayuga-vodka', '/organization/peekaboo-mobile', '/organization/fixit-express', '/organization/mido-play', '/organization/wranggle', '/organization/alife-studios-inc', '/organization/buzzmetrics', '/organization/aeonmed-medical-treatment', '/organization/prime-financial-services', '/organization/modulation-therapeutics', '/organization/bahoui', '/organization/adaptive-shooting-sports', '/organization/draft', '/organization/a-and-a-travel-service', '/organization/visiopharm', '/organization/freejit', '/organization/hype-app', '/organization/cubitz-com', '/organization/voy-al-doc', '/organization/infinite-z', '/organization/ourcampus-co', '/organization/photofeeler', '/organization/just-above-cost', '/organization/techzel', '/organization/canal-internet', '/organization/reelhouse', '/organization/team-my-mobile', '/organization/credentialenvironmental', '/organization/dibspace', '/organization/touchlocal', '/organization/vsocial', '/organization/bee-smart-technologies', '/organization/embryotrans-biotech', '/organization/ironstar-helsinki', '/organization/retevo', '/organization/game-core-studios-inc-', '/organization/managesocial', '/organization/appzbizz-inc', '/organization/buying-butler', '/organization/envotherm', '/organization/stack-hunt', '/organization/swizcom-technologies', '/organization/real-ventures', '/organization/bigswerve', '/organization/impact-global-resources', '/organization/artisoft', '/organization/i-pop-networks', '/organization/zinitix', '/organization/dragon-tail', '/organization/lekki-peninsula-affordable-schools', '/organization/custopharm', '/organization/fountaintechies-com', '/organization/freelunched', '/organization/proalex', '/organization/velostack', '/organization/comdominio', '/organization/one-com', '/organization/dovetail', '/organization/app-media-2', '/organization/sofatronic', '/organization/slapvid', '/organization/gilian-technologies', '/organization/corvus-technologies', '/organization/sash-senior-home-sale-services', '/organization/freqsho', '/organization/go-beyond', '/organization/stitch-es', '/organization/control-writer-software', '/organization/futureware', '/organization/fl3ur', '/organization/ivisys-2', '/organization/virgin-mega-usa', '/organization/taptolearn', '/organization/icreate', '/organization/halon-security', '/organization/2nd-screen-games', '/organization/virtuos', '/organization/customcells', '/organization/medsave-usa', '/organization/energy-solutions-forum-esf', '/organization/jobleads', '/organization/cakefinancial', '/organization/implus-footcare-llc', '/organization/6apt', '/organization/the-hub-pharmacy', '/organization/conergy', '/organization/myschoolnotebook', '/organization/autodisplay', '/organization/tradebriefs', '/organization/toca-boca', '/organization/pictour-us', '/organization/jalbum', '/organization/eduvee', '/organization/north-star-building-maintenance', '/organization/academica', '/organization/techtracker', '/organization/ici-montreuil', '/organization/8868', '/organization/promotious', '/organization/india-online-health', '/organization/xishiwang-com', '/organization/taylor-billing-solutions', '/organization/mass-vector', '/organization/sergemd-inc', '/organization/touchbase-technologies', '/organization/flex', '/organization/naja', '/organization/aktan', '/organization/fromlab', '/organization/coty', '/organization/medisas', '/organization/twyst', '/organization/hair-jail', '/organization/sporty-cz', '/organization/varcity-sports', '/organization/heartland-cider-company', '/organization/brainrepublic', '/organization/clubio', '/organization/dentalfran-mid-atlantic-partnership', '/organization/ederiv-technologies', '/organization/performance-lab', '/organization/collision-hub', '/organization/computer-network-solutions', '/organization/people-helping-people-agency', '/organization/brevo', '/organization/sam-labs', '/organization/spotterrf', '/organization/dronee-2', '/organization/seeds-2', '/organization/light-magic', '/organization/howcloud', '/organization/compilr', '/organization/uklipz-media', '/organization/soundhound', '/organization/sportle', '/organization/medico-com', '/organization/collections', '/organization/geckogo', '/organization/btig', '/organization/campus-sponsorship', '/organization/etect', '/organization/instantq', '/organization/bbb-technologies', '/organization/green-energy-transportation-inc', '/organization/scimitar-global-systems-corporation', '/organization/sellfy', '/organization/zambikes-malawi', '/organization/sensingstrip', '/organization/barnana', '/organization/whats-in-my-handbag', '/organization/wirewax', '/organization/azadi', '/organization/ubee', '/organization/rentmyinstrument-com', '/organization/mayan-brewing-co', '/organization/scp-events', '/organization/pockitship', '/organization/tune-clout', '/organization/openspace', '/organization/oh-my-green', '/organization/snackfeed', '/organization/bemba', '/organization/hygeia-personal-care-products', '/organization/crisolteq-oy', '/organization/inchron', '/organization/abk-biomedical', '/organization/jibber-jabber', '/organization/drinkwiser', '/organization/dubizzle', '/organization/nucleator', '/organization/hilumz-usa', '/organization/unavailable-org-gmbh', '/organization/keyowner', '/organization/brand-eins-verlag', '/organization/semantic-md', '/organization/audioteka', '/organization/imscouting', '/organization/securelink', '/organization/b-soft-2', '/organization/eventmama', '/organization/dishco', '/organization/carveniche', '/organization/clearbridge-accelerator', '/organization/jmb-energie', '/organization/suburban-ostomy-supply-company', '/organization/curbsy', '/organization/travelnuts', '/organization/launchhear', '/organization/infinis-energy', '/organization/precision-repair-network', '/organization/saferyde', '/organization/formative-labs', '/organization/diamond-boutique', '/organization/provision-interactive-technologies', '/organization/lynxx-innovations', '/organization/rathergather', '/organization/tonic-health', '/organization/willkinn-media', '/organization/speecheo', '/organization/bandura', '/organization/ddx-media', '/organization/j-j-bri-pet-food-company', '/organization/hoverwind', '/organization/ludi-labs', '/organization/parfemy-cz', '/organization/tilefile', '/organization/lutz-convenience-food', '/organization/ectownusa-llc', '/organization/paint-collar', '/organization/healthcareamerica-com', '/organization/rcr-enterprises', '/organization/partyindk', '/organization/riverd-international', '/organization/kee-knowledge-ecology-engine-2', '/organization/dash-electric', '/organization/iapp4me', '/organization/farmhouse-delivery', '/organization/ezbuildingehs', '/organization/grolltex', '/organization/rushbike', '/organization/urbantech', '/organization/callix-brasil', '/organization/smartwatch-security-sound', '/organization/gain-capital', '/organization/screenleap', '/organization/infoready-2', '/organization/passenger-baggage-express', '/organization/waveseis', '/organization/vali-nanomedical', '/organization/plustxt', '/organization/axiom-exergy', '/organization/fare-motion', '/organization/routeperfect', '/organization/mirageworks', '/organization/confluent-oblix-oracle', '/organization/jigsaw24', '/organization/designerscouch', '/organization/fit-steps', '/organization/circle-of-moms', '/organization/earth-index', '/organization/pool-my-ride', '/organization/pisces-2', '/organization/multi-function-pet-bed', '/organization/catinet', '/organization/the-trip-tribe', '/organization/the-royal-cellars', '/organization/tdx', '/organization/hiper-technology-inc', '/organization/expedit-us', '/organization/street-vetz-entertainment-inc', '/organization/siege-paintball', '/organization/trident-university', '/organization/joyflips-inc', '/organization/enexion-gmbh', '/organization/miottech', '/organization/sperky-cz', '/organization/incomm', '/organization/hitch-2', '/organization/oncgnostics', '/organization/clean-membranes', '/organization/top-prospect', '/organization/sagence-group', '/organization/quantifiedcode', '/organization/wabi-sabi-eco-fashion-concept', '/organization/spotwise', '/organization/hydrobolt', '/organization/sage', '/organization/time-warden', '/organization/iceni-technology', '/organization/higgs-corp', '/organization/kipu-systems', '/organization/bondanddeni', '/organization/mixer-the-private-social-network-for-creatives', '/organization/guangdong-mingyang-electric-group', '/organization/moaxis-technologies-inc', '/organization/type22', '/organization/solidware-2', '/organization/heartbeater-com', '/organization/shopo', '/organization/piru-rentals', '/organization/vericant', '/organization/uavonic', '/organization/dove-innovation-and-management-group-inc', '/organization/a-green-nights-sleep', '/organization/techmed-healthcare', '/organization/boomapp', '/organization/world-wide-beauty-exchange', '/organization/vetbuilt', '/organization/imperial-technology', '/organization/lumex-instruments', '/organization/canadian-playhouse-factory', '/organization/oshiboree', '/organization/inboxfever', '/organization/global-service-bureau', '/organization/verge-advisors', '/organization/maxmilhas', '/organization/zero2infinity', '/organization/taxzestimates', '/organization/ixi-play', '/organization/ididwork', '/organization/visioneering', '/organization/lnts', '/organization/mysportsbrands', '/organization/thermal-nomad', '/organization/infographiqs-3', '/organization/paybrisk', '/organization/grauna-aerospace', '/organization/lagou-com-æ\\x8b\\x89å\\x8b¾ç½\\x91', '/organization/paymentusa-2', '/organization/casacanda', '/organization/supr', '/organization/alkemis-games', '/organization/veeam-software', '/organization/gecko-tail-holdings', '/organization/stockpulse', '/organization/flirtic-com', '/organization/graft-concepts', '/organization/boombocx-productions', '/organization/good-farma-films-llc', '/organization/collaborent-group--ltd-', '/organization/coupies', '/organization/impac-medical-system', '/organization/focaltech-systems', '/organization/zinergi', '/organization/health-data-minder', '/organization/learncore', '/organization/jlgov', '/organization/koniku', '/organization/tandem-spot', '/organization/sterling-heights-dentist', '/organization/enchantment-holding-company', '/organization/heliox', '/organization/toptal', '/organization/pepper-4', '/organization/learnbox', '/organization/arduboy', '/organization/tonx', '/organization/halo-beverages', '/organization/up-about-products', '/organization/erly', '/organization/teachlr-com', '/organization/schooledge-mobile', '/organization/trekcafe', '/organization/people-and-pages', '/organization/ullink', '/organization/stowaway-cosmetics', '/organization/origin-3', '/organization/ubeeko', '/organization/vendsy-inc', '/organization/acticut-international', '/organization/green-earth-technologies', '/organization/telekenex', '/organization/golocal24', '/organization/fashfolio', '/organization/lg-test-co', '/organization/msb-cybersecurity', '/organization/esale-solutions', '/organization/lookk', '/organization/ordertopia', '/organization/petkit-2', '/organization/exceptional-2', '/organization/tapway', '/organization/apomio', '/organization/conjectur', '/organization/vool-it', '/organization/resonant-sensors-inc', '/organization/zuuka', '/organization/hotdesk', '/organization/talentology', '/organization/fixy', '/organization/unidesq-platform', '/organization/brigates-microelectronics', '/organization/twiggle', '/organization/agilelaw', '/organization/asset-insights', '/organization/united-maps', '/organization/avontrust-group', '/organization/gotime-systems-ltd', '/organization/ojay-greene', '/organization/teamobi', '/organization/grandcentrix-gmbh', '/organization/risktail', '/organization/askourt-ltd', '/organization/proserv-group', '/organization/mag', '/organization/hypersoft-information-systems', '/organization/neustring', '/organization/touchone-technology', '/organization/immunethep', '/organization/sharespost', '/organization/tuebora', '/organization/york-space-systems-llc', '/organization/cypress-blind-and-shutter', '/organization/daniel-e-dutterer-cpa---accounting-and-consulting', '/organization/uparenting', '/organization/likelike-com', '/organization/pili-pop', '/organization/starwood-entertainment-llc', '/organization/fonbox', '/organization/hera-systems-inc', '/organization/linkyt', '/organization/unique-influence', '/organization/locuslabs', '/organization/gocomm', '/organization/loungeup', '/organization/zowpow', '/organization/biometric-solution', '/organization/suade-2', '/organization/zephyr', '/organization/wpx-faserkeramik', '/organization/printool', '/organization/inreal-technologies', '/organization/mixwit', '/organization/golims', '/organization/photowhoa', '/organization/tastebook', '/organization/fooze', '/organization/agile-planet', '/organization/advwhere', '/organization/rewardable', '/organization/redvax', '/organization/e-trader-group', '/organization/pendix-gmbh', '/organization/notevault', '/organization/pldt', '/organization/cathys-business-services', '/organization/plunify', '/organization/akselworks', '/organization/phymed-healthcare-group', '/organization/dianxin', '/organization/sector111', '/organization/showrooms-ru', '/organization/welterlen-equity-partners', '/organization/portware', '/organization/ground-up-biosolutions', '/organization/u-catch-that-marketing-agency', '/organization/icabbi', '/organization/kettle-real-estate-investments', '/organization/boardz', '/organization/otelic', '/organization/asthmamd', '/organization/sanaexpert', '/organization/clontech-laboratories-inc', '/organization/bombardier-inc', '/organization/tradimo', '/organization/malltip', '/organization/micel', '/organization/gift-off', '/organization/homestay', '/organization/besuccess', '/organization/plisten', '/organization/kidzloop', '/organization/lab42', '/organization/idv-solutions', '/organization/brightree', '/organization/axis-systems', '/organization/monet-software', '/organization/ingrooves', '/organization/redstamp', '/organization/brentwood-media-group', '/organization/mytrax', '/organization/distorted-utopia', '/organization/cyp-design', '/organization/global-rallycross-championship', '/organization/web-designed-rooms', '/organization/netcom', '/organization/beijing-eoemobile-wireless-technology-co-ltd', '/organization/mycaliforniacabs-com', '/organization/fileforce', '/organization/hotdog-systems', '/organization/bluum-com', '/organization/ryan-o-inc', '/organization/facecake-marketing-technologies', '/organization/cryptovision', '/organization/j-v-big-game-outfitters', '/organization/duable-chinese', '/organization/suo-yi', '/organization/ab-jb-properties-and-services', '/organization/southern-po-boys', '/organization/kidpad', '/organization/the-mill-dtlv', '/organization/richard-toland-designs', '/organization/vector-fabrics', '/organization/okwave', '/organization/visionwaves', '/organization/contorion', '/organization/ulaola', '/organization/stage-one-film-pty-ltd', '/organization/thembid', '/organization/re-vinyl', '/organization/sales-beach', '/organization/hangzhou-huato-software', '/organization/shanghai-southgene-technology-co-ltd', '/organization/intraxio-com', '/organization/nupad', '/organization/arclight-media-technology', '/organization/coco-apps', '/organization/coco-s-coconut-company', '/organization/motomotives', '/organization/haitou', '/organization/afb', '/organization/money-mailer', '/organization/lensza', '/organization/indiamart', '/organization/mind-lab', '/organization/momentum-telecom', '/organization/idemama', '/organization/juicy', '/organization/podcast-llc', '/organization/pave', '/organization/sealskinz', '/organization/newyork60-com', '/organization/gigaclear', '/organization/citrus-tv', '/organization/asap', '/organization/tip-network', '/organization/freebee', '/organization/military-cost-cutters', '/organization/dragonpay', '/organization/crack', '/organization/view3', '/organization/switchmate', '/organization/resource-interactive', '/organization/insightwall-technology-solutions', '/organization/ghash-io', '/organization/beijing-huaqi-information-digital-technology-co-ltd', '/organization/yoomly', '/organization/anafocus', '/organization/reachify', '/organization/retrofit-america-inc', '/organization/benbria', '/organization/vecturalux', '/organization/will-2-love', '/organization/manyeta', '/organization/myndnet', '/organization/j-g-enterprises', '/organization/cognea', '/organization/struts-springs', '/organization/cook123', '/organization/spruceling', '/organization/stupeflix', '/organization/avot-media', '/organization/novus', '/organization/greatland-power-corporation', '/organization/new-york-trust', '/organization/computomics-gmbh', '/organization/sieve', '/organization/london-early-years-foundation', '/organization/rentbureau', '/organization/roeser-group', '/organization/singularu', '/organization/blendspace', '/organization/posterstitch-com', '/organization/rarecyte', '/organization/internationalcare', '/organization/niragongo', '/organization/citizendish', '/organization/sharp-analytics', '/organization/velteo', '/organization/lbgloballaw', '/organization/naia-health', '/organization/legimi', '/organization/officehour', '/organization/software-artistry', '/organization/stylisted-2', '/organization/seek-target', '/organization/foodabhi', '/organization/skyatlas', '/organization/fablistic', '/organization/corepoint-health', '/organization/benson-group', '/organization/educreducorp', '/organization/trial-funder-inc-', '/organization/yieldplanet', '/organization/tapshot', '/organization/freewire-technologies', '/organization/ninesixfive', '/organization/indonesian-times', '/organization/pay-with-a-tweet', '/organization/bootstraplabs', '/organization/benefit-defender', '/organization/freegamecredits', '/organization/coordinated-care-systems', '/organization/beenz-com', '/organization/toroleo', '/organization/meal-sharing', '/organization/emiliem', '/organization/skipodium-inc-', '/organization/ulta-beauty', '/organization/usmeu', '/organization/highgate-labs', '/organization/r-health', '/organization/atira-systems', '/organization/eugro', '/organization/unilog', '/organization/onewed-com', '/organization/cantwait', '/organization/employeereferrals-com-2', '/organization/database-angel', '/organization/styliff', '/organization/array-storm-2', '/organization/plurchase', '/organization/streamload', '/organization/lco-creation', '/organization/neuranet', '/organization/crowdtorch', '/organization/revv', '/organization/crowdpatent', '/organization/socialqnect', '/organization/fitogram-de', '/organization/shenzhen-globalegrow-e-commerce', '/organization/b-w-loudspeakers', '/organization/swarm', '/organization/asku', '/organization/cell-a-spot', '/organization/anyang-phoenix-photovoltaic-technology', '/organization/civitfun', '/organization/kolkin-corp', '/organization/mindmatters-technologies', '/organization/magazino', '/organization/wakemate', '/organization/incujector', '/organization/loterity', '/organization/tenzing-managed-it-services', '/organization/localcircles', '/organization/nutrigreen', '/organization/prospect-accelerator', '/organization/filmdoo', '/organization/loopit', '/organization/clever-cloud-computing', '/organization/blue-palace-enterprise', '/organization/action-for-children', '/organization/zubican', '/organization/muuto', '/organization/pink-rebel-shoes', '/organization/stylejam', '/organization/lion-foster-international', '/organization/sigkat', '/organization/getpromotd', '/organization/healthsherpa', '/organization/ipexpert', '/organization/flash-ambition-entertainment-company', '/organization/influicity', '/organization/kit-2', '/organization/resteel', '/organization/coguan-group', '/organization/splory', '/organization/raydyne-energy', '/organization/etherpad', '/organization/jkz-enterprises', '/organization/crowdrally', '/organization/greasebook', '/organization/3-day-blinds', '/organization/encarnate', '/organization/zoned-nutrition', '/organization/renters-boom', '/organization/intrakr', '/organization/figleaves-com', '/organization/the-palisades-group-llc', '/organization/jiubang-digital-technology-co', '/organization/big-red-truck-driving-school', '/organization/metrixlab', '/organization/tank5', '/organization/studying-to', '/organization/bigbrands', '/organization/oldelft-ultrasound', '/organization/chenavari-investment-managers', '/organization/service-seeking', '/organization/venovate', '/organization/telebit', '/organization/coastal-auto-restoration-performance', '/organization/played', '/organization/reading-room', '/organization/openbay', '/organization/beyond-the-box', '/organization/the-foire-sas', '/organization/van-wagner-group', '/organization/nanya-technology-corporation', '/organization/wealink-com', '/organization/teneo', '/organization/intelligent-automation-analytics', '/organization/blitz-x-performance-instruments', '/organization/callfixie', '/organization/mitigram', '/organization/green-elk', '/organization/yumzing', '/organization/financial-investors-insurance-corporation', '/organization/infinisource', '/organization/byteshield', '/organization/matone-cooper-mobile-dentistry', '/organization/aporta-inc', '/organization/squall-2', '/organization/mapinfo', '/organization/gift-card-impressions', '/organization/daniel-s-jewelers', '/organization/meetcast', '/organization/oculex-pharmaceuticals', '/organization/the-coveteur', '/organization/vip-cinema-seating', '/organization/adomos', '/organization/showroom-ng', '/organization/saaswedo', '/organization/noble-plastics-incorporated', '/organization/publikdemand', '/organization/biovitrum', '/organization/globe-icons-interactive', '/organization/acleda-bank', '/organization/v-sense-medical', '/organization/zkyon', '/organization/sirenza-microdevices-inc', '/organization/sure-step', '/organization/ad-dynamo', '/organization/gogogab', '/organization/full-color-games', '/organization/skuid', '/organization/zura', '/organization/fintecsystems', '/organization/healthcare-ttu', '/organization/oncovision', '/organization/biosynthetic-technologies', '/organization/case-commons', '/organization/unity-2', '/organization/patience', '/organization/platiza', '/organization/fastspring', '/organization/ix-innovations', '/organization/intean-poalroath-rongroeurng', '/organization/corous360', '/organization/artwardly', '/organization/indigio-technologies', '/organization/taskdoers', '/organization/shaper', '/organization/goombal', '/organization/grippn-tech', '/organization/clavister', '/organization/poshvine', '/organization/foundersync', '/organization/n-able-technologies', '/organization/vaska-technologies', '/organization/brite-health', '/organization/deep-liquidity', '/organization/consulted', '/organization/hokolinks', '/organization/imagiin', '/organization/app-e-tite', '/organization/scoop-4', '/organization/tackl', '/organization/vupen', '/organization/desall', '/organization/purplle', '/organization/adenosine-therapeutics', '/organization/good-faith-film-fund', '/organization/defensoft', '/organization/nickis-com', '/organization/moka', '/organization/social-2-step', '/organization/ijigg', '/organization/eat-sleep-bark-', '/organization/vssb-medical-nanotechnology', '/organization/eco-armour', '/organization/pushbots', '/organization/styku', '/organization/collective-digital-studio', '/organization/eco-vacay', '/organization/social-plus', '/organization/no-wires-needed', '/organization/ehang-2', '/organization/autoalert', '/organization/teampages', '/organization/leezair', '/organization/bug-bounty-hq', '/organization/zidisha', '/organization/mecon-associates', '/organization/small-world-financial-services-group', '/organization/pharmetrx-inc', '/organization/visualogistic-technologies', '/organization/blue-ocean-software', '/organization/pluto-mail', '/organization/talkmate-2', '/organization/totalmobile-usa', '/organization/kid-care-years', '/organization/hittahem', '/organization/lawdeck', '/organization/sidewalk-labs', '/organization/chictini', '/organization/fabrication-games', '/organization/efinancial-communications', '/organization/nibo', '/organization/immediad', '/organization/friendly-wager', '/organization/autobase-inc', '/organization/spark-the-fire', '/organization/towne-park', '/organization/thrill', '/organization/kazzit-2', '/organization/snapplify', '/organization/sibo-energy', '/organization/insikt-ventures', '/organization/seatme', '/organization/unomy', '/organization/form-devices', '/organization/tradeos', '/organization/pandawhale', '/organization/acronym-media-inc', '/organization/the-locker-room', '/organization/my-energiy-solution', '/organization/the-beer-x-change', '/organization/molinare', '/organization/pathsource', '/organization/targetx', '/organization/l-s-f-enterprises', '/organization/upkeep-charlie', '/organization/steve-little-s-ski', '/organization/merchant-america', '/organization/codegroup', '/organization/barnraiser', '/organization/lighting-by-led', '/organization/the-a-team-clubhouse', '/organization/amwins-group', '/organization/futuregen-capital', '/organization/venucare-medical', '/organization/freshworld', '/organization/smic', '/organization/naturally-yours', '/organization/kingmaker', '/organization/izsearch', '/organization/lakshmi-overseas-industries', '/organization/team-everest', '/organization/e-kare', '/organization/streampipe-com', '/organization/10alike', '/organization/gamador', '/organization/solar-green-energy', '/organization/marizca', '/organization/greentechnology-innovations', '/organization/rivalsoft', '/organization/project-sport-llc', '/organization/denwa-communications', '/organization/zelena-posta-2', '/organization/bombids', '/organization/full-throttle-indoor-kart-racing', '/organization/herbfront-inc', '/organization/bliss-3', '/organization/tethis', '/organization/cards-off', '/organization/dealmarket', '/organization/panda-cashback-llc', '/organization/clearcontract', '/organization/doghero', '/organization/accent-custom-finishings-design-center', '/organization/gamer-guides', '/organization/lugiron-software', '/organization/adient-medical', '/organization/gimalon-ag', '/organization/dealerrater', '/organization/hyperlive', '/organization/jarvam', '/organization/softsyl-technologies', '/organization/crystal-view-capital', '/organization/autoradio', '/organization/john-financial-associates', '/organization/dean-evans-associates', '/organization/andrew-alliance', '/organization/pogby', '/organization/wireless-vision', '/organization/ksy-corporation', '/organization/makara', '/organization/eduvision-retail-technologies-fastudent', '/organization/toolmeet', '/organization/kp-corp', '/organization/sybari', '/organization/catalyst-international', '/organization/automata-technologies', '/organization/amgas', '/organization/carecube', '/organization/freeform-development', '/organization/xsens-technologies', '/organization/knelf', '/organization/rocket-fiber', '/organization/westyleasia', '/organization/push-energy', '/organization/convenience-select', '/organization/genetic-technologies-inc', '/organization/7fgame', '/organization/tutto', '/organization/errand-boy-delivery-business-plan', '/organization/kolibree', '/organization/yupiq', '/organization/huango-cn', '/organization/rockn-rover', '/organization/capturion-network', '/organization/unveillance', '/organization/namedepot-com', '/organization/eco-dream-venture', '/organization/zoomvy', '/organization/partyphile', '/organization/performline', '/organization/wein-der-woche', '/organization/lavedainc', '/organization/miramix', '/organization/dynamic-recreation', '/organization/roadpad', '/organization/sweet-ps', '/organization/aluheat', '/organization/information-security-corporation', '/organization/quib-ly', '/organization/alectrica-motors', '/organization/fiiiling', '/organization/intersystems', '/organization/klangoo', '/organization/propable', '/organization/istafind-ltd', '/organization/msg-lithoglas', '/organization/pk-clean', '/organization/avos-cloud', '/organization/axalent', '/organization/lighthouse-labs-2', '/organization/national-transcript-center', '/organization/paperc', '/organization/intotally', '/organization/pskw', '/organization/voorka', '/organization/weotta', '/organization/international-biomass-group', '/organization/songhi-entertainment', '/organization/sierra-maya-ventures', '/organization/multitouch', '/organization/beri-boulder-electroride', '/organization/thrive-commerce', '/organization/new-media-gateway', '/organization/amorelie', '/organization/moneypool', '/organization/natives', '/organization/invoiceable', '/organization/archive', '/organization/haileo', '/organization/possible-web', '/organization/vesel-interactive', '/organization/signeasy', '/organization/digitalglobe', '/organization/starmod', '/organization/posfinance', '/organization/shape-collage', '/organization/mobile-ads', '/organization/wakozi', '/organization/metropolis-healthcare', '/organization/new-school-of-cooking', '/organization/the-critical-press', '/organization/job36', '/organization/profumeriaweb', '/organization/talentwunder', '/organization/global-energy-innovation', '/organization/smart-loyalty', '/organization/highpoint-solutions', '/organization/furor-technologies-pvt-ltd', '/organization/shanghai-e-p-international', '/organization/bernooli', '/organization/lingomotors', '/organization/pacific-atlantic-equity-group', '/organization/empact-interactive-media-inc', '/organization/gallantcloud-games', '/organization/florapulse', '/organization/healthtone', '/organization/circular', '/organization/socialcompare', '/organization/emelody-worldwide', '/organization/adtrade', '/organization/attachingit', '/organization/snap-rewards', '/organization/omg', '/organization/transdimension', '/organization/mumsway', '/organization/fengguo', '/organization/safehouse', '/organization/the-bridge', '/organization/diplopia', '/organization/dreamsaver-enterprises-llc', '/organization/ameritas-technologies', '/organization/meetmeals', '/organization/alipay', '/organization/inc42', '/organization/microlytic', '/organization/clutch-io', '/organization/hotelsaroundyou', '/organization/motini', '/organization/voxon', '/organization/nimbledroid', '/organization/purple-binder', '/organization/footfalls-heartbeats', '/organization/dropmysite', '/organization/pipelend', '/organization/kilobaser', '/organization/mistbase', '/organization/new-chapter', '/organization/activity-rewards-ltd', '/organization/lemoptix', '/organization/speedtax', '/organization/build-a-sign', '/organization/talkbox-voice-messenger', '/organization/drivek', '/organization/tubett', '/organization/nutrium', '/organization/investfeed-com', '/organization/glean-in', '/organization/hoonto', '/organization/future-domain', '/organization/volans-i', '/organization/rollerzone-skating-rink', '/organization/arrayshield', '/organization/sweet-unknown-studios', '/organization/realtargeting', '/organization/turbina-energy-ag', '/organization/mesalva', '/organization/attila-technologies', '/organization/safetytat', '/organization/ispeak', '/organization/figure-4', '/organization/data-expedition', '/organization/aiwip-limited', '/organization/nudestix', '/organization/sharedreviews', '/organization/riviera-travel', '/organization/regenesance', '/organization/clctin', '/organization/heroz', '/organization/golimi', '/organization/spacedeck', '/organization/capablue', '/organization/transerv', '/organization/technovax', '/organization/c-note', '/organization/fantasybook', '/organization/birbl', '/organization/sharematic', '/organization/nest-fragrances', '/organization/j2-innovations', '/organization/findable-in', '/organization/topshelf-clothes', '/organization/toflo', '/organization/carnegie-design-systems', '/organization/pijajo-com', '/organization/wildby', '/organization/elephantdrive', '/organization/customized-bartending-solutions', '/organization/bumpr', '/organization/brisbane-materials-technology', '/organization/jeeran', '/organization/eashmart', '/organization/translationexchange', '/organization/tuvalum-2', '/organization/blue-wonder-communications-gmbh', '/organization/sociolla', '/organization/krypton-media-group', '/organization/lili-b-enterprises', '/organization/digidentity', '/organization/harlyn-medical', '/organization/nap-naturally-attached-parents', '/organization/wummelkiste', '/organization/snapshop', '/organization/c3rs', '/organization/employment-com', '/organization/buildingeye', '/organization/boylan-bottling', '/organization/giveit100', '/organization/axeleo', '/organization/endaga', '/organization/lingoda', '/organization/ensol-inc', '/organization/renowala', '/organization/catamaran-2', '/organization/carmichael-training-systems', '/organization/autoreflex-com', '/organization/izytrack', '/organization/funsherpa', '/organization/stadion-money-management', '/organization/ocean-s-edge', '/organization/designs-by-leonardo', '/organization/frisco-pl', '/organization/appsocially', '/organization/bag-of-goodies', '/organization/blueanatomy', '/organization/astrum-solar', '/organization/anyadir-education', '/organization/curatio', '/organization/hi-lo-lodge', '/organization/edutise', '/organization/rml-information-services-ltd', '/organization/yourshore', '/organization/timekit', '/organization/anytime-dd', '/organization/2b-angels', '/organization/tweetmysong-2', '/organization/brilent', '/organization/social-club-hub', '/organization/weroom', '/organization/secursolutions-llc', '/organization/heart-genetics', '/organization/band-metrics', '/organization/hugefly-techonologies', '/organization/picturae', '/organization/coinpay', '/organization/bnooki', '/organization/laz-karp', '/organization/silicon-alley-media', '/organization/gruvie', '/organization/emay-softcom', '/organization/charge-on-international-webtv-production', '/organization/rawstream', '/organization/target-entertainment-properties', '/organization/hands', '/organization/yadox', '/organization/splendor-telecom-uk', '/organization/mixd-tv', '/organization/adea-cutters', '/organization/sharecruit', '/organization/trippy-bandz', '/organization/ind-lifetech-china-co-ltd', '/organization/earthwise-ferries-uganda-limited', '/organization/locaweb', '/organization/litepoint', '/organization/spareshub', '/organization/bandar-foods', '/organization/applied-biomimetic', '/organization/apprupt', '/organization/drone-delivery-canada', '/organization/pocketfungames', '/organization/hydrologex-llc', '/organization/pulpworks-inc', '/organization/sense-inside-gmbh', '/organization/iventures-asia-ltd', '/organization/universal-robots', '/organization/loftyvistas', '/organization/pharmaceutic-litho---label-company', '/organization/zinier', '/organization/prodagio-software', '/organization/interresolve', '/organization/srj', '/organization/iggli', '/organization/xcorp', '/organization/aura-life', '/organization/medineering', '/organization/pure-barre', '/organization/urban-cargo', '/organization/intelliquest-information-group-inc', '/organization/syncspot', '/organization/comet-biorefining', '/organization/exozet', '/organization/express-kcs', '/organization/simplr-just-for-campus', '/organization/seven-media-productions-group-llc', '/organization/touch-payments', '/organization/caster-ventures', '/organization/orange-glow-music', '/organization/infiniteach', '/organization/adi-engineering', '/organization/syobe', '/organization/voolgo', '/organization/beijing-eedoo-technology-ltd', '/organization/poster-inc', '/organization/us-drum-supply', '/organization/launchpilots', '/organization/stampt', '/organization/zdrowegeny-pl', '/organization/motor-vehicle-software', '/organization/mpayy', '/organization/barcoding', '/organization/revol-technologies', '/organization/alphasights', '/organization/lucky-day', '/organization/mediawallah', '/organization/nunook-interactive', '/organization/foodcloud', '/organization/ecoles-yassamine', '/organization/orteq', '/organization/kawaii-museum', '/organization/express-medical-transporters', '/organization/jbi-fish-wings', '/organization/doublie', '/organization/arrington-management-services', '/organization/myclique', '/organization/global-top-level', '/organization/ticket-surf-international', '/organization/goods-platform', '/organization/nanotherm', '/organization/posmetrics', '/organization/s4e', '/organization/urbndesignz', '/organization/nrg-dynamix', '/organization/ion-signature', '/organization/bar-vista-homes', '/organization/gamaliel', '/organization/shoe-lovers', '/organization/indusdiva-com', '/organization/fasterweb', '/organization/engage-resources', '/organization/moovooz', '/organization/interviewling', '/organization/peeeks', '/organization/podposter', '/organization/progressive-finance', '/organization/fermentas-international', '/organization/easysize', '/organization/sun-skin-care-research', '/organization/internetcorp', '/organization/aiderss', '/organization/yoowalk', '/organization/sak-project', '/organization/ic-solutions', '/organization/life-with-linda', '/organization/omega-discovery-solutions', '/organization/successfactors', '/organization/limetray', '/organization/trymph', '/organization/neural', '/organization/jeeves', '/organization/t-cell-europe-gmbh-2', '/organization/indifi-technologies', '/organization/check24', '/organization/fiftyfiver', '/organization/cybits', '/organization/tabup', '/organization/the-gay-financial-network', '/organization/channel-intellect', '/organization/primex-pharmaceuticals', '/organization/chorus', '/organization/dotproduct', '/organization/prismhr', '/organization/youbeq-maps-with-life', '/organization/kolonial-cz', '/organization/domains-income', '/organization/cribfrog', '/organization/smartrx', '/organization/nu3', '/organization/artsapp', '/organization/snap-fashion', '/organization/develop-link', '/organization/audiocure-pharma', '/organization/sayhired', '/organization/lang', '/organization/futuristic-data-management', '/organization/eplata', '/organization/zapacab', '/organization/eflow-2', '/organization/verlocal', '/organization/ip-only', '/organization/attractive-black-singles-llc', '/organization/customvine', '/organization/digitzs', '/organization/armut', '/organization/arris-group', '/organization/decipher', '/organization/ringcl', '/organization/acqua-innovations', '/organization/solaris-solar-heating', '/organization/supercloud', '/organization/vivense-home-living', '/organization/rentmonitor', '/organization/trendient', '/organization/amedo-smart-tracking-solutions-gmbh', '/organization/avec-lab', '/organization/the-web-collaboration-network', '/organization/tradefoxx', '/organization/etherfax', '/organization/recognia', '/organization/hopcab', '/organization/addictive', '/organization/nearme-services-oy', '/organization/smoope-gmbh', '/organization/hexology', '/organization/arledia', '/organization/winestyr', '/organization/ostendio', '/organization/milestone-av-technologies', '/organization/ezose-sciences', '/organization/blue-marble-materials', '/organization/grillin-in-the-city', '/organization/gine-inc', '/organization/led-optics', '/organization/foodtext', '/organization/ror-media', '/organization/innova-dynamics', '/organization/mixupload', '/organization/audibene', '/organization/yoshirt', '/organization/g2link', '/organization/hunt-m-ads', '/organization/breeze-4', '/organization/dexawave', '/organization/returbo', '/organization/gilon-business-insight', '/organization/c-and-a-energy-services', '/organization/sophia', '/organization/beryl-wind-transportation', '/organization/masteryprep', '/organization/blueprinter', '/organization/parkya', '/organization/flutura-solutions', '/organization/afrostream', '/organization/fundapps', '/organization/flashtalking', '/organization/sundial-brands', '/organization/rowbot-systems', '/organization/24med-sp', '/organization/medblue', '/organization/promobucket', '/organization/diy-shop', '/organization/captiv8-2', '/organization/big-screen-tools', '/organization/ofunnel', '/organization/thington', '/organization/shareboard', '/organization/issuenation', '/organization/bestimators-llc', '/organization/synaffix', '/organization/biexdiao-com', '/organization/stormwater-filters-corp', '/organization/eatingwell', '/organization/the-library-bar-grille', '/organization/getlook', '/organization/justus-ltd', '/organization/the-bearmill-of-amarillo-l-l-c', '/organization/cocubes', '/organization/ridge-resources', '/organization/steven-winston-llc', '/organization/professional-logical-solutions', '/organization/cryptotrustpoint', '/organization/borã©al-bikes-incorporated', '/organization/stockbit', '/organization/telemetryweb', '/organization/mobstats', '/organization/kids-quizine', '/organization/diakine-therapeutics', '/organization/kealy-beverage-company', '/organization/urban-broadcasting-company', '/organization/mmim-technologies-pica', '/organization/binwise', '/organization/the-exchange-visionary-laboratories', '/organization/aframe-digital', '/organization/mode-diagnostics', '/organization/123people', '/organization/amromco-energy', '/organization/klick2contact', '/organization/little-bird-gmbh-2', '/organization/1-800-dentist', '/organization/sparling-studio', '/organization/lexington-software', '/organization/rag-bone', '/organization/attify', '/organization/sandbox-studio', '/organization/fanhero', '/organization/kombe-n-sepe-block', '/organization/smart-send-pty-ltd', '/organization/lelong', '/organization/ibloom-technologies', '/organization/weiboagent', '/organization/panoptic-security', '/organization/pro-swift-ventures', '/organization/amcad', '/organization/i-and-love-and-you', '/organization/open-me', '/organization/nobly-point-of-sales', '/organization/kickplay', '/organization/inspiry', '/organization/secondfloor', '/organization/the-news-lens', '/organization/crescentrating', '/organization/pijon', '/organization/spotahome', '/organization/kicknote', '/organization/greenside-holdings', '/organization/flexgen', '/organization/alphasmart', '/organization/gosurf-accessories', '/organization/healthshare', '/organization/dyli', '/organization/fitonic', '/organization/prestodiag', '/organization/sarata', '/organization/learn-it-live', '/organization/vow-to-be-chic', '/organization/chemrec', '/organization/identify', '/organization/prolebrity', '/organization/evolutionary-genomics', '/organization/peertrader', '/organization/outdoor-creations', '/organization/guangzhou-youboy-network', '/organization/fivetran', '/organization/tech-exile', '/organization/a-e-complete-home-services', '/organization/bohemia-interactive-simulations', '/organization/sirona-spring', '/organization/cro-yachting', '/organization/petkit', '/organization/tasspass', '/organization/virtualmin', '/organization/melon', '/organization/xango-com', '/organization/netspeed-systems', '/organization/veeip', '/organization/klang-games', '/organization/storemore', '/organization/freewave-tech-solutions-private-limited', '/organization/indieporch', '/organization/tradeglobal', '/organization/ekoio-labs', '/organization/litelabs', '/organization/gnammo', '/organization/orthomend-corporation', '/organization/sentio', '/organization/mycampustutors', '/organization/waluzi', '/organization/lifeshel', '/organization/foodoro', '/organization/recommendo', '/organization/snappy-shuttle', '/organization/linguee', '/organization/silicon-mitus', '/organization/project-insiders', '/organization/campbx', '/organization/qxl-ricardo-plc', '/organization/superhuman', '/organization/zoposh-malaysia', '/organization/tiltap', '/organization/atlantic-healthcare', '/organization/agentrun', '/organization/9flats', '/organization/triton-2', '/organization/hairdressr', '/organization/dotmobi', '/organization/north-plains', '/organization/rentobo', '/organization/girly-stuff-inc', '/organization/giftpass', '/organization/spinder', '/organization/biix-inc', '/organization/smart-3', '/organization/kupibonus', '/organization/apparent', '/organization/contastic', '/organization/dry-lube', '/organization/aupeo', '/organization/blissful-feet-dance-studio', '/organization/falcon-expenses-inc', '/organization/audience-partners', '/organization/overture-services', '/organization/modafirma', '/organization/vital-energi', '/organization/main-pulze', '/organization/pocketvillage', '/organization/winkapp', '/organization/faah-pharma', '/organization/mytennislessons', '/organization/grey-island-energy', '/organization/very-venice-art', '/organization/heyshop', '/organization/intelrad', '/organization/pop-properties', '/organization/bookingabus-com', '/organization/excelsior-industries', '/organization/hydrostor', '/organization/guiltlessbeauty-com', '/organization/squared-products', '/organization/sdi', '/organization/leaseonline', '/organization/homerun', '/organization/morningstar-investments', '/organization/discount-ramps', '/organization/sharpnd', '/organization/tooteko', '/organization/dentazoom', '/organization/mwr-infosecurity', '/organization/parallocity', '/organization/pagpop', '/organization/blufon', '/organization/wisepricer', '/organization/kochzauber', '/organization/topeka-capital-markets', '/organization/zaya', '/organization/irewardchart', '/organization/levelfunded-health', '/organization/trunkbird', '/organization/friendsurance', '/organization/lingdong-com', '/organization/snapshopr', '/organization/classical-connection', '/organization/flaconi', '/organization/archibald-optics', '/organization/stoke-2', '/organization/aftersteps', '/organization/belocal-2', '/organization/vintage-parts', '/organization/ccure', '/organization/tradyo', '/organization/hari-mari', '/organization/ekos-global', '/organization/chengdu-santai-electronics-industry', '/organization/saperion', '/organization/zarthcode', '/organization/zikher-inc-', '/organization/bay-micro', '/organization/innovaci', '/organization/cleanslate', '/organization/mychurch', '/organization/advanced-flow-technologies', '/organization/banksnob', '/organization/good-worldwide-inc-good-magazine', '/organization/varick-media-management', '/organization/clipkit', '/organization/intoo-app', '/organization/awaaz-de', '/organization/classconnect-technologies', '/organization/jk-group', '/organization/empower-futures', '/organization/autowatts', '/organization/momentum-machines', '/organization/mobile360', '/organization/marina-limousine', '/organization/qruso', '/organization/anelletti-sicilian-street-food-restaurants', '/organization/saqina', '/organization/lit-building-directory', '/organization/althea-inc', '/organization/magicalis', '/organization/valued-relationships', '/organization/keclon', '/organization/cardshark-poker-products', '/organization/cloudhesive', '/organization/e-generator', '/organization/knack-it', '/organization/multiphoton-optics-gmbh', '/organization/gastrotech-pharma', '/organization/zhiwo', '/organization/secusmart', '/organization/the-fabulous', '/organization/phonero', '/organization/vidzor', '/organization/kapsica-media', '/organization/vozeeme', '/organization/custom-coup', '/organization/scopial-fashion', '/organization/global-data-machine', '/organization/poseidon-saltwater-systems-inc', '/organization/bionaturis', '/organization/rank-by-search', '/organization/estate', '/organization/5by', '/organization/hastings-manufacturing-company', '/organization/poetica', '/organization/buyfi', '/organization/ways-to-wellness', '/organization/american-thermal-power', '/organization/todaytickets', '/organization/movolo-com', '/organization/ecofuels-kenya', '/organization/lend-street-financial-inc-', '/organization/prohance', '/organization/launchbox-digital', '/organization/stacksearch-2', '/organization/qipp', '/organization/shandong-rongqing', '/organization/carehubs', '/organization/webcrunch', '/organization/ubzerv', '/organization/incentto', '/organization/legions', '/organization/codingpeople', '/organization/churchkey-can-co', '/organization/verication', '/organization/angelcrunch', '/organization/clubtrader-llc', '/organization/architonic', '/organization/vtex', '/organization/actix', '/organization/cal-quantum-therapeutics-div', '/organization/gamemaster', '/organization/newcloud-networks', '/organization/aki', '/organization/meditech-2', '/organization/five-2', '/organization/watsin', '/organization/ballparc', '/organization/iceni-therapeutics', '/organization/brys-edgewood', '/organization/matchlend', '/organization/lebuzz', '/organization/blossom-records', '/organization/or-be-square', '/organization/quotiful', '/organization/pixia', '/organization/vengine', '/organization/first-class-ev-conversions', '/organization/protectimmun-gmbh-2', '/organization/rategator', '/organization/signalhorn', '/organization/active-navigation', '/organization/westore', '/organization/healers-at-home', '/organization/connectivity-data-systems', '/organization/the-old-vinyl-factory', '/organization/circle-watch', '/organization/suphalaam-cakart-in', '/organization/horizontal-systems', '/organization/ppc-engine', '/organization/qqbaobao-com', '/organization/dinndinn', '/organization/morganna-s-alchemy', '/organization/technimark', '/organization/goyaka-inc', '/organization/report-bee', '/organization/codetoki', '/organization/roobi', '/organization/hireteammate', '/organization/portable-medical-technology', '/organization/weetabix', '/organization/designgooroo', '/organization/docspera', '/organization/specialty-soybean-farms-inc', '/organization/samuels-sleep-shop', '/organization/blyncsy', '/organization/bettech-gaming', '/organization/c-r', '/organization/worldscape', '/organization/windsor-group', '/organization/bizeso-services-private-limited', '/organization/ifco-systems', '/organization/tracktivity', '/organization/pulpo-media', '/organization/kissmyads', '/organization/cloudvertical', '/organization/wavo-me', '/organization/rfideas', '/organization/aqarmap', '/organization/project-liberty-digital-incubator', '/organization/desafã\\xado-tã¡ctico', '/organization/dssv', '/organization/pinoy-classifieds', '/organization/wijhoudenvanvers', '/organization/ektitaby', '/organization/v2-ratings', '/organization/cv-properties', '/organization/kulina', '/organization/clixtr', '/organization/uvore', '/organization/social-tree-media', '/organization/fnd', '/organization/data-physics-corporation', '/organization/jfs-westholme-farm-biogas', '/organization/jobcast-2', '/organization/frameblast', '/organization/lifesquare', '/organization/live-matrix', '/organization/gladfly-2', '/organization/priceline-driving-school', '/organization/pharmedium-healthcare', '/organization/awcloud', '/organization/biohealthonomics-inc', '/organization/hydro-photon', '/organization/pegasus-solar', '/organization/livares-technologies', '/organization/parts-town', '/organization/salesjob', '/organization/rotaban', '/organization/amatra-smartsource', '/organization/yto-express', '/organization/quincee', '/organization/refined-energy', '/organization/qlipso', '/organization/earth-med', '/organization/softwareone', '/organization/noteleaf', '/organization/logisticare', '/organization/qipu-2', '/organization/bica-studios', '/organization/watchfrog', '/organization/sessa', '/organization/finderly', '/organization/mimanzana', '/organization/sendrr', '/organization/empower2adapt', '/organization/primis-marketing-group', '/organization/coolstuff', '/organization/venturenet-capital-group', '/organization/guidekick', '/organization/voxapp', '/organization/xpec-entertainment', '/organization/cruse-environmental-technology', '/organization/survey-sampling', '/organization/dressipi', '/organization/controlled-power-technologies', '/organization/taifatech', '/organization/getmaid', '/organization/echobox', '/organization/aspiring-minds', '/organization/youlicit', '/organization/stayglad', '/organization/travelzeeky', '/organization/geotechnologies', '/organization/drone-labs-llc', '/organization/the-history-press', '/organization/mzl-shine-cleaning', '/organization/zooplus', '/organization/mapps-com', '/organization/safety-signs', '/organization/shift-media', '/organization/jigsaw-enterprises', '/organization/snapsuits', '/organization/pace-tech--llc', '/organization/asia-pacific-marine-container-lines', '/organization/cambridge-cmos-sensors', '/organization/sirve-s-a', '/organization/internet-america-inc', '/organization/skullcandy', '/organization/redkite-financial-markets', '/organization/invine', '/organization/bornevia', '/organization/rapt-fm', '/organization/525j-com-cn', '/organization/ftapi-software', '/organization/buzzinate-information-technology-company', '/organization/fairwinds-ccc', '/organization/dbmaestro', '/organization/magic-pony-technology', '/organization/eyeio', '/organization/myla', '/organization/data-sentry-solutions', '/organization/pure-home', '/organization/campusbolt', '/organization/xsigo', '/organization/zoomabet', '/organization/surface-medical', '/organization/click-notices-inc', '/organization/culture-connect', '/organization/enconcert', '/organization/getscale', '/organization/galecto-biotech', '/organization/lutris-technologies', '/organization/alwayson', '/organization/gw-services', '/organization/tactical-information-systems', '/organization/infodif', '/organization/storone', '/organization/pacific-pathway', '/organization/pirate-custom-carz-2', '/organization/4wave', '/organization/dropstor', '/organization/zolpy', '/organization/ams-varicode', '/organization/gerijoy', '/organization/bandcamp', '/organization/lead-link', '/organization/colab-re', '/organization/placefirst', '/organization/cloudsync', '/organization/cardpool', '/organization/deanslist-inc', '/organization/inhomevest', '/organization/litbit', '/organization/intergloss-com', '/organization/biva', '/organization/pathagility', '/organization/kultevat-inc-', '/organization/pet-protect-plan', '/organization/malesbanget', '/organization/24h00', '/organization/amp-your-good', '/organization/ivillage', '/organization/loupe', '/organization/bootdev', '/organization/freshdigitalgroup', '/organization/beyondtrust', '/organization/mobyko', '/organization/color-promos-inc', '/organization/bushido', '/organization/netdragon-websoft', '/organization/truust-neuroimaging', '/organization/griffid', '/organization/thrive-6', '/organization/appydrink', '/organization/frugalmechanic', '/organization/la-famiglia-investments', '/organization/shanghai-woyo-network-science-and-technology', '/organization/laserleap', '/organization/varxity-development-corp', '/organization/mengero', '/organization/receept', '/organization/renal-treatment-centers', '/organization/xtreme-installs', '/organization/sms-coupon', '/organization/patient-communicator', '/organization/skiin-fundementals', '/organization/tranette', '/organization/openrent', '/organization/websidestory', '/organization/codeeval', '/organization/i-drive', '/organization/parcelion-corporation', '/organization/crunch-e', '/organization/intellectual-investments', '/organization/multi-service-corporation', '/organization/dishoomit', '/organization/business-combined', '/organization/startupbootcamp-fintech-singapore', '/organization/ioxd', '/organization/3funnel', '/organization/smarttime-software', '/organization/lezu365', '/organization/planettran', '/organization/appnique', '/organization/u2opia-mobile', '/organization/trakinvest', '/organization/15shopstop', '/organization/shopandsave', '/organization/red-sky-lab', '/organization/gen3-partners', '/organization/kettlepost-inc-', '/organization/specified-testing-labs', '/organization/jnaapti', '/organization/the-americas-card', '/organization/fenway-summer-llc', '/organization/goonies', '/organization/mea-nea', '/organization/zjdg-cn', '/organization/livebytouch', '/organization/chefhost', '/organization/commonweal-housing', '/organization/greenqloud', '/organization/corrigan-and-aburn-sportswear', '/organization/linked-restaurant-group', '/organization/movl', '/organization/skillwiz', '/organization/yobble', '/organization/binary-computer-solutions-inc', '/organization/myloma-gmbh', '/organization/maganda-pure-minerals', '/organization/tivo', '/organization/staffinsight', '/organization/guard-llama', '/organization/squadmail', '/organization/the-epsilon-project', '/organization/mesynthes', '/organization/sortech-ag', '/organization/zazzy', '/organization/anyvite', '/organization/maideasy', '/organization/zonbo-media', '/organization/getqd', '/organization/united-prototype', '/organization/government-contract-professionals', '/organization/aquabling', '/organization/moji-fengyun-beijing-software-technology-development-co', '/organization/well-mansion-for-expecteens', '/organization/dealersocket', '/organization/filter-ly', '/organization/cardiovascular-provider-resource-holdings', '/organization/enval', '/organization/chalkrow-ventures', '/organization/empower-microsystems', '/organization/osa-technologies', '/organization/hunton-oil', '/organization/imagineair', '/organization/human-planet', '/organization/digisurf-inc-', '/organization/curtis-berryman-son-cremation', '/organization/customer-alliance', '/organization/amsterdam-castle-ny', '/organization/motivating-wellness', '/organization/epiphany-digital', '/organization/new-day-at-work', '/organization/house-of-control', '/organization/mofibo', '/organization/central-conveyor', '/organization/boursorama-bank', '/organization/agrobotics-llc', '/organization/hybridsite-web-services', '/organization/inetu-managed-hosting', '/organization/clark-enterprises-2000-inc', '/organization/gnex', '/organization/fotoup', '/organization/good-seed', '/organization/root-2', '/organization/eye-q-development', '/organization/cardmunch', '/organization/kiana-analytics', '/organization/paragon-software-2', '/organization/super', '/organization/larcobaleno', '/organization/scholarship-consultants', '/organization/coupsta', '/organization/metanotes', '/organization/tizaro', '/organization/textrecruit', '/organization/hearthside-food-solutions', '/organization/arqule', '/organization/fama', '/organization/rippleshot', '/organization/speedy-packets', '/organization/public-verification', '/organization/jitterbit', '/organization/sucuri-llc', '/organization/crowdwave', '/organization/beachhead-exports-usa', '/organization/causecast', '/organization/mandic', '/organization/b-famous-media-llc', '/organization/euroffice', '/organization/dhomain-llc', '/organization/light-extraction', '/organization/wam-enterprises', '/organization/tqsurvey', '/organization/robot-media', '/organization/gometro', '/organization/xerico-technologies', '/organization/cleanng', '/organization/south-optical-technology', '/organization/oneconcern', '/organization/joblocal', '/organization/alexar-therapeutics', '/organization/wayne-trademark', '/organization/abs-medical', '/organization/popbasic', '/organization/productplay', '/organization/priyo', '/organization/responde-ai', '/organization/dragdis', '/organization/splash-fm', '/organization/vdi-laboratory', '/organization/yamei-electronics', '/organization/goodwest-industries', '/organization/swift-3', '/organization/crossinx', '/organization/next-generation-systems', '/organization/garages2envy', '/organization/acheev-it', '/organization/serviceful', '/organization/victoria-plumb', '/organization/touchotel', '/organization/procare-restoration-services', '/organization/team-software-innovations-inc', '/organization/6px', '/organization/viacycle', '/organization/coding-technologies', '/organization/global-protein-solutions', '/organization/car-quids', '/organization/safety-changer', '/organization/eeme', '/organization/embrace-innovations', '/organization/introniche', '/organization/miinto-nl', '/organization/searchman-seo', '/organization/anyone-home', '/organization/ofixu', '/organization/mro', '/organization/hellodisplay', '/organization/moncv-com', '/organization/acceleforce', '/organization/straight-up-english', '/organization/vieweet', '/organization/spare-time', '/organization/newency', '/organization/squir-technologies-4', '/organization/huterra', '/organization/ascension-technology-group', '/organization/relatient', '/organization/timberfish-technologies', '/organization/shimauma-print-system', '/organization/therosteon', '/organization/rasmussen-reports', '/organization/arris-networks', '/organization/sociall', '/organization/nxtm', '/organization/make-tv', '/organization/product-test', '/organization/operator', '/organization/snipshot', '/organization/outernet-2', '/organization/all-together-now', '/organization/bewakoof', '/organization/onelook-2', '/organization/zenedy', '/organization/gosquared', '/organization/everquest', '/organization/haxiu-com', '/organization/barnpengar', '/organization/kidscash', '/organization/hit-streak-music-llc', '/organization/cambiatta', '/organization/advice-hub', '/organization/clarity-software-solutions', '/organization/hellofax', '/organization/lexshares', '/organization/eayun', '/organization/grin-publishing', '/organization/sercle-2', '/organization/mova', '/organization/drywave', '/organization/code-on-network-coding', '/organization/beijing-shiji-information-technology', '/organization/1000lookz', '/organization/tevido-biodevices', '/organization/frogmetrics', '/organization/superplayer', '/organization/truly-accomplished', '/organization/endeavour-software', '/organization/chalkboard', '/organization/h-c-carbon-gmbh', '/organization/editorially', '/organization/daqo-new-energy-corp', '/organization/youngcracks', '/organization/genomedx-biosciences', '/organization/mobilepeak', '/organization/wonderhowto', '/organization/acunote', '/organization/digital-luxury', '/organization/rock-it-cargo', '/organization/westlake-hardware', '/organization/synecor', '/organization/chenghai-technology', '/organization/provident-link', '/organization/sendoid', '/organization/klozee', '/organization/sharesvault', '/organization/colixo', '/organization/validately', '/organization/ahp-billing-services', '/organization/ild-teleservices', '/organization/classy', '/organization/hole-19', '/organization/hc-rods-and-customs', '/organization/six-month-smiles', '/organization/zank-mobi', '/organization/303-luxury-car-service', '/organization/myprgenie', '/organization/carreira-beauty', '/organization/wingu', '/organization/hastify', '/organization/the-digital-bra', '/organization/zencash', '/organization/eco-gen-energy', '/organization/pivit-labs', '/organization/distalmotion', '/organization/chaoli-hi-tech', '/organization/dining-secretary', '/organization/televerde', '/organization/ghh-commerce', '/organization/solv-staffing', '/organization/italia-online', '/organization/startupbootcamp-hightechxl', '/organization/epivios', '/organization/gumiyo', '/organization/testhub-gmbh', '/organization/aptos-industries', '/organization/kool-kid-kent', '/organization/the-sports-skinny-2', '/organization/sendah-direct', '/organization/vng', '/organization/evans-easyspace', '/organization/delta-systems-engineering', '/organization/rival-theory', '/organization/firefly-space-systems', '/organization/rentlord', '/organization/newton-court', '/organization/ipvision', '/organization/1cloudstar-asia', '/organization/the-kimberly-organization', '/organization/lehrer-online', '/organization/sanjet-technology', '/organization/travtar', '/organization/herrenschmiede', '/organization/caddiville-auto-sales', '/organization/admetsys', '/organization/globe-wireless', '/organization/clear-technology-systems', '/organization/empowering-technologies-usa', '/organization/ligilo', '/organization/ansing-technology', '/organization/popset', '/organization/cupid-labs', '/organization/autoda', '/organization/buena-park-locksmith', '/organization/heekya', '/organization/keeple---keep-it-simple', '/organization/newhive', '/organization/funksac', '/organization/trademark-homes', '/organization/beetle-beats', '/organization/mcafee', '/organization/novede-entertainment', '/organization/standard-im-inc', '/organization/mondokio', '/organization/the-preferred-prepaid', '/organization/zirmed', '/organization/carzumer-3', '/organization/socloz', '/organization/get-me-listed', '/organization/inaaya', '/organization/nova-medical-centers', '/organization/magenta-computacion', '/organization/pepper-networks', '/organization/local-orbit', '/organization/intrastage', '/organization/remedy-systems', '/organization/the-green-life-guides', '/organization/genlot', '/organization/4blox', '/organization/worldbusiness-capital', '/organization/inflowcontrol', '/organization/qire', '/organization/frogapps', '/organization/testsoup', '/organization/mixertech', '/organization/ala-septic', '/organization/solutionz-technologies-llc', '/organization/fig-4', '/organization/catapooolt', '/organization/bluespace', '/organization/enoware', '/organization/working-out-works', '/organization/fashion-movement', '/organization/misfit-juicery', '/organization/oohilove', '/organization/petsmart', '/organization/angkor-residences', '/organization/browsarity', '/organization/lee-silber', '/organization/playphilo-com', '/organization/cannasys', '/organization/liefery', '/organization/minhash', '/organization/edsby', '/organization/baratz-consulting-services', '/organization/fringefy', '/organization/carroll-cuisine', '/organization/kanchufang', '/organization/fflick', '/organization/angelprime', '/organization/liveloop', '/organization/code-to-work', '/organization/edrover', '/organization/picwing', '/organization/fusion-housing', '/organization/admaster', '/organization/uni-control', '/organization/storypanda', '/organization/unreel', '/organization/bitcalm', '/organization/pantheon-park', '/organization/hoosier-hot-dogs-inc', '/organization/makepolo-com', '/organization/nodishes-co-uk', '/organization/summon', '/organization/ishippo', '/organization/razoom-2', '/organization/chatterplug', '/organization/skymind', '/organization/buidingsp-inc', '/organization/cidco', '/organization/rudy-s-barbershop', '/organization/makeaffinity', '/organization/mbdc-media', '/organization/magna-2', '/organization/procesa-chiapas', '/organization/kellian-capital', '/organization/dualog', '/organization/6ep', '/organization/sirnaomics', '/organization/mobilinga', '/organization/toria', '/organization/mylumper', '/organization/popchips', '/organization/yadu', '/organization/domoone', '/organization/musaic', '/organization/staq', '/organization/chips-and-technologies', '/organization/wow-lk', '/organization/lifeenergy', '/organization/ilusis', '/organization/tailgate-technologies', '/organization/car-demons', '/organization/e-isg-asset-intelligence', '/organization/bionovion', '/organization/istyle-kk', '/organization/lemonstand', '/organization/shanghai-qianrui-clothes-co-ltd', '/organization/conferenceedge', '/organization/h-h-supply-of-tn', '/organization/lawyerpaid', '/organization/homeslice-2', '/organization/zaplee', '/organization/peek-u', '/organization/hoover-container-solutions', '/organization/txtr', '/organization/hive-social-inc', '/organization/eyedentify', '/organization/pubster', '/organization/crowdclear', '/organization/logiclibrary', '/organization/spin-ink-ltd', '/organization/dnae-ltd', '/organization/healthwyse', '/organization/kidnimble', '/organization/spindrift', '/organization/intelle-innovations', '/organization/jammin-java', '/organization/dinos-rule', '/organization/tansler', '/organization/sota-solutions-gmbh-2', '/organization/sedemac-mechatronics', '/organization/funanga', '/organization/geili-giving', '/organization/avalon-global-solutions', '/organization/flavrbox', '/organization/hands-hq', '/organization/tradono', '/organization/yingke-industrial', '/organization/gaoxing-co-ltd', '/organization/instragrok', '/organization/your-last-chance', '/organization/viewpoint-llc', '/organization/ankh-genetics', '/organization/eurotri', '/organization/netsanity', '/organization/nidmi', '/organization/mi9-retail', '/organization/clipik', '/organization/anti-germ-medentech', '/organization/bougue', '/organization/efficient-photon', '/organization/edisun-heliostats', '/organization/hangzhou-kubao-science-and-technology-co-ltd', '/organization/energy-watch', '/organization/gambody', '/organization/kingdom-kids-academy', '/organization/collectively-3', '/organization/caprally', '/organization/nelbee', '/organization/plusgrade', '/organization/sendergen-inc-', '/organization/bloompop', '/organization/slate-realty', '/organization/invotek-inc', '/organization/cga-endowment', '/organization/smart-picture-tech', '/organization/botanical-tans', '/organization/lulu-s-fashion-lounge', '/organization/schumon-co', '/organization/pressidium', '/organization/summify', '/organization/autrement-hotelhotel', '/organization/peoplejam', '/organization/pura-naturals', '/organization/prepclass', '/organization/ugo-networks', '/organization/capital-city-commercial-cleaning', '/organization/deadstock-network', '/organization/aps-llc', '/organization/streamocean', '/organization/boombang', '/organization/bettercodes-org', '/organization/goojitsu', '/organization/tiba-group', '/organization/job-forward', '/organization/laser-projection-tech', '/organization/atakama-labs', '/organization/ecato', '/organization/videof-me', '/organization/adquantic', '/organization/bibulu', '/organization/bonmignon', '/organization/american-idiot', '/organization/researchconnection', '/organization/geograffiti', '/organization/revolt-automotive', '/organization/pavilion-data', '/organization/soleil-insulation', '/organization/orcan-energy', '/organization/payz-inc', '/organization/united-qavik-group', '/organization/ansira', '/organization/mosaic-mall', '/organization/streetlight-data', '/organization/little-power-shop', '/organization/turing-technology-inc-', '/organization/partmyride', '/organization/flexible-technologies-llc', '/organization/apera-bags', '/organization/triton-systems-inc', '/organization/chance-fm', '/organization/nothinggrinder', '/organization/easytek', '/organization/glasshouse-international', '/organization/execmobile', '/organization/spectrum5', '/organization/kanarit-music-ltd', '/organization/digital-legends', '/organization/gourmetzoom', '/organization/farmeto', '/organization/retalika', '/organization/sparta-systems', '/organization/aircom', '/organization/craft-ai', '/organization/nanorex', '/organization/trbo', '/organization/myzamana', '/organization/stargeek-incubator', '/organization/superbac', '/organization/seymour-innovative', '/organization/convert-insights', '/organization/mashworx', '/organization/nm-creative-agency', '/organization/sage-wireless-group', '/organization/apim-therapeutics', '/organization/goodmark-capital-group', '/organization/the-north-alliance', '/organization/royal-peace-cleaning', '/organization/letmego', '/organization/community-pharmacy', '/organization/soamai', '/organization/alyeska-hermitage-ownership', '/organization/wintermute', '/organization/mobile-medical', '/organization/skipo', '/organization/novashare-solutions', '/organization/healthlok', '/organization/caf-canusa', '/organization/vistabee', '/organization/gurushots', '/organization/botanica-exotica-2', '/organization/beckett-robb', '/organization/lekar-sk', '/organization/yournextleap', '/organization/jokno', '/organization/eribis-pharmaceuticals', '/organization/cdel', '/organization/nyheter24-gruppen', '/organization/cara-health', '/organization/safe-swiss-cloud', '/organization/ticketmaster', '/organization/minerva-labs', '/organization/nanomed-skincare', '/organization/outcomes-for-children', '/organization/bilna', '/organization/myteamvoice', '/organization/51yongche', '/organization/zinc-ahead', '/organization/evomob', '/organization/car-clubs', '/organization/checkbonus', '/organization/pandabus', '/organization/woowho', '/organization/niid-to', '/organization/predictad', '/organization/duckhook-media', '/organization/ubi-interactive', '/organization/evercloud', '/organization/village-power-finance', '/organization/rage-in-the-cage', '/organization/bostwick-laboratories', '/organization/carepro-inc-', '/organization/assembly-pharma', '/organization/stratics-networks-inc', '/organization/unicorn-valley', '/organization/eplug', '/organization/cookstr', '/organization/simmery', '/organization/pictrition-app', '/organization/tapblaze', '/organization/gelato-io', '/organization/teseda-corporation', '/organization/home-health-corporation-of-america', '/organization/insparq-com', '/organization/green-spirit-farms', '/organization/vaultlogix', '/organization/uprace', '/organization/ovo-kojno', '/organization/viewfinder', '/organization/piper', '/organization/modacruz', '/organization/lighttable', '/organization/chroma-games', '/organization/agroptima', '/organization/animal-kingdom', '/organization/teens-toddlers', '/organization/dee-s-ventures', '/organization/this-works', '/organization/epicforce', '/organization/whisker-labs', '/organization/green-horse-games', '/organization/urbem-media', '/organization/ecampus-tutors', '/organization/shanghai-basewin-technology-co-ltd', '/organization/senstore', '/organization/free-automotive-training', '/organization/kulinado', '/organization/sagebin', '/organization/xor-motors', '/organization/syncreon', '/organization/mrpeasy', '/organization/jeds-barbeque-and-brew-westlake-oh', '/organization/muzui', '/organization/trafflers', '/organization/platformz-llc', '/organization/playmoss', '/organization/squla-2', '/organization/thar-geothermal', '/organization/p-t', '/organization/neiron', '/organization/yumbin', '/organization/camiila', '/organization/simpli5d', '/organization/etreasurebox', '/organization/multi-amp-engineering-sdn', '/organization/shipster', '/organization/solutionreach', '/organization/shirley-maes', '/organization/npi-medical', '/organization/snapjoy', '/organization/pageup-people', '/organization/apera', '/organization/vanceinfo-technologies', '/organization/rensim', '/organization/fuzz', '/organization/xeron-oil-gas-llc', '/organization/castbridge', '/organization/offersby-me', '/organization/medigram', '/organization/ilikethisgrape', '/organization/logim-solutions', '/organization/artistforce', '/organization/xdin', '/organization/walker-advertising', '/organization/qc-corp', '/organization/transunion', '/organization/datawiz-io', '/organization/stempar-sciences', '/organization/miradio-fm', '/organization/ten-square-games', '/organization/radwin', '/organization/tixie', '/organization/hypaship', '/organization/easyaula', '/organization/nordcap', '/organization/staytuned-2', '/organization/lockstyler', '/organization/teklinks', '/organization/wonder-3', '/organization/busy-moos', '/organization/getshopapp', '/organization/bizweb-vn', '/organization/sharetracker', '/organization/chauffeur-prive', '/organization/apogee-it-services', '/organization/justyle', '/organization/agenda-beleza', '/organization/guomai', '/organization/laura-ventoso', '/organization/beijing-capital-online-science-and-technology-co-ltd', '/organization/qiyou-interaction-network', '/organization/newgotos', '/organization/cocodrilo-dog', '/organization/online-agility', '/organization/online-or-llc', '/organization/the-scene', '/organization/groundbooth', '/organization/mist-technologies-2', '/organization/breakthecrates-com', '/organization/carter-waters', '/organization/ivaldi', '/organization/local-dirt', '/organization/iam-robotics', '/organization/eatwave', '/organization/systems-maintenance-services', '/organization/brownstein-egusa', '/organization/marriage-material', '/organization/mylabyogi-com', '/organization/socat', '/organization/foody', '/organization/anuway-corporation', '/organization/peer5', '/organization/webee', '/organization/studentpreneur', '/organization/enerlyte', '/organization/simperium', '/organization/inevention-technology-inc', '/organization/betty-r-clawson-international', '/organization/otter-media', '/organization/mth-sense', '/organization/volas-entertainment', '/organization/elements', '/organization/floorprep-solutions', '/organization/nowbox', '/organization/nexcom', '/organization/focus-financial-partners', '/organization/bueroservice24', '/organization/leap-4', '/organization/intelliment-security', '/organization/advanced-currents-corporation', '/organization/mediabolic', '/organization/prosight', '/organization/impulseflyer', '/organization/prism-analytical-technologies', '/organization/kya', '/organization/i-do-venues', '/organization/actcat', '/organization/future-soft', '/organization/etruckbiz-com', '/organization/btcxindia', '/organization/ubongo', '/organization/happy-hour-party-supplies-rentals', '/organization/terressentia', '/organization/vator-inc', '/organization/sankalpa-yoga-community', '/organization/roadrunner24--inc-', '/organization/qirrasound-technologies-llc', '/organization/next-co', '/organization/closetspace', '/organization/jet-athletics', '/organization/atom-3', '/organization/navita', '/organization/stockradar', '/organization/sentient', '/organization/dohje', '/organization/nationwide-vacation-club', '/organization/cis-international', '/organization/circlelending', '/organization/epsilon-imaging', '/organization/giver', '/organization/lifeserve-innovations', '/organization/modern-metal', '/organization/shanghai-haofang-online-information-technology-co-ltd', '/organization/leaderz', '/organization/solidor', '/organization/new-channel-online-school', '/organization/immigration-overseas-reviews-cherishes-of-no-complaints', '/organization/makerist', '/organization/ithera-medical', '/organization/productboard', '/organization/sellanycar-ru', '/organization/skillcert', '/organization/whyville', '/organization/micronet-automation-gmbh', '/organization/remail', '/organization/rapidape', '/organization/weed-zinger', '/organization/dejamor', '/organization/manodaktaras-lt', '/organization/spike', '/organization/microeval', '/organization/feasthouse-on-wheels-llc', '/organization/whispir', '/organization/buldumbuldum-com', '/organization/yella-technologies-sdn-bhd', '/organization/geswind', '/organization/pidgon', '/organization/nanushka', '/organization/perfant-technology', '/organization/loyalis', '/organization/familonet', '/organization/envision-blue-green', '/organization/camp-highland-lake', '/organization/altocom', '/organization/frontify', '/organization/ps-xo', '/organization/gameco-inc', '/organization/dolphinite', '/organization/shopinsync', '/organization/intelliflo', '/organization/citymani', '/organization/omega-morgan', '/organization/takes', '/organization/shopogoliq', '/organization/smartc2-inc', '/organization/akili-software--inc-', '/organization/esolutions', '/organization/puuilo', '/organization/tasting-collective', '/organization/raise5', '/organization/embrace', '/organization/grasp-3', '/organization/singularity-university', '/organization/movemeant-illustr8ed', '/organization/mergelocal', '/organization/zkipster', '/organization/rentnegotiator-com', '/organization/unblab', '/organization/snappy-chow', '/organization/innovari', '/organization/tribr', '/organization/aptdeco', '/organization/tcmc', '/organization/coupsmart', '/organization/app-suey', '/organization/angel-eye-camera-systems', '/organization/mobile-messenger', '/organization/roomlr', '/organization/avolon-holdings', '/organization/shanghai-ui-robot-technology-co-ltd', '/organization/gokit', '/organization/salus-innovations', '/organization/speedment', '/organization/tomorrowish', '/organization/rally-games', '/organization/fullfact', '/organization/memry-labs', '/organization/axotect', '/organization/bespokify', '/organization/ugig', '/organization/geoforce', '/organization/rockethub', '/organization/r-b-technology', '/organization/razorthreat', '/organization/pharmapod', '/organization/usa-extended-stays-llc', '/organization/close-io', '/organization/aksys-group', '/organization/common-ground', '/organization/fast-cheap', '/organization/bds-incorporated', '/organization/lller', '/organization/service-fusion', '/organization/dream-tuner', '/organization/blackstar-technologies', '/organization/neoteny-labs', '/organization/oaklabs-gmbh', '/organization/noah', '/organization/cableorganizer-com', '/organization/camgsm', '/organization/tldr', '/organization/seamless-logistics', '/organization/wap-3g-net-cn', '/organization/sbtv', '/organization/smartjog', '/organization/c-crowd', '/organization/soniqplay', '/organization/econotherm', '/organization/aimbridge-hospitality', '/organization/medex', '/organization/10tracks-2', '/organization/realbest', '/organization/reply-io', '/organization/wazzap', '/organization/onramp-bioinformatics-inc-', '/organization/flimmer', '/organization/listiki', '/organization/inventys-thermal-technologies', '/organization/friendfit', '/organization/blue-dolphin-textile', '/organization/insidemaps', '/organization/physician-practice-revenue-solutions', '/organization/activism-com', '/organization/jobcast', '/organization/buycode', '/organization/marquee-productions-inc', '/organization/partnerpedia', '/organization/askablogr', '/organization/strauss-technology', '/organization/nexkey-inc', '/organization/oil-sands-express', '/organization/southern-california-risk-management-associates', '/organization/xopik', '/organization/odnoklassniki', '/organization/wdfa-marketing', '/organization/navegg', '/organization/canaan-advsory-group', '/organization/employma', '/organization/performyard', '/organization/sohonet', '/organization/motion-metrics', '/organization/laser-motive', '/organization/levant-power', '/organization/aboutourwork-com', '/organization/cjn-and-sons-glass-works-llc', '/organization/beyond-alpha', '/organization/oberscharrer', '/organization/mobile-medical-testing-llc', '/organization/segopotso', '/organization/modest', '/organization/epylon', '/organization/sunfun-info', '/organization/yuanfenflow', '/organization/elmenus', '/organization/gener8tor', '/organization/sopreso', '/organization/shopseen', '/organization/anpac', '/organization/saytaxi-australia', '/organization/yuppiechef', '/organization/dartdevices', '/organization/scribblyng---the-graffiti-cloud', '/organization/kira-2', '/organization/admatic', '/organization/bonegrafix', '/organization/strategic-blue', '/organization/mogime', '/organization/alexander-capital-investments', '/organization/smarttrade', '/organization/flarion-technologies', '/organization/cognitive-health-innovations', '/organization/notorious', '/organization/axiom-investments', '/organization/rising-tide-games', '/organization/callvu', '/organization/rtb-media', '/organization/parts', '/organization/rise-art', '/organization/mango-games', '/organization/eyesquad', '/organization/anesco', '/organization/statflo', '/organization/sponsta', '/organization/zaker', '/organization/eclincher', '/organization/lockbox-2', '/organization/gust', '/organization/clear-link-technologies', '/organization/insight-plus', '/organization/crocodoc', '/organization/curious-hat', '/organization/prohatch', '/organization/powerplay-sports-organization', '/organization/12-star-survival', '/organization/wild-east-group', '/organization/sales-rabbit', '/organization/biupbox', '/organization/earth-sky-l-l-c', '/organization/actions', '/organization/periscope-co', '/organization/truelancer', '/organization/eyeonix', '/organization/zepo-technologies-pvt-ltd', '/organization/mobilicom', '/organization/wunderworks', '/organization/ricardo-ch', '/organization/gadgets-360', '/organization/morpheus-medical', '/organization/aromapass', '/organization/aci-solutions', '/organization/hosted-systems-inc', '/organization/metrosis-software-development', '/organization/vp-commercial-painting', '/organization/looking-glass', '/organization/global-bay-mobile', '/organization/enish', '/organization/yourlocal-2', '/organization/solari-energy', '/organization/onepassage', '/organization/broadswords', '/organization/mr-patch', '/organization/digly', '/organization/cumulocity', '/organization/corm-capital', '/organization/edgewoodave-com', '/organization/g2-web-services', '/organization/snackfever', '/organization/crowdonomic-media', '/organization/business-monitor', '/organization/doculogy', '/organization/olive', '/organization/playblazer', '/organization/the-rowing-team-llc', '/organization/sellstage', '/organization/pittsburgh-iron-oxides-pirox', '/organization/bydsea', '/organization/dress-up-slp', '/organization/bouju', '/organization/pubelo-shuttle-express', '/organization/gingercrush', '/organization/unified-technologies-ltd', '/organization/waikoloa-steak-seafood', '/organization/continuum-managed-services', '/organization/maxim-athletic', '/organization/fortimedix', '/organization/the-bakken-herald', '/organization/vrse', '/organization/adurcup', '/organization/nextgen-healthcare-information-systems', '/organization/primestone', '/organization/intellichem', '/organization/diana', '/organization/mypoolin', '/organization/aifloo', '/organization/minuto-seguros', '/organization/quantum-voyage', '/organization/south-valley-crossfit', '/organization/sribu', '/organization/bear-state-technologies', '/organization/member-benefits', '/organization/flickr', '/organization/camileon-heels', '/organization/dely', '/organization/paratus-clinical', '/organization/round-the-mark-marketing', '/organization/myreks', '/organization/reliable-tire-disposal', '/organization/graffiti-world', '/organization/biscoot', '/organization/radrounds', '/organization/digital-trowel', '/organization/epigami', '/organization/oust-me', '/organization/equitise', '/organization/thoroughcare', '/organization/mira-rehab', '/organization/minutrade', '/organization/iee', '/organization/boosted-boards', '/organization/modern-media', '/organization/enomaly', '/organization/arcas-entertainment', '/organization/gripnote', '/organization/xyze', '/organization/fortified-food-coatings', '/organization/stratify', '/organization/plenry', '/organization/globitel', '/organization/mojn', '/organization/talking-layers', '/organization/zup-it-innovation', '/organization/adcrimson', '/organization/regalos-y-amigos', '/organization/webvet', '/organization/moxxly-inc-', '/organization/contrast-security', '/organization/rf-solutions-2', '/organization/leaneco', '/organization/43things', '/organization/riemser-arzneimittel', '/organization/mmit', '/organization/ahandyhand', '/organization/carsgen', '/organization/boxella', '/organization/weareholidays', '/organization/apsx', '/organization/enernetics', '/organization/preisanalytics', '/organization/relead', '/organization/in-spree', '/organization/alder-somerset-ii', '/organization/beeline-3', '/organization/private-company', '/organization/elders-eclectic-edibles-events-llc', '/organization/accumed-technologies', '/organization/creelio', '/organization/sydney-seed-fund', '/organization/dutch-learning-company', '/organization/ot-enterprises', '/organization/captivate-network', '/organization/dajiabao', '/organization/robbinskersten-direct', '/organization/hearts-n-hand', '/organization/frontalrain-technologies', '/organization/curve', '/organization/easyrun', '/organization/professional-diabetes-care-center', '/organization/mudano', '/organization/shoe-swipe', '/organization/yavalu', '/organization/clh-group', '/organization/smartestk12', '/organization/healthipass', '/organization/eximias-pharmaceutical-corporation', '/organization/worldapp', '/organization/mobilitus', '/organization/goumin-com', '/organization/linkstreet', '/organization/harold-levinson-associates', '/organization/informantonline', '/organization/wayconnected', '/organization/audacy', '/organization/refer-com', '/organization/the-ritualist', '/organization/88-famibio', '/organization/ekspertas-lt', '/organization/frontstart', '/organization/shoutfit', '/organization/treasure-in-the-sand-pizzeria', '/organization/coverpageapp-com', '/organization/rioglass-solar-holding', '/organization/prospr', '/organization/burning-glass-technologies', '/organization/sinclair-ecommerce', '/organization/dtac-3', '/organization/justparts', '/organization/diagnostic-biosystems', '/organization/jaycut', '/organization/chronos-mobile-technologies', '/organization/paystik', '/organization/tripshare', '/organization/nuenz-ltd', '/organization/gameyeeeah', '/organization/fashionly', '/organization/agencourt-bioscience', '/organization/cretias-creations', '/organization/lloydgoff-com', '/organization/helpr-asia', '/organization/eyeglass24', '/organization/region-bv', '/organization/mikro-odeme-3pay', '/organization/careers360', '/organization/homebrew-ventures', '/organization/whiphand', '/organization/the-poker-barrel', '/organization/zensight', '/organization/transparent-outsourcing', '/organization/fididel', '/organization/similar-pages', '/organization/pivot-works', '/organization/nysa-membrane-technologies', '/organization/tribax', '/organization/ccrm', '/organization/wavefront', '/organization/mobileads', '/organization/cuponomia', '/organization/geotrac-inc', '/organization/hugefan', '/organization/uniko', '/organization/tax-alli', '/organization/cellabus', '/organization/coltello-ristorante', '/organization/stormgeo', '/organization/astonish-results', '/organization/tipcat-interactive-æ²\\x99è\\x88\\x9fä¿¡æ\\x81¯ç§\\x91æ\\x9a\\x80', '/organization/mkn-web-solutions', '/organization/voicegem', '/organization/ck-adax', '/organization/3d-simo-2', '/organization/yabattle', '/organization/zensar-technologies-ltd', '/organization/solar-tower-technologies', '/organization/subc-control-4', '/organization/tsukuruba-inc-', '/organization/zoliro', '/organization/sebeniecher-appraisals-inc', '/organization/churchpairing', '/organization/permedly', '/organization/impact-products', '/organization/sendside-networks', '/organization/my-fit-foods', '/organization/dothiv', '/organization/reversinglabs', '/organization/matlach-investments', '/organization/maeglin-software', '/organization/mobile-game-day', '/organization/can-leaf-mart', '/organization/myenergyplatform-com', '/organization/heyshops', '/organization/parallel-machines', '/organization/shut-down', '/organization/ogg-trading', '/organization/summertimestudio', '/organization/pekama', '/organization/streami', '/organization/noninvasix', '/organization/sfc', '/organization/iomando', '/organization/twaitter-com', '/organization/adstack', '/organization/africainteractive', '/organization/transenergy', '/organization/stylewiki', '/organization/oneroom', '/organization/semanticator', '/organization/twitchat', '/organization/lionheart-innovations', '/organization/emefcy', '/organization/springworks-ab', '/organization/coolclouds', '/organization/imly', '/organization/scheduling-employee-scheduling-software', '/organization/ubequity', '/organization/plasmon', '/organization/lurnq', '/organization/the-computer-doctors', '/organization/jingshi-wanwei', '/organization/contracts-and-grants-llc', '/organization/ground-floor-communications', '/organization/hoodinn', '/organization/chugachaga', '/organization/landmark-games-and-toys', '/organization/nearex', '/organization/oklahoma-biorefining-corporation', '/organization/lettucethinner', '/organization/motionid-technologies', '/organization/card-player-media', '/organization/tallwave', '/organization/flio', '/organization/suncrest-solar', '/organization/5m-ventures', '/organization/appyparking', '/organization/beam-networks', '/organization/organic-to-go', '/organization/agflow', '/organization/brainrack', '/organization/global-real-estate-partners-llc', '/organization/nfware', '/organization/brightcontext', '/organization/jell-networks', '/organization/orain', '/organization/core-brewing-distilling-co', '/organization/venture-med-group', '/organization/summitig', '/organization/studiekring', '/organization/medefer', '/organization/nextcat', '/organization/kazeloon-records-k-d-lean', '/organization/telesense', '/organization/dycotrade', '/organization/admitly', '/organization/unbound-technologies', '/organization/skyview-records', '/organization/rumarocket', '/organization/sensay', '/organization/gallus-biopharmaceuticals', '/organization/canal-da-peã§a', '/organization/ideastring', '/organization/caretree', '/organization/recomy-com', '/organization/hopster-tv', '/organization/belkin-international', '/organization/tin-whiskers', '/organization/hummingbird-mobile-dental', '/organization/netspira-networks', '/organization/open-media-technologies', '/organization/itibia-technologies', '/organization/frderbar-gmbh-die-frdermittelmanufaktur', '/organization/celles', '/organization/edugates', '/organization/goodlord', '/organization/seafarers-cv-ltd', '/organization/zexsports-com', '/organization/nordnav-technologies', '/organization/a4-data-technology-inc', '/organization/precisionlender', '/organization/netdialog', '/organization/rankabove', '/organization/pipette', '/organization/itravel', '/organization/one-2-one', '/organization/exhale-fans', '/organization/2adpro-media-solutions', '/organization/predemtec-gmbh', '/organization/avancar', '/organization/e-e-enterprises-global', '/organization/bolrealty-com', '/organization/referbright', '/organization/mind-the-place', '/organization/ohmconnect', '/organization/showbucks', '/organization/carbon-motors-corporation', '/organization/shoregroup', '/organization/icecreamlabs', '/organization/stockleap', '/organization/weizoom', '/organization/the-fab-shoes', '/organization/anhui-anke-biotechnology-group-co-ltd', '/organization/reedsy', '/organization/sail-freight-international', '/organization/touch-writer', '/organization/red-aril', '/organization/ocusciences', '/organization/delafield-solutions', '/organization/qingke', '/organization/home-eat-home', '/organization/efflorus', '/organization/whiteâ\\x80\\x99s-holdings', '/organization/garajyeri', '/organization/ducere-holdings', '/organization/yellow-chip', '/organization/kriser-s-natural', '/organization/jacobs-rimell-limited', '/organization/pareto-biotechnologies', '/organization/cloud-sustainability', '/organization/tippr', '/organization/librarything', '/organization/leads-direct', '/organization/altitun', '/organization/astoria-software', '/organization/sootoo-com', '/organization/empathy-co', '/organization/hintsoft', '/organization/friendseat', '/organization/perfect', '/organization/lucky-hare-brewing-company', '/organization/blueprint-registry', '/organization/broomstick-productions', '/organization/food-niche', '/organization/revnetics', '/organization/orion-data-analysis-corporation', '/organization/pac-gaming', '/organization/keadyn', '/organization/avos', '/organization/levoss', '/organization/carbon60-networks', '/organization/icnh', '/organization/capitol-bells', '/organization/network-home', '/organization/trigger-finger-industries', '/organization/somera-communications', '/organization/markwater-handling-systems', '/organization/planner-5d', '/organization/familio', '/organization/offerama', '/organization/halkar', '/organization/massage-select', '/organization/lumenetix', '/organization/modevity', '/organization/beavex', '/organization/vdancer', '/organization/ssev', '/organization/baokim', '/organization/mobipocket-com', '/organization/metrekare', '/organization/brian-industries', '/organization/urge', '/organization/rosa-mexicano', '/organization/ezflop-a-first-of-its-kind-flip-flop', '/organization/merchantz', '/organization/kamila-dmowska-llc', '/organization/the-knowland-group', '/organization/frends-headphones', '/organization/the-bar-method', '/organization/cittadino', '/organization/loylap', '/organization/careerise', '/organization/bartesian', '/organization/maryjane-distribution', '/organization/thefriendmail', '/organization/zympi', '/organization/grand-prairie-landfill-gas-production', '/organization/shore-equity-partners', '/organization/nekted', '/organization/cinpost', '/organization/lolabox', '/organization/klink-2', '/organization/permatrack-systems', '/organization/doodle-ly', '/organization/channel-control-merchants', '/organization/weecast', '/organization/karmarama', '/organization/elearning-connections', '/organization/adworx', '/organization/course-key', '/organization/odeo', '/organization/wealth-at-work', '/organization/tetatet-2', '/organization/digital-avenue', '/organization/beetailer', '/organization/morningcroissant', '/organization/row-one-brands', '/organization/gis-cloud', '/organization/pressbaby', '/organization/bigrentz-com', '/organization/alim-innovations', '/organization/five-star-business-credits', '/organization/skytran', '/organization/au-carrefour', '/organization/vwise', '/organization/elationemr', '/organization/plutus', '/organization/rheontes', '/organization/spodly', '/organization/concard', '/organization/neighborhood-networks', '/organization/will-bermender-equity-partners', '/organization/coupflip', '/organization/butlr', '/organization/gateway-development-group', '/organization/terajoule-energy', '/organization/loftware', '/organization/abukai', '/organization/schedule-c-systems', '/organization/splash-technology', '/organization/etherstack', '/organization/karma-recycling', '/organization/myriada-systems', '/organization/questli', '/organization/bluebox-now', '/organization/cloudbuild', '/organization/zigfu', '/organization/topvisible', '/organization/rappler', '/organization/scan-man-auto-diagnostics', '/organization/outdoor-promotions', '/organization/guam-pak-express', '/organization/styleup', '/organization/audiencerate-ltd', '/organization/ongage', '/organization/crowdrating', '/organization/pinkup', '/organization/dnsolution', '/organization/knewcoin', '/organization/tamyca', '/organization/bridge', '/organization/ovia-2', '/organization/tailor-made-oil', '/organization/rue-de-la-paye', '/organization/ondeego', '/organization/celsius-game-studios', '/organization/customizer-storage-solutions-llc', '/organization/ten-ton-raygun', '/organization/wheelys-2', '/organization/language-learning-class', '/organization/polystream', '/organization/siverion', '/organization/sonicliving', '/organization/entertainment-cruises', '/organization/ipayment', '/organization/teach4life-consulting-llc', '/organization/bodies-design', '/organization/plixos', '/organization/powerlet', '/organization/popvox', '/organization/likeandy', '/organization/clearstone-corporation', '/organization/przeå\\x9bwietl-pl', '/organization/novaquark', '/organization/ikkos', '/organization/visbit-inc', '/organization/legcyte', '/organization/conversio-health', '/organization/toyze', '/organization/senior-home-care', '/organization/fry-multimedia', '/organization/penistone-road', '/organization/inflightonline-com', '/organization/ahometo', '/organization/shift-4', '/organization/biz-in-a-box-jv', '/organization/store-locator-com', '/organization/gateway-interactive', '/organization/v-ships', '/organization/zane-prep', '/organization/curatedby', '/organization/winfreecandy', '/organization/button-brew-house', '/organization/funteek', '/organization/product-world', '/organization/creatived', '/organization/wetrack', '/organization/segan-angel-prints', '/organization/woo-with-style', '/organization/macrotherapy', '/organization/crazy-for-education-llc', '/organization/profig', '/organization/o-codes', '/organization/sedulous-foods', '/organization/knodes', '/organization/epubli-gmbh', '/organization/zymr-inc-', '/organization/i-market', '/organization/platinum-food-service', '/organization/bookya', '/organization/viewpoint', '/organization/shopsity', '/organization/zinkia', '/organization/cryptophoto', '/organization/thrive-nutritious-ice-cream', '/organization/marketgid', '/organization/circuitive', '/organization/register-com', '/organization/jointv', '/organization/parafuzo-com', '/organization/stream5', '/organization/kerridge-commercial-systems', '/organization/texas-direct-auto', '/organization/ozz-electric', '/organization/craft-dragon', '/organization/zadby', '/organization/native5', '/organization/plinga', '/organization/nte-energy', '/organization/bridgewater-systems', '/organization/mobilebits-gaming', '/organization/volaris-advisors', '/organization/keru-cloud', '/organization/likebetter-com', '/organization/appextras', '/organization/aquarium-life-customs', '/organization/hiperos', '/organization/wish4fairtrade', '/organization/topme', '/organization/kudoala', '/organization/traveltipz-ru', '/organization/droplet-inc', '/organization/biosurfit', '/organization/calivingbenefits', '/organization/sealpak-innovations', '/organization/tesbihevim-com', '/organization/koreaboo', '/organization/peekabuy-inc', '/organization/shanghai-credit-information-services-co-ltd', '/organization/ceraphin-entertainment', '/organization/skc-communications', '/organization/clickdelivery', '/organization/on-top-of-the-tech-world', '/organization/brotips', '/organization/cordata-2', '/organization/epropertydata', '/organization/web2media-sk', '/organization/uiu', '/organization/baselabs', '/organization/little-green-windmill', '/organization/donya-labs', '/organization/magpie-friends', '/organization/rivalfox', '/organization/gt-energy', '/organization/bangtango', '/organization/brandcontrol-net', '/organization/terravion', '/organization/uk-coal', '/organization/seisquare', '/organization/myi-diagnostics', '/organization/guidetrip', '/organization/bilna-pte', '/organization/job2day', '/organization/foodydirect', '/organization/the-entertainer', '/organization/nambii', '/organization/orionvm', '/organization/infohubble', '/organization/merus-audio', '/organization/lux-beauty-club', '/organization/kirondo', '/organization/fast-asset', '/organization/public-post', '/organization/tabletkiosk', '/organization/shanghai-ulucu-electronic-technology-co-ltd', '/organization/dci-design-communications', '/organization/myskillbase-technologies', '/organization/secondmarket-angellist-b', '/organization/answear-com', '/organization/usd-mint', '/organization/mountain-alarm', '/organization/shompton', '/organization/love-mondays', '/organization/truanttoday', '/organization/prospxt', '/organization/socket-2', '/organization/bmeye', '/organization/global-wine-export', '/organization/sinaps', '/organization/koibox', '/organization/utopia-de', '/organization/dispute', '/organization/evolv-sports-designs', '/organization/dada-spa', '/organization/cartisan', '/organization/firstplay', '/organization/havkraft', '/organization/boostability', '/organization/socialmoth', '/organization/hydrobuilder-com', '/organization/baozun-commerce', '/organization/letterme', '/organization/cavitronix', '/organization/kingfish-group', '/organization/o4it', '/organization/buymytronics', '/organization/vinuxpay', '/organization/vitasensis', '/organization/roller', '/organization/digitaltangible', '/organization/dano', '/organization/o-rid', '/organization/potomac-research-group', '/organization/affinaquest', '/organization/24-7-customer', '/organization/mesixty', '/organization/easy-food', '/organization/strikeface', '/organization/fisgo', '/organization/ticketfire', '/organization/switchable-solutions', '/organization/localmint', '/organization/truck-lite', '/organization/estateguru', '/organization/svr-tracking', '/organization/backerkit', '/organization/genesant', '/organization/owl', '/organization/party-over-here', '/organization/the-advisory-board-company', '/organization/you-do', '/organization/moneypush', '/organization/tapin', '/organization/teamguide-io', '/organization/weave-energy', '/organization/opentelehealth', '/organization/jibbigo', '/organization/fooboo', '/organization/founder-shield', '/organization/nongxiang-network', '/organization/cityslicker', '/organization/fishin-glue', '/organization/referral-im', '/organization/turbo140', '/organization/huq-industries', '/organization/sario-marketing', '/organization/superclass', '/organization/dr-lal-pathlabs', '/organization/frontera-films', '/organization/full-of-fashion', '/organization/flinqer', '/organization/maestrodev', '/organization/typeset-2', '/organization/dov-e', '/organization/food-and-beverage', '/organization/checkout-ru', '/organization/reclamefolder', '/organization/procuresafe', '/organization/flores-online', '/organization/engineering-solutions-products', '/organization/hubchilla', '/organization/emporis', '/organization/take-make', '/organization/glossi-inc', '/organization/virtuebuild-llc', '/organization/bdayfreeday-2', '/organization/mifi', '/organization/mapmyindia', '/organization/neuroquest', '/organization/abreakplease', '/organization/cortexa', '/organization/doctor-driven-systems', '/organization/2-ladoshki', '/organization/bidthatproject', '/organization/bigcalc', '/organization/insequent', '/organization/shequ001', '/organization/gada-group', '/organization/sound-clips', '/organization/captive-capital', '/organization/huzco', '/organization/canal-do-credito', '/organization/neurosky', '/organization/forcefield-online', '/organization/zappedy', '/organization/taxgirls', '/organization/10â°north', '/organization/toppermost-corp', '/organization/omtool-ltd', '/organization/kaneq-bioscience', '/organization/eyesight-vision-gmbh', '/organization/content-ramen', '/organization/mumumo', '/organization/fkk-corporation', '/organization/stat-io', '/organization/dinda-com-br', '/organization/energy-automation-system', '/organization/evargrah-entertainment-group', '/organization/servoy', '/organization/penemarie-k-murphy', '/organization/four-k-entertainment', '/organization/hardware-club', '/organization/onemln', '/organization/ecofoot', '/organization/makeway-wellness', '/organization/van-heinde', '/organization/konfio', '/organization/mydeo', '/organization/stride-health', '/organization/big-apple-insurance-solutions', '/organization/anycolor-corp-', '/organization/getui', '/organization/bizzlle', '/organization/serma-group', '/organization/schoolzilla', '/organization/go-barnacle', '/organization/proledge-bookkeeping-services', '/organization/heads-up-display-inc-', '/organization/50-cubes', '/organization/sold', '/organization/continental-wrestling-federation', '/organization/s-a-c', '/organization/aegis-oil', '/organization/emmunity', '/organization/thinkgrid', '/organization/folloyu', '/organization/ztory', '/organization/revolve-2', '/organization/eyeota', '/organization/downdetector', '/organization/modli', '/organization/kngroo', '/organization/flickme', '/organization/cad-best', '/organization/mikestar', '/organization/bell-boardz', '/organization/appixia', '/organization/quadia-online-video', '/organization/contrato-rã¡pido', '/organization/micello-inc', '/organization/carewire', '/organization/neurodon', '/organization/nomios', '/organization/golden-spike', '/organization/kutbox', '/organization/parkplatzking', '/organization/epibone', '/organization/kaboa', '/organization/sternfit', '/organization/ranir', '/organization/squeegy', '/organization/mozzo-analytics', '/organization/vshore-llc', '/organization/ireff', '/organization/troc-com', '/organization/vznet-netzwerke', '/organization/credilike-me', '/organization/core-natural', '/organization/der-kanzlei-fotograf', '/organization/tatmaps-corporation', '/organization/skribit', '/organization/artable', '/organization/resolution-health-inc', '/organization/core-audio-technology', '/organization/needl', '/organization/kosei', '/organization/lightminer-systems', '/organization/immco-diagnostics', '/organization/enersave', '/organization/horizon-studios', '/organization/pontamedia', '/organization/isend-llc', '/organization/the-smacs-initiative', '/organization/health-information-designs', '/organization/blades', '/organization/comfort-line', '/organization/ikwa-orientao-profissional', '/organization/malo-clinic', '/organization/novatium', '/organization/overwatch-geospatial-operations', '/organization/12society', '/organization/pricify', '/organization/ctc-technical-fabrics', '/organization/picture-house-court', '/organization/smartclip-llc', '/organization/painting-with-a-twist', '/organization/laundrybox', '/organization/scramcard', '/organization/mybustickets', '/organization/the-style-club', '/organization/picsean', '/organization/gluvi', '/organization/plerts', '/organization/linkbird', '/organization/mamas-direct-inc', '/organization/rachis-corporation', '/organization/switchforce', '/organization/amcom-software', '/organization/ebroker-pl', '/organization/fiber-options', '/organization/quiqup', '/organization/sliderule', '/organization/nordic-consumer-portals', '/organization/sividon-diagnostics', '/organization/gmex', '/organization/shopal', '/organization/revaluate', '/organization/casagem', '/organization/drinkpoint', '/organization/ovna-medical', '/organization/activation-solutions', '/organization/gotaja-com', '/organization/co2stats', '/organization/nextgoals', '/organization/heart-to-heart-hospice', '/organization/aqdot', '/organization/fadel-partners', '/organization/solarvista-media', '/organization/atlas-learning', '/organization/military-wraps', '/organization/pharmworks', '/organization/aplazame', '/organization/jean-pã¼tz-produkte', '/organization/drewavan-coaching-and-training', '/organization/toolwi', '/organization/4med-centra-medyczne', '/organization/cloud-nine-productions', '/organization/365-retail-markets', '/organization/apt-therapeutics', '/organization/edelight', '/organization/imperative', '/organization/brigge-technologies', '/organization/hoffmeister-leuchten', '/organization/indigovision', '/organization/shotput-ventures', '/organization/pandorama', '/organization/independent-comedy-network', '/organization/the-green-office', '/organization/coastal-world-airways', '/organization/hive01', '/organization/xalam-investments', '/organization/unafinance', '/organization/celebration-creation', '/organization/the-artling', '/organization/the-5th-quarter', '/organization/321lend-inc', '/organization/koldcast-tv', '/organization/fanpulse', '/organization/pangaea-planet', '/organization/summit-care', '/organization/testpoke', '/organization/gameon-media-gmbh-co-kg', '/organization/thedressspot-com', '/organization/iev', '/organization/sandbox', '/organization/boating-times-south-florida', '/organization/enshape', '/organization/ocean-seed', '/organization/episerver', '/organization/the-hotel-barter-network', '/organization/media4care', '/organization/nanogriptech', '/organization/scriptr-io', '/organization/digital-media-group-2', '/organization/cobbler-union', '/organization/ascendancy', '/organization/bridge-mobile-2', '/organization/mosync', '/organization/welltec-international', '/organization/realty-compass', '/organization/tipsy', '/organization/butchers-bicycles', '/organization/nowfloats-technologies-private-limited', '/organization/idealresponse', '/organization/equidate', '/organization/followone', '/organization/tapster-2', '/organization/drug-response-dx', '/organization/edpulse', '/organization/scaleout-software', '/organization/spotlight-financial', '/organization/epetworld', '/organization/taravela-resort', '/organization/gunify', '/organization/jumbas', '/organization/luphos-gmbh', '/organization/jiemai-com', '/organization/andiamo-systems', '/organization/bitmap-galaxy', '/organization/desert-biker-magazine', '/organization/affordable-interior-systems', '/organization/http-valuklik-com', '/organization/leaseforlease', '/organization/tpg-marine', '/organization/think1stboxing-com', '/organization/pizzatime', '/organization/crossvertise', '/organization/samurai-international', '/organization/launchleap', '/organization/rete+pay', '/organization/kcap-services', '/organization/thinkequity-llc', '/organization/reveal-6', '/organization/cloudsteel-llc', '/organization/mobile-data-technologies', '/organization/solumax', '/organization/kitchenbug', '/organization/genoox', '/organization/youtego', '/organization/monkey-analytics', '/organization/community-peace-developers-inc', '/organization/vertical-studio-llc', '/organization/youfetch', '/organization/fromography', '/organization/mediguard-technologies', '/organization/medicope', '/organization/ari-inc', '/organization/chromaom', '/organization/yelago', '/organization/xms-penvision', '/organization/thatrunk-com-llc', '/organization/mollywatr', '/organization/ime-technologies', '/organization/last-minute-network', '/organization/social-fabrics', '/organization/ship-it-bag-check', '/organization/ottolikes-labs', '/organization/bookitlyst', '/organization/speso-health', '/organization/mindmeister', '/organization/447-461-broadway-partners', '/organization/fashionchick', '/organization/space-lounges', '/organization/g2one', '/organization/energryn', '/organization/kadang-com', '/organization/amanda-huff-dba-securecovery', '/organization/cujo', '/organization/constant-care-of-colorado-springs', '/organization/mexvi', '/organization/globial', '/organization/lighthouse-bcs', '/organization/fliggo', '/organization/founder-international-software-co-ltd', '/organization/boond', '/organization/loans-on-fine-art', '/organization/foodini', '/organization/k12-solar-investment-fund', '/organization/adtelligence', '/organization/cinnafilm', '/organization/storm-tactical-products', '/organization/believe-in', '/organization/steak-hoagie-shop', '/organization/likebright-2', '/organization/salonium', '/organization/g3', '/organization/webchutney', '/organization/bucks-beverage-barn', '/organization/kaufda-de', '/organization/lyceem', '/organization/hijup-com', '/organization/marine-force', '/organization/snapone-inc', '/organization/business-lab', '/organization/acerta-pharma', '/organization/advanced-northern-graphite-leaders-angl-inc', '/organization/cube-biotech', '/organization/mobagel', '/organization/bapul', '/organization/calendly', '/organization/wellspring-benefits-group', '/organization/where-was-it-filmed', '/organization/pathway-pharmaceuticals', '/organization/flagr', '/organization/student-loan-advisors-group', '/organization/bauxy', '/organization/helpsocial', '/organization/a-tex', '/organization/specifiko', '/organization/51intern-com-2', '/organization/promon', '/organization/trak', '/organization/maximum-education', '/organization/glycopure', '/organization/roadmunk', '/organization/bel-vino', '/organization/corexchange', '/organization/reveal-design-automation', '/organization/corpsolv', '/organization/cities-of-refuge-network', '/organization/wiacts', '/organization/sherpa-digital-media', '/organization/shohoz', '/organization/driftcoast', '/organization/allete-therapeutic-solutions', '/organization/marketscience', '/organization/zoomcare', '/organization/jucebox-limited', '/organization/nxe', '/organization/socore-energy', '/organization/foodieforall', '/organization/terarecon', '/organization/socialnature', '/organization/luxe-hair-exotics', '/organization/ichefin', '/organization/tierpm', '/organization/cytodome-inc', '/organization/uhma', '/organization/betterbutter', '/organization/mobiclip-inc', '/organization/bay-storage-technologies', '/organization/softgames', '/organization/blue-crystal-labs', '/organization/machinemetrics', '/organization/weesh', '/organization/green-genes', '/organization/nail-the-deal', '/organization/tap-reason', '/organization/ahaali', '/organization/no-capital-llc', '/organization/sakkini', '/organization/knit', '/organization/social-shop', '/organization/civic-artworks', '/organization/yummy-garden-kids-eatery', '/organization/angl', '/organization/gigstarter', '/organization/caller-zen', '/organization/gatr-technologies', '/organization/eridania-sadam', '/organization/cloudengine', '/organization/at-the-pool', '/organization/gleanster-research', '/organization/micar21', '/organization/fitkey', '/organization/tsumobi', '/organization/glossybox', '/organization/screenovate', '/organization/vascular-closure', '/organization/pangaea-resources', '/organization/beijing-viewhigh-technology-co-ltd', '/organization/glamour-com-ng', '/organization/phnom-penh-water-supply-authority-ppwsa', '/organization/ingenius-engineering', '/organization/pride-media-group', '/organization/chesterfield-house', '/organization/pogo-customer-service-number-1-844-446-4460-pogo-help-phone-number-some-times-pogo-games-4', '/organization/alatest', '/organization/touchmoon', '/organization/hostex', '/organization/scriptdash', '/organization/versie-christian-companion', '/organization/otosense', '/organization/united-preference', '/organization/beamly', '/organization/wannyi', '/organization/convertmedia', '/organization/solar-titan', '/organization/icrederity', '/organization/englishup', '/organization/brilliant-org', '/organization/adexpres-cz', '/organization/glitter-fix', '/organization/marz-industries', '/organization/zuse', '/organization/buildabrand', '/organization/core5-studio', '/organization/studyedge', '/organization/on-center-software', '/organization/kloudco', '/organization/coderstrust', '/organization/perfectore-corp', '/organization/adoro-viajar-s-a', '/organization/novitell', '/organization/wheel-shields', '/organization/blast-ramp', '/organization/inway-studios', '/organization/tnc', '/organization/villagize', '/organization/exendis', '/organization/fundwell', '/organization/ticckle', '/organization/effect-photonics', '/organization/animail', '/organization/passei-direto', '/organization/diono', '/organization/safewhite', '/organization/acrolinx-gmbh', '/organization/circalit', '/organization/m-d-antiques-consignment', '/organization/scriptbook', '/organization/checkster', '/organization/agnion-energy', '/organization/confirmtkt-com', '/organization/doyle-rotary', '/organization/maxment-gmbh', '/organization/wirelawyer', '/organization/bcodex', '/organization/quantros', '/organization/insite-energy-llc', '/organization/wishbone-org', '/organization/community-links', '/organization/your-style-unzipped', '/organization/career-dean', '/organization/churn-labs', '/organization/vertical-bridge-holdings', '/organization/retail-derivatives-trader', '/organization/clique-chic', '/organization/mokono', '/organization/algolytics', '/organization/jabbar-internet-group', '/organization/peas-corp', '/organization/getprice', '/organization/weic-corporation', '/organization/lone-wolf-real-estate-technologies', '/organization/amelox-incorporated', '/organization/the-diplomat-group', '/organization/my-digital-life', '/organization/gangkr', '/organization/crimewatch-us', '/organization/check-t', '/organization/comparison-creator', '/organization/fit-body-club-co', '/organization/armor-payments', '/organization/getinsyde', '/organization/cool-de-sac', '/organization/apparchitect', '/organization/peopleadmin', '/organization/q-bot', '/organization/nouveaux-riche', '/organization/glamstand-inc', '/organization/carbon-ads', '/organization/meihua', '/organization/classic-fine-foods', '/organization/macrocosm', '/organization/ocutrack-technologies', '/organization/quobyte-inc', '/organization/hive7', '/organization/hearing-plus', '/organization/travelclick', '/organization/recobell', '/organization/freight-connection', '/organization/advanced-telemetry', '/organization/koubachi', '/organization/millennium-airlines', '/organization/deepflex', '/organization/cosmotouristgmbh-co-kg', '/organization/sprint-bioscience', '/organization/verve-rehab', '/organization/twylah', '/organization/theshelf', '/organization/tnm', '/organization/click', '/organization/cloudplan-gmbh', '/organization/forest2market', '/organization/guruclique', '/organization/frontline-gmbh', '/organization/bellwether-institute', '/organization/athletes-recovery-club', '/organization/cartoondollemporium', '/organization/equanimity', '/organization/definitive-healthcare', '/organization/toksta', '/organization/ramco-oil-services', '/organization/navarro-discount-pharmacy', '/organization/blueground', '/organization/applico', '/organization/keystone-ranger-holdings', '/organization/first-marketing', '/organization/10six', '/organization/invisible-computers-electronics', '/organization/action-square', '/organization/appairent-technologies', '/organization/good-travel-software', '/organization/airstream-app', '/organization/daydream-io', '/organization/sports-shop-tv', '/organization/motion-dispatch', '/organization/cycle', '/organization/dualsystems-biotech', '/organization/etonkids', '/organization/kiko-labs', '/organization/varthana', '/organization/sof-studios', '/organization/ossianix', '/organization/e-house', '/organization/funding-profiles', '/organization/hoverchat', '/organization/vhsquared', '/organization/hdtmedia', '/organization/mobule', '/organization/playcrafter', '/organization/ekk-sweet-teas', '/organization/playsimple', '/organization/bellmetric', '/organization/standard-media-index', '/organization/z-wave', '/organization/ezboard', '/organization/imaygou', '/organization/pwc-pure-water-corporation', '/organization/altitude-co', '/organization/youscan', '/organization/code-fresh', '/organization/seachange-international', '/organization/lightning-buy', '/organization/kasumi-sou', '/organization/bizmore', '/organization/insightrx', '/organization/trending-now', '/organization/corezoid', '/organization/asanti-jewel-of-the-nile', '/organization/pollask', '/organization/cartago-software', '/organization/taxivaxi', '/organization/paradigm-solar-llc', '/organization/propharma-group', '/organization/rochester-flooring-resources', '/organization/cspsource-com', '/organization/loco-partners', '/organization/rheingau-founders', '/organization/blue-fin-japanese-restaurant', '/organization/galtney-group', '/organization/aquatrols-corporation-of-america', '/organization/virometix-ag', '/organization/ni2', '/organization/yoopay', '/organization/get-sat', '/organization/educatea', '/organization/userjoy-technology', '/organization/prompt-associates', '/organization/leaky', '/organization/greak-lake-carbon-fiber-glcf', '/organization/magnet-360', '/organization/omni3d', '/organization/trendmeon', '/organization/prafly', '/organization/flyreel', '/organization/vector-inc-', '/organization/healthy-labs', '/organization/acustom-apparel', '/organization/peoplegoal', '/organization/entreda', '/organization/bragthis-com', '/organization/touchpo-point-of-sale', '/organization/websupport', '/organization/taranis-2', '/organization/inside-real-estate', '/organization/ultimus-fund-solutions', '/organization/eph-apparel-inc', '/organization/sharerails', '/organization/electricite-du-laos', '/organization/writewith', '/organization/zedira-gmbh', '/organization/reliefwatch', '/organization/familyskyline', '/organization/irisnote', '/organization/n42', '/organization/kanoco', '/organization/webinarhero', '/organization/insight-ecosystems-llc', '/organization/signum-instruments', '/organization/mold-masters', '/organization/valsight', '/organization/amplify-health', '/organization/bitnami', '/organization/peter-blueberry', '/organization/startup-cincy', '/organization/amber-networks', '/organization/share-some-style', '/organization/huixiaoer', '/organization/firstdibz', '/organization/cuciniale', '/organization/gumball', '/organization/smashchart', '/organization/monkey-works-gmbh', '/organization/recommerce-ag', '/organization/microprogram-information', '/organization/intelligentm', '/organization/complete-innovations', '/organization/align-networks', '/organization/seltenerden-storkwitz', '/organization/tradelegs', '/organization/retailo', '/organization/amware', '/organization/common-trip', '/organization/about-glamourrent-gmbh', '/organization/altruja', '/organization/breakout-studios', '/organization/shippingeasy', '/organization/linkd', '/organization/photosecure', '/organization/thrdplace', '/organization/twistilled', '/organization/opez', '/organization/vantageous', '/organization/zenbox-2', '/organization/candormap', '/organization/concentra', '/organization/categorical', '/organization/vytmn', '/organization/optomed', '/organization/playroom', '/organization/skill-scout', '/organization/krazo-trading', '/organization/kleenresource', '/organization/keoya-business-enterprise-group', '/organization/3is', '/organization/shopsense', '/organization/upad', '/organization/crystax-pharmaceuticals', '/organization/interviewbest', '/organization/qubecell', '/organization/interstelnet', '/organization/c6-software-corporation', '/organization/vt-enterprise', '/organization/lipisha', '/organization/earlier-media', '/organization/alotofus', '/organization/lingt', '/organization/muxlim', '/organization/full-circle-technologies', '/organization/voodoo-pit-bbq-smokehouse-lounge', '/organization/connectify', '/organization/peak-well-systems', '/organization/reservemyhome', '/organization/ryse', '/organization/liveair-networks', '/organization/jombay', '/organization/blinkt', '/organization/mercury-intermedia', '/organization/revivn', '/organization/gravity-powerplants', '/organization/i-dispo-com', '/organization/unity-mobile', '/organization/lilymedia', '/organization/bmenu', '/organization/shop2', '/organization/lifeblinx', '/organization/trainica', '/organization/xenon-technologies', '/organization/a-pooches-pleasure', '/organization/clinton', '/organization/eventjoy', '/organization/aaron-andrews-apparel', '/organization/startupbootcamp-fintech', '/organization/yo-fi-wellness', '/organization/myquoteapp', '/organization/no-chains', '/organization/inland-empire-components', '/organization/face8', '/organization/clickpay-services', '/organization/tta-marine-llc', '/organization/fieldbook', '/organization/ebehavior', '/organization/on-the-bill', '/organization/pext', '/organization/crepeguys', '/organization/sticki', '/organization/sterling-planet', '/organization/presidio-networked-solutions', '/organization/mutracx', '/organization/aeron-lifestyle-technology', '/organization/elumen-solutions', '/organization/freedom-farms', '/organization/jpush', '/organization/tin-can-industries', '/organization/grapevine-talk', '/organization/a-fourth-act', '/organization/stottler-henke-associates-inc', '/organization/bananabandy', '/organization/staples', '/organization/uq-inc', '/organization/plexistor-2', '/organization/uregista', '/organization/flixpress', '/organization/the-logic-group', '/organization/somonic-solutions', '/organization/mcarthur-equipment', '/organization/clinical-pharmacy-services', '/organization/grj', '/organization/smartdreamers', '/organization/colosseoeas', '/organization/netgenesis', '/organization/teachersmeet-com', '/organization/jiathis', '/organization/applancer', '/organization/gatfol-technology', '/organization/cloudone', '/organization/apprats', '/organization/gamewheel', '/organization/dribble', '/organization/d-g-thermoset', '/organization/cinamaker', '/organization/meetwise', '/organization/rogue-sports-tv', '/organization/p3-new-media', '/organization/thinair', '/organization/want-me-get-me', '/organization/medicinia-atividades-de-internet-ltda', '/organization/doubloon', '/organization/prizzm', '/organization/iprofile', '/organization/phoenix-financial-holdings', '/organization/kuvee', '/organization/avocadostore', '/organization/black-box-biofuels', '/organization/nanoget', '/organization/3-kinds-of-ice', '/organization/moosejaw-mountaineering-and-backcountry-travel', '/organization/laveem', '/organization/optionscity-software', '/organization/frelo-technology-llc', '/organization/sotro-limited', '/organization/hachiko', '/organization/palsuniverse-com', '/organization/vimodi', '/organization/sing-ting-delicious', '/organization/verdi', '/organization/snatch-that-jerky', '/organization/flatstack', '/organization/clinical-insight', '/organization/nemo-2', '/organization/vexere-com', '/organization/ir-diagnostyx', '/organization/ascent-option', '/organization/wennsoft', '/organization/altusinsight-gmbh', '/organization/helpr-4', '/organization/the-whoot', '/organization/needto-com', '/organization/eucon', '/organization/leonar3do', '/organization/hunington-properties', '/organization/imn', '/organization/ideaglobal', '/organization/aroma-brewing', '/organization/molecular-formulations', '/organization/j-g-ink', '/organization/userapp', '/organization/highstreet-it-solutions', '/organization/alma-johns', '/organization/mightybell', '/organization/privy', '/organization/guanxi-me', '/organization/fastox', '/organization/mandalay-sports-media-msm', '/organization/blueyield', '/organization/learnissimo', '/organization/jtt-computer', '/organization/restore-water', '/organization/psm-international', '/organization/cottages-of-coon-creek-lp', '/organization/imguest', '/organization/envy-modular-wall-systems', '/organization/verkkokauppa-com', '/organization/zenbox', '/organization/biotherapeutics', '/organization/nearbuyme-in', '/organization/coinholdings', '/organization/jobzella', '/organization/coolan', '/organization/niall', '/organization/atmmos-interatividade-virtual', '/organization/pinpoint-networks', '/organization/ibi-international-bilingual-institute', '/organization/marketsnacks', '/organization/sportsgrit', '/organization/realtimeimage', '/organization/emporiocompras', '/organization/therapeutic-monitoring-systems-inc', '/organization/trillian-mobile-ab', '/organization/kingdom-breweries', '/organization/shanghai-kidstone-network-technology', '/organization/ettain-group-inc', '/organization/ceram-hyd', '/organization/nanocomp', '/organization/care-it', '/organization/naver', '/organization/qonceptual', '/organization/pinnacle-ecs', '/organization/conrig-pharma', '/organization/click-4-classes', '/organization/mytoons', '/organization/headset', '/organization/respiderm-corporation', '/organization/kinn-inc', '/organization/moaec-inc', '/organization/piece-co', '/organization/wondercide', '/organization/spothers', '/organization/voyaa', '/organization/valley-automotive-investment-group', '/organization/airwolf-3d', '/organization/seabras-1', '/organization/acid-labs', '/organization/siox', '/organization/textmetix', '/organization/the-box-2', '/organization/digital-room-inc', '/organization/e-semble', '/organization/chelazo', '/organization/micropoint-technologies', '/organization/mydoc', '/organization/techlive', '/organization/be-spotted', '/organization/argyle-executive-forum', '/organization/savi-health', '/organization/naabo', '/organization/kimonex', '/organization/global-green-capitals-corporation', '/organization/multicast-media', '/organization/nextgame', '/organization/digital-bloom', '/organization/travelplanet', '/organization/conferensum', '/organization/decisio-health', '/organization/kadi', '/organization/localyte-com', '/organization/onyu', '/organization/tutstu', '/organization/sleepys', '/organization/j-a-b-s-freelance-world', '/organization/kevin-allan-dooley', '/organization/fuerst-land-and-livestock', '/organization/constrvct', '/organization/cordium', '/organization/virtual-intelligence-technologies', '/organization/aptible-2', '/organization/initiative-gaming', '/organization/fotoable', '/organization/wexford-farms', '/organization/fifteen-reasons', '/organization/recargax', '/organization/content-now', '/organization/iftech', '/organization/branderro', '/organization/livedome-gmbh', '/organization/dianjoy', '/organization/paybyway', '/organization/designer-whey', '/organization/lifeways', '/organization/casino-vr', '/organization/american-tv-2-go', '/organization/ship-supply-international', '/organization/transporeon', '/organization/domaine-select-wine-spirits', '/organization/kamera-photography', '/organization/flutter-com', '/organization/evil-city-blues', '/organization/san-home-entertainment', '/organization/l1f3', '/organization/eonstreams', '/organization/365-good-teacher', '/organization/the-mutual-fund-store', '/organization/all-pro-demo', '/organization/thoughtful-research-inc', '/organization/anytime-fitness', '/organization/akanda-inc', '/organization/contract-cloud', '/organization/qymatix-solutions-gmbh', '/organization/socotra', '/organization/excel-manufacturing', '/organization/fitfocus', '/organization/bookingkit-gmbh', '/organization/peco-pallet', '/organization/tennison-graphics-and-fine-arts', '/organization/snackr', '/organization/elike', '/organization/dtms', '/organization/citygro', '/organization/skok-innovations', '/organization/emit-corporation', '/organization/allofme', '/organization/green-graphix', '/organization/zippyapp', '/organization/artisan', '/organization/alexandre-de-paris', '/organization/nuvia', '/organization/msa-security', '/organization/stoner-and-company', '/organization/digifeye', '/organization/govoluntr', '/organization/powerpractical', '/organization/the-legally-steal-show', '/organization/vibrant', '/organization/yassets', '/organization/next-gen-illumination', '/organization/eagle-auto-sales', '/organization/cibdo-llc', '/organization/medirect-latino', '/organization/mandy-pandy', '/organization/pilot-systems', '/organization/giveloop', '/organization/tinker-2', '/organization/event-innovation', '/organization/osteoplastics', '/organization/mimoona', '/organization/idntimes', '/organization/organic-waste-management', '/organization/yz-interactive', '/organization/consector', '/organization/banian-labs', '/organization/8eighty-wear', '/organization/c-d-barkley-insurance-agency', '/organization/adspired-technologies', '/organization/all-protector-agency-llc', '/organization/chishenma', '/organization/linkua', '/organization/love-the-sales', '/organization/evolven-software', '/organization/wututu', '/organization/zilift', '/organization/spi-outdoor-products', '/organization/xamplified', '/organization/gers', '/organization/casaroma', '/organization/mmis', '/organization/blaze-health', '/organization/growingio', '/organization/levy-acquisition', '/organization/emcas', '/organization/fosubo', '/organization/sharegrove', '/organization/andapt', '/organization/universal-software', '/organization/earn-and-play', '/organization/redwhitedeals', '/organization/keetab', '/organization/stimulus-technologies', '/organization/arriva-pharmaceuticals', '/organization/algotochip', '/organization/berkeley-ultrasound', '/organization/digital-marketing-solutions', '/organization/billibox', '/organization/oriflamme-co-ltd-', '/organization/aesthetic-everythingâ®-social-network', '/organization/newtricious', '/organization/bagnacauda-co---ltd-', '/organization/otoy', '/organization/streamience', '/organization/dockphp', '/organization/likealike', '/organization/exuberant', '/organization/qinetiq', '/organization/ashmanov-partners', '/organization/chirpme', '/organization/familyapp', '/organization/nobi', '/organization/autowiser-llc-2', '/organization/glowship', '/organization/olook', '/organization/instaread', '/organization/flowtap', '/organization/ultrawood-products-company', '/organization/biacayip-com', '/organization/handinscan', '/organization/paronk-consulting-llc', '/organization/pond-biofuels', '/organization/jpwholesale', '/organization/omphalos-capital-management', '/organization/bilneur', '/organization/sage-health', '/organization/meinprospekt', '/organization/qorkz', '/organization/apsmart', '/organization/grocerme', '/organization/pre-let-care-homes', '/organization/tapcibo', '/organization/parabon-nanolabs', '/organization/milford-auto-supply', '/organization/valued-investing', '/organization/barry-s-bootcamp', '/organization/content-blvd', '/organization/qoture', '/organization/alzwad-mobile-services', '/organization/white-rabbit-brewing', '/organization/softtech-engineers', '/organization/ixchelsis', '/organization/gottago-personal-care-device-inc', '/organization/venjuvo', '/organization/river-cities-technology-llc', '/organization/somuchmore', '/organization/virgent-realty', '/organization/visual-gas-imaging', '/organization/beijing-kingtop-science-and-technology-co-ltd', '/organization/creating-solutions-consulting', '/organization/signalmatch', '/organization/g-r-management', '/organization/black-white-orange-brands', '/organization/key-health-medical-solutions', '/organization/screen-fix-gibson', '/organization/spil-games', '/organization/my-rental-units', '/organization/pelican-harbour-seafood', '/organization/alphahedge', '/organization/natures-way-garden-house', '/organization/onkos-surgical', '/organization/site-tour', '/organization/talentwire', '/organization/iroya-k-k', '/organization/skylit-medical', '/organization/super-color-digital', '/organization/storyz', '/organization/double-the-donation', '/organization/sternico', '/organization/binary-event-network', '/organization/sousacamp', '/organization/advanced-medical-innovations', '/organization/bilupphandling', '/organization/pretio-interactive', '/organization/the-corporate-marketplace', '/organization/gelzen', '/organization/saint-aiden-street', '/organization/1bib', '/organization/smallknot', '/organization/moviles-com', '/organization/high-side-solutions-llc', '/organization/dalinuosi-lt', '/organization/luxe-internacionale', '/organization/shicon', '/organization/streamspec', '/organization/buckeye-biomedical-services', '/organization/incuvation-labs-llc', '/organization/msm-box', '/organization/rockford-precision-manufacturing', '/organization/vigme', '/organization/orbital-outfitters', '/organization/europart', '/organization/phasebridge', '/organization/informaat', '/organization/spriggle-kids', '/organization/navitime-japan', '/organization/besser-betreut-gmbh', '/organization/polo-motorrad', '/organization/guitar-hype', '/organization/true-pivot', '/organization/visitorscafe', '/organization/knight-warner', '/organization/acrecent-financial', '/organization/futuretense-inc', '/organization/indiewalls', '/organization/celeritascloud', '/organization/mobitx', '/organization/choisr', '/organization/getnow-at', '/organization/neighborland', '/organization/dailythem-es', '/organization/directed-medical-systems', '/organization/ace-consensus', '/organization/vista-fitness', '/organization/abhinav-outsourcings-pvt-ltd', '/organization/livere', '/organization/caremondo', '/organization/hellosign', '/organization/expert-medical-navigation', '/organization/ldger', '/organization/nerve-com', '/organization/carerix', '/organization/autoportal-com', '/organization/zoe-center-for-children', '/organization/virtual-tweens-ltd', '/organization/peopleeasy-com-2', '/organization/rubybox', '/organization/showcase-tv', '/organization/lavish-skate', '/organization/caribou-coffee-company', '/organization/smalldeals-com', '/organization/crossmedia', '/organization/cont3nt-com', '/organization/flatter-world', '/organization/7-cups-of-tea', '/organization/fitsistant', '/organization/frazr', '/organization/zymochem', '/organization/guangzhou-hugue-digital-technology-company', '/organization/snaptivity', '/organization/chui-the-worlds-most-intelligent-doorbell', '/organization/escapio', '/organization/ars-traffic-transport-technology', '/organization/interhyp', '/organization/beijing-union-cast-network-technology-co-ltd', '/organization/yu-ce-medical', '/organization/space-adventures', '/organization/ubookoo', '/organization/rescue-therapeutics', '/organization/privileged-world-travel-club', '/organization/arcstone', '/organization/foodiebytes-com', '/organization/jooce', '/organization/ujogo', '/organization/styropower', '/organization/gifted2you', '/organization/nflight-technology-llc', '/organization/wildcraft', '/organization/surge-accelerator', '/organization/t4-media', '/organization/alliance-commercial-realty', '/organization/perora', '/organization/abebooks', '/organization/kaspersky-lab', '/organization/beijing-cloud-technologies', '/organization/southampton-photonics', '/organization/29west', '/organization/element-software', '/organization/nookster', '/organization/actlight', '/organization/uhoo', '/organization/fitwall', '/organization/vital-vio', '/organization/guidesly', '/organization/black-house', '/organization/superhuman-2', '/organization/logical-lighting', '/organization/leapsky-wireless', '/organization/dibs-3', '/organization/bs-banksysteme-ag', '/organization/1-618-technology', '/organization/30secondstofly-claire', '/organization/ener-g-rotors', '/organization/biotech-varsovia-pharma', '/organization/spinpunch', '/organization/flypad', '/organization/kinderlab-robotics', '/organization/aftercollege-com', '/organization/powerspot-power-products', '/organization/gameworld-assocites', '/organization/iriss-coffee-and-tea-room', '/organization/bileto', '/organization/tails-com', '/organization/whally', '/organization/gototel', '/organization/mission-development', '/organization/quality-pool-care', '/organization/govenlock-green', '/organization/youyiche-holdings', '/organization/stirling-dk', '/organization/incubes', '/organization/stylr', '/organization/buyrentkenya-com', '/organization/imageamerica', '/organization/applied-cleantech-act', '/organization/brandkids', '/organization/reachli-2', '/organization/berd', '/organization/balm-innovations-llc', '/organization/bloson', '/organization/corporateworld', '/organization/cavi-int-gmbh', '/organization/tyntec', '/organization/userbin', '/organization/troodon', '/organization/scorestreak', '/organization/ziippi', '/organization/picklive', '/organization/utan', '/organization/propertymaputo-com', '/organization/wetzel-engineering-inc', '/organization/dot-life-ltd', '/organization/xsilon', '/organization/disability-care-givers', '/organization/freedom-scientific-holdings-llc', '/organization/capital-alliance-software', '/organization/storytree', '/organization/keyade', '/organization/bartlett-nuclear', '/organization/adviqo', '/organization/daqi', '/organization/mobilicity-2', '/organization/my-sports-box', '/organization/nova-lignum', '/organization/astro-gaming', '/organization/comnovo-gmbh', '/organization/hangzhou-jielan-information-company', '/organization/opengov-solutions', '/organization/kerjadulu', '/organization/parknav', '/organization/rpx-corporation', '/organization/robocoin', '/organization/transtar-racing', '/organization/fitness-interactive-experience', '/organization/kaye-group', '/organization/buck-nekkid-bbq-and-saloon', '/organization/truvitals', '/organization/atrillion-semantix', '/organization/citylive', '/organization/nanomed-skincare-inc-suzhou-natong', '/organization/fwd-power-llc', '/organization/labournet', '/organization/p-cube', '/organization/sport50', '/organization/brightup', '/organization/atlas-rfid', '/organization/appsperse', '/organization/nestie', '/organization/inty', '/organization/dlvr-therapeutics', '/organization/goodrich-international', '/organization/track', '/organization/gaiax-co-ltd', '/organization/my-point-exactly', '/organization/cilk-arts', '/organization/aden-anais', '/organization/stroma-medical', '/organization/bolsa-de-mulher-group', '/organization/advanced-personalized-diagnostics-llc', '/organization/weartolook', '/organization/tiansheng', '/organization/panx', '/organization/necova', '/organization/beat-freak-music-group-llc', '/organization/abaad-embodied-design-llc', '/organization/everywear', '/organization/sevensnap', '/organization/razume', '/organization/headsense-medical', '/organization/shicoh-engineering', '/organization/liveoffice', '/organization/norin-tv', '/organization/predikt', '/organization/oracle-fund', '/organization/beat-no', '/organization/weiche-tech-å\\x96\\x82è½¦ç§\\x91æ\\x9a\\x80', '/organization/kimeta', '/organization/docircuits', '/organization/seer', '/organization/glidepath-power', '/organization/laser-view', '/organization/decibel-music-systems', '/organization/dayanas-one-stop-salon', '/organization/fanbytes', '/organization/studer-group', '/organization/linqpays-limited', '/organization/myknowtions', '/organization/yuehai-feed-group', '/organization/kanobu-network', '/organization/consultant-marketplace', '/organization/innovate-logistics', '/organization/trellisoft', '/organization/3keyit', '/organization/satomi', '/organization/leartieste-boutique', '/organization/mytable-restaurant-reservations', '/organization/teal-orbit', '/organization/green-farms-energy-inc', '/organization/jp-systems', '/organization/riff-digital-inc', '/organization/installshield-software-corporation', '/organization/scoutzie', '/organization/payzer', '/organization/made-to-fit-me', '/organization/zoe-majeste', '/organization/1-4-all', '/organization/fashfix', '/organization/kpi-fire', '/organization/returnhauler', '/organization/zeno-motors', '/organization/chelexa-biosciences', '/organization/siliconsystems', '/organization/terrapower', '/organization/micropoint-bioscience-inc', '/organization/mv-sistemas', '/organization/agora-6', '/organization/dtf-technology', '/organization/okazjum-pl', '/organization/academize', '/organization/minbox', '/organization/gigabryte', '/organization/skybus-2', '/organization/amniochor', '/organization/speakset', '/organization/magnetis', '/organization/r2integrated', '/organization/schwelling-recruiting-services', '/organization/bringlight', '/organization/art-exchange-com-inc', '/organization/labfolder', '/organization/plumzi', '/organization/assaymetrics', '/organization/e-tek-dynamics', '/organization/every-labs', '/organization/enodo-software', '/organization/valentia-biopharma', '/organization/carista-app', '/organization/columbia-green-technologies', '/organization/chauf4u', '/organization/icomputing-technologies', '/organization/yoochoose', '/organization/vb-rags', '/organization/smartkarma', '/organization/nct-corporation', '/organization/karrot-rewards', '/organization/cocoonbeat', '/organization/semilev', '/organization/qwinix', '/organization/adaptive-advertising-inc', '/organization/firmpalace-com', '/organization/ovastasis', '/organization/gti-capital-group', '/organization/mytrnd', '/organization/avenger-networks', '/organization/mapittrackit', '/organization/qwikwire-2', '/organization/golden-gekko', '/organization/random42', '/organization/pactera', '/organization/qualys', '/organization/falk-realtime', '/organization/debteye', '/organization/makemyreturns-com', '/organization/asthmatracker', '/organization/asp4all-bitbrains', '/organization/nutrisure', '/organization/legal-egg', '/organization/mechio-2', '/organization/offerti', '/organization/coderwall', '/organization/waste-ventures', '/organization/what-the-trend', '/organization/heptagon-advanced-micro-optics', '/organization/crozdesk', '/organization/soley', '/organization/alo7', '/organization/ninjathat', '/organization/pani-networks', '/organization/granite-technologies', '/organization/datasmoothie', '/organization/novathermal-energy', '/organization/nanohybrids', '/organization/igov', '/organization/gonabit', '/organization/eyebobs', '/organization/multipath-networks', '/organization/p2p-protect-co', '/organization/24me', '/organization/jazz-blues-television-2', '/organization/netscape', '/organization/t-l-tedford-enterprises', '/organization/click-slide', '/organization/flat-to', '/organization/pulzze', '/organization/market-realist', '/organization/mobi-healthcare', '/organization/side', '/organization/luxji', '/organization/faraday-pharmaceuticals', '/organization/tryolabs', '/organization/mybandstock', '/organization/reputami-gmbh', '/organization/derivative-path-inc', '/organization/ripple-brand-collective', '/organization/setgo', '/organization/timber-ridge-fish-hatchery', '/organization/price-interactive', '/organization/freshbag', '/organization/stockal', '/organization/versailles-international-real-estate', '/organization/scup', '/organization/vibby', '/organization/have-a-nice-beer', '/organization/tacterion', '/organization/one-loyalty-network', '/organization/local-plant-source', '/organization/alignalytics', '/organization/oncoceutics', '/organization/indie-broadcast-network', '/organization/zanox', '/organization/robotic-pipe-repair', '/organization/woo-4', '/organization/conservus-international', '/organization/spective', '/organization/netpeas', '/organization/i-am-real', '/organization/yoomba', '/organization/afrigator-internet', '/organization/eduvant', '/organization/godigex', '/organization/compliance-innovations', '/organization/kartela', '/organization/lincare', '/organization/cedato', '/organization/classbox', '/organization/arboribus', '/organization/medaphis-physician-services-corporation', '/organization/ppro-financial-ltd', '/organization/kallik', '/organization/milk-and-honey-shoes', '/organization/geosafe', '/organization/blendagram', '/organization/hero-boyfriend', '/organization/switchnote', '/organization/zapoint', '/organization/eloxx', '/organization/lionical', '/organization/knova-software', '/organization/brownfield-listings', '/organization/patrick-building-supply', '/organization/vivolux', '/organization/algentis', '/organization/hippo-manager-software-inc', '/organization/m-t-medical-training-academy', '/organization/ciklum', '/organization/covenant-kids-manor-inc', '/organization/scandid', '/organization/rbus', '/organization/barared', '/organization/paraengine', '/organization/g-mode', '/organization/sock-monster-media', '/organization/carmine', '/organization/beatpals', '/organization/cadee', '/organization/delizioso-skincare', '/organization/weblio', '/organization/viseto', '/organization/fierce-frugal', '/organization/greenlight-payments-inc', '/organization/meracareerguide-com', '/organization/stypi', '/organization/lieferando', '/organization/sweet-cred', '/organization/styloosh', '/organization/gatsby-2', '/organization/guest-innovations-inc', '/organization/haystac', '/organization/shoptimize-inc', '/organization/botscanner', '/organization/vendormate', '/organization/global-nano-products-ltd', '/organization/rentlingo', '/organization/tickled-media-pte-ltd', '/organization/ididid', '/organization/charitweet', '/organization/shado', '/organization/brands4friends', '/organization/simplehoney', '/organization/hiredmyway-com', '/organization/groulion', '/organization/superbetter', '/organization/newsio', '/organization/adr-software', '/organization/caliber-infosolutions', '/organization/youth1-media', '/organization/hantec-markets', '/organization/rose-window-productions', '/organization/guideit', '/organization/hi-midia', '/organization/loopup', '/organization/touchify', '/organization/urban-consign-design', '/organization/cater-to-u', '/organization/apptient', '/organization/computer-systems-and-software-innovation-group', '/organization/solace-systems', '/organization/rigel', '/organization/acomni-llc', '/organization/capital-green-group-development', '/organization/home61', '/organization/redfish-instruments-inc', '/organization/takeacoder', '/organization/pyreg', '/organization/shark-solutions', '/organization/refulgent-software', '/organization/viacube', '/organization/kindo-network', '/organization/longcube', '/organization/overview-marketing-solutions', '/organization/mauka-makai', '/organization/rampedmedia', '/organization/doublesquad', '/organization/tianjin-hylt-aviation-science-technology-co-ltd', '/organization/sim4tec', '/organization/classmarkets', '/organization/lakeside-speech-language-and-learning-llc', '/organization/terracycle', '/organization/epic-sky', '/organization/anchor-travel', '/organization/feetme', '/organization/diversied-arts-and-entertainment', '/organization/the-517-travel', '/organization/yeahka', '/organization/caremaker', '/organization/immersia', '/organization/datanitro', '/organization/icrushiflush', '/organization/nanobebe', '/organization/aramsco', '/organization/lieberman-research-worldwide', '/organization/lotadata--inc-', '/organization/m-taxi', '/organization/tomorrow', '/organization/splash', '/organization/brilliant-inc', '/organization/my-online-camp', '/organization/yunfeng-renewable-resources', '/organization/social-media-report-card', '/organization/sharemeister-inc', '/organization/51-give', '/organization/pactas-gmbh', '/organization/starsvu', '/organization/igloo-2', '/organization/freshires', '/organization/bsmark', '/organization/clinical-innovations', '/organization/bontact', '/organization/i-shake', '/organization/ceannate', '/organization/giftrocket', '/organization/tembo-studio', '/organization/voith-hydro-ocean-current-technologies', '/organization/booklikes', '/organization/equippo', '/organization/millennium-3-holdings', '/organization/clear-asset', '/organization/western-digital-technologies', '/organization/dynamic-innovations', '/organization/tweetsecret', '/organization/intac-international', '/organization/encoder-design-group', '/organization/viptable', '/organization/palma-ceia-semidesign', '/organization/crucialtec', '/organization/new-wave-foods', '/organization/panopticon', '/organization/talkbin', '/organization/depaul-uk', '/organization/empressr', '/organization/hermes-innovation', '/organization/information-technology-2', '/organization/factivate', '/organization/hii-def-inc', '/organization/simphatic', '/organization/tradermail-com', '/organization/delighted', '/organization/responsive-sports', '/organization/coupofy', '/organization/hydro-alternative-energy', '/organization/sumavisos', '/organization/beckom-investment-group', '/organization/get-in', '/organization/whipcar', '/organization/satã©lite-distribuidora-de-petrã³leo', '/organization/mindblown-labs', '/organization/silicon-republic', '/organization/xplace', '/organization/hawthorne', '/organization/resgrid', '/organization/loag', '/organization/drivehq', '/organization/tranz', '/organization/dream-home-renovations', '/organization/voodoo-taco', '/organization/clearline-mobile', '/organization/jenner-renewables', '/organization/roberts-tool-company', '/organization/thomas-krenn', '/organization/vivosensmedical', '/organization/barkingseals-com', '/organization/crowdbooster', '/organization/fastmodel-sports', '/organization/val-pm-solutions', '/organization/greener-solutions-scrap-metal-recycling', '/organization/exhibition-a', '/organization/hottolink', '/organization/wonder-paint', '/organization/healthcentrix', '/organization/linkcycle', '/organization/calista-technologies', '/organization/spacebar-fm', '/organization/tarpipe', '/organization/a-network', '/organization/agua-natural-2', '/organization/gridsum', '/organization/triductor-technology-inc', '/organization/121-rentals', '/organization/san-marcos-springs', '/organization/world-reviewer', '/organization/step-on-up-graphics-llc', '/organization/awarelabs', '/organization/qleek', '/organization/belle-a-la-plage', '/organization/bitmex---bitcoin-mercantile-exchange', '/organization/front', '/organization/merkatic', '/organization/pivot-data-center', '/organization/urban-metrics', '/organization/vitargent', '/organization/diy-auto-repair-shop', '/organization/placemark', '/organization/pathwright', '/organization/verdex-technologies', '/organization/jack-on-block', '/organization/luma-io', '/organization/hiway-muzik-productions', '/organization/minteos', '/organization/aavya-health', '/organization/desecuritrex-llc', '/organization/galado', '/organization/nanoflex', '/organization/medialiftv', '/organization/ulike', '/organization/storygami', '/organization/silicon-navigator-corporation', '/organization/memamp', '/organization/creator-up', '/organization/kemeta', '/organization/blue-bus-tees', '/organization/marketbrief', '/organization/donde-2', '/organization/stream-4', '/organization/entertainment-magpie', '/organization/poland-com', '/organization/laku6', '/organization/glaceau', '/organization/hubnami', '/organization/sociercise', '/organization/healthy-harvest', '/organization/looxcie', '/organization/aparc-systems', '/organization/drnaturalhealing', '/organization/petlist', '/organization/poolmyride', '/organization/genability', '/organization/brandbeau', '/organization/seriously-fun-games', '/organization/instrumagic', '/organization/faction-skis', '/organization/munch-on-me-inc', '/organization/pronto-insurance', '/organization/mobile-service-pros', '/organization/2duche', '/organization/petrabytes', '/organization/puresignco', '/organization/hive-social-media-management', '/organization/communication-science', '/organization/world-sports-network', '/organization/ecs-federal', '/organization/rightsignature', '/organization/fingi', '/organization/bounty-app', '/organization/tweetflow', '/organization/hollr', '/organization/ixigo-com-2', '/organization/weiphone-com', '/organization/ogsystems', '/organization/coopers-classics', '/organization/mountain-machine-games', '/organization/cyberport', '/organization/talenta', '/organization/sizz', '/organization/cardioscout', '/organization/redmax', '/organization/dataflow', '/organization/retechnica', '/organization/twiist', '/organization/pace-mechanical', '/organization/javelin-networks', '/organization/champion-medical-technologies', '/organization/drexel-metals', '/organization/rayn', '/organization/hackermeter', '/organization/powelectrics', '/organization/untold-stories-telling-the-world-s-stories', '/organization/moments-management-corp', '/organization/accella-learning-llc', '/organization/information-gateway', '/organization/oweyaa', '/organization/smartech-mfg-corp', '/organization/imo-im', '/organization/lennon-lines', '/organization/laurel-mountain-energy', '/organization/mobspire', '/organization/shotnote', '/organization/buggl', '/organization/jsc-detsky-mir', '/organization/cytoguide', '/organization/db4objects', '/organization/shanghai-shipping-freight-exchange-co-ltd', '/organization/vrt-finland-oy', '/organization/texas-mulch-company', '/organization/lam-cloud-management', '/organization/why-not-give-back', '/organization/atmocean', '/organization/nano-meta-technologies', '/organization/baru-exchange', '/organization/maremonti', '/organization/ecobuddies-interactive', '/organization/rentmetrics', '/organization/dara-technologies', '/organization/astech', '/organization/tommyjams', '/organization/its-time-compliance', '/organization/metafor-software', '/organization/jobpicker-gmbh', '/organization/muvizi', '/organization/karify', '/organization/shoot4me', '/organization/buckete', '/organization/reach-surgical', '/organization/project-fly-inc', '/organization/innospace-3', '/organization/exchange-solutions', '/organization/vannas-vanity', '/organization/munchquick', '/organization/over60', '/organization/altius-space-machines', '/organization/windgen-power-products', '/organization/ageria', '/organization/bookmytrainings-pvt-ltd', '/organization/novodynamics', '/organization/mind-palette', '/organization/three-scale', '/organization/pearlfection', '/organization/looking-for-gamers', '/organization/i-drills-apps', '/organization/peachtree-village-digital-institute', '/organization/matchmove-pay', '/organization/boca-research', '/organization/lontra', '/organization/fastfig', '/organization/musical-sneakers', '/organization/airak', '/organization/l4-mobile', '/organization/oohlala-mobile', '/organization/ivan-filmed-entertainment', '/organization/investingchannel-inc', '/organization/customershq', '/organization/first-retail', '/organization/new-china-life-insurance-co-ltd', '/organization/capical-gmbh', '/organization/logic-product-group', '/organization/schedulize', '/organization/adchoice', '/organization/bridestory', '/organization/fashion-republic', '/organization/spryker-systems', '/organization/akippa', '/organization/simply-inviting-custom-stationery-and-gifts-business-plan', '/organization/benny', '/organization/gamingturf', '/organization/memstar', '/organization/nationalbanana', '/organization/iweebo', '/organization/convore', '/organization/zenreach', '/organization/shanghai-jade-tech', '/organization/tagwallet', '/organization/socstock', '/organization/inventic', '/organization/personal-medicine', '/organization/videonot-es', '/organization/it-s-skin', '/organization/cabiri-luv-thy-neighbor-outreach-program', '/organization/futalis-gmbh-2', '/organization/now-digital', '/organization/stylight', '/organization/myshaadi-in', '/organization/arigami-semiconductor-systems-private', '/organization/ingo-me', '/organization/strangelogic', '/organization/stelcor-energy-corp', '/organization/blue-sky-biotech', '/organization/eloancn', '/organization/dress---go', '/organization/mobui', '/organization/liquid-web', '/organization/bruin-brake-cables', '/organization/accessory-addict-society', '/organization/avolution', '/organization/williamsburg-garment-company', '/organization/wsc-group', '/organization/genio-studio-ltd', '/organization/ghen-materials-llc', '/organization/sonda41', '/organization/fpw-enteprises', '/organization/pubify', '/organization/recoleta-digital-media', '/organization/ccs-holding', '/organization/cymbal', '/organization/pinipa', '/organization/wisestamp', '/organization/hd-trade-services', '/organization/yours-florally', '/organization/keenko', '/organization/ramtiger-fitness', '/organization/repost-network', '/organization/health-impact-solutions', '/organization/wikiyou', '/organization/r-j-marine-technologies', '/organization/anyroad', '/organization/planet-prestige', '/organization/altizon-systems', '/organization/dfki', '/organization/smush-mobile-technologies', '/organization/southern-swim', '/organization/pet-ready', '/organization/swytch-2', '/organization/orla-healthcare', '/organization/mealtek', '/organization/labochema', '/organization/luv-rink', '/organization/digitick', '/organization/scg-mall-graphics', '/organization/ameriworks', '/organization/jamba-2', '/organization/preventicus-gmbh', '/organization/sanders-services', '/organization/powerwave-technologies', '/organization/eline-technology', '/organization/acaia-corp', '/organization/hd-biosciences', '/organization/medstory', '/organization/kinestica', '/organization/cs-products', '/organization/the-pocket-agency', '/organization/seromatch', '/organization/mersibo', '/organization/diet4life', '/organization/surftech', '/organization/endoart', '/organization/quad-technologies', '/organization/cinq-music', '/organization/aquagenesis', '/organization/atg-access', '/organization/lexer', '/organization/psc-info-group', '/organization/dorsey-wright-and-associates', '/organization/pangalore', '/organization/argus-information-advisory-services', '/organization/n2v-solutions-llc', '/organization/shipping-company', '/organization/kountmoney', '/organization/phoenix-new-media', '/organization/pricebaba', '/organization/ag-m', '/organization/realgreen-power', '/organization/expresscoin', '/organization/bureaux-a-partager', '/organization/nanorep', '/organization/knowbox-2', '/organization/digital-accademia', '/organization/fashioncomm', '/organization/globalone-group', '/organization/caresimply', '/organization/alsbridge', '/organization/balderdash', '/organization/modify-watches', '/organization/ucdplus', '/organization/stockcharts-com', '/organization/tattva', '/organization/territorial-prescience', '/organization/avi-web-solutions-pvt-ltd', '/organization/betaspring', '/organization/siteskin-web-solution', '/organization/bluebottlebiz', '/organization/priceza', '/organization/elevate-medical', '/organization/jenn-rykert', '/organization/grin-inc-', '/organization/telderi', '/organization/fena-design', '/organization/27-bards', '/organization/adaptifyed-inc', '/organization/dineout', '/organization/komparu', '/organization/visiple', '/organization/precisionmeds', '/organization/clicvu', '/organization/tradecloud-nl', '/organization/dronamics', '/organization/recochem', '/organization/lmc-diabetes-endocrinology', '/organization/servtag', '/organization/woohoo-mobile-marketing', '/organization/boxaroo-ebay', '/organization/foria', '/organization/skillboost', '/organization/snipclip-share-your-world-through-music', '/organization/livego', '/organization/live-well-financial', '/organization/data-marketplace', '/organization/the-doctor-gadget-company', '/organization/conceptboard', '/organization/olliance-group', '/organization/bankfeeinsider-com', '/organization/qpd', '/organization/sepior'}\n"
     ]
    }
   ],
   "source": [
    "print(addtional_in_companies)"
   ]
  },
  {
   "cell_type": "code",
   "execution_count": 15,
   "metadata": {},
   "outputs": [
    {
     "name": "stdout",
     "output_type": "stream",
     "text": [
      "{'/organization/magnet-tech-ç£\\x81ç\\x9f³ç§\\x91æ\\x8a\\x80'}\n"
     ]
    }
   ],
   "source": [
    "print(addtional_in_round2)"
   ]
  },
  {
   "cell_type": "markdown",
   "metadata": {},
   "source": [
    "# Finding of round2 and companies dataset\n",
    "1. *found that round2 have 53,915 and companies have 66,368 unique companies*\n",
    "    1. *Companies dataset have 12,454 additional companies which are not available in round2 dataset*\n",
    "    2. *Round2 dataset have 1 additional companies that are not available in companies dataset*\n",
    "   \n"
   ]
  },
  {
   "cell_type": "markdown",
   "metadata": {},
   "source": [
    "# Merging round2 and companies dataset together \n",
    "> 1. **converting both fields(company_permalink and permalink) in lowercase to remove duplicates**\n",
    "> 2. **Taken decision to left merge companies dataset to round2 dataset as we will round2 dataset for all our analysis and companies dataset will some additional variable to our master datastes**"
   ]
  },
  {
   "cell_type": "code",
   "execution_count": 16,
   "metadata": {},
   "outputs": [
    {
     "name": "stderr",
     "output_type": "stream",
     "text": [
      "C:\\Users\\azhar\\Anaconda3\\lib\\site-packages\\ipykernel_launcher.py:1: SettingWithCopyWarning: \n",
      "A value is trying to be set on a copy of a slice from a DataFrame.\n",
      "Try using .loc[row_indexer,col_indexer] = value instead\n",
      "\n",
      "See the caveats in the documentation: https://pandas.pydata.org/pandas-docs/stable/user_guide/indexing.html#returning-a-view-versus-a-copy\n",
      "  \"\"\"Entry point for launching an IPython kernel.\n"
     ]
    }
   ],
   "source": [
    "round2_cleaned['company_permalink']=round2_cleaned.company_permalink.str.lower()\n",
    "companies['permalink'] = companies.permalink.str.lower()"
   ]
  },
  {
   "cell_type": "code",
   "execution_count": 17,
   "metadata": {},
   "outputs": [],
   "source": [
    "master_frame = pd.merge(round2_cleaned, companies, how='left', right_on='permalink', left_on='company_permalink')"
   ]
  },
  {
   "cell_type": "code",
   "execution_count": 18,
   "metadata": {},
   "outputs": [
    {
     "name": "stdout",
     "output_type": "stream",
     "text": [
      "<class 'pandas.core.frame.DataFrame'>\n",
      "Int64Index: 94959 entries, 0 to 94958\n",
      "Data columns (total 16 columns):\n",
      " #   Column                   Non-Null Count  Dtype  \n",
      "---  ------                   --------------  -----  \n",
      " 0   company_permalink        94959 non-null  object \n",
      " 1   funding_round_permalink  94959 non-null  object \n",
      " 2   funding_round_type       94959 non-null  object \n",
      " 3   funding_round_code       28169 non-null  object \n",
      " 4   funded_at                94959 non-null  object \n",
      " 5   raised_amount_usd        94959 non-null  float64\n",
      " 6   permalink                94958 non-null  object \n",
      " 7   name                     94957 non-null  object \n",
      " 8   homepage_url             90626 non-null  object \n",
      " 9   category_list            93914 non-null  object \n",
      " 10  status                   94958 non-null  object \n",
      " 11  country_code             89108 non-null  object \n",
      " 12  state_code               87355 non-null  object \n",
      " 13  region                   87911 non-null  object \n",
      " 14  city                     87914 non-null  object \n",
      " 15  founded_at               78992 non-null  object \n",
      "dtypes: float64(1), object(15)\n",
      "memory usage: 12.3+ MB\n"
     ]
    }
   ],
   "source": [
    "master_frame.info()"
   ]
  },
  {
   "cell_type": "markdown",
   "metadata": {},
   "source": [
    "### Total number of observation in master_frame is same as round2 dataset : 114949"
   ]
  },
  {
   "cell_type": "markdown",
   "metadata": {},
   "source": [
    "## Checking distribution of funding_round_type in master_frame"
   ]
  },
  {
   "cell_type": "code",
   "execution_count": 19,
   "metadata": {},
   "outputs": [
    {
     "data": {
      "text/plain": [
       "venture                  50228\n",
       "seed                     23603\n",
       "debt_financing            6682\n",
       "angel                     4860\n",
       "grant                     2124\n",
       "private_equity            1936\n",
       "undisclosed               1582\n",
       "convertible_note          1447\n",
       "equity_crowdfunding       1228\n",
       "post_ipo_equity            628\n",
       "product_crowdfunding       386\n",
       "post_ipo_debt              152\n",
       "non_equity_assistance       73\n",
       "secondary_market            30\n",
       "Name: funding_round_type, dtype: int64"
      ]
     },
     "execution_count": 19,
     "metadata": {},
     "output_type": "execute_result"
    }
   ],
   "source": [
    "master_frame.funding_round_type.value_counts()"
   ]
  },
  {
   "cell_type": "markdown",
   "metadata": {},
   "source": [
    "# Checking total investment amount by investment type\n",
    "> Using groupby to sum investment amount"
   ]
  },
  {
   "cell_type": "code",
   "execution_count": 20,
   "metadata": {
    "scrolled": true
   },
   "outputs": [],
   "source": [
    "# creating separate variable for four selected type of funding\n",
    "master_frame_select = master_frame.loc[master_frame['funding_round_type'].isin(['angel', 'private_equity', 'seed', 'venture']),:]"
   ]
  },
  {
   "cell_type": "code",
   "execution_count": 21,
   "metadata": {},
   "outputs": [
    {
     "data": {
      "text/html": [
       "<div>\n",
       "<style scoped>\n",
       "    .dataframe tbody tr th:only-of-type {\n",
       "        vertical-align: middle;\n",
       "    }\n",
       "\n",
       "    .dataframe tbody tr th {\n",
       "        vertical-align: top;\n",
       "    }\n",
       "\n",
       "    .dataframe thead tr th {\n",
       "        text-align: left;\n",
       "    }\n",
       "\n",
       "    .dataframe thead tr:last-of-type th {\n",
       "        text-align: right;\n",
       "    }\n",
       "</style>\n",
       "<table border=\"1\" class=\"dataframe\">\n",
       "  <thead>\n",
       "    <tr>\n",
       "      <th></th>\n",
       "      <th colspan=\"14\" halign=\"left\">raised_amount_usd</th>\n",
       "    </tr>\n",
       "    <tr>\n",
       "      <th></th>\n",
       "      <th>count</th>\n",
       "      <th>mean</th>\n",
       "      <th>std</th>\n",
       "      <th>min</th>\n",
       "      <th>5%</th>\n",
       "      <th>25%</th>\n",
       "      <th>50%</th>\n",
       "      <th>75%</th>\n",
       "      <th>90%</th>\n",
       "      <th>95%</th>\n",
       "      <th>97%</th>\n",
       "      <th>98%</th>\n",
       "      <th>99%</th>\n",
       "      <th>max</th>\n",
       "    </tr>\n",
       "    <tr>\n",
       "      <th>funding_round_type</th>\n",
       "      <th></th>\n",
       "      <th></th>\n",
       "      <th></th>\n",
       "      <th></th>\n",
       "      <th></th>\n",
       "      <th></th>\n",
       "      <th></th>\n",
       "      <th></th>\n",
       "      <th></th>\n",
       "      <th></th>\n",
       "      <th></th>\n",
       "      <th></th>\n",
       "      <th></th>\n",
       "      <th></th>\n",
       "    </tr>\n",
       "  </thead>\n",
       "  <tbody>\n",
       "    <tr>\n",
       "      <th>angel</th>\n",
       "      <td>4860.0</td>\n",
       "      <td>9.586945e+05</td>\n",
       "      <td>7.404397e+06</td>\n",
       "      <td>0.0</td>\n",
       "      <td>25000.00</td>\n",
       "      <td>150000.00</td>\n",
       "      <td>400000.0</td>\n",
       "      <td>1000000.0</td>\n",
       "      <td>1858364.6</td>\n",
       "      <td>2701547.0</td>\n",
       "      <td>3500000.0</td>\n",
       "      <td>4.501846e+06</td>\n",
       "      <td>7.000000e+06</td>\n",
       "      <td>4.945120e+08</td>\n",
       "    </tr>\n",
       "    <tr>\n",
       "      <th>private_equity</th>\n",
       "      <td>1936.0</td>\n",
       "      <td>7.330859e+07</td>\n",
       "      <td>1.981135e+08</td>\n",
       "      <td>0.0</td>\n",
       "      <td>298051.75</td>\n",
       "      <td>5000000.00</td>\n",
       "      <td>20000000.0</td>\n",
       "      <td>75000000.0</td>\n",
       "      <td>160186227.5</td>\n",
       "      <td>292500000.0</td>\n",
       "      <td>414750000.0</td>\n",
       "      <td>5.000000e+08</td>\n",
       "      <td>6.884157e+08</td>\n",
       "      <td>4.745460e+09</td>\n",
       "    </tr>\n",
       "    <tr>\n",
       "      <th>seed</th>\n",
       "      <td>23603.0</td>\n",
       "      <td>7.198180e+05</td>\n",
       "      <td>2.221733e+06</td>\n",
       "      <td>0.0</td>\n",
       "      <td>16691.00</td>\n",
       "      <td>55000.00</td>\n",
       "      <td>275000.0</td>\n",
       "      <td>1000000.0</td>\n",
       "      <td>1929900.0</td>\n",
       "      <td>2500000.0</td>\n",
       "      <td>3000000.0</td>\n",
       "      <td>3.536159e+06</td>\n",
       "      <td>4.798219e+06</td>\n",
       "      <td>2.000000e+08</td>\n",
       "    </tr>\n",
       "    <tr>\n",
       "      <th>venture</th>\n",
       "      <td>50228.0</td>\n",
       "      <td>1.174895e+07</td>\n",
       "      <td>8.635207e+07</td>\n",
       "      <td>0.0</td>\n",
       "      <td>204120.00</td>\n",
       "      <td>1600901.75</td>\n",
       "      <td>5000000.0</td>\n",
       "      <td>12000000.0</td>\n",
       "      <td>25000000.0</td>\n",
       "      <td>40000000.0</td>\n",
       "      <td>50000000.0</td>\n",
       "      <td>6.000000e+07</td>\n",
       "      <td>1.000000e+08</td>\n",
       "      <td>1.760000e+10</td>\n",
       "    </tr>\n",
       "  </tbody>\n",
       "</table>\n",
       "</div>"
      ],
      "text/plain": [
       "                   raised_amount_usd                                   \\\n",
       "                               count          mean           std  min   \n",
       "funding_round_type                                                      \n",
       "angel                         4860.0  9.586945e+05  7.404397e+06  0.0   \n",
       "private_equity                1936.0  7.330859e+07  1.981135e+08  0.0   \n",
       "seed                         23603.0  7.198180e+05  2.221733e+06  0.0   \n",
       "venture                      50228.0  1.174895e+07  8.635207e+07  0.0   \n",
       "\n",
       "                                                                   \\\n",
       "                           5%         25%         50%         75%   \n",
       "funding_round_type                                                  \n",
       "angel                25000.00   150000.00    400000.0   1000000.0   \n",
       "private_equity      298051.75  5000000.00  20000000.0  75000000.0   \n",
       "seed                 16691.00    55000.00    275000.0   1000000.0   \n",
       "venture             204120.00  1600901.75   5000000.0  12000000.0   \n",
       "\n",
       "                                                                         \\\n",
       "                            90%          95%          97%           98%   \n",
       "funding_round_type                                                        \n",
       "angel                 1858364.6    2701547.0    3500000.0  4.501846e+06   \n",
       "private_equity      160186227.5  292500000.0  414750000.0  5.000000e+08   \n",
       "seed                  1929900.0    2500000.0    3000000.0  3.536159e+06   \n",
       "venture              25000000.0   40000000.0   50000000.0  6.000000e+07   \n",
       "\n",
       "                                                \n",
       "                             99%           max  \n",
       "funding_round_type                              \n",
       "angel               7.000000e+06  4.945120e+08  \n",
       "private_equity      6.884157e+08  4.745460e+09  \n",
       "seed                4.798219e+06  2.000000e+08  \n",
       "venture             1.000000e+08  1.760000e+10  "
      ]
     },
     "execution_count": 21,
     "metadata": {},
     "output_type": "execute_result"
    }
   ],
   "source": [
    "# creating summary for funding amount by funding type\n",
    "# Not cleaning row with missing value of funding amount as of now as it will not be considered while generating summary\n",
    "master_frame_select.groupby('funding_round_type')[['raised_amount_usd']].describe(percentiles=[0.05, 0.25, 0.50, 0.75, 0.90, 0.95,0.97,0.98, 0.99])"
   ]
  },
  {
   "cell_type": "markdown",
   "metadata": {},
   "source": [
    "# Findings of funding type reveal following (Without Removing Outliers)\n",
    "1. **Our master dataset of four selected funding have outlier which can be seen in 99 percentile and maximum value**\n",
    "2. **Median is considered as representative value instead of mean as it will be not sensitive to outliers**\n",
    "3. **Angel and seed type funding amount range in dataset is less than our requirement of 5M to 15M USD funding**\n",
    "    1. *Angel funding has median 400k usd and 2.7M usd at 95th percentile*\n",
    "    2. *Seed funding has median 275k usd and 2.5M usd at 95th percentile*\n",
    "4. **Private equity has little higher than our required invested amount**\n",
    "    1. *Private equity has median 20M usd and 292.5M usd at 95th percentile*\n",
    "5. **Venture type funding appears to be exactly within Spark's requirement**\n",
    "    1. *Venture funding has median 5M usd and 40M usd at 95th percentile*"
   ]
  },
  {
   "cell_type": "code",
   "execution_count": 22,
   "metadata": {},
   "outputs": [
    {
     "data": {
      "text/html": [
       "<div>\n",
       "<style scoped>\n",
       "    .dataframe tbody tr th:only-of-type {\n",
       "        vertical-align: middle;\n",
       "    }\n",
       "\n",
       "    .dataframe tbody tr th {\n",
       "        vertical-align: top;\n",
       "    }\n",
       "\n",
       "    .dataframe thead th {\n",
       "        text-align: right;\n",
       "    }\n",
       "</style>\n",
       "<table border=\"1\" class=\"dataframe\">\n",
       "  <thead>\n",
       "    <tr style=\"text-align: right;\">\n",
       "      <th></th>\n",
       "      <th>raised_amount_usd</th>\n",
       "    </tr>\n",
       "  </thead>\n",
       "  <tbody>\n",
       "    <tr>\n",
       "      <th>count</th>\n",
       "      <td>8.062700e+04</td>\n",
       "    </tr>\n",
       "    <tr>\n",
       "      <th>mean</th>\n",
       "      <td>9.347995e+06</td>\n",
       "    </tr>\n",
       "    <tr>\n",
       "      <th>std</th>\n",
       "      <td>7.562940e+07</td>\n",
       "    </tr>\n",
       "    <tr>\n",
       "      <th>min</th>\n",
       "      <td>0.000000e+00</td>\n",
       "    </tr>\n",
       "    <tr>\n",
       "      <th>5%</th>\n",
       "      <td>3.000000e+04</td>\n",
       "    </tr>\n",
       "    <tr>\n",
       "      <th>25%</th>\n",
       "      <td>4.000000e+05</td>\n",
       "    </tr>\n",
       "    <tr>\n",
       "      <th>50%</th>\n",
       "      <td>2.000000e+06</td>\n",
       "    </tr>\n",
       "    <tr>\n",
       "      <th>75%</th>\n",
       "      <td>7.975496e+06</td>\n",
       "    </tr>\n",
       "    <tr>\n",
       "      <th>90%</th>\n",
       "      <td>2.000000e+07</td>\n",
       "    </tr>\n",
       "    <tr>\n",
       "      <th>95%</th>\n",
       "      <td>3.300000e+07</td>\n",
       "    </tr>\n",
       "    <tr>\n",
       "      <th>97%</th>\n",
       "      <td>4.900000e+07</td>\n",
       "    </tr>\n",
       "    <tr>\n",
       "      <th>98%</th>\n",
       "      <td>6.000000e+07</td>\n",
       "    </tr>\n",
       "    <tr>\n",
       "      <th>99%</th>\n",
       "      <td>1.000000e+08</td>\n",
       "    </tr>\n",
       "    <tr>\n",
       "      <th>max</th>\n",
       "      <td>1.760000e+10</td>\n",
       "    </tr>\n",
       "  </tbody>\n",
       "</table>\n",
       "</div>"
      ],
      "text/plain": [
       "       raised_amount_usd\n",
       "count       8.062700e+04\n",
       "mean        9.347995e+06\n",
       "std         7.562940e+07\n",
       "min         0.000000e+00\n",
       "5%          3.000000e+04\n",
       "25%         4.000000e+05\n",
       "50%         2.000000e+06\n",
       "75%         7.975496e+06\n",
       "90%         2.000000e+07\n",
       "95%         3.300000e+07\n",
       "97%         4.900000e+07\n",
       "98%         6.000000e+07\n",
       "99%         1.000000e+08\n",
       "max         1.760000e+10"
      ]
     },
     "execution_count": 22,
     "metadata": {},
     "output_type": "execute_result"
    }
   ],
   "source": [
    "# Analyzing funding amount separatedly to under the univariate distribution\n",
    "master_frame_select[['raised_amount_usd']].describe(percentiles=[0.05, 0.25, 0.50, 0.75, 0.90, 0.95,0.97,0.98, 0.99])"
   ]
  },
  {
   "cell_type": "markdown",
   "metadata": {},
   "source": [
    "# Graph for depicting appropriate funding amount \n",
    "> 1. *Graphs will be made after removing outliers*"
   ]
  },
  {
   "cell_type": "code",
   "execution_count": 23,
   "metadata": {},
   "outputs": [
    {
     "data": {
      "text/html": [
       "<div>\n",
       "<style scoped>\n",
       "    .dataframe tbody tr th:only-of-type {\n",
       "        vertical-align: middle;\n",
       "    }\n",
       "\n",
       "    .dataframe tbody tr th {\n",
       "        vertical-align: top;\n",
       "    }\n",
       "\n",
       "    .dataframe thead tr th {\n",
       "        text-align: left;\n",
       "    }\n",
       "\n",
       "    .dataframe thead tr:last-of-type th {\n",
       "        text-align: right;\n",
       "    }\n",
       "</style>\n",
       "<table border=\"1\" class=\"dataframe\">\n",
       "  <thead>\n",
       "    <tr>\n",
       "      <th></th>\n",
       "      <th colspan=\"14\" halign=\"left\">raised_amount_usd</th>\n",
       "    </tr>\n",
       "    <tr>\n",
       "      <th></th>\n",
       "      <th>count</th>\n",
       "      <th>mean</th>\n",
       "      <th>std</th>\n",
       "      <th>min</th>\n",
       "      <th>5%</th>\n",
       "      <th>25%</th>\n",
       "      <th>50%</th>\n",
       "      <th>75%</th>\n",
       "      <th>90%</th>\n",
       "      <th>95%</th>\n",
       "      <th>97%</th>\n",
       "      <th>98%</th>\n",
       "      <th>99%</th>\n",
       "      <th>max</th>\n",
       "    </tr>\n",
       "    <tr>\n",
       "      <th>funding_round_type</th>\n",
       "      <th></th>\n",
       "      <th></th>\n",
       "      <th></th>\n",
       "      <th></th>\n",
       "      <th></th>\n",
       "      <th></th>\n",
       "      <th></th>\n",
       "      <th></th>\n",
       "      <th></th>\n",
       "      <th></th>\n",
       "      <th></th>\n",
       "      <th></th>\n",
       "      <th></th>\n",
       "      <th></th>\n",
       "    </tr>\n",
       "  </thead>\n",
       "  <tbody>\n",
       "    <tr>\n",
       "      <th>angel</th>\n",
       "      <td>4806.0</td>\n",
       "      <td>8.665638e+05</td>\n",
       "      <td>2.174053e+06</td>\n",
       "      <td>5000.0</td>\n",
       "      <td>30325.75</td>\n",
       "      <td>153780.25</td>\n",
       "      <td>400000.0</td>\n",
       "      <td>1000000.0</td>\n",
       "      <td>1900000.0</td>\n",
       "      <td>2745235.0</td>\n",
       "      <td>3500000.0</td>\n",
       "      <td>4.502026e+06</td>\n",
       "      <td>7.000000e+06</td>\n",
       "      <td>63590263.0</td>\n",
       "    </tr>\n",
       "    <tr>\n",
       "      <th>private_equity</th>\n",
       "      <td>1628.0</td>\n",
       "      <td>2.748529e+07</td>\n",
       "      <td>3.082541e+07</td>\n",
       "      <td>5000.0</td>\n",
       "      <td>250000.00</td>\n",
       "      <td>4300000.00</td>\n",
       "      <td>13085894.5</td>\n",
       "      <td>45000000.0</td>\n",
       "      <td>79357127.0</td>\n",
       "      <td>100000000.0</td>\n",
       "      <td>100000000.0</td>\n",
       "      <td>1.010066e+08</td>\n",
       "      <td>1.090484e+08</td>\n",
       "      <td>110100000.0</td>\n",
       "    </tr>\n",
       "    <tr>\n",
       "      <th>seed</th>\n",
       "      <td>23351.0</td>\n",
       "      <td>7.134405e+05</td>\n",
       "      <td>1.602270e+06</td>\n",
       "      <td>5000.0</td>\n",
       "      <td>18885.00</td>\n",
       "      <td>60000.00</td>\n",
       "      <td>292900.0</td>\n",
       "      <td>1000000.0</td>\n",
       "      <td>1970000.0</td>\n",
       "      <td>2500000.0</td>\n",
       "      <td>3000000.0</td>\n",
       "      <td>3.540000e+06</td>\n",
       "      <td>4.800000e+06</td>\n",
       "      <td>100000000.0</td>\n",
       "    </tr>\n",
       "    <tr>\n",
       "      <th>venture</th>\n",
       "      <td>49799.0</td>\n",
       "      <td>9.623906e+06</td>\n",
       "      <td>1.350882e+07</td>\n",
       "      <td>5000.0</td>\n",
       "      <td>214173.90</td>\n",
       "      <td>1600000.00</td>\n",
       "      <td>5000000.0</td>\n",
       "      <td>12000000.0</td>\n",
       "      <td>24800398.6</td>\n",
       "      <td>35000000.0</td>\n",
       "      <td>46000000.0</td>\n",
       "      <td>5.200000e+07</td>\n",
       "      <td>7.000000e+07</td>\n",
       "      <td>110488000.0</td>\n",
       "    </tr>\n",
       "  </tbody>\n",
       "</table>\n",
       "</div>"
      ],
      "text/plain": [
       "                   raised_amount_usd                                      \\\n",
       "                               count          mean           std     min   \n",
       "funding_round_type                                                         \n",
       "angel                         4806.0  8.665638e+05  2.174053e+06  5000.0   \n",
       "private_equity                1628.0  2.748529e+07  3.082541e+07  5000.0   \n",
       "seed                         23351.0  7.134405e+05  1.602270e+06  5000.0   \n",
       "venture                      49799.0  9.623906e+06  1.350882e+07  5000.0   \n",
       "\n",
       "                                                                               \\\n",
       "                           5%         25%         50%         75%         90%   \n",
       "funding_round_type                                                              \n",
       "angel                30325.75   153780.25    400000.0   1000000.0   1900000.0   \n",
       "private_equity      250000.00  4300000.00  13085894.5  45000000.0  79357127.0   \n",
       "seed                 18885.00    60000.00    292900.0   1000000.0   1970000.0   \n",
       "venture             214173.90  1600000.00   5000000.0  12000000.0  24800398.6   \n",
       "\n",
       "                                                                          \\\n",
       "                            95%          97%           98%           99%   \n",
       "funding_round_type                                                         \n",
       "angel                 2745235.0    3500000.0  4.502026e+06  7.000000e+06   \n",
       "private_equity      100000000.0  100000000.0  1.010066e+08  1.090484e+08   \n",
       "seed                  2500000.0    3000000.0  3.540000e+06  4.800000e+06   \n",
       "venture              35000000.0   46000000.0  5.200000e+07  7.000000e+07   \n",
       "\n",
       "                                 \n",
       "                            max  \n",
       "funding_round_type               \n",
       "angel                63590263.0  \n",
       "private_equity      110100000.0  \n",
       "seed                100000000.0  \n",
       "venture             110488000.0  "
      ]
     },
     "execution_count": 23,
     "metadata": {},
     "output_type": "execute_result"
    }
   ],
   "source": [
    "percent_1st = np.percentile(master_frame['raised_amount_usd'], 1)\n",
    "percent_99th = np.percentile(master_frame['raised_amount_usd'], 99)\n",
    "master_frame_cleaned = master_frame.loc[(master_frame.raised_amount_usd >= percent_1st) & (master_frame.raised_amount_usd <= percent_99th),:]\n",
    "master_frame_cleaned.loc[master_frame_cleaned['funding_round_type'].isin(['angel', 'private_equity', 'seed', 'venture']),:].groupby('funding_round_type')[['raised_amount_usd']].describe(percentiles=[0.05, 0.25, 0.50, 0.75, 0.90, 0.95,0.97,0.98, 0.99])"
   ]
  },
  {
   "cell_type": "code",
   "execution_count": 24,
   "metadata": {},
   "outputs": [
    {
     "data": {
      "image/png": "[encoded data removed]",
      "text/plain": [
       "<Figure size 1440x720 with 1 Axes>"
      ]
     },
     "metadata": {
      "needs_background": "light"
     },
     "output_type": "display_data"
    }
   ],
   "source": [
    "#checking distribution of funding amount variable\n",
    "#master_frame[['raised_amount_usd']].describe(percentiles=[0.05, 0.25, 0.50, 0.75, 0.90, 0.95,0.97,0.98, 0.99])\n",
    "plt.figure(figsize=(20,10))\n",
    "sns.boxplot(data=master_frame_cleaned, x='funding_round_type', y='raised_amount_usd')\n",
    "plt.xticks(rotation=45)\n",
    "plt.title('Funding Amount Distribution by Funding Type')\n",
    "plt.ylabel('Funding amount Raise (in 100m USD)')\n",
    "plt.show()"
   ]
  },
  {
   "cell_type": "markdown",
   "metadata": {},
   "source": [
    "# Findings of funding type reveal following (Cleaned dataset)\n",
    "> 1. **Looking at the cleaned dataset it appears venture type funding appears to be best suited the requirement out of four funding types(venute, private equity, seed and angel)**\n",
    "> 2. **Outlier Removal**\n",
    ">>    1.*Univariable analysis funding amount variable shown that value exponentially increased from 99th to 100th percentile*\n",
    ">>    2. *Moreover We could not display the boxplot properly without removing the outliers*"
   ]
  },
  {
   "cell_type": "markdown",
   "metadata": {},
   "source": [
    "# Creating separate dataset with venture funding since it suited best for Spark fund requirement"
   ]
  },
  {
   "cell_type": "code",
   "execution_count": 25,
   "metadata": {},
   "outputs": [
    {
     "name": "stdout",
     "output_type": "stream",
     "text": [
      "<class 'pandas.core.frame.DataFrame'>\n",
      "RangeIndex: 50228 entries, 0 to 50227\n",
      "Data columns (total 16 columns):\n",
      " #   Column                   Non-Null Count  Dtype  \n",
      "---  ------                   --------------  -----  \n",
      " 0   company_permalink        50228 non-null  object \n",
      " 1   funding_round_permalink  50228 non-null  object \n",
      " 2   funding_round_type       50228 non-null  object \n",
      " 3   funding_round_code       28043 non-null  object \n",
      " 4   funded_at                50228 non-null  object \n",
      " 5   raised_amount_usd        50228 non-null  float64\n",
      " 6   permalink                50228 non-null  object \n",
      " 7   name                     50228 non-null  object \n",
      " 8   homepage_url             47620 non-null  object \n",
      " 9   category_list            49726 non-null  object \n",
      " 10  status                   50228 non-null  object \n",
      " 11  country_code             48111 non-null  object \n",
      " 12  state_code               47367 non-null  object \n",
      " 13  region                   47515 non-null  object \n",
      " 14  city                     47515 non-null  object \n",
      " 15  founded_at               40597 non-null  object \n",
      "dtypes: float64(1), object(15)\n",
      "memory usage: 6.1+ MB\n"
     ]
    }
   ],
   "source": [
    "master_frame_venture = master_frame_select.loc[master_frame['funding_round_type']=='venture',:].reset_index(drop=True)\n",
    "master_frame_venture.info()"
   ]
  },
  {
   "cell_type": "markdown",
   "metadata": {},
   "source": [
    "# Analyzing observation with missing country values\n",
    "> 1. *Country has 2117 missing value in the dataset*\n",
    "> 2. *Analyse the observation to check whether we can impute missing value*\n",
    "> 3. *If no possibility of missing value is available then we add missing as value so that we can analyse them separately*"
   ]
  },
  {
   "cell_type": "code",
   "execution_count": 26,
   "metadata": {},
   "outputs": [
    {
     "data": {
      "text/plain": [
       "<matplotlib.axes._subplots.AxesSubplot at 0x2a11332ca08>"
      ]
     },
     "execution_count": 26,
     "metadata": {},
     "output_type": "execute_result"
    },
    {
     "data": {
      "image/png": "[encoded data removed]",
      "text/plain": [
       "<Figure size 1800x720 with 2 Axes>"
      ]
     },
     "metadata": {
      "needs_background": "light"
     },
     "output_type": "display_data"
    }
   ],
   "source": [
    "%matplotlib inline\n",
    "#learned about this package during my certification from Datacamp\n",
    "msno.matrix(master_frame_venture.sort_values('country_code'))"
   ]
  },
  {
   "cell_type": "markdown",
   "metadata": {},
   "source": [
    "### **Above graph clearly shows that Missing value imputation is not possible on the basis of city or state_code**"
   ]
  },
  {
   "cell_type": "markdown",
   "metadata": {},
   "source": [
    "### **After carefully analyzing the further steps decision taken to remove observations with missing country details**\n",
    "\n"
   ]
  },
  {
   "cell_type": "code",
   "execution_count": 27,
   "metadata": {},
   "outputs": [],
   "source": [
    "master_frame_venture.country_code.dropna(inplace=True)\n",
    "master_frame_venture.reset_index(drop=True, inplace=True)"
   ]
  },
  {
   "cell_type": "code",
   "execution_count": 28,
   "metadata": {},
   "outputs": [
    {
     "data": {
      "text/plain": [
       "USA    36139\n",
       "GBR     2055\n",
       "CHN     1564\n",
       "CAN     1256\n",
       "FRA      917\n",
       "       ...  \n",
       "GGY        1\n",
       "BAH        1\n",
       "KNA        1\n",
       "KWT        1\n",
       "UGA        1\n",
       "Name: country_code, Length: 97, dtype: int64"
      ]
     },
     "execution_count": 28,
     "metadata": {},
     "output_type": "execute_result"
    }
   ],
   "source": [
    "master_frame_venture['country_code'].value_counts()"
   ]
  },
  {
   "cell_type": "markdown",
   "metadata": {},
   "source": [
    "### **Loading List of country code for english speaking countries compiled from link provided(wikipedia)**\n",
    "> *https://en.wikipedia.org/wiki/List_of_territorial_entities_where_English_is_an_official_language*"
   ]
  },
  {
   "cell_type": "code",
   "execution_count": 29,
   "metadata": {},
   "outputs": [
    {
     "data": {
      "text/html": [
       "<div>\n",
       "<style scoped>\n",
       "    .dataframe tbody tr th:only-of-type {\n",
       "        vertical-align: middle;\n",
       "    }\n",
       "\n",
       "    .dataframe tbody tr th {\n",
       "        vertical-align: top;\n",
       "    }\n",
       "\n",
       "    .dataframe thead th {\n",
       "        text-align: right;\n",
       "    }\n",
       "</style>\n",
       "<table border=\"1\" class=\"dataframe\">\n",
       "  <thead>\n",
       "    <tr style=\"text-align: right;\">\n",
       "      <th></th>\n",
       "      <th>Country_cd</th>\n",
       "    </tr>\n",
       "  </thead>\n",
       "  <tbody>\n",
       "    <tr>\n",
       "      <th>0</th>\n",
       "      <td>AUS</td>\n",
       "    </tr>\n",
       "    <tr>\n",
       "      <th>1</th>\n",
       "      <td>NZL</td>\n",
       "    </tr>\n",
       "    <tr>\n",
       "      <th>2</th>\n",
       "      <td>GBR</td>\n",
       "    </tr>\n",
       "    <tr>\n",
       "      <th>3</th>\n",
       "      <td>USA</td>\n",
       "    </tr>\n",
       "    <tr>\n",
       "      <th>4</th>\n",
       "      <td>ATG</td>\n",
       "    </tr>\n",
       "  </tbody>\n",
       "</table>\n",
       "</div>"
      ],
      "text/plain": [
       "  Country_cd\n",
       "0        AUS\n",
       "1        NZL\n",
       "2        GBR\n",
       "3        USA\n",
       "4        ATG"
      ]
     },
     "execution_count": 29,
     "metadata": {},
     "output_type": "execute_result"
    }
   ],
   "source": [
    "english_country = pd.read_csv(\"D:/Upgrad/2. Exploratory Data Analysis/Module_3_Investment Assignment/English_Countries.csv\")\n",
    "english_country.head()"
   ]
  },
  {
   "cell_type": "code",
   "execution_count": 30,
   "metadata": {},
   "outputs": [],
   "source": [
    "#creating a list of all english speaking country code\n",
    "english_cntry_cd = list(english_country.Country_cd)"
   ]
  },
  {
   "cell_type": "markdown",
   "metadata": {},
   "source": [
    "## **Filtering dataset for countries where English is either primary or official language**"
   ]
  },
  {
   "cell_type": "code",
   "execution_count": 31,
   "metadata": {},
   "outputs": [
    {
     "data": {
      "text/plain": [
       "USA    36139\n",
       "GBR     2055\n",
       "CAN     1256\n",
       "IND      824\n",
       "ISR      796\n",
       "IRL      222\n",
       "SGP      221\n",
       "AUS      206\n",
       "NZL       48\n",
       "MYS       30\n",
       "ARE       26\n",
       "ZAF       23\n",
       "NGA       15\n",
       "PHL       13\n",
       "CYP       10\n",
       "JOR        8\n",
       "KEN        7\n",
       "PAK        7\n",
       "GHA        3\n",
       "TTO        3\n",
       "MLT        3\n",
       "CMR        3\n",
       "BGD        2\n",
       "BWA        2\n",
       "MMR        1\n",
       "KWT        1\n",
       "MUS        1\n",
       "KNA        1\n",
       "UGA        1\n",
       "Name: country_code, dtype: int64"
      ]
     },
     "execution_count": 31,
     "metadata": {},
     "output_type": "execute_result"
    }
   ],
   "source": [
    "master_frame_venture_eng = master_frame_venture.loc[master_frame_venture['country_code'].isin(english_cntry_cd)]\n",
    "master_frame_venture_eng.country_code.value_counts()"
   ]
  },
  {
   "cell_type": "code",
   "execution_count": 32,
   "metadata": {},
   "outputs": [],
   "source": [
    "#creating new dataset to summarize dataset total funding by each countries\n",
    "venture_eng_countries = pd.pivot_table(master_frame_venture_eng,index=['country_code'], values='raised_amount_usd', aggfunc=np.sum).sort_values('raised_amount_usd', ascending=False).reset_index()"
   ]
  },
  {
   "cell_type": "code",
   "execution_count": 60,
   "metadata": {},
   "outputs": [
    {
     "data": {
      "image/png": "[encoded data removed]",
      "text/plain": [
       "<Figure size 1440x720 with 1 Axes>"
      ]
     },
     "metadata": {
      "needs_background": "light"
     },
     "output_type": "display_data"
    }
   ],
   "source": [
    "plt.figure(figsize=(20,10))\n",
    "sns.barplot(data=venture_eng_countries, x='country_code', y='raised_amount_usd',  palette=\"Blues_d\")\n",
    "plt.title('Total Funding Amount by Country')\n",
    "plt.ylabel('Total Funding amount Raise (in 100B USD)')\n",
    "plt.show()"
   ]
  },
  {
   "cell_type": "code",
   "execution_count": 61,
   "metadata": {},
   "outputs": [
    {
     "data": {
      "text/html": [
       "<div>\n",
       "<style scoped>\n",
       "    .dataframe tbody tr th:only-of-type {\n",
       "        vertical-align: middle;\n",
       "    }\n",
       "\n",
       "    .dataframe tbody tr th {\n",
       "        vertical-align: top;\n",
       "    }\n",
       "\n",
       "    .dataframe thead th {\n",
       "        text-align: right;\n",
       "    }\n",
       "</style>\n",
       "<table border=\"1\" class=\"dataframe\">\n",
       "  <thead>\n",
       "    <tr style=\"text-align: right;\">\n",
       "      <th></th>\n",
       "      <th>country_code</th>\n",
       "      <th>raised_amount_usd</th>\n",
       "    </tr>\n",
       "  </thead>\n",
       "  <tbody>\n",
       "    <tr>\n",
       "      <th>0</th>\n",
       "      <td>USA</td>\n",
       "      <td>4.225108e+11</td>\n",
       "    </tr>\n",
       "    <tr>\n",
       "      <th>1</th>\n",
       "      <td>GBR</td>\n",
       "      <td>2.024563e+10</td>\n",
       "    </tr>\n",
       "    <tr>\n",
       "      <th>2</th>\n",
       "      <td>IND</td>\n",
       "      <td>1.439186e+10</td>\n",
       "    </tr>\n",
       "    <tr>\n",
       "      <th>3</th>\n",
       "      <td>CAN</td>\n",
       "      <td>9.583332e+09</td>\n",
       "    </tr>\n",
       "    <tr>\n",
       "      <th>4</th>\n",
       "      <td>ISR</td>\n",
       "      <td>6.907515e+09</td>\n",
       "    </tr>\n",
       "    <tr>\n",
       "      <th>5</th>\n",
       "      <td>SGP</td>\n",
       "      <td>2.793918e+09</td>\n",
       "    </tr>\n",
       "    <tr>\n",
       "      <th>6</th>\n",
       "      <td>IRL</td>\n",
       "      <td>1.676131e+09</td>\n",
       "    </tr>\n",
       "    <tr>\n",
       "      <th>7</th>\n",
       "      <td>AUS</td>\n",
       "      <td>1.322935e+09</td>\n",
       "    </tr>\n",
       "    <tr>\n",
       "      <th>8</th>\n",
       "      <td>MYS</td>\n",
       "      <td>8.830588e+08</td>\n",
       "    </tr>\n",
       "  </tbody>\n",
       "</table>\n",
       "</div>"
      ],
      "text/plain": [
       "  country_code  raised_amount_usd\n",
       "0          USA       4.225108e+11\n",
       "1          GBR       2.024563e+10\n",
       "2          IND       1.439186e+10\n",
       "3          CAN       9.583332e+09\n",
       "4          ISR       6.907515e+09\n",
       "5          SGP       2.793918e+09\n",
       "6          IRL       1.676131e+09\n",
       "7          AUS       1.322935e+09\n",
       "8          MYS       8.830588e+08"
      ]
     },
     "execution_count": 61,
     "metadata": {},
     "output_type": "execute_result"
    }
   ],
   "source": [
    "venture_eng_top9= venture_eng_countries.head(9)\n",
    "venture_eng_top9"
   ]
  },
  {
   "cell_type": "markdown",
   "metadata": {},
   "source": [
    "## **Nine country which have received most investments are USA, Britan, India, Canada, Isreal, Singapore, Ireland, Australia and Malaysia in same order**"
   ]
  },
  {
   "cell_type": "code",
   "execution_count": 62,
   "metadata": {},
   "outputs": [],
   "source": [
    "#creating list of top 9 list of countries which receieved highest investment\n",
    "top9_country = list(venture_eng_top9['country_code'])"
   ]
  },
  {
   "cell_type": "code",
   "execution_count": 63,
   "metadata": {},
   "outputs": [
    {
     "data": {
      "text/html": [
       "<div>\n",
       "<style scoped>\n",
       "    .dataframe tbody tr th:only-of-type {\n",
       "        vertical-align: middle;\n",
       "    }\n",
       "\n",
       "    .dataframe tbody tr th {\n",
       "        vertical-align: top;\n",
       "    }\n",
       "\n",
       "    .dataframe thead th {\n",
       "        text-align: right;\n",
       "    }\n",
       "</style>\n",
       "<table border=\"1\" class=\"dataframe\">\n",
       "  <thead>\n",
       "    <tr style=\"text-align: right;\">\n",
       "      <th></th>\n",
       "      <th>company_permalink</th>\n",
       "      <th>funding_round_permalink</th>\n",
       "      <th>funding_round_type</th>\n",
       "      <th>funding_round_code</th>\n",
       "      <th>funded_at</th>\n",
       "      <th>raised_amount_usd</th>\n",
       "      <th>permalink</th>\n",
       "      <th>name</th>\n",
       "      <th>homepage_url</th>\n",
       "      <th>category_list</th>\n",
       "      <th>status</th>\n",
       "      <th>country_code</th>\n",
       "      <th>state_code</th>\n",
       "      <th>region</th>\n",
       "      <th>city</th>\n",
       "      <th>founded_at</th>\n",
       "    </tr>\n",
       "  </thead>\n",
       "  <tbody>\n",
       "    <tr>\n",
       "      <th>0</th>\n",
       "      <td>/organization/-fame</td>\n",
       "      <td>/funding-round/9a01d05418af9f794eebff7ace91f638</td>\n",
       "      <td>venture</td>\n",
       "      <td>B</td>\n",
       "      <td>05-01-2015</td>\n",
       "      <td>10000000.0</td>\n",
       "      <td>/organization/-fame</td>\n",
       "      <td>#fame</td>\n",
       "      <td>http://livfame.com</td>\n",
       "      <td>Media</td>\n",
       "      <td>operating</td>\n",
       "      <td>IND</td>\n",
       "      <td>16</td>\n",
       "      <td>Mumbai</td>\n",
       "      <td>Mumbai</td>\n",
       "      <td>NaN</td>\n",
       "    </tr>\n",
       "    <tr>\n",
       "      <th>1</th>\n",
       "      <td>/organization/0ndine-biomedical-inc</td>\n",
       "      <td>/funding-round/954b9499724b946ad8c396a57a5f3b72</td>\n",
       "      <td>venture</td>\n",
       "      <td>NaN</td>\n",
       "      <td>21-12-2009</td>\n",
       "      <td>719491.0</td>\n",
       "      <td>/organization/0ndine-biomedical-inc</td>\n",
       "      <td>Ondine Biomedical Inc.</td>\n",
       "      <td>http://ondinebio.com</td>\n",
       "      <td>Biotechnology</td>\n",
       "      <td>operating</td>\n",
       "      <td>CAN</td>\n",
       "      <td>BC</td>\n",
       "      <td>Vancouver</td>\n",
       "      <td>Vancouver</td>\n",
       "      <td>01-01-1997</td>\n",
       "    </tr>\n",
       "    <tr>\n",
       "      <th>2</th>\n",
       "      <td>/organization/0xdata</td>\n",
       "      <td>/funding-round/3bb2ee4a2d89251a10aaa735b1180e44</td>\n",
       "      <td>venture</td>\n",
       "      <td>B</td>\n",
       "      <td>09-11-2015</td>\n",
       "      <td>20000000.0</td>\n",
       "      <td>/organization/0xdata</td>\n",
       "      <td>H2O.ai</td>\n",
       "      <td>http://h2o.ai/</td>\n",
       "      <td>Analytics</td>\n",
       "      <td>operating</td>\n",
       "      <td>USA</td>\n",
       "      <td>CA</td>\n",
       "      <td>SF Bay Area</td>\n",
       "      <td>Mountain View</td>\n",
       "      <td>01-01-2011</td>\n",
       "    </tr>\n",
       "    <tr>\n",
       "      <th>3</th>\n",
       "      <td>/organization/0xdata</td>\n",
       "      <td>/funding-round/ae2a174c06517c2394aed45006322a7e</td>\n",
       "      <td>venture</td>\n",
       "      <td>NaN</td>\n",
       "      <td>03-01-2013</td>\n",
       "      <td>1700000.0</td>\n",
       "      <td>/organization/0xdata</td>\n",
       "      <td>H2O.ai</td>\n",
       "      <td>http://h2o.ai/</td>\n",
       "      <td>Analytics</td>\n",
       "      <td>operating</td>\n",
       "      <td>USA</td>\n",
       "      <td>CA</td>\n",
       "      <td>SF Bay Area</td>\n",
       "      <td>Mountain View</td>\n",
       "      <td>01-01-2011</td>\n",
       "    </tr>\n",
       "    <tr>\n",
       "      <th>4</th>\n",
       "      <td>/organization/0xdata</td>\n",
       "      <td>/funding-round/e1cfcbe1bdf4c70277c5f29a3482f24e</td>\n",
       "      <td>venture</td>\n",
       "      <td>A</td>\n",
       "      <td>19-07-2014</td>\n",
       "      <td>8900000.0</td>\n",
       "      <td>/organization/0xdata</td>\n",
       "      <td>H2O.ai</td>\n",
       "      <td>http://h2o.ai/</td>\n",
       "      <td>Analytics</td>\n",
       "      <td>operating</td>\n",
       "      <td>USA</td>\n",
       "      <td>CA</td>\n",
       "      <td>SF Bay Area</td>\n",
       "      <td>Mountain View</td>\n",
       "      <td>01-01-2011</td>\n",
       "    </tr>\n",
       "  </tbody>\n",
       "</table>\n",
       "</div>"
      ],
      "text/plain": [
       "                     company_permalink  \\\n",
       "0                  /organization/-fame   \n",
       "1  /organization/0ndine-biomedical-inc   \n",
       "2                 /organization/0xdata   \n",
       "3                 /organization/0xdata   \n",
       "4                 /organization/0xdata   \n",
       "\n",
       "                           funding_round_permalink funding_round_type  \\\n",
       "0  /funding-round/9a01d05418af9f794eebff7ace91f638            venture   \n",
       "1  /funding-round/954b9499724b946ad8c396a57a5f3b72            venture   \n",
       "2  /funding-round/3bb2ee4a2d89251a10aaa735b1180e44            venture   \n",
       "3  /funding-round/ae2a174c06517c2394aed45006322a7e            venture   \n",
       "4  /funding-round/e1cfcbe1bdf4c70277c5f29a3482f24e            venture   \n",
       "\n",
       "  funding_round_code   funded_at  raised_amount_usd  \\\n",
       "0                  B  05-01-2015         10000000.0   \n",
       "1                NaN  21-12-2009           719491.0   \n",
       "2                  B  09-11-2015         20000000.0   \n",
       "3                NaN  03-01-2013          1700000.0   \n",
       "4                  A  19-07-2014          8900000.0   \n",
       "\n",
       "                             permalink                    name  \\\n",
       "0                  /organization/-fame                   #fame   \n",
       "1  /organization/0ndine-biomedical-inc  Ondine Biomedical Inc.   \n",
       "2                 /organization/0xdata                  H2O.ai   \n",
       "3                 /organization/0xdata                  H2O.ai   \n",
       "4                 /organization/0xdata                  H2O.ai   \n",
       "\n",
       "           homepage_url  category_list     status country_code state_code  \\\n",
       "0    http://livfame.com          Media  operating          IND         16   \n",
       "1  http://ondinebio.com  Biotechnology  operating          CAN         BC   \n",
       "2        http://h2o.ai/      Analytics  operating          USA         CA   \n",
       "3        http://h2o.ai/      Analytics  operating          USA         CA   \n",
       "4        http://h2o.ai/      Analytics  operating          USA         CA   \n",
       "\n",
       "        region           city  founded_at  \n",
       "0       Mumbai         Mumbai         NaN  \n",
       "1    Vancouver      Vancouver  01-01-1997  \n",
       "2  SF Bay Area  Mountain View  01-01-2011  \n",
       "3  SF Bay Area  Mountain View  01-01-2011  \n",
       "4  SF Bay Area  Mountain View  01-01-2011  "
      ]
     },
     "execution_count": 63,
     "metadata": {},
     "output_type": "execute_result"
    }
   ],
   "source": [
    "#Filtering the dataframe on the basis top 9 countries identified for investment\n",
    "top9 = master_frame_venture_eng.loc[master_frame_venture_eng['country_code'].isin(top9_country)].reset_index(drop=True)\n",
    "top9.head()"
   ]
  },
  {
   "cell_type": "code",
   "execution_count": 64,
   "metadata": {},
   "outputs": [
    {
     "data": {
      "text/html": [
       "<div>\n",
       "<style scoped>\n",
       "    .dataframe tbody tr th:only-of-type {\n",
       "        vertical-align: middle;\n",
       "    }\n",
       "\n",
       "    .dataframe tbody tr th {\n",
       "        vertical-align: top;\n",
       "    }\n",
       "\n",
       "    .dataframe thead th {\n",
       "        text-align: right;\n",
       "    }\n",
       "</style>\n",
       "<table border=\"1\" class=\"dataframe\">\n",
       "  <thead>\n",
       "    <tr style=\"text-align: right;\">\n",
       "      <th></th>\n",
       "      <th>sum</th>\n",
       "      <th>count</th>\n",
       "    </tr>\n",
       "    <tr>\n",
       "      <th>country_code</th>\n",
       "      <th></th>\n",
       "      <th></th>\n",
       "    </tr>\n",
       "  </thead>\n",
       "  <tbody>\n",
       "    <tr>\n",
       "      <th>USA</th>\n",
       "      <td>4.225108e+11</td>\n",
       "      <td>36139</td>\n",
       "    </tr>\n",
       "    <tr>\n",
       "      <th>GBR</th>\n",
       "      <td>2.024563e+10</td>\n",
       "      <td>2055</td>\n",
       "    </tr>\n",
       "    <tr>\n",
       "      <th>IND</th>\n",
       "      <td>1.439186e+10</td>\n",
       "      <td>824</td>\n",
       "    </tr>\n",
       "    <tr>\n",
       "      <th>CAN</th>\n",
       "      <td>9.583332e+09</td>\n",
       "      <td>1256</td>\n",
       "    </tr>\n",
       "    <tr>\n",
       "      <th>ISR</th>\n",
       "      <td>6.907515e+09</td>\n",
       "      <td>796</td>\n",
       "    </tr>\n",
       "    <tr>\n",
       "      <th>SGP</th>\n",
       "      <td>2.793918e+09</td>\n",
       "      <td>221</td>\n",
       "    </tr>\n",
       "    <tr>\n",
       "      <th>IRL</th>\n",
       "      <td>1.676131e+09</td>\n",
       "      <td>222</td>\n",
       "    </tr>\n",
       "    <tr>\n",
       "      <th>AUS</th>\n",
       "      <td>1.322935e+09</td>\n",
       "      <td>206</td>\n",
       "    </tr>\n",
       "    <tr>\n",
       "      <th>MYS</th>\n",
       "      <td>8.830588e+08</td>\n",
       "      <td>30</td>\n",
       "    </tr>\n",
       "  </tbody>\n",
       "</table>\n",
       "</div>"
      ],
      "text/plain": [
       "                       sum  count\n",
       "country_code                     \n",
       "USA           4.225108e+11  36139\n",
       "GBR           2.024563e+10   2055\n",
       "IND           1.439186e+10    824\n",
       "CAN           9.583332e+09   1256\n",
       "ISR           6.907515e+09    796\n",
       "SGP           2.793918e+09    221\n",
       "IRL           1.676131e+09    222\n",
       "AUS           1.322935e+09    206\n",
       "MYS           8.830588e+08     30"
      ]
     },
     "execution_count": 64,
     "metadata": {},
     "output_type": "execute_result"
    }
   ],
   "source": [
    "# Ensuring only top nice countries got picked up in top9 dataset\n",
    "top9.groupby('country_code')['raised_amount_usd'].agg(['sum', 'count']).sort_values('sum', ascending=False)"
   ]
  },
  {
   "cell_type": "markdown",
   "metadata": {},
   "source": [
    "### **Cleaning category_list variable picking first string where multiple strings given separated by '|'**"
   ]
  },
  {
   "cell_type": "code",
   "execution_count": 65,
   "metadata": {},
   "outputs": [
    {
     "data": {
      "text/plain": [
       "Biotechnology                 6205\n",
       "Software                      3587\n",
       "Advertising                   1959\n",
       "Health Care                   1681\n",
       "Enterprise Software           1639\n",
       "                              ... \n",
       "Social Media Marketing           1\n",
       "Online Scheduling                1\n",
       "Ticketing                        1\n",
       "Anything Capital Intensive       1\n",
       "High Tech                        1\n",
       "Name: category_list_clean, Length: 578, dtype: int64"
      ]
     },
     "execution_count": 65,
     "metadata": {},
     "output_type": "execute_result"
    }
   ],
   "source": [
    "top9['category_list_clean'] = top9['category_list'].apply(lambda x: str(x).split('|')[0])\n",
    "top9.category_list_clean.value_counts()"
   ]
  },
  {
   "cell_type": "code",
   "execution_count": 66,
   "metadata": {},
   "outputs": [
    {
     "data": {
      "text/html": [
       "<div>\n",
       "<style scoped>\n",
       "    .dataframe tbody tr th:only-of-type {\n",
       "        vertical-align: middle;\n",
       "    }\n",
       "\n",
       "    .dataframe tbody tr th {\n",
       "        vertical-align: top;\n",
       "    }\n",
       "\n",
       "    .dataframe thead th {\n",
       "        text-align: right;\n",
       "    }\n",
       "</style>\n",
       "<table border=\"1\" class=\"dataframe\">\n",
       "  <thead>\n",
       "    <tr style=\"text-align: right;\">\n",
       "      <th></th>\n",
       "      <th>category_list</th>\n",
       "      <th>Automotive &amp; Sports</th>\n",
       "      <th>Blanks</th>\n",
       "      <th>Cleantech / Semiconductors</th>\n",
       "      <th>Entertainment</th>\n",
       "      <th>Health</th>\n",
       "      <th>Manufacturing</th>\n",
       "      <th>News, Search and Messaging</th>\n",
       "      <th>Others</th>\n",
       "      <th>Social, Finance, Analytics, Advertising</th>\n",
       "    </tr>\n",
       "  </thead>\n",
       "  <tbody>\n",
       "    <tr>\n",
       "      <th>0</th>\n",
       "      <td>NaN</td>\n",
       "      <td>0</td>\n",
       "      <td>1</td>\n",
       "      <td>0</td>\n",
       "      <td>0</td>\n",
       "      <td>0</td>\n",
       "      <td>0</td>\n",
       "      <td>0</td>\n",
       "      <td>0</td>\n",
       "      <td>0</td>\n",
       "    </tr>\n",
       "    <tr>\n",
       "      <th>1</th>\n",
       "      <td>3D</td>\n",
       "      <td>0</td>\n",
       "      <td>0</td>\n",
       "      <td>0</td>\n",
       "      <td>0</td>\n",
       "      <td>0</td>\n",
       "      <td>1</td>\n",
       "      <td>0</td>\n",
       "      <td>0</td>\n",
       "      <td>0</td>\n",
       "    </tr>\n",
       "    <tr>\n",
       "      <th>2</th>\n",
       "      <td>3D Printing</td>\n",
       "      <td>0</td>\n",
       "      <td>0</td>\n",
       "      <td>0</td>\n",
       "      <td>0</td>\n",
       "      <td>0</td>\n",
       "      <td>1</td>\n",
       "      <td>0</td>\n",
       "      <td>0</td>\n",
       "      <td>0</td>\n",
       "    </tr>\n",
       "    <tr>\n",
       "      <th>3</th>\n",
       "      <td>3D Technology</td>\n",
       "      <td>0</td>\n",
       "      <td>0</td>\n",
       "      <td>0</td>\n",
       "      <td>0</td>\n",
       "      <td>0</td>\n",
       "      <td>1</td>\n",
       "      <td>0</td>\n",
       "      <td>0</td>\n",
       "      <td>0</td>\n",
       "    </tr>\n",
       "    <tr>\n",
       "      <th>4</th>\n",
       "      <td>Accounting</td>\n",
       "      <td>0</td>\n",
       "      <td>0</td>\n",
       "      <td>0</td>\n",
       "      <td>0</td>\n",
       "      <td>0</td>\n",
       "      <td>0</td>\n",
       "      <td>0</td>\n",
       "      <td>0</td>\n",
       "      <td>1</td>\n",
       "    </tr>\n",
       "  </tbody>\n",
       "</table>\n",
       "</div>"
      ],
      "text/plain": [
       "   category_list  Automotive & Sports  Blanks  Cleantech / Semiconductors  \\\n",
       "0            NaN                    0       1                           0   \n",
       "1             3D                    0       0                           0   \n",
       "2    3D Printing                    0       0                           0   \n",
       "3  3D Technology                    0       0                           0   \n",
       "4     Accounting                    0       0                           0   \n",
       "\n",
       "   Entertainment  Health  Manufacturing  News, Search and Messaging  Others  \\\n",
       "0              0       0              0                           0       0   \n",
       "1              0       0              1                           0       0   \n",
       "2              0       0              1                           0       0   \n",
       "3              0       0              1                           0       0   \n",
       "4              0       0              0                           0       0   \n",
       "\n",
       "   Social, Finance, Analytics, Advertising  \n",
       "0                                        0  \n",
       "1                                        0  \n",
       "2                                        0  \n",
       "3                                        0  \n",
       "4                                        1  "
      ]
     },
     "execution_count": 66,
     "metadata": {},
     "output_type": "execute_result"
    }
   ],
   "source": [
    "mapping.head()"
   ]
  },
  {
   "cell_type": "code",
   "execution_count": 67,
   "metadata": {
    "scrolled": true
   },
   "outputs": [
    {
     "data": {
      "text/html": [
       "<div>\n",
       "<style scoped>\n",
       "    .dataframe tbody tr th:only-of-type {\n",
       "        vertical-align: middle;\n",
       "    }\n",
       "\n",
       "    .dataframe tbody tr th {\n",
       "        vertical-align: top;\n",
       "    }\n",
       "\n",
       "    .dataframe thead th {\n",
       "        text-align: right;\n",
       "    }\n",
       "</style>\n",
       "<table border=\"1\" class=\"dataframe\">\n",
       "  <thead>\n",
       "    <tr style=\"text-align: right;\">\n",
       "      <th></th>\n",
       "      <th>category_list</th>\n",
       "      <th>level_1</th>\n",
       "    </tr>\n",
       "  </thead>\n",
       "  <tbody>\n",
       "    <tr>\n",
       "      <th>1</th>\n",
       "      <td>NaN</td>\n",
       "      <td>Blanks</td>\n",
       "    </tr>\n",
       "    <tr>\n",
       "      <th>14</th>\n",
       "      <td>3D</td>\n",
       "      <td>Manufacturing</td>\n",
       "    </tr>\n",
       "    <tr>\n",
       "      <th>23</th>\n",
       "      <td>3D Printing</td>\n",
       "      <td>Manufacturing</td>\n",
       "    </tr>\n",
       "    <tr>\n",
       "      <th>32</th>\n",
       "      <td>3D Technology</td>\n",
       "      <td>Manufacturing</td>\n",
       "    </tr>\n",
       "    <tr>\n",
       "      <th>44</th>\n",
       "      <td>Accounting</td>\n",
       "      <td>Social, Finance, Analytics, Advertising</td>\n",
       "    </tr>\n",
       "  </tbody>\n",
       "</table>\n",
       "</div>"
      ],
      "text/plain": [
       "    category_list                                  level_1\n",
       "1             NaN                                   Blanks\n",
       "14             3D                            Manufacturing\n",
       "23    3D Printing                            Manufacturing\n",
       "32  3D Technology                            Manufacturing\n",
       "44     Accounting  Social, Finance, Analytics, Advertising"
      ]
     },
     "execution_count": 67,
     "metadata": {},
     "output_type": "execute_result"
    }
   ],
   "source": [
    "# Maniputing mapping dataset so that we can create mapping dataset\n",
    "category_transform = mapping.set_index('category_list').stack().reset_index()\n",
    "category_mapping = category_transform.loc[category_transform[0]==1].drop(0, axis=1)\n",
    "category_mapping.head()"
   ]
  },
  {
   "cell_type": "markdown",
   "metadata": {},
   "source": [
    "# **Cleaning category_cleaning dataset**\n",
    "> 1.*Given variable in both the Datasets needs cleaning (top9 and category_mapping)*\n",
    "> 2.*There is possibility category_list field not in same case in both datasets*\n",
    ">> 1. *Planning keep both dataset values in lowercase *\n",
    ">> 2. *we will be removing more one spaces between the string*\n",
    ">> 3. *Removing leading and trailing blanks from category_list*"
   ]
  },
  {
   "cell_type": "code",
   "execution_count": 68,
   "metadata": {},
   "outputs": [],
   "source": [
    "#cleaning category_list in mapping dataset to modify lower case, removing leading and trailing blanks and remove extra spaces\n",
    "category_mapping['category_list_clean'] = category_mapping['category_list'].apply(lambda x: str(x).lower().strip()).apply(lambda x: re.sub(' +',' ',x))\n",
    "category_mapping.drop('category_list', axis=1, inplace=True)"
   ]
  },
  {
   "cell_type": "code",
   "execution_count": 69,
   "metadata": {},
   "outputs": [
    {
     "data": {
      "text/html": [
       "<div>\n",
       "<style scoped>\n",
       "    .dataframe tbody tr th:only-of-type {\n",
       "        vertical-align: middle;\n",
       "    }\n",
       "\n",
       "    .dataframe tbody tr th {\n",
       "        vertical-align: top;\n",
       "    }\n",
       "\n",
       "    .dataframe thead th {\n",
       "        text-align: right;\n",
       "    }\n",
       "</style>\n",
       "<table border=\"1\" class=\"dataframe\">\n",
       "  <thead>\n",
       "    <tr style=\"text-align: right;\">\n",
       "      <th></th>\n",
       "      <th>Sector</th>\n",
       "      <th>category_list_clean</th>\n",
       "    </tr>\n",
       "  </thead>\n",
       "  <tbody>\n",
       "    <tr>\n",
       "      <th>1</th>\n",
       "      <td>Blanks</td>\n",
       "      <td>nan</td>\n",
       "    </tr>\n",
       "    <tr>\n",
       "      <th>14</th>\n",
       "      <td>Manufacturing</td>\n",
       "      <td>3d</td>\n",
       "    </tr>\n",
       "    <tr>\n",
       "      <th>23</th>\n",
       "      <td>Manufacturing</td>\n",
       "      <td>3d printing</td>\n",
       "    </tr>\n",
       "    <tr>\n",
       "      <th>32</th>\n",
       "      <td>Manufacturing</td>\n",
       "      <td>3d technology</td>\n",
       "    </tr>\n",
       "    <tr>\n",
       "      <th>44</th>\n",
       "      <td>Social, Finance, Analytics, Advertising</td>\n",
       "      <td>accounting</td>\n",
       "    </tr>\n",
       "  </tbody>\n",
       "</table>\n",
       "</div>"
      ],
      "text/plain": [
       "                                     Sector category_list_clean\n",
       "1                                    Blanks                 nan\n",
       "14                            Manufacturing                  3d\n",
       "23                            Manufacturing         3d printing\n",
       "32                            Manufacturing       3d technology\n",
       "44  Social, Finance, Analytics, Advertising          accounting"
      ]
     },
     "execution_count": 69,
     "metadata": {},
     "output_type": "execute_result"
    }
   ],
   "source": [
    "# Renaming columns to make it more meaningful\n",
    "category_mapping.columns=['Sector', 'category_list_clean']\n",
    "category_mapping.head()"
   ]
  },
  {
   "cell_type": "code",
   "execution_count": 70,
   "metadata": {},
   "outputs": [],
   "source": [
    "#cleaning category_list in top9 dataset to modify lower case, removing leading and trailing blanks and remove extra spaces\n",
    "top9['category_list_clean'] = top9['category_list_clean'].apply(lambda x: str(x).lower().strip()).apply(lambda x: re.sub(' +',' ',x))"
   ]
  },
  {
   "cell_type": "markdown",
   "metadata": {},
   "source": [
    "# **Left Joining category mapping dataset  to top9 using category_list_clean**"
   ]
  },
  {
   "cell_type": "code",
   "execution_count": 71,
   "metadata": {},
   "outputs": [],
   "source": [
    "top9_sectors = pd.merge(top9, category_mapping, how='left', on='category_list_clean')"
   ]
  },
  {
   "cell_type": "code",
   "execution_count": 72,
   "metadata": {},
   "outputs": [
    {
     "data": {
      "text/plain": [
       "Others                                     9646\n",
       "Cleantech / Semiconductors                 8948\n",
       "Social, Finance, Analytics, Advertising    5969\n",
       "News, Search and Messaging                 4999\n",
       "Health                                     3611\n",
       "Manufacturing                              2846\n",
       "Entertainment                              2109\n",
       "Automotive & Sports                         616\n",
       "Blanks                                      237\n",
       "Name: Sector, dtype: int64"
      ]
     },
     "execution_count": 72,
     "metadata": {},
     "output_type": "execute_result"
    }
   ],
   "source": [
    "#checking distribution of sector to check whether unexpected values exists\n",
    "top9_sectors.Sector.value_counts()"
   ]
  },
  {
   "cell_type": "code",
   "execution_count": 73,
   "metadata": {},
   "outputs": [
    {
     "data": {
      "text/plain": [
       "nan    237\n",
       "Name: category_list_clean, dtype: int64"
      ]
     },
     "execution_count": 73,
     "metadata": {},
     "output_type": "execute_result"
    }
   ],
   "source": [
    "# Checking blank sector values for category_list value to see whether any non blank category categorized as Sector \"Blank\"\n",
    "top9_sectors.loc[top9_sectors.Sector == 'Blanks']['category_list_clean'].value_counts()"
   ]
  },
  {
   "cell_type": "markdown",
   "metadata": {},
   "source": [
    "## **Creating three different dataset for top 3 countries with only picking obs with funding amount between 5m to 15m USD**"
   ]
  },
  {
   "cell_type": "code",
   "execution_count": 74,
   "metadata": {},
   "outputs": [],
   "source": [
    "D1 = top9_sectors.loc[(top9_sectors.country_code == 'USA') & (top9_sectors.raised_amount_usd >= 5000000) & (top9_sectors.raised_amount_usd <= 15000000)]\n",
    "D2 = top9_sectors.loc[(top9_sectors.country_code == 'GBR') & (top9_sectors.raised_amount_usd >= 5000000) & (top9_sectors.raised_amount_usd <= 15000000)]\n",
    "D3 = top9_sectors.loc[(top9_sectors.country_code == 'IND') & (top9_sectors.raised_amount_usd >= 5000000) & (top9_sectors.raised_amount_usd <= 15000000)]"
   ]
  },
  {
   "cell_type": "code",
   "execution_count": 75,
   "metadata": {},
   "outputs": [
    {
     "name": "stdout",
     "output_type": "stream",
     "text": [
      "USA    12150\n",
      "Name: country_code, dtype: int64\n",
      "GBR    628\n",
      "Name: country_code, dtype: int64\n",
      "IND    330\n",
      "Name: country_code, dtype: int64\n"
     ]
    }
   ],
   "source": [
    "# Checking number of investment in top countries \n",
    "print(D1.country_code.value_counts())\n",
    "print(D2.country_code.value_counts())\n",
    "print(D3.country_code.value_counts())"
   ]
  },
  {
   "cell_type": "code",
   "execution_count": 76,
   "metadata": {},
   "outputs": [
    {
     "data": {
      "text/plain": [
       "count    1.215000e+04\n",
       "mean     8.932621e+06\n",
       "std      3.076844e+06\n",
       "min      5.000000e+06\n",
       "25%      6.000749e+06\n",
       "50%      8.300000e+06\n",
       "75%      1.100000e+07\n",
       "max      1.500000e+07\n",
       "Name: raised_amount_usd, dtype: float64"
      ]
     },
     "execution_count": 76,
     "metadata": {},
     "output_type": "execute_result"
    }
   ],
   "source": [
    "# Univariate analysis of funding amount for USA\n",
    "D1.raised_amount_usd.describe()"
   ]
  },
  {
   "cell_type": "code",
   "execution_count": 77,
   "metadata": {},
   "outputs": [
    {
     "data": {
      "text/plain": [
       "count    6.280000e+02\n",
       "mean     8.657394e+06\n",
       "std      2.870527e+06\n",
       "min      5.000000e+06\n",
       "25%      6.076152e+06\n",
       "50%      8.000000e+06\n",
       "75%      1.061899e+07\n",
       "max      1.500000e+07\n",
       "Name: raised_amount_usd, dtype: float64"
      ]
     },
     "execution_count": 77,
     "metadata": {},
     "output_type": "execute_result"
    }
   ],
   "source": [
    "# Univariate analysis of funding amount for GBR\n",
    "D2.raised_amount_usd.describe()"
   ]
  },
  {
   "cell_type": "code",
   "execution_count": 78,
   "metadata": {},
   "outputs": [
    {
     "data": {
      "text/plain": [
       "count    3.300000e+02\n",
       "mean     9.019829e+06\n",
       "std      3.231192e+06\n",
       "min      5.000000e+06\n",
       "25%      6.000000e+06\n",
       "50%      8.775000e+06\n",
       "75%      1.078750e+07\n",
       "max      1.500000e+07\n",
       "Name: raised_amount_usd, dtype: float64"
      ]
     },
     "execution_count": 78,
     "metadata": {},
     "output_type": "execute_result"
    }
   ],
   "source": [
    "# Univariate analysis of funding amount for IND\n",
    "D3.raised_amount_usd.describe()"
   ]
  },
  {
   "cell_type": "code",
   "execution_count": 79,
   "metadata": {},
   "outputs": [
    {
     "name": "stdout",
     "output_type": "stream",
     "text": [
      "108531347515.0\n",
      "5436843539.0\n",
      "2976543602.0\n"
     ]
    }
   ],
   "source": [
    "# Checking sum of investment in top countries \n",
    "print(D1.raised_amount_usd.sum())\n",
    "print(D2.raised_amount_usd.sum())\n",
    "print(D3.raised_amount_usd.sum())"
   ]
  },
  {
   "cell_type": "markdown",
   "metadata": {},
   "source": [
    "# **Generating summary of sector wise funding amount in top three countries**"
   ]
  },
  {
   "cell_type": "code",
   "execution_count": 81,
   "metadata": {},
   "outputs": [
    {
     "data": {
      "text/html": [
       "<div>\n",
       "<style scoped>\n",
       "    .dataframe tbody tr th:only-of-type {\n",
       "        vertical-align: middle;\n",
       "    }\n",
       "\n",
       "    .dataframe tbody tr th {\n",
       "        vertical-align: top;\n",
       "    }\n",
       "\n",
       "    .dataframe thead th {\n",
       "        text-align: right;\n",
       "    }\n",
       "</style>\n",
       "<table border=\"1\" class=\"dataframe\">\n",
       "  <thead>\n",
       "    <tr style=\"text-align: right;\">\n",
       "      <th></th>\n",
       "      <th>Total_Funding</th>\n",
       "      <th>Number_of_Funding</th>\n",
       "    </tr>\n",
       "    <tr>\n",
       "      <th>Sector</th>\n",
       "      <th></th>\n",
       "      <th></th>\n",
       "    </tr>\n",
       "  </thead>\n",
       "  <tbody>\n",
       "    <tr>\n",
       "      <th>Others</th>\n",
       "      <td>2.608928e+10</td>\n",
       "      <td>2923</td>\n",
       "    </tr>\n",
       "    <tr>\n",
       "      <th>Cleantech / Semiconductors</th>\n",
       "      <td>2.118100e+10</td>\n",
       "      <td>2297</td>\n",
       "    </tr>\n",
       "    <tr>\n",
       "      <th>Social, Finance, Analytics, Advertising</th>\n",
       "      <td>1.668070e+10</td>\n",
       "      <td>1912</td>\n",
       "    </tr>\n",
       "    <tr>\n",
       "      <th>News, Search and Messaging</th>\n",
       "      <td>1.379682e+10</td>\n",
       "      <td>1563</td>\n",
       "    </tr>\n",
       "    <tr>\n",
       "      <th>Health</th>\n",
       "      <td>8.200859e+09</td>\n",
       "      <td>908</td>\n",
       "    </tr>\n",
       "    <tr>\n",
       "      <th>Manufacturing</th>\n",
       "      <td>7.258553e+09</td>\n",
       "      <td>799</td>\n",
       "    </tr>\n",
       "    <tr>\n",
       "      <th>Entertainment</th>\n",
       "      <td>5.000213e+09</td>\n",
       "      <td>580</td>\n",
       "    </tr>\n",
       "    <tr>\n",
       "      <th>Automotive &amp; Sports</th>\n",
       "      <td>1.454104e+09</td>\n",
       "      <td>167</td>\n",
       "    </tr>\n",
       "    <tr>\n",
       "      <th>Blanks</th>\n",
       "      <td>7.647633e+08</td>\n",
       "      <td>86</td>\n",
       "    </tr>\n",
       "  </tbody>\n",
       "</table>\n",
       "</div>"
      ],
      "text/plain": [
       "                                         Total_Funding  Number_of_Funding\n",
       "Sector                                                                   \n",
       "Others                                    2.608928e+10               2923\n",
       "Cleantech / Semiconductors                2.118100e+10               2297\n",
       "Social, Finance, Analytics, Advertising   1.668070e+10               1912\n",
       "News, Search and Messaging                1.379682e+10               1563\n",
       "Health                                    8.200859e+09                908\n",
       "Manufacturing                             7.258553e+09                799\n",
       "Entertainment                             5.000213e+09                580\n",
       "Automotive & Sports                       1.454104e+09                167\n",
       "Blanks                                    7.647633e+08                 86"
      ]
     },
     "execution_count": 81,
     "metadata": {},
     "output_type": "execute_result"
    }
   ],
   "source": [
    "# sector wise funding summary for USA\n",
    "D1_summ = pd.pivot_table(D1, values ='raised_amount_usd', index=['Sector'], aggfunc=['sum', 'count'])\n",
    "# Changing columns to make it more informational\n",
    "D1_summ.columns = ['Total_Funding', 'Number_of_Funding']#['Sector','Total_Funding', 'Number_of_Finding']\n",
    "# Sorting dataset by number and sum of funding amount\n",
    "D1_summ.sort_values(['Number_of_Funding', 'Total_Funding'], ascending=[False, False], inplace=True)\n",
    "D1_summ"
   ]
  },
  {
   "cell_type": "code",
   "execution_count": 82,
   "metadata": {},
   "outputs": [
    {
     "data": {
      "image/png": "[encoded data removed]",
      "text/plain": [
       "<Figure size 1440x720 with 1 Axes>"
      ]
     },
     "metadata": {
      "needs_background": "light"
     },
     "output_type": "display_data"
    }
   ],
   "source": [
    "plt.figure(figsize=(20,10))\n",
    "D1_summ['Number_of_Funding'].plot(kind='bar')\n",
    "plt.xticks(rotation=45)\n",
    "plt.title('Number of Funding by Sector in USA')\n",
    "plt.ylabel('Total Number of Funding')\n",
    "plt.show()"
   ]
  },
  {
   "cell_type": "code",
   "execution_count": 84,
   "metadata": {},
   "outputs": [
    {
     "data": {
      "text/html": [
       "<div>\n",
       "<style scoped>\n",
       "    .dataframe tbody tr th:only-of-type {\n",
       "        vertical-align: middle;\n",
       "    }\n",
       "\n",
       "    .dataframe tbody tr th {\n",
       "        vertical-align: top;\n",
       "    }\n",
       "\n",
       "    .dataframe thead th {\n",
       "        text-align: right;\n",
       "    }\n",
       "</style>\n",
       "<table border=\"1\" class=\"dataframe\">\n",
       "  <thead>\n",
       "    <tr style=\"text-align: right;\">\n",
       "      <th></th>\n",
       "      <th>Total_Funding</th>\n",
       "      <th>Number_of_Funding</th>\n",
       "    </tr>\n",
       "    <tr>\n",
       "      <th>Sector</th>\n",
       "      <th></th>\n",
       "      <th></th>\n",
       "    </tr>\n",
       "  </thead>\n",
       "  <tbody>\n",
       "    <tr>\n",
       "      <th>Others</th>\n",
       "      <td>1.249124e+09</td>\n",
       "      <td>143</td>\n",
       "    </tr>\n",
       "    <tr>\n",
       "      <th>Cleantech / Semiconductors</th>\n",
       "      <td>1.136905e+09</td>\n",
       "      <td>127</td>\n",
       "    </tr>\n",
       "    <tr>\n",
       "      <th>Social, Finance, Analytics, Advertising</th>\n",
       "      <td>8.218884e+08</td>\n",
       "      <td>98</td>\n",
       "    </tr>\n",
       "    <tr>\n",
       "      <th>News, Search and Messaging</th>\n",
       "      <td>6.157462e+08</td>\n",
       "      <td>73</td>\n",
       "    </tr>\n",
       "    <tr>\n",
       "      <th>Entertainment</th>\n",
       "      <td>4.615111e+08</td>\n",
       "      <td>54</td>\n",
       "    </tr>\n",
       "    <tr>\n",
       "      <th>Manufacturing</th>\n",
       "      <td>3.619403e+08</td>\n",
       "      <td>42</td>\n",
       "    </tr>\n",
       "    <tr>\n",
       "      <th>Health</th>\n",
       "      <td>2.145375e+08</td>\n",
       "      <td>24</td>\n",
       "    </tr>\n",
       "    <tr>\n",
       "      <th>Automotive &amp; Sports</th>\n",
       "      <td>1.670516e+08</td>\n",
       "      <td>16</td>\n",
       "    </tr>\n",
       "    <tr>\n",
       "      <th>Blanks</th>\n",
       "      <td>5.776485e+07</td>\n",
       "      <td>7</td>\n",
       "    </tr>\n",
       "  </tbody>\n",
       "</table>\n",
       "</div>"
      ],
      "text/plain": [
       "                                         Total_Funding  Number_of_Funding\n",
       "Sector                                                                   \n",
       "Others                                    1.249124e+09                143\n",
       "Cleantech / Semiconductors                1.136905e+09                127\n",
       "Social, Finance, Analytics, Advertising   8.218884e+08                 98\n",
       "News, Search and Messaging                6.157462e+08                 73\n",
       "Entertainment                             4.615111e+08                 54\n",
       "Manufacturing                             3.619403e+08                 42\n",
       "Health                                    2.145375e+08                 24\n",
       "Automotive & Sports                       1.670516e+08                 16\n",
       "Blanks                                    5.776485e+07                  7"
      ]
     },
     "execution_count": 84,
     "metadata": {},
     "output_type": "execute_result"
    }
   ],
   "source": [
    "# sector wise funding summary for GBR\n",
    "D2_summ = pd.pivot_table(D2, values ='raised_amount_usd', index=['Sector'], aggfunc=['sum', 'count'])\n",
    "# Changing columns to make it more informational\n",
    "D2_summ.columns = ['Total_Funding', 'Number_of_Funding']#['Sector','Total_Funding', 'Number_of_Finding']\n",
    "# Sorting dataset by number and sum of funding amount\n",
    "D2_summ.sort_values(['Number_of_Funding', 'Total_Funding'], ascending=[False, False], inplace=True)\n",
    "D2_summ"
   ]
  },
  {
   "cell_type": "code",
   "execution_count": 85,
   "metadata": {},
   "outputs": [
    {
     "data": {
      "image/png": "[encoded data removed]",
      "text/plain": [
       "<Figure size 1440x720 with 1 Axes>"
      ]
     },
     "metadata": {
      "needs_background": "light"
     },
     "output_type": "display_data"
    }
   ],
   "source": [
    "plt.figure(figsize=(20,10))\n",
    "D2_summ['Number_of_Funding'].plot(kind='bar')\n",
    "plt.xticks(rotation=45)\n",
    "plt.title('Number of Funding by Sector in Britain')\n",
    "plt.ylabel('Total Number of Funding')\n",
    "plt.show()"
   ]
  },
  {
   "cell_type": "code",
   "execution_count": 86,
   "metadata": {},
   "outputs": [
    {
     "data": {
      "text/html": [
       "<div>\n",
       "<style scoped>\n",
       "    .dataframe tbody tr th:only-of-type {\n",
       "        vertical-align: middle;\n",
       "    }\n",
       "\n",
       "    .dataframe tbody tr th {\n",
       "        vertical-align: top;\n",
       "    }\n",
       "\n",
       "    .dataframe thead th {\n",
       "        text-align: right;\n",
       "    }\n",
       "</style>\n",
       "<table border=\"1\" class=\"dataframe\">\n",
       "  <thead>\n",
       "    <tr style=\"text-align: right;\">\n",
       "      <th></th>\n",
       "      <th>Total_Funding</th>\n",
       "      <th>Number_of_Funding</th>\n",
       "    </tr>\n",
       "    <tr>\n",
       "      <th>Sector</th>\n",
       "      <th></th>\n",
       "      <th></th>\n",
       "    </tr>\n",
       "  </thead>\n",
       "  <tbody>\n",
       "    <tr>\n",
       "      <th>Others</th>\n",
       "      <td>1.007410e+09</td>\n",
       "      <td>109</td>\n",
       "    </tr>\n",
       "    <tr>\n",
       "      <th>News, Search and Messaging</th>\n",
       "      <td>4.338345e+08</td>\n",
       "      <td>52</td>\n",
       "    </tr>\n",
       "    <tr>\n",
       "      <th>Entertainment</th>\n",
       "      <td>2.808300e+08</td>\n",
       "      <td>33</td>\n",
       "    </tr>\n",
       "    <tr>\n",
       "      <th>Social, Finance, Analytics, Advertising</th>\n",
       "      <td>2.905435e+08</td>\n",
       "      <td>32</td>\n",
       "    </tr>\n",
       "    <tr>\n",
       "      <th>Manufacturing</th>\n",
       "      <td>2.009000e+08</td>\n",
       "      <td>21</td>\n",
       "    </tr>\n",
       "    <tr>\n",
       "      <th>Cleantech / Semiconductors</th>\n",
       "      <td>1.653800e+08</td>\n",
       "      <td>20</td>\n",
       "    </tr>\n",
       "    <tr>\n",
       "      <th>Health</th>\n",
       "      <td>1.677400e+08</td>\n",
       "      <td>19</td>\n",
       "    </tr>\n",
       "    <tr>\n",
       "      <th>Automotive &amp; Sports</th>\n",
       "      <td>1.369000e+08</td>\n",
       "      <td>13</td>\n",
       "    </tr>\n",
       "    <tr>\n",
       "      <th>Blanks</th>\n",
       "      <td>2.700000e+07</td>\n",
       "      <td>2</td>\n",
       "    </tr>\n",
       "  </tbody>\n",
       "</table>\n",
       "</div>"
      ],
      "text/plain": [
       "                                         Total_Funding  Number_of_Funding\n",
       "Sector                                                                   \n",
       "Others                                    1.007410e+09                109\n",
       "News, Search and Messaging                4.338345e+08                 52\n",
       "Entertainment                             2.808300e+08                 33\n",
       "Social, Finance, Analytics, Advertising   2.905435e+08                 32\n",
       "Manufacturing                             2.009000e+08                 21\n",
       "Cleantech / Semiconductors                1.653800e+08                 20\n",
       "Health                                    1.677400e+08                 19\n",
       "Automotive & Sports                       1.369000e+08                 13\n",
       "Blanks                                    2.700000e+07                  2"
      ]
     },
     "execution_count": 86,
     "metadata": {},
     "output_type": "execute_result"
    }
   ],
   "source": [
    "# sector wise funding summary for GBR\n",
    "D3_summ = pd.pivot_table(D3, values ='raised_amount_usd', index=['Sector'], aggfunc=['sum', 'count'])\n",
    "# Changing columns to make it more informational\n",
    "D3_summ.columns = ['Total_Funding', 'Number_of_Funding']#['Sector','Total_Funding', 'Number_of_Finding']\n",
    "# Sorting dataset by number and sum of funding amount\n",
    "D3_summ.sort_values(['Number_of_Funding', 'Total_Funding'], ascending=[False, False], inplace=True)\n",
    "D3_summ"
   ]
  },
  {
   "cell_type": "code",
   "execution_count": 87,
   "metadata": {},
   "outputs": [
    {
     "data": {
      "image/png": "[encoded data removed]",
      "text/plain": [
       "<Figure size 1440x720 with 1 Axes>"
      ]
     },
     "metadata": {
      "needs_background": "light"
     },
     "output_type": "display_data"
    }
   ],
   "source": [
    "plt.figure(figsize=(20,10))\n",
    "D3_summ['Number_of_Funding'].plot(kind='bar')\n",
    "plt.xticks(rotation=45)\n",
    "plt.title('Number of Funding by Sector in India')\n",
    "plt.ylabel('Total Number of Funding')\n",
    "plt.show()"
   ]
  },
  {
   "cell_type": "code",
   "execution_count": 88,
   "metadata": {},
   "outputs": [],
   "source": [
    "D1_summ['Country']='USA'\n",
    "D2_summ['Country']='GBR'\n",
    "D3_summ['Country']='IND'"
   ]
  },
  {
   "cell_type": "code",
   "execution_count": 96,
   "metadata": {},
   "outputs": [],
   "source": [
    "#Combining all three dataset to generate single chart\n",
    "D_summ_comb = pd.concat([D1_summ, D2_summ, D3_summ])\n",
    "D_summ_comb.reset_index(inplace=True)\n"
   ]
  },
  {
   "cell_type": "code",
   "execution_count": 99,
   "metadata": {},
   "outputs": [
    {
     "data": {
      "text/plain": [
       "<Figure size 2160x1440 with 0 Axes>"
      ]
     },
     "metadata": {},
     "output_type": "display_data"
    },
    {
     "data": {
      "image/png": "[encoded data removed]",
      "text/plain": [
       "<Figure size 417.5x360 with 1 Axes>"
      ]
     },
     "metadata": {
      "needs_background": "light"
     },
     "output_type": "display_data"
    }
   ],
   "source": [
    "plt.figure(figsize=(30,20))\n",
    "sns.catplot(data=D_summ_comb, x='Sector', y='Number_of_Funding', hue='Country', kind='bar')\n",
    "plt.xticks(rotation=45)\n",
    "plt.title('Number of Funding by Sector in USA, Britain and India')\n",
    "plt.ylabel('Total Number of Funding')\n",
    "plt.show()"
   ]
  },
  {
   "cell_type": "code",
   "execution_count": 100,
   "metadata": {},
   "outputs": [
    {
     "data": {
      "text/plain": [
       "Index(['Sector', 'Total_Funding', 'Number_of_Funding', 'Country'], dtype='object')"
      ]
     },
     "execution_count": 100,
     "metadata": {},
     "output_type": "execute_result"
    }
   ],
   "source": [
    "D_summ_comb.columns"
   ]
  },
  {
   "cell_type": "markdown",
   "metadata": {},
   "source": [
    "## **Information about largest number of funding received in top sectors in all three companies**"
   ]
  },
  {
   "cell_type": "code",
   "execution_count": 110,
   "metadata": {},
   "outputs": [
    {
     "data": {
      "text/plain": [
       "Virtustream    6\n",
       "Name: name, dtype: int64"
      ]
     },
     "execution_count": 110,
     "metadata": {},
     "output_type": "execute_result"
    }
   ],
   "source": [
    "D1.loc[D1.Sector=='Others']['name'].value_counts(ascending=False).head(1)"
   ]
  },
  {
   "cell_type": "code",
   "execution_count": 111,
   "metadata": {},
   "outputs": [
    {
     "data": {
      "text/plain": [
       "Electric Cloud    4\n",
       "Name: name, dtype: int64"
      ]
     },
     "execution_count": 111,
     "metadata": {},
     "output_type": "execute_result"
    }
   ],
   "source": [
    "D2.loc[D2.Sector=='Others']['name'].value_counts(ascending=False).head(1)"
   ]
  },
  {
   "cell_type": "code",
   "execution_count": 112,
   "metadata": {},
   "outputs": [
    {
     "data": {
      "text/plain": [
       "Myntra    4\n",
       "Name: name, dtype: int64"
      ]
     },
     "execution_count": 112,
     "metadata": {},
     "output_type": "execute_result"
    }
   ],
   "source": [
    "D3.loc[D3.Sector=='Others']['name'].value_counts(ascending=False).head(1)"
   ]
  },
  {
   "cell_type": "markdown",
   "metadata": {},
   "source": [
    "## **Information about largest number of funding received in second best sectors in all three companies**"
   ]
  },
  {
   "cell_type": "code",
   "execution_count": 114,
   "metadata": {},
   "outputs": [
    {
     "data": {
      "text/plain": [
       "Tigo Energy    8\n",
       "Name: name, dtype: int64"
      ]
     },
     "execution_count": 114,
     "metadata": {},
     "output_type": "execute_result"
    }
   ],
   "source": [
    "D1.loc[D1.Sector=='Cleantech / Semiconductors']['name'].value_counts(ascending=False).head(1)"
   ]
  },
  {
   "cell_type": "code",
   "execution_count": 115,
   "metadata": {},
   "outputs": [
    {
     "data": {
      "text/plain": [
       "EUSA Pharma    3\n",
       "Name: name, dtype: int64"
      ]
     },
     "execution_count": 115,
     "metadata": {},
     "output_type": "execute_result"
    }
   ],
   "source": [
    "D2.loc[D2.Sector=='Cleantech / Semiconductors']['name'].value_counts(ascending=False).head(1)"
   ]
  },
  {
   "cell_type": "code",
   "execution_count": 116,
   "metadata": {},
   "outputs": [
    {
     "data": {
      "text/plain": [
       "GupShup    3\n",
       "Name: name, dtype: int64"
      ]
     },
     "execution_count": 116,
     "metadata": {},
     "output_type": "execute_result"
    }
   ],
   "source": [
    "D3.loc[D3.Sector=='News, Search and Messaging']['name'].value_counts(ascending=False).head(1)"
   ]
  },
  {
   "cell_type": "markdown",
   "metadata": {},
   "source": [
    "# **Further analysis done in order to add insights in Deck**"
   ]
  },
  {
   "cell_type": "code",
   "execution_count": 117,
   "metadata": {},
   "outputs": [
    {
     "data": {
      "text/plain": [
       "50228"
      ]
     },
     "execution_count": 117,
     "metadata": {},
     "output_type": "execute_result"
    }
   ],
   "source": [
    "\n",
    "len(master_frame_venture['country_code'])"
   ]
  },
  {
   "cell_type": "code",
   "execution_count": 118,
   "metadata": {},
   "outputs": [
    {
     "data": {
      "text/plain": [
       "97"
      ]
     },
     "execution_count": 118,
     "metadata": {},
     "output_type": "execute_result"
    }
   ],
   "source": [
    "master_frame_venture['country_code'].nunique()"
   ]
  },
  {
   "cell_type": "code",
   "execution_count": 119,
   "metadata": {},
   "outputs": [
    {
     "data": {
      "text/plain": [
       "29"
      ]
     },
     "execution_count": 119,
     "metadata": {},
     "output_type": "execute_result"
    }
   ],
   "source": [
    "master_frame_venture_eng['country_code'].nunique()"
   ]
  },
  {
   "cell_type": "code",
   "execution_count": 124,
   "metadata": {},
   "outputs": [
    {
     "data": {
      "text/html": [
       "<div>\n",
       "<style scoped>\n",
       "    .dataframe tbody tr th:only-of-type {\n",
       "        vertical-align: middle;\n",
       "    }\n",
       "\n",
       "    .dataframe tbody tr th {\n",
       "        vertical-align: top;\n",
       "    }\n",
       "\n",
       "    .dataframe thead th {\n",
       "        text-align: right;\n",
       "    }\n",
       "</style>\n",
       "<table border=\"1\" class=\"dataframe\">\n",
       "  <thead>\n",
       "    <tr style=\"text-align: right;\">\n",
       "      <th></th>\n",
       "      <th>sum</th>\n",
       "      <th>count</th>\n",
       "    </tr>\n",
       "    <tr>\n",
       "      <th>category_list_clean</th>\n",
       "      <th></th>\n",
       "      <th></th>\n",
       "    </tr>\n",
       "  </thead>\n",
       "  <tbody>\n",
       "    <tr>\n",
       "      <th>biotechnology</th>\n",
       "      <td>1.340634e+10</td>\n",
       "      <td>1477</td>\n",
       "    </tr>\n",
       "    <tr>\n",
       "      <th>software</th>\n",
       "      <td>9.125717e+09</td>\n",
       "      <td>1044</td>\n",
       "    </tr>\n",
       "    <tr>\n",
       "      <th>enterprise software</th>\n",
       "      <td>5.902249e+09</td>\n",
       "      <td>642</td>\n",
       "    </tr>\n",
       "    <tr>\n",
       "      <th>advertising</th>\n",
       "      <td>5.870184e+09</td>\n",
       "      <td>691</td>\n",
       "    </tr>\n",
       "    <tr>\n",
       "      <th>analytics</th>\n",
       "      <td>4.597354e+09</td>\n",
       "      <td>517</td>\n",
       "    </tr>\n",
       "    <tr>\n",
       "      <th>...</th>\n",
       "      <td>...</td>\n",
       "      <td>...</td>\n",
       "    </tr>\n",
       "    <tr>\n",
       "      <th>internet infrastructure</th>\n",
       "      <td>5.000000e+06</td>\n",
       "      <td>1</td>\n",
       "    </tr>\n",
       "    <tr>\n",
       "      <th>match-making</th>\n",
       "      <td>5.000000e+06</td>\n",
       "      <td>1</td>\n",
       "    </tr>\n",
       "    <tr>\n",
       "      <th>social + mobile + local</th>\n",
       "      <td>5.000000e+06</td>\n",
       "      <td>1</td>\n",
       "    </tr>\n",
       "    <tr>\n",
       "      <th>social buying</th>\n",
       "      <td>5.000000e+06</td>\n",
       "      <td>1</td>\n",
       "    </tr>\n",
       "    <tr>\n",
       "      <th>tracking</th>\n",
       "      <td>5.000000e+06</td>\n",
       "      <td>1</td>\n",
       "    </tr>\n",
       "  </tbody>\n",
       "</table>\n",
       "<p>421 rows × 2 columns</p>\n",
       "</div>"
      ],
      "text/plain": [
       "                                  sum  count\n",
       "category_list_clean                         \n",
       "biotechnology            1.340634e+10   1477\n",
       "software                 9.125717e+09   1044\n",
       "enterprise software      5.902249e+09    642\n",
       "advertising              5.870184e+09    691\n",
       "analytics                4.597354e+09    517\n",
       "...                               ...    ...\n",
       "internet infrastructure  5.000000e+06      1\n",
       "match-making             5.000000e+06      1\n",
       "social + mobile + local  5.000000e+06      1\n",
       "social buying            5.000000e+06      1\n",
       "tracking                 5.000000e+06      1\n",
       "\n",
       "[421 rows x 2 columns]"
      ]
     },
     "execution_count": 124,
     "metadata": {},
     "output_type": "execute_result"
    }
   ],
   "source": [
    "D1.groupby('category_list_clean')['raised_amount_usd'].agg(['sum','count']).sort_values(['sum', 'count'], ascending=[False, False])"
   ]
  },
  {
   "cell_type": "code",
   "execution_count": 125,
   "metadata": {},
   "outputs": [
    {
     "data": {
      "text/html": [
       "<div>\n",
       "<style scoped>\n",
       "    .dataframe tbody tr th:only-of-type {\n",
       "        vertical-align: middle;\n",
       "    }\n",
       "\n",
       "    .dataframe tbody tr th {\n",
       "        vertical-align: top;\n",
       "    }\n",
       "\n",
       "    .dataframe thead th {\n",
       "        text-align: right;\n",
       "    }\n",
       "</style>\n",
       "<table border=\"1\" class=\"dataframe\">\n",
       "  <thead>\n",
       "    <tr style=\"text-align: right;\">\n",
       "      <th></th>\n",
       "      <th>sum</th>\n",
       "      <th>count</th>\n",
       "    </tr>\n",
       "    <tr>\n",
       "      <th>category_list_clean</th>\n",
       "      <th></th>\n",
       "      <th></th>\n",
       "    </tr>\n",
       "  </thead>\n",
       "  <tbody>\n",
       "    <tr>\n",
       "      <th>biotechnology</th>\n",
       "      <td>636958624.0</td>\n",
       "      <td>70</td>\n",
       "    </tr>\n",
       "    <tr>\n",
       "      <th>software</th>\n",
       "      <td>383817324.0</td>\n",
       "      <td>45</td>\n",
       "    </tr>\n",
       "    <tr>\n",
       "      <th>advertising</th>\n",
       "      <td>306794581.0</td>\n",
       "      <td>35</td>\n",
       "    </tr>\n",
       "    <tr>\n",
       "      <th>clean technology</th>\n",
       "      <td>277078825.0</td>\n",
       "      <td>32</td>\n",
       "    </tr>\n",
       "    <tr>\n",
       "      <th>e-commerce</th>\n",
       "      <td>262637742.0</td>\n",
       "      <td>27</td>\n",
       "    </tr>\n",
       "    <tr>\n",
       "      <th>...</th>\n",
       "      <td>...</td>\n",
       "      <td>...</td>\n",
       "    </tr>\n",
       "    <tr>\n",
       "      <th>architecture</th>\n",
       "      <td>5000000.0</td>\n",
       "      <td>1</td>\n",
       "    </tr>\n",
       "    <tr>\n",
       "      <th>digital media</th>\n",
       "      <td>5000000.0</td>\n",
       "      <td>1</td>\n",
       "    </tr>\n",
       "    <tr>\n",
       "      <th>film</th>\n",
       "      <td>5000000.0</td>\n",
       "      <td>1</td>\n",
       "    </tr>\n",
       "    <tr>\n",
       "      <th>gift card</th>\n",
       "      <td>5000000.0</td>\n",
       "      <td>1</td>\n",
       "    </tr>\n",
       "    <tr>\n",
       "      <th>watch</th>\n",
       "      <td>5000000.0</td>\n",
       "      <td>1</td>\n",
       "    </tr>\n",
       "  </tbody>\n",
       "</table>\n",
       "<p>122 rows × 2 columns</p>\n",
       "</div>"
      ],
      "text/plain": [
       "                             sum  count\n",
       "category_list_clean                    \n",
       "biotechnology        636958624.0     70\n",
       "software             383817324.0     45\n",
       "advertising          306794581.0     35\n",
       "clean technology     277078825.0     32\n",
       "e-commerce           262637742.0     27\n",
       "...                          ...    ...\n",
       "architecture           5000000.0      1\n",
       "digital media          5000000.0      1\n",
       "film                   5000000.0      1\n",
       "gift card              5000000.0      1\n",
       "watch                  5000000.0      1\n",
       "\n",
       "[122 rows x 2 columns]"
      ]
     },
     "execution_count": 125,
     "metadata": {},
     "output_type": "execute_result"
    }
   ],
   "source": [
    "D2.groupby('category_list_clean')['raised_amount_usd'].agg(['sum','count']).sort_values(['sum', 'count'], ascending=[False, False])"
   ]
  },
  {
   "cell_type": "code",
   "execution_count": 126,
   "metadata": {},
   "outputs": [
    {
     "data": {
      "text/html": [
       "<div>\n",
       "<style scoped>\n",
       "    .dataframe tbody tr th:only-of-type {\n",
       "        vertical-align: middle;\n",
       "    }\n",
       "\n",
       "    .dataframe tbody tr th {\n",
       "        vertical-align: top;\n",
       "    }\n",
       "\n",
       "    .dataframe thead th {\n",
       "        text-align: right;\n",
       "    }\n",
       "</style>\n",
       "<table border=\"1\" class=\"dataframe\">\n",
       "  <thead>\n",
       "    <tr style=\"text-align: right;\">\n",
       "      <th></th>\n",
       "      <th>sum</th>\n",
       "      <th>count</th>\n",
       "    </tr>\n",
       "    <tr>\n",
       "      <th>category_list_clean</th>\n",
       "      <th></th>\n",
       "      <th></th>\n",
       "    </tr>\n",
       "  </thead>\n",
       "  <tbody>\n",
       "    <tr>\n",
       "      <th>e-commerce</th>\n",
       "      <td>343869507.0</td>\n",
       "      <td>37</td>\n",
       "    </tr>\n",
       "    <tr>\n",
       "      <th>software</th>\n",
       "      <td>163050000.0</td>\n",
       "      <td>19</td>\n",
       "    </tr>\n",
       "    <tr>\n",
       "      <th>mobile</th>\n",
       "      <td>128490000.0</td>\n",
       "      <td>12</td>\n",
       "    </tr>\n",
       "    <tr>\n",
       "      <th>finance</th>\n",
       "      <td>126006050.0</td>\n",
       "      <td>15</td>\n",
       "    </tr>\n",
       "    <tr>\n",
       "      <th>curated web</th>\n",
       "      <td>110178770.0</td>\n",
       "      <td>15</td>\n",
       "    </tr>\n",
       "    <tr>\n",
       "      <th>...</th>\n",
       "      <td>...</td>\n",
       "      <td>...</td>\n",
       "    </tr>\n",
       "    <tr>\n",
       "      <th>restaurants</th>\n",
       "      <td>6000000.0</td>\n",
       "      <td>1</td>\n",
       "    </tr>\n",
       "    <tr>\n",
       "      <th>startups</th>\n",
       "      <td>6000000.0</td>\n",
       "      <td>1</td>\n",
       "    </tr>\n",
       "    <tr>\n",
       "      <th>web design</th>\n",
       "      <td>5400000.0</td>\n",
       "      <td>1</td>\n",
       "    </tr>\n",
       "    <tr>\n",
       "      <th>designers</th>\n",
       "      <td>5000000.0</td>\n",
       "      <td>1</td>\n",
       "    </tr>\n",
       "    <tr>\n",
       "      <th>pets</th>\n",
       "      <td>5000000.0</td>\n",
       "      <td>1</td>\n",
       "    </tr>\n",
       "  </tbody>\n",
       "</table>\n",
       "<p>91 rows × 2 columns</p>\n",
       "</div>"
      ],
      "text/plain": [
       "                             sum  count\n",
       "category_list_clean                    \n",
       "e-commerce           343869507.0     37\n",
       "software             163050000.0     19\n",
       "mobile               128490000.0     12\n",
       "finance              126006050.0     15\n",
       "curated web          110178770.0     15\n",
       "...                          ...    ...\n",
       "restaurants            6000000.0      1\n",
       "startups               6000000.0      1\n",
       "web design             5400000.0      1\n",
       "designers              5000000.0      1\n",
       "pets                   5000000.0      1\n",
       "\n",
       "[91 rows x 2 columns]"
      ]
     },
     "execution_count": 126,
     "metadata": {},
     "output_type": "execute_result"
    }
   ],
   "source": [
    "D3.groupby('category_list_clean')['raised_amount_usd'].agg(['sum','count']).sort_values(['sum', 'count'], ascending=[False, False])"
   ]
  },
  {
   "cell_type": "code",
   "execution_count": null,
   "metadata": {},
   "outputs": [],
   "source": []
  }
 ],
 "metadata": {
  "kernelspec": {
   "display_name": "Python 3",
   "language": "python",
   "name": "python3"
  },
  "language_info": {
   "codemirror_mode": {
    "name": "ipython",
    "version": 3
   },
   "file_extension": ".py",
   "mimetype": "text/x-python",
   "name": "python",
   "nbconvert_exporter": "python",
   "pygments_lexer": "ipython3",
   "version": "3.7.7"
  }
 },
 "nbformat": 4,
 "nbformat_minor": 4
}
